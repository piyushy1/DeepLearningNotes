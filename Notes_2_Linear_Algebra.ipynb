{
  "nbformat": 4,
  "nbformat_minor": 0,
  "metadata": {
    "colab": {
      "name": "Notes_2_Linear Algebra.ipynb",
      "provenance": [],
      "authorship_tag": "ABX9TyMvFP1rsb8FRyF1OI0mr60J",
      "include_colab_link": true
    },
    "kernelspec": {
      "name": "python3",
      "display_name": "Python 3"
    },
    "accelerator": "GPU"
  },
  "cells": [
    {
      "cell_type": "markdown",
      "metadata": {
        "id": "view-in-github",
        "colab_type": "text"
      },
      "source": [
        "<a href=\"https://colab.research.google.com/github/piyushy1/DeepLearningNotes/blob/master/Notes_2_Linear_Algebra.ipynb\" target=\"_parent\"><img src=\"https://colab.research.google.com/assets/colab-badge.svg\" alt=\"Open In Colab\"/></a>"
      ]
    },
    {
      "cell_type": "code",
      "metadata": {
        "id": "E6LADQ0AjFa8",
        "colab_type": "code",
        "colab": {
          "base_uri": "https://localhost:8080/",
          "height": 304
        },
        "outputId": "d86a42d8-4fcd-43ed-a501-3f2928f9d8d4"
      },
      "source": [
        "!pip install mxnet-cu101"
      ],
      "execution_count": 1,
      "outputs": [
        {
          "output_type": "stream",
          "text": [
            "Collecting mxnet-cu101\n",
            "\u001b[?25l  Downloading https://files.pythonhosted.org/packages/54/b1/7d01abca10eef104296d2b3f0c59a7dda7573126d079c9e2609e6c17993b/mxnet_cu101-1.6.0-py2.py3-none-manylinux1_x86_64.whl (710.5MB)\n",
            "\u001b[K     |████████████████████████████████| 710.5MB 27kB/s \n",
            "\u001b[?25hRequirement already satisfied: numpy<2.0.0,>1.16.0 in /usr/local/lib/python3.6/dist-packages (from mxnet-cu101) (1.18.4)\n",
            "Requirement already satisfied: requests<3,>=2.20.0 in /usr/local/lib/python3.6/dist-packages (from mxnet-cu101) (2.23.0)\n",
            "Collecting graphviz<0.9.0,>=0.8.1\n",
            "  Downloading https://files.pythonhosted.org/packages/53/39/4ab213673844e0c004bed8a0781a0721a3f6bb23eb8854ee75c236428892/graphviz-0.8.4-py2.py3-none-any.whl\n",
            "Requirement already satisfied: urllib3!=1.25.0,!=1.25.1,<1.26,>=1.21.1 in /usr/local/lib/python3.6/dist-packages (from requests<3,>=2.20.0->mxnet-cu101) (1.24.3)\n",
            "Requirement already satisfied: chardet<4,>=3.0.2 in /usr/local/lib/python3.6/dist-packages (from requests<3,>=2.20.0->mxnet-cu101) (3.0.4)\n",
            "Requirement already satisfied: idna<3,>=2.5 in /usr/local/lib/python3.6/dist-packages (from requests<3,>=2.20.0->mxnet-cu101) (2.9)\n",
            "Requirement already satisfied: certifi>=2017.4.17 in /usr/local/lib/python3.6/dist-packages (from requests<3,>=2.20.0->mxnet-cu101) (2020.4.5.1)\n",
            "Installing collected packages: graphviz, mxnet-cu101\n",
            "  Found existing installation: graphviz 0.10.1\n",
            "    Uninstalling graphviz-0.10.1:\n",
            "      Successfully uninstalled graphviz-0.10.1\n",
            "Successfully installed graphviz-0.8.4 mxnet-cu101-1.6.0\n"
          ],
          "name": "stdout"
        }
      ]
    },
    {
      "cell_type": "markdown",
      "metadata": {
        "id": "yUo6srUILACD",
        "colab_type": "text"
      },
      "source": [
        "**Scalar:** we call values consisting of just one numerical quantity scalars\n",
        "x ∈ ℝ is a formal way to say that x is a real-valued scalar.\n"
      ]
    },
    {
      "cell_type": "code",
      "metadata": {
        "id": "jIoySc3QKXaP",
        "colab_type": "code",
        "colab": {
          "base_uri": "https://localhost:8080/",
          "height": 33
        },
        "outputId": "00a7946b-2002-4128-cff9-a10db690b7e0"
      },
      "source": [
        "from mxnet import np, npx\n",
        "npx.set_np()\n",
        "x = np.array(3.0)\n",
        "y = np.array(2.0)\n",
        "x + y, x * y, x / y, x ** y"
      ],
      "execution_count": 2,
      "outputs": [
        {
          "output_type": "execute_result",
          "data": {
            "text/plain": [
              "(array(5.), array(6.), array(1.5), array(9.))"
            ]
          },
          "metadata": {
            "tags": []
          },
          "execution_count": 2
        }
      ]
    },
    {
      "cell_type": "markdown",
      "metadata": {
        "id": "WOqdMVAaMl-1",
        "colab_type": "text"
      },
      "source": [
        "**Vectors**: are array of number. are represetned by by bold face like **x,y,z** while sclars as *x,y,z*. So **x** = [*x1, x2, x3*] where *xi* is a scalar"
      ]
    },
    {
      "cell_type": "code",
      "metadata": {
        "id": "rCNW-jUXM2l0",
        "colab_type": "code",
        "colab": {
          "base_uri": "https://localhost:8080/",
          "height": 33
        },
        "outputId": "717b0c00-e759-4a99-b2a9-1259b3ee4964"
      },
      "source": [
        "# one d array vector \n",
        "x = np.arange(4)\n",
        "x"
      ],
      "execution_count": 3,
      "outputs": [
        {
          "output_type": "execute_result",
          "data": {
            "text/plain": [
              "array([0., 1., 2., 3.])"
            ]
          },
          "metadata": {
            "tags": []
          },
          "execution_count": 3
        }
      ]
    },
    {
      "cell_type": "markdown",
      "metadata": {
        "id": "Y9RYqFMcNjKc",
        "colab_type": "text"
      },
      "source": [
        "**DImensions**: like array vectors have length. SO vector x\n",
        "consists of n real-valued scalars, we can express this as **x** ∈ ℝ^n"
      ]
    },
    {
      "cell_type": "code",
      "metadata": {
        "id": "5iJMPXCAM7CM",
        "colab_type": "code",
        "colab": {
          "base_uri": "https://localhost:8080/",
          "height": 33
        },
        "outputId": "8ee66415-ec41-4312-846a-6bb7a88d247f"
      },
      "source": [
        "len(x), x.shape"
      ],
      "execution_count": 4,
      "outputs": [
        {
          "output_type": "execute_result",
          "data": {
            "text/plain": [
              "(4, (4,))"
            ]
          },
          "metadata": {
            "tags": []
          },
          "execution_count": 4
        }
      ]
    },
    {
      "cell_type": "markdown",
      "metadata": {
        "id": "8j3R-6sMOxtd",
        "colab_type": "text"
      },
      "source": [
        "**Matrices:** generalize vector from order 1 to 2. **A** ∈ ℝ^m*n. aij , to refer\n",
        "to [A]ij .commas are inserted to separate indices only when necessary,\n",
        "such as\n",
        "and \n",
        "a2,3j\n",
        "[\n",
        "A]2i-1,3\n",
        "\n",
        "**Tensors**: Vectors, for example, are first-order tensors, and matrices are second-order tensors. Tensors are denoted with capital letters of a special font face (e.g., X, Y, and Z) and their indexing\n",
        "mechanism (e.g., xijk and [X]1,2i-1,3) is similar to that of matrices."
      ]
    },
    {
      "cell_type": "code",
      "metadata": {
        "id": "YMzdUr1AOxYI",
        "colab_type": "code",
        "colab": {
          "base_uri": "https://localhost:8080/",
          "height": 585
        },
        "outputId": "ef6e3ded-0444-4c94-c7de-d01b940be46a"
      },
      "source": [
        "A = np.arange(20).reshape(5, 4)\n",
        "print(A)\n",
        "print('#################')\n",
        "\n",
        "# to transpose\n",
        "print(A.T)\n",
        "print('#################')\n",
        "\n",
        "# tensors\n",
        "X = np.arange(24).reshape(2, 3, 4)\n",
        "print(X)\n",
        "\n",
        "print('#################')\n",
        "\n",
        "# tensor airthmentic\n",
        "A = np.arange(20).reshape(5, 4)\n",
        "B = A.copy() # Assign a copy of A to B by allocating new memory\n",
        "print(A, A + B)\n",
        "\n",
        "print('#################')\n",
        "# element wise operation\n",
        "A*B"
      ],
      "execution_count": 13,
      "outputs": [
        {
          "output_type": "stream",
          "text": [
            "[[ 0.  1.  2.  3.]\n",
            " [ 4.  5.  6.  7.]\n",
            " [ 8.  9. 10. 11.]\n",
            " [12. 13. 14. 15.]\n",
            " [16. 17. 18. 19.]]\n",
            "#################\n",
            "[[ 0.  4.  8. 12. 16.]\n",
            " [ 1.  5.  9. 13. 17.]\n",
            " [ 2.  6. 10. 14. 18.]\n",
            " [ 3.  7. 11. 15. 19.]]\n",
            "#################\n",
            "[[[ 0.  1.  2.  3.]\n",
            "  [ 4.  5.  6.  7.]\n",
            "  [ 8.  9. 10. 11.]]\n",
            "\n",
            " [[12. 13. 14. 15.]\n",
            "  [16. 17. 18. 19.]\n",
            "  [20. 21. 22. 23.]]]\n",
            "#################\n",
            "[[ 0.  1.  2.  3.]\n",
            " [ 4.  5.  6.  7.]\n",
            " [ 8.  9. 10. 11.]\n",
            " [12. 13. 14. 15.]\n",
            " [16. 17. 18. 19.]] [[ 0.  2.  4.  6.]\n",
            " [ 8. 10. 12. 14.]\n",
            " [16. 18. 20. 22.]\n",
            " [24. 26. 28. 30.]\n",
            " [32. 34. 36. 38.]]\n",
            "#################\n"
          ],
          "name": "stdout"
        },
        {
          "output_type": "execute_result",
          "data": {
            "text/plain": [
              "array([[  0.,   1.,   4.,   9.],\n",
              "       [ 16.,  25.,  36.,  49.],\n",
              "       [ 64.,  81., 100., 121.],\n",
              "       [144., 169., 196., 225.],\n",
              "       [256., 289., 324., 361.]])"
            ]
          },
          "metadata": {
            "tags": []
          },
          "execution_count": 13
        }
      ]
    },
    {
      "cell_type": "markdown",
      "metadata": {
        "id": "6i4j0mOvcJK7",
        "colab_type": "text"
      },
      "source": [
        "**Reduction and Non Reduction**"
      ]
    },
    {
      "cell_type": "code",
      "metadata": {
        "id": "sxfs-RRKaOZi",
        "colab_type": "code",
        "colab": {
          "base_uri": "https://localhost:8080/",
          "height": 33
        },
        "outputId": "da175c24-2136-4707-89da-a893c2458b62"
      },
      "source": [
        "x = np.arange(4)\n",
        "x, x.sum()"
      ],
      "execution_count": 14,
      "outputs": [
        {
          "output_type": "execute_result",
          "data": {
            "text/plain": [
              "(array([0., 1., 2., 3.]), array(6.))"
            ]
          },
          "metadata": {
            "tags": []
          },
          "execution_count": 14
        }
      ]
    },
    {
      "cell_type": "code",
      "metadata": {
        "id": "8_Be7Yx9aYIX",
        "colab_type": "code",
        "colab": {
          "base_uri": "https://localhost:8080/",
          "height": 134
        },
        "outputId": "40a98e65-0a64-46d8-f854-290401fedc92"
      },
      "source": [
        "A.shape, A.sum()\n",
        "\n",
        "# summation across rows and columns\n",
        "Row = A.sum(axis=0)\n",
        "Col = A.sum(axis=1)\n",
        "print(Row, Col)\n",
        "\n",
        "# Mean across rows\n",
        "Mean_rows = A.mean(axis = 0)\n",
        "Mean_cols = A.mean(axis = 1)\n",
        "\n",
        "print(Mean_rows,Mean_cols)\n",
        "\n",
        "# keep the dimesnion same\n",
        "sum_A = A.sum(axis=1, keepdims=True)\n",
        "sum_A "
      ],
      "execution_count": 22,
      "outputs": [
        {
          "output_type": "stream",
          "text": [
            "[40. 45. 50. 55.] [ 6. 22. 38. 54. 70.]\n",
            "[ 8.  9. 10. 11.] [ 1.5  5.5  9.5 13.5 17.5]\n"
          ],
          "name": "stdout"
        },
        {
          "output_type": "execute_result",
          "data": {
            "text/plain": [
              "array([[ 6.],\n",
              "       [22.],\n",
              "       [38.],\n",
              "       [54.],\n",
              "       [70.]])"
            ]
          },
          "metadata": {
            "tags": []
          },
          "execution_count": 22
        }
      ]
    }
  ]
}