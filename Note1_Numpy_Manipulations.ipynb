{
  "nbformat": 4,
  "nbformat_minor": 0,
  "metadata": {
    "colab": {
      "name": "Note1_Numpy_Manipulations.ipynb",
      "provenance": [],
      "collapsed_sections": [],
      "authorship_tag": "ABX9TyPkrqThA2feacAtQf4jgYLj",
      "include_colab_link": true
    },
    "kernelspec": {
      "name": "python3",
      "display_name": "Python 3"
    }
  },
  "cells": [
    {
      "cell_type": "markdown",
      "metadata": {
        "id": "view-in-github",
        "colab_type": "text"
      },
      "source": [
        "<a href=\"https://colab.research.google.com/github/piyushy1/DeepLearningNotes/blob/master/Note1_Numpy_Manipulations.ipynb\" target=\"_parent\"><img src=\"https://colab.research.google.com/assets/colab-badge.svg\" alt=\"Open In Colab\"/></a>"
      ]
    },
    {
      "cell_type": "markdown",
      "metadata": {
        "id": "6-2Siugejc41",
        "colab_type": "text"
      },
      "source": [
        "**Kryders Law** :  Kryder's Law is the assumption that disk drive density, also known as areal density, will double every thirteen months. The implication of Kryder's Law is that as areal density improves, storage will become cheaper"
      ]
    },
    {
      "cell_type": "markdown",
      "metadata": {
        "id": "0XR2bpMhkXHV",
        "colab_type": "text"
      },
      "source": [
        "**Moore's law** is the observation that the number of transistors in a dense integrated circuit doubles about every two years. "
      ]
    },
    {
      "cell_type": "code",
      "metadata": {
        "id": "pWjRWF9RjrKW",
        "colab_type": "code",
        "outputId": "6562cb38-bfa1-4707-decb-4571b404df61",
        "colab": {
          "base_uri": "https://localhost:8080/",
          "height": 304
        }
      },
      "source": [
        "!pip install mxnet-cu101"
      ],
      "execution_count": 10,
      "outputs": [
        {
          "output_type": "stream",
          "text": [
            "Collecting mxnet-cu101\n",
            "\u001b[?25l  Downloading https://files.pythonhosted.org/packages/54/b1/7d01abca10eef104296d2b3f0c59a7dda7573126d079c9e2609e6c17993b/mxnet_cu101-1.6.0-py2.py3-none-manylinux1_x86_64.whl (710.5MB)\n",
            "\u001b[K     |████████████████████████████████| 710.5MB 21kB/s \n",
            "\u001b[?25hCollecting graphviz<0.9.0,>=0.8.1\n",
            "  Downloading https://files.pythonhosted.org/packages/53/39/4ab213673844e0c004bed8a0781a0721a3f6bb23eb8854ee75c236428892/graphviz-0.8.4-py2.py3-none-any.whl\n",
            "Requirement already satisfied: numpy<2.0.0,>1.16.0 in /usr/local/lib/python3.6/dist-packages (from mxnet-cu101) (1.18.4)\n",
            "Requirement already satisfied: requests<3,>=2.20.0 in /usr/local/lib/python3.6/dist-packages (from mxnet-cu101) (2.23.0)\n",
            "Requirement already satisfied: urllib3!=1.25.0,!=1.25.1,<1.26,>=1.21.1 in /usr/local/lib/python3.6/dist-packages (from requests<3,>=2.20.0->mxnet-cu101) (1.24.3)\n",
            "Requirement already satisfied: certifi>=2017.4.17 in /usr/local/lib/python3.6/dist-packages (from requests<3,>=2.20.0->mxnet-cu101) (2020.4.5.1)\n",
            "Requirement already satisfied: chardet<4,>=3.0.2 in /usr/local/lib/python3.6/dist-packages (from requests<3,>=2.20.0->mxnet-cu101) (3.0.4)\n",
            "Requirement already satisfied: idna<3,>=2.5 in /usr/local/lib/python3.6/dist-packages (from requests<3,>=2.20.0->mxnet-cu101) (2.9)\n",
            "Installing collected packages: graphviz, mxnet-cu101\n",
            "  Found existing installation: graphviz 0.10.1\n",
            "    Uninstalling graphviz-0.10.1:\n",
            "      Successfully uninstalled graphviz-0.10.1\n",
            "Successfully installed graphviz-0.8.4 mxnet-cu101-1.6.0\n"
          ],
          "name": "stdout"
        }
      ]
    },
    {
      "cell_type": "code",
      "metadata": {
        "id": "oj27h1tDJdGB",
        "colab_type": "code",
        "colab": {}
      },
      "source": [
        "from mxnet import np, npx\n",
        "npx.set_np()"
      ],
      "execution_count": 0,
      "outputs": []
    },
    {
      "cell_type": "code",
      "metadata": {
        "id": "cDLjWkT9J2t_",
        "colab_type": "code",
        "outputId": "c87dc81d-c1d8-4c52-c8ac-1eda84f6931a",
        "colab": {
          "base_uri": "https://localhost:8080/",
          "height": 50
        }
      },
      "source": [
        "# Row vector\n",
        "x = np.arange(12)\n",
        "print(x)\n",
        "# shape lenght of each axis, size total number of elements in array\n",
        "x.shape, x.size"
      ],
      "execution_count": 0,
      "outputs": [
        {
          "output_type": "stream",
          "text": [
            "[ 0.  1.  2.  3.  4.  5.  6.  7.  8.  9. 10. 11.]\n"
          ],
          "name": "stdout"
        },
        {
          "output_type": "execute_result",
          "data": {
            "text/plain": [
              "((12,), 12)"
            ]
          },
          "metadata": {
            "tags": []
          },
          "execution_count": 6
        }
      ]
    },
    {
      "cell_type": "code",
      "metadata": {
        "id": "ofxPycxNKTMF",
        "colab_type": "code",
        "outputId": "d9fac60b-edfd-4129-a035-4b57478b2407",
        "colab": {
          "base_uri": "https://localhost:8080/",
          "height": 67
        }
      },
      "source": [
        "# reshape array\n",
        "x = x.reshape(3,4) # same circular opertion x.reshape(-1,4), x.reshape(3,-1)\n",
        "x"
      ],
      "execution_count": 0,
      "outputs": [
        {
          "output_type": "execute_result",
          "data": {
            "text/plain": [
              "array([[ 0.,  1.,  2.,  3.],\n",
              "       [ 4.,  5.,  6.,  7.],\n",
              "       [ 8.,  9., 10., 11.]])"
            ]
          },
          "metadata": {
            "tags": []
          },
          "execution_count": 8
        }
      ]
    },
    {
      "cell_type": "code",
      "metadata": {
        "id": "K5MB3TiNK-Mt",
        "colab_type": "code",
        "outputId": "4bb5ec21-55c1-4b2c-953e-c5608a6b59d9",
        "colab": {
          "base_uri": "https://localhost:8080/",
          "height": 67
        }
      },
      "source": [
        "np.empty((3,4)) # grabs chunk of memory"
      ],
      "execution_count": 0,
      "outputs": [
        {
          "output_type": "execute_result",
          "data": {
            "text/plain": [
              "array([[8.4688284e-36, 0.0000000e+00, 0.0000000e+00, 0.0000000e+00],\n",
              "       [0.0000000e+00, 0.0000000e+00, 0.0000000e+00, 0.0000000e+00],\n",
              "       [0.0000000e+00, 0.0000000e+00, 0.0000000e+00, 0.0000000e+00]])"
            ]
          },
          "metadata": {
            "tags": []
          },
          "execution_count": 10
        }
      ]
    },
    {
      "cell_type": "code",
      "metadata": {
        "id": "TSujBil3LOxo",
        "colab_type": "code",
        "outputId": "43d4bb38-9902-4e50-8c84-a6584eb52dfa",
        "colab": {
          "base_uri": "https://localhost:8080/",
          "height": 134
        }
      },
      "source": [
        "np.zeros((2,3,4)) # tensoer with two matricses of 3,4 zero initilaisation"
      ],
      "execution_count": 0,
      "outputs": [
        {
          "output_type": "execute_result",
          "data": {
            "text/plain": [
              "array([[[0., 0., 0., 0.],\n",
              "        [0., 0., 0., 0.],\n",
              "        [0., 0., 0., 0.]],\n",
              "\n",
              "       [[0., 0., 0., 0.],\n",
              "        [0., 0., 0., 0.],\n",
              "        [0., 0., 0., 0.]]])"
            ]
          },
          "metadata": {
            "tags": []
          },
          "execution_count": 11
        }
      ]
    },
    {
      "cell_type": "code",
      "metadata": {
        "id": "78hjSkLeLlCe",
        "colab_type": "code",
        "outputId": "6a7ba6c5-9c2e-4e44-9628-5df352212a39",
        "colab": {
          "base_uri": "https://localhost:8080/",
          "height": 134
        }
      },
      "source": [
        "# above with intialisng with ones.\n",
        "np.ones((2,3,4))"
      ],
      "execution_count": 0,
      "outputs": [
        {
          "output_type": "execute_result",
          "data": {
            "text/plain": [
              "array([[[1., 1., 1., 1.],\n",
              "        [1., 1., 1., 1.],\n",
              "        [1., 1., 1., 1.]],\n",
              "\n",
              "       [[1., 1., 1., 1.],\n",
              "        [1., 1., 1., 1.],\n",
              "        [1., 1., 1., 1.]]])"
            ]
          },
          "metadata": {
            "tags": []
          },
          "execution_count": 12
        }
      ]
    },
    {
      "cell_type": "code",
      "metadata": {
        "id": "5XmSTSVeLuHc",
        "colab_type": "code",
        "outputId": "22d9fee4-84f2-426c-f5af-951472d2700a",
        "colab": {
          "base_uri": "https://localhost:8080/",
          "height": 67
        }
      },
      "source": [
        "# random probabilistic valuses with normal guassian\n",
        "# this type of operation helps in intialising random weight in neural nets\n",
        "np.random.normal(0,1,size =(3,4)) # here 0 is mean and 1 is std. deviation"
      ],
      "execution_count": 0,
      "outputs": [
        {
          "output_type": "execute_result",
          "data": {
            "text/plain": [
              "array([[-3.542058  , -1.0918891 , -0.9027689 , -4.7112594 ],\n",
              "       [ 1.1587671 ,  1.0828804 , -3.712164  ,  5.357013  ],\n",
              "       [-3.9537592 ,  2.5092688 , -0.41603842, -1.0975479 ]])"
            ]
          },
          "metadata": {
            "tags": []
          },
          "execution_count": 14
        }
      ]
    },
    {
      "cell_type": "code",
      "metadata": {
        "id": "8yBgS-GuMoe1",
        "colab_type": "code",
        "outputId": "fb6bcca8-4639-4745-8922-dd3c16b5943d",
        "colab": {
          "base_uri": "https://localhost:8080/",
          "height": 33
        }
      },
      "source": [
        "# to get the excat values\n",
        "np.array([[[2, 1, 4, 3], [1, 2, 3, 4], [4, 3, 2, 1]],[[2, 1, 4, 3], [1, 2, 3, 4], [4, 3, 2, 1]]]).shape"
      ],
      "execution_count": 0,
      "outputs": [
        {
          "output_type": "execute_result",
          "data": {
            "text/plain": [
              "(2, 3, 4)"
            ]
          },
          "metadata": {
            "tags": []
          },
          "execution_count": 22
        }
      ]
    },
    {
      "cell_type": "code",
      "metadata": {
        "id": "lNe4yElsQZI2",
        "colab_type": "code",
        "outputId": "7a44b55c-b774-42d3-fbb3-0754ec4f9cb8",
        "colab": {
          "base_uri": "https://localhost:8080/",
          "height": 100
        }
      },
      "source": [
        "x = np.array([1, 2, 4, 8])\n",
        "y = np.array([2, 2, 2, 2])\n",
        "x + y, x - y, x * y, x / y, x ** y # The ** operator is exponentiation"
      ],
      "execution_count": 0,
      "outputs": [
        {
          "output_type": "execute_result",
          "data": {
            "text/plain": [
              "(array([ 3.,  4.,  6., 10.]),\n",
              " array([-1.,  0.,  2.,  6.]),\n",
              " array([ 2.,  4.,  8., 16.]),\n",
              " array([0.5, 1. , 2. , 4. ]),\n",
              " array([ 1.,  4., 16., 64.]))"
            ]
          },
          "metadata": {
            "tags": []
          },
          "execution_count": 23
        }
      ]
    },
    {
      "cell_type": "code",
      "metadata": {
        "id": "c2mF9TRwX7A_",
        "colab_type": "code",
        "outputId": "2b175568-9ec7-46c3-ff29-448472afeab7",
        "colab": {
          "base_uri": "https://localhost:8080/",
          "height": 33
        }
      },
      "source": [
        "# exponential value\n",
        "np.exp(x)"
      ],
      "execution_count": 0,
      "outputs": [
        {
          "output_type": "execute_result",
          "data": {
            "text/plain": [
              "array([2.7182817e+00, 7.3890562e+00, 5.4598148e+01, 2.9809580e+03])"
            ]
          },
          "metadata": {
            "tags": []
          },
          "execution_count": 24
        }
      ]
    },
    {
      "cell_type": "code",
      "metadata": {
        "id": "i27HNzjEYaKX",
        "colab_type": "code",
        "outputId": "a305e590-c22f-4b29-8abf-88fbf9d106b1",
        "colab": {
          "base_uri": "https://localhost:8080/",
          "height": 167
        }
      },
      "source": [
        "# concatenation of arrays across axis (x =0, x=1)\n",
        "x = np.arange(12).reshape(3, 4)\n",
        "y = np.array([[2, 1, 4, 3], [1, 2, 3, 4], [4, 3, 2, 1]])\n",
        "np.concatenate([x, y], axis=0), np.concatenate([x, y], axis=1)"
      ],
      "execution_count": 0,
      "outputs": [
        {
          "output_type": "execute_result",
          "data": {
            "text/plain": [
              "(array([[ 0.,  1.,  2.,  3.],\n",
              "        [ 4.,  5.,  6.,  7.],\n",
              "        [ 8.,  9., 10., 11.],\n",
              "        [ 2.,  1.,  4.,  3.],\n",
              "        [ 1.,  2.,  3.,  4.],\n",
              "        [ 4.,  3.,  2.,  1.]]),\n",
              " array([[ 0.,  1.,  2.,  3.,  2.,  1.,  4.,  3.],\n",
              "        [ 4.,  5.,  6.,  7.,  1.,  2.,  3.,  4.],\n",
              "        [ 8.,  9., 10., 11.,  4.,  3.,  2.,  1.]]))"
            ]
          },
          "metadata": {
            "tags": []
          },
          "execution_count": 25
        }
      ]
    },
    {
      "cell_type": "code",
      "metadata": {
        "id": "5EP8t9aNYsaw",
        "colab_type": "code",
        "outputId": "102eba32-a281-419c-8326-03a93109acf7",
        "colab": {
          "base_uri": "https://localhost:8080/",
          "height": 67
        }
      },
      "source": [
        "# construct binary logical operations\n",
        "x==y"
      ],
      "execution_count": 0,
      "outputs": [
        {
          "output_type": "execute_result",
          "data": {
            "text/plain": [
              "array([[False,  True, False,  True],\n",
              "       [False, False, False, False],\n",
              "       [False, False, False, False]])"
            ]
          },
          "metadata": {
            "tags": []
          },
          "execution_count": 26
        }
      ]
    },
    {
      "cell_type": "code",
      "metadata": {
        "id": "G6GwTgjRY0Cg",
        "colab_type": "code",
        "outputId": "140c2ba7-56f2-4ab0-823a-8971a3450db0",
        "colab": {
          "base_uri": "https://localhost:8080/",
          "height": 33
        }
      },
      "source": [
        "# sum of array\n",
        "x.sum() # or np.sum(x)"
      ],
      "execution_count": 0,
      "outputs": [
        {
          "output_type": "execute_result",
          "data": {
            "text/plain": [
              "array(66.)"
            ]
          },
          "metadata": {
            "tags": []
          },
          "execution_count": 27
        }
      ]
    },
    {
      "cell_type": "markdown",
      "metadata": {
        "id": "yMeT2XaxZEpP",
        "colab_type": "text"
      },
      "source": [
        "**Broadcasting Mechanism** when the shapes are not same.\n"
      ]
    },
    {
      "cell_type": "code",
      "metadata": {
        "id": "LsaJRNxoZPok",
        "colab_type": "code",
        "outputId": "c274cc4c-b7d3-4695-fbfb-cf0632ff0b82",
        "colab": {
          "base_uri": "https://localhost:8080/",
          "height": 67
        }
      },
      "source": [
        "a = np.arange(3).reshape(3, 1)\n",
        "b = np.arange(2).reshape(1, 2)\n",
        "a, b\n",
        "\n",
        "# elementw wise add and final matrix will be of 3*2\n",
        "a + b"
      ],
      "execution_count": 0,
      "outputs": [
        {
          "output_type": "execute_result",
          "data": {
            "text/plain": [
              "array([[0., 1.],\n",
              "       [1., 2.],\n",
              "       [2., 3.]])"
            ]
          },
          "metadata": {
            "tags": []
          },
          "execution_count": 4
        }
      ]
    },
    {
      "cell_type": "markdown",
      "metadata": {
        "id": "kMWW7alclw3M",
        "colab_type": "text"
      },
      "source": [
        "**Indiexing and SLicing**  Index 0 is is the first element and [-1] last element "
      ]
    },
    {
      "cell_type": "code",
      "metadata": {
        "id": "pSRtVN8ylvjm",
        "colab_type": "code",
        "outputId": "756a3e08-125d-435a-95e8-9257d2afd42e",
        "colab": {
          "base_uri": "https://localhost:8080/",
          "height": 167
        }
      },
      "source": [
        "x = np.arange(12).reshape(3, 4)\n",
        "print(x,x[-1],x[1:3])\n",
        "\n",
        "# write at specfic position\n",
        "x[2,3] = 400\n",
        "print(x)\n",
        "\n",
        "# access rows and columns\n",
        "x[1:3, 1:2]\n"
      ],
      "execution_count": 0,
      "outputs": [
        {
          "output_type": "stream",
          "text": [
            "[[ 0.  1.  2.  3.]\n",
            " [ 4.  5.  6.  7.]\n",
            " [ 8.  9. 10. 11.]] [ 8.  9. 10. 11.] [[ 4.  5.  6.  7.]\n",
            " [ 8.  9. 10. 11.]]\n",
            "[[  0.   1.   2.   3.]\n",
            " [  4.   5.   6.   7.]\n",
            " [  8.   9.  10. 400.]]\n"
          ],
          "name": "stdout"
        },
        {
          "output_type": "execute_result",
          "data": {
            "text/plain": [
              "array([[5.],\n",
              "       [9.]])"
            ]
          },
          "metadata": {
            "tags": []
          },
          "execution_count": 19
        }
      ]
    },
    {
      "cell_type": "markdown",
      "metadata": {
        "id": "Bbd__OtxoqUF",
        "colab_type": "text"
      },
      "source": [
        "**[Saving Memory]** to find the memory allocation"
      ]
    },
    {
      "cell_type": "code",
      "metadata": {
        "id": "vzpxi96_nyLG",
        "colab_type": "code",
        "outputId": "0c9cd210-66a2-49b7-82f3-5a4d2262deaf",
        "colab": {
          "base_uri": "https://localhost:8080/",
          "height": 67
        }
      },
      "source": [
        "m = np.arange(12).reshape(3, 4)\n",
        "n = np.arange(12).reshape(3, 4)\n",
        "before = id(m)\n",
        "m = m+n\n",
        "\n",
        "print(id(m) == before)\n",
        "\n",
        "# in mxnet its\n",
        "z = np.zeros_like(m)\n",
        "print('id(z):', id(z))\n",
        "z[:] = m + n\n",
        "print('id(z):', id(z))\n",
        "\n",
        "# or m+ = n can also be used to save memory \n"
      ],
      "execution_count": 0,
      "outputs": [
        {
          "output_type": "stream",
          "text": [
            "False\n",
            "id(z): 140065512558024\n",
            "id(z): 140065512558024\n"
          ],
          "name": "stdout"
        }
      ]
    },
    {
      "cell_type": "markdown",
      "metadata": {
        "id": "xyak_FShe7Af",
        "colab_type": "text"
      },
      "source": [
        "**Data Preprocessing: A small play with Pandas**"
      ]
    },
    {
      "cell_type": "code",
      "metadata": {
        "id": "eFr0Va6DqwPq",
        "colab_type": "code",
        "colab": {}
      },
      "source": [
        "import os\n",
        "\n",
        "# Saved in the d2l package for later use\n",
        "def mkdir_if_not_exist(path):\n",
        "  if not isinstance(path, str):   #he isinstance() function returns True if the specified object is of the specified type, otherwise False.\n",
        "    path = os.path.join(*path)\n",
        "  if not os.path.exists(path):\n",
        "    os.makedirs(path)"
      ],
      "execution_count": 0,
      "outputs": []
    },
    {
      "cell_type": "code",
      "metadata": {
        "id": "BuQhf_fafnzx",
        "colab_type": "code",
        "colab": {}
      },
      "source": [
        "# create a random data in csv file\n",
        "data_file = '../data/house_tiny.csv'\n",
        "mkdir_if_not_exist('../data')\n",
        "with open(data_file, 'w') as f:\n",
        "  f.write('NumRooms,Alley,Price\\n') # Column names\n",
        "  f.write('NA,Pave,127500\\n') # Each row is a data point\n",
        "  f.write('2,NA,106000\\n')\n",
        "  f.write('4,NA,178100\\n')\n",
        "  f.write('NA,NA,140000\\n')"
      ],
      "execution_count": 0,
      "outputs": []
    },
    {
      "cell_type": "code",
      "metadata": {
        "id": "gYxz8Aigf1fl",
        "colab_type": "code",
        "colab": {
          "base_uri": "https://localhost:8080/",
          "height": 100
        },
        "outputId": "8ab66dc1-4ad3-4576-dd09-6a859bf229a3"
      },
      "source": [
        "# read data\n",
        "import pandas as pd\n",
        "data = pd.read_csv(data_file)\n",
        "print(data)"
      ],
      "execution_count": 5,
      "outputs": [
        {
          "output_type": "stream",
          "text": [
            "   NumRooms Alley   Price\n",
            "0       NaN  Pave  127500\n",
            "1       2.0   NaN  106000\n",
            "2       4.0   NaN  178100\n",
            "3       NaN   NaN  140000\n"
          ],
          "name": "stdout"
        }
      ]
    },
    {
      "cell_type": "markdown",
      "metadata": {
        "id": "vkN7MQtpf-1U",
        "colab_type": "text"
      },
      "source": [
        "**Handling Missing Data in Pandas** # use integerlocation (iloc) and fillna function"
      ]
    },
    {
      "cell_type": "code",
      "metadata": {
        "id": "MfFX4EfTf7dF",
        "colab_type": "code",
        "colab": {
          "base_uri": "https://localhost:8080/",
          "height": 251
        },
        "outputId": "85404110-7d20-4a24-d433-bc51c9a2c49e"
      },
      "source": [
        "inputs, outputs = data.iloc[:, 0:2], data.iloc[:, 2]\n",
        "print(inputs, outputs)\n",
        "\n",
        "inputs = inputs.fillna(inputs.mean())\n",
        "print(inputs)"
      ],
      "execution_count": 7,
      "outputs": [
        {
          "output_type": "stream",
          "text": [
            "   NumRooms Alley\n",
            "0       NaN  Pave\n",
            "1       2.0   NaN\n",
            "2       4.0   NaN\n",
            "3       NaN   NaN 0    127500\n",
            "1    106000\n",
            "2    178100\n",
            "3    140000\n",
            "Name: Price, dtype: int64\n",
            "   NumRooms Alley\n",
            "0       3.0  Pave\n",
            "1       2.0   NaN\n",
            "2       4.0   NaN\n",
            "3       3.0   NaN\n"
          ],
          "name": "stdout"
        }
      ]
    },
    {
      "cell_type": "code",
      "metadata": {
        "id": "Sp9fXulwhPO6",
        "colab_type": "code",
        "colab": {
          "base_uri": "https://localhost:8080/",
          "height": 100
        },
        "outputId": "9e0d3186-882a-406b-eb03-8f36bb5ae39f"
      },
      "source": [
        "# pandas treat Nan as categogricl value and can automatically crete dummy colum\n",
        "inputs = pd.get_dummies(inputs, dummy_na=True)\n",
        "print(inputs)"
      ],
      "execution_count": 8,
      "outputs": [
        {
          "output_type": "stream",
          "text": [
            "   NumRooms  Alley_Pave  Alley_nan\n",
            "0       3.0           1          0\n",
            "1       2.0           0          1\n",
            "2       4.0           0          1\n",
            "3       3.0           0          1\n"
          ],
          "name": "stdout"
        }
      ]
    },
    {
      "cell_type": "code",
      "metadata": {
        "id": "eSo8LcDehmDW",
        "colab_type": "code",
        "colab": {
          "base_uri": "https://localhost:8080/",
          "height": 100
        },
        "outputId": "db5bbc12-6557-4df8-b8f1-fa2b1ac3019f"
      },
      "source": [
        "# since now all the values have been converted to numerical so now we can convert them to nd array\n",
        "from mxnet import np\n",
        "X, y = np.array(inputs.values), np.array(outputs.values)\n",
        "X, y"
      ],
      "execution_count": 11,
      "outputs": [
        {
          "output_type": "execute_result",
          "data": {
            "text/plain": [
              "(array([[3., 1., 0.],\n",
              "        [2., 0., 1.],\n",
              "        [4., 0., 1.],\n",
              "        [3., 0., 1.]], dtype=float64),\n",
              " array([127500, 106000, 178100, 140000], dtype=int64))"
            ]
          },
          "metadata": {
            "tags": []
          },
          "execution_count": 11
        }
      ]
    }
  ]
}