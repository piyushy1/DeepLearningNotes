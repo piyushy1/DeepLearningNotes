{
  "nbformat": 4,
  "nbformat_minor": 0,
  "metadata": {
    "colab": {
      "name": "Mathematical_Machine_Learning.ipynb",
      "provenance": [],
      "collapsed_sections": [],
      "authorship_tag": "ABX9TyPOuvjkluKpLidarmJiTO9L",
      "include_colab_link": true
    },
    "kernelspec": {
      "name": "python3",
      "display_name": "Python 3"
    },
    "accelerator": "GPU"
  },
  "cells": [
    {
      "cell_type": "markdown",
      "metadata": {
        "id": "view-in-github",
        "colab_type": "text"
      },
      "source": [
        "<a href=\"https://colab.research.google.com/github/piyushy1/DeepLearningNotes/blob/master/Mathematical_Machine_Learning.ipynb\" target=\"_parent\"><img src=\"https://colab.research.google.com/assets/colab-badge.svg\" alt=\"Open In Colab\"/></a>"
      ]
    },
    {
      "cell_type": "markdown",
      "metadata": {
        "id": "P9f-0LZemD1a",
        "colab_type": "text"
      },
      "source": [
        "This notebook aims to provide you the mathematical background you need to understand the core theory of modern deep learning\n",
        "\n",
        "**Linear Algebra** (Chapter 18)\n",
        "\n",
        "Vectors: list of numbers  like v = [2,3,4]. Vectors can be represented in row and column.\n",
        "\n",
        "Dot product between vectors give the angle between them. two vectors u and v so u.v = u^TV = Σ_i(u_i.v_i). So both u.v or v.u are same\n",
        "\n",
        "angle between two vectors will be θ = arccos((v.w)/(∥v∥∥w∥))"
      ]
    },
    {
      "cell_type": "markdown",
      "metadata": {
        "id": "fz5pR_POqkLJ",
        "colab_type": "text"
      },
      "source": [
        "**Compute Angle between Vectors**"
      ]
    },
    {
      "cell_type": "markdown",
      "metadata": {
        "id": "yYIn2GiQv-xU",
        "colab_type": "text"
      },
      "source": [
        "MXNET Preinstallation requirements: Always check the version number and cuda version number. to check cuda run !nvcc--version and then use that version like for cuda 10.1 use mxnet-cu101"
      ]
    },
    {
      "cell_type": "code",
      "metadata": {
        "id": "wQwMQmPRl4Xu",
        "colab_type": "code",
        "outputId": "be961360-f2df-412c-e70c-f1d025b5abdd",
        "colab": {
          "base_uri": "https://localhost:8080/",
          "height": 304
        }
      },
      "source": [
        "!pip install mxnet-cu101"
      ],
      "execution_count": 0,
      "outputs": [
        {
          "output_type": "stream",
          "text": [
            "Collecting mxnet-cu101\n",
            "\u001b[?25l  Downloading https://files.pythonhosted.org/packages/54/b1/7d01abca10eef104296d2b3f0c59a7dda7573126d079c9e2609e6c17993b/mxnet_cu101-1.6.0-py2.py3-none-manylinux1_x86_64.whl (710.5MB)\n",
            "\u001b[K     |████████████████████████████████| 710.5MB 26kB/s \n",
            "\u001b[?25hCollecting graphviz<0.9.0,>=0.8.1\n",
            "  Downloading https://files.pythonhosted.org/packages/53/39/4ab213673844e0c004bed8a0781a0721a3f6bb23eb8854ee75c236428892/graphviz-0.8.4-py2.py3-none-any.whl\n",
            "Requirement already satisfied: numpy<2.0.0,>1.16.0 in /usr/local/lib/python3.6/dist-packages (from mxnet-cu101) (1.18.3)\n",
            "Requirement already satisfied: requests<3,>=2.20.0 in /usr/local/lib/python3.6/dist-packages (from mxnet-cu101) (2.23.0)\n",
            "Requirement already satisfied: certifi>=2017.4.17 in /usr/local/lib/python3.6/dist-packages (from requests<3,>=2.20.0->mxnet-cu101) (2020.4.5.1)\n",
            "Requirement already satisfied: urllib3!=1.25.0,!=1.25.1,<1.26,>=1.21.1 in /usr/local/lib/python3.6/dist-packages (from requests<3,>=2.20.0->mxnet-cu101) (1.24.3)\n",
            "Requirement already satisfied: idna<3,>=2.5 in /usr/local/lib/python3.6/dist-packages (from requests<3,>=2.20.0->mxnet-cu101) (2.9)\n",
            "Requirement already satisfied: chardet<4,>=3.0.2 in /usr/local/lib/python3.6/dist-packages (from requests<3,>=2.20.0->mxnet-cu101) (3.0.4)\n",
            "Installing collected packages: graphviz, mxnet-cu101\n",
            "  Found existing installation: graphviz 0.10.1\n",
            "    Uninstalling graphviz-0.10.1:\n",
            "      Successfully uninstalled graphviz-0.10.1\n",
            "Successfully installed graphviz-0.8.4 mxnet-cu101-1.6.0\n"
          ],
          "name": "stdout"
        }
      ]
    },
    {
      "cell_type": "code",
      "metadata": {
        "id": "KZDSd-JEKG9A",
        "colab_type": "code",
        "outputId": "8fab6e65-7c19-430d-9f71-b1103d175b12",
        "colab": {
          "base_uri": "https://localhost:8080/",
          "height": 873
        }
      },
      "source": [
        "!pip install d2l"
      ],
      "execution_count": 0,
      "outputs": [
        {
          "output_type": "stream",
          "text": [
            "Collecting d2l\n",
            "  Downloading https://files.pythonhosted.org/packages/52/da/ef9725c6ef71ed2fe8b2aec86442657057c5f38f5c5efce7efda2dbeb4f2/d2l-0.11.4-py3-none-any.whl\n",
            "Requirement already satisfied: pandas in /usr/local/lib/python3.6/dist-packages (from d2l) (1.0.3)\n",
            "Requirement already satisfied: numpy in /usr/local/lib/python3.6/dist-packages (from d2l) (1.18.3)\n",
            "Requirement already satisfied: matplotlib in /usr/local/lib/python3.6/dist-packages (from d2l) (3.2.1)\n",
            "Requirement already satisfied: jupyter in /usr/local/lib/python3.6/dist-packages (from d2l) (1.0.0)\n",
            "Requirement already satisfied: python-dateutil>=2.6.1 in /usr/local/lib/python3.6/dist-packages (from pandas->d2l) (2.8.1)\n",
            "Requirement already satisfied: pytz>=2017.2 in /usr/local/lib/python3.6/dist-packages (from pandas->d2l) (2018.9)\n",
            "Requirement already satisfied: pyparsing!=2.0.4,!=2.1.2,!=2.1.6,>=2.0.1 in /usr/local/lib/python3.6/dist-packages (from matplotlib->d2l) (2.4.7)\n",
            "Requirement already satisfied: cycler>=0.10 in /usr/local/lib/python3.6/dist-packages (from matplotlib->d2l) (0.10.0)\n",
            "Requirement already satisfied: kiwisolver>=1.0.1 in /usr/local/lib/python3.6/dist-packages (from matplotlib->d2l) (1.2.0)\n",
            "Requirement already satisfied: ipywidgets in /usr/local/lib/python3.6/dist-packages (from jupyter->d2l) (7.5.1)\n",
            "Requirement already satisfied: ipykernel in /usr/local/lib/python3.6/dist-packages (from jupyter->d2l) (4.10.1)\n",
            "Requirement already satisfied: jupyter-console in /usr/local/lib/python3.6/dist-packages (from jupyter->d2l) (5.2.0)\n",
            "Requirement already satisfied: nbconvert in /usr/local/lib/python3.6/dist-packages (from jupyter->d2l) (5.6.1)\n",
            "Requirement already satisfied: qtconsole in /usr/local/lib/python3.6/dist-packages (from jupyter->d2l) (4.7.3)\n",
            "Requirement already satisfied: notebook in /usr/local/lib/python3.6/dist-packages (from jupyter->d2l) (5.2.2)\n",
            "Requirement already satisfied: six>=1.5 in /usr/local/lib/python3.6/dist-packages (from python-dateutil>=2.6.1->pandas->d2l) (1.12.0)\n",
            "Requirement already satisfied: ipython>=4.0.0; python_version >= \"3.3\" in /usr/local/lib/python3.6/dist-packages (from ipywidgets->jupyter->d2l) (5.5.0)\n",
            "Requirement already satisfied: traitlets>=4.3.1 in /usr/local/lib/python3.6/dist-packages (from ipywidgets->jupyter->d2l) (4.3.3)\n",
            "Requirement already satisfied: widgetsnbextension~=3.5.0 in /usr/local/lib/python3.6/dist-packages (from ipywidgets->jupyter->d2l) (3.5.1)\n",
            "Requirement already satisfied: nbformat>=4.2.0 in /usr/local/lib/python3.6/dist-packages (from ipywidgets->jupyter->d2l) (5.0.6)\n",
            "Requirement already satisfied: jupyter-client in /usr/local/lib/python3.6/dist-packages (from ipykernel->jupyter->d2l) (5.3.4)\n",
            "Requirement already satisfied: tornado>=4.0 in /usr/local/lib/python3.6/dist-packages (from ipykernel->jupyter->d2l) (4.5.3)\n",
            "Requirement already satisfied: prompt-toolkit<2.0.0,>=1.0.0 in /usr/local/lib/python3.6/dist-packages (from jupyter-console->jupyter->d2l) (1.0.18)\n",
            "Requirement already satisfied: pygments in /usr/local/lib/python3.6/dist-packages (from jupyter-console->jupyter->d2l) (2.1.3)\n",
            "Requirement already satisfied: jinja2>=2.4 in /usr/local/lib/python3.6/dist-packages (from nbconvert->jupyter->d2l) (2.11.2)\n",
            "Requirement already satisfied: entrypoints>=0.2.2 in /usr/local/lib/python3.6/dist-packages (from nbconvert->jupyter->d2l) (0.3)\n",
            "Requirement already satisfied: bleach in /usr/local/lib/python3.6/dist-packages (from nbconvert->jupyter->d2l) (3.1.4)\n",
            "Requirement already satisfied: mistune<2,>=0.8.1 in /usr/local/lib/python3.6/dist-packages (from nbconvert->jupyter->d2l) (0.8.4)\n",
            "Requirement already satisfied: jupyter-core in /usr/local/lib/python3.6/dist-packages (from nbconvert->jupyter->d2l) (4.6.3)\n",
            "Requirement already satisfied: testpath in /usr/local/lib/python3.6/dist-packages (from nbconvert->jupyter->d2l) (0.4.4)\n",
            "Requirement already satisfied: pandocfilters>=1.4.1 in /usr/local/lib/python3.6/dist-packages (from nbconvert->jupyter->d2l) (1.4.2)\n",
            "Requirement already satisfied: defusedxml in /usr/local/lib/python3.6/dist-packages (from nbconvert->jupyter->d2l) (0.6.0)\n",
            "Requirement already satisfied: ipython-genutils in /usr/local/lib/python3.6/dist-packages (from qtconsole->jupyter->d2l) (0.2.0)\n",
            "Requirement already satisfied: qtpy in /usr/local/lib/python3.6/dist-packages (from qtconsole->jupyter->d2l) (1.9.0)\n",
            "Requirement already satisfied: pyzmq>=17.1 in /usr/local/lib/python3.6/dist-packages (from qtconsole->jupyter->d2l) (19.0.0)\n",
            "Requirement already satisfied: terminado>=0.3.3; sys_platform != \"win32\" in /usr/local/lib/python3.6/dist-packages (from notebook->jupyter->d2l) (0.8.3)\n",
            "Requirement already satisfied: decorator in /usr/local/lib/python3.6/dist-packages (from ipython>=4.0.0; python_version >= \"3.3\"->ipywidgets->jupyter->d2l) (4.4.2)\n",
            "Requirement already satisfied: pexpect; sys_platform != \"win32\" in /usr/local/lib/python3.6/dist-packages (from ipython>=4.0.0; python_version >= \"3.3\"->ipywidgets->jupyter->d2l) (4.8.0)\n",
            "Requirement already satisfied: pickleshare in /usr/local/lib/python3.6/dist-packages (from ipython>=4.0.0; python_version >= \"3.3\"->ipywidgets->jupyter->d2l) (0.7.5)\n",
            "Requirement already satisfied: setuptools>=18.5 in /usr/local/lib/python3.6/dist-packages (from ipython>=4.0.0; python_version >= \"3.3\"->ipywidgets->jupyter->d2l) (46.1.3)\n",
            "Requirement already satisfied: simplegeneric>0.8 in /usr/local/lib/python3.6/dist-packages (from ipython>=4.0.0; python_version >= \"3.3\"->ipywidgets->jupyter->d2l) (0.8.1)\n",
            "Requirement already satisfied: jsonschema!=2.5.0,>=2.4 in /usr/local/lib/python3.6/dist-packages (from nbformat>=4.2.0->ipywidgets->jupyter->d2l) (2.6.0)\n",
            "Requirement already satisfied: wcwidth in /usr/local/lib/python3.6/dist-packages (from prompt-toolkit<2.0.0,>=1.0.0->jupyter-console->jupyter->d2l) (0.1.9)\n",
            "Requirement already satisfied: MarkupSafe>=0.23 in /usr/local/lib/python3.6/dist-packages (from jinja2>=2.4->nbconvert->jupyter->d2l) (1.1.1)\n",
            "Requirement already satisfied: webencodings in /usr/local/lib/python3.6/dist-packages (from bleach->nbconvert->jupyter->d2l) (0.5.1)\n",
            "Requirement already satisfied: ptyprocess; os_name != \"nt\" in /usr/local/lib/python3.6/dist-packages (from terminado>=0.3.3; sys_platform != \"win32\"->notebook->jupyter->d2l) (0.6.0)\n",
            "Installing collected packages: d2l\n",
            "Successfully installed d2l-0.11.4\n"
          ],
          "name": "stdout"
        }
      ]
    },
    {
      "cell_type": "code",
      "metadata": {
        "id": "M82RIvDtsvv8",
        "colab_type": "code",
        "colab": {}
      },
      "source": [
        "%matplotlib inline\n",
        "import d2l\n",
        "from IPython import display\n",
        "import mxnet as mx\n",
        "from mxnet import gluon, np, npx\n",
        "npx.set_np()"
      ],
      "execution_count": 0,
      "outputs": []
    },
    {
      "cell_type": "code",
      "metadata": {
        "id": "7MgceVaqtklM",
        "colab_type": "code",
        "colab": {}
      },
      "source": [
        "def calculatevectorangle(v1,v2):\n",
        "  print('dot_product: ',np.dot(v1,v2))\n",
        "  print('normalise_v1: ',np.linalg.norm(v1)) # this is vector magnitude https://mathinsight.org/definition/magnitude_vector\n",
        "  print('normalise_v2: ',np.linalg.norm(v2))\n",
        "  angle = np.arccos(np.dot(v1,v2)/(np.linalg.norm(v1)*np.linalg.norm(v2)))\n",
        "  return angle"
      ],
      "execution_count": 0,
      "outputs": []
    },
    {
      "cell_type": "code",
      "metadata": {
        "id": "BA9VYHKJzFhb",
        "colab_type": "code",
        "outputId": "3283d71e-8d6e-407b-e293-b2654e5972ba",
        "colab": {
          "base_uri": "https://localhost:8080/",
          "height": 84
        }
      },
      "source": [
        "calculatevectorangle(np.array([0,1,2]),np.array([2,3,4]))"
      ],
      "execution_count": 0,
      "outputs": [
        {
          "output_type": "stream",
          "text": [
            "dot_product:  11.0\n",
            "normalise_v1:  2.236068\n",
            "normalise_v2:  5.3851647\n"
          ],
          "name": "stdout"
        },
        {
          "output_type": "execute_result",
          "data": {
            "text/plain": [
              "array(0.41899002)"
            ]
          },
          "metadata": {
            "tags": []
          },
          "execution_count": 9
        }
      ]
    },
    {
      "cell_type": "markdown",
      "metadata": {
        "id": "jeGc89aeCHxt",
        "colab_type": "text"
      },
      "source": [
        "It is reasonable to ask: why is computing the angle useful? The answer comes in the kind of\n",
        "invariance we expect data to have. Consider an image, and a duplicate image, where every pixel\n",
        "value is the same but 10% the brightness. The values of the individual pixels are in general far\n",
        "from the original values. Thus, if one computed the distance between the original image and the\n",
        "darker one, the distance can be large.\n",
        "However, for most ML applications, the content is the same—it is still an image of a cat as far as a\n",
        "cat/dog classifier is concerned. However, if we consider the angle, it is not hard to see that for anlge between v and 0:1 \u0001 v is zero. This corresponds to the fact that scaling\n",
        "vectors keeps the same direction and just changes the length. The angle considers the darker\n",
        "image identical."
      ]
    },
    {
      "cell_type": "markdown",
      "metadata": {
        "id": "MK3Z6H9oHY2U",
        "colab_type": "text"
      },
      "source": [
        "Hpyeplanes.divide the vector into two spaces. Like if w.v = 1 then |v||w|cosθ =1  then |v|cosθ = 1/|w| so its the projection on vector w by v and it divides the vector w at 90 degree anlge. if w = [2,1]T then line divideng it will be 2x+y = 1 and y = 1-2x [Page 811]. In ML models these hyperplanes divide the classes and are also called decision planes."
      ]
    },
    {
      "cell_type": "code",
      "metadata": {
        "id": "xsB5FOAv11zq",
        "colab_type": "code",
        "outputId": "3e6488e6-3e3b-414c-c25e-385d42414ff9",
        "colab": {
          "base_uri": "https://localhost:8080/",
          "height": 104
        }
      },
      "source": [
        "# Load in the dataset\n",
        "train = gluon.data.vision.FashionMNIST(train=True)\n",
        "test = gluon.data.vision.FashionMNIST(train=False)"
      ],
      "execution_count": 0,
      "outputs": [
        {
          "output_type": "stream",
          "text": [
            "Downloading /root/.mxnet/datasets/fashion-mnist/train-images-idx3-ubyte.gz from https://apache-mxnet.s3-accelerate.dualstack.amazonaws.com/gluon/dataset/fashion-mnist/train-images-idx3-ubyte.gz...\n",
            "Downloading /root/.mxnet/datasets/fashion-mnist/train-labels-idx1-ubyte.gz from https://apache-mxnet.s3-accelerate.dualstack.amazonaws.com/gluon/dataset/fashion-mnist/train-labels-idx1-ubyte.gz...\n",
            "Downloading /root/.mxnet/datasets/fashion-mnist/t10k-images-idx3-ubyte.gz from https://apache-mxnet.s3-accelerate.dualstack.amazonaws.com/gluon/dataset/fashion-mnist/t10k-images-idx3-ubyte.gz...\n",
            "Downloading /root/.mxnet/datasets/fashion-mnist/t10k-labels-idx1-ubyte.gz from https://apache-mxnet.s3-accelerate.dualstack.amazonaws.com/gluon/dataset/fashion-mnist/t10k-labels-idx1-ubyte.gz...\n"
          ],
          "name": "stdout"
        }
      ]
    },
    {
      "cell_type": "code",
      "metadata": {
        "id": "8i6ONoulLCMX",
        "colab_type": "code",
        "colab": {}
      },
      "source": [
        "X_train_0 = np.stack([x[0] for x in train if x[1] == 0]).astype(float)\n",
        "X_train_1 = np.stack([x[0] for x in train if x[1] == 1]).astype(float)"
      ],
      "execution_count": 0,
      "outputs": []
    },
    {
      "cell_type": "code",
      "metadata": {
        "id": "0qehPXPsMAWN",
        "colab_type": "code",
        "colab": {}
      },
      "source": [
        "X_test = np.stack([x[0] for x in test if x[1] == 0 or x[1] == 1]).astype(float)\n",
        "y_test = np.stack([x[1] for x in test if x[1] == 0 or x[1] == 1]).astype(float)"
      ],
      "execution_count": 0,
      "outputs": []
    },
    {
      "cell_type": "code",
      "metadata": {
        "id": "3rYEFVs0MT5j",
        "colab_type": "code",
        "colab": {}
      },
      "source": [
        "# Compute averages\n",
        "ave_0 = np.mean(X_train_0, axis=0)\n",
        "ave_1 = np.mean(X_train_1, axis=0)"
      ],
      "execution_count": 0,
      "outputs": []
    },
    {
      "cell_type": "code",
      "metadata": {
        "id": "O5ogCX5UMqpE",
        "colab_type": "code",
        "outputId": "92c1c46f-8917-48d2-f8a9-e61284ff012c",
        "colab": {
          "base_uri": "https://localhost:8080/",
          "height": 245
        }
      },
      "source": [
        "# Plot average t-shirt\n",
        "d2l.set_figsize()\n",
        "d2l.plt.imshow(ave_0.reshape(28, 28).tolist(), cmap='Greys')\n",
        "d2l.plt.show()"
      ],
      "execution_count": 0,
      "outputs": [
        {
          "output_type": "display_data",
          "data": {
            "text/plain": [
              "<Figure size 252x180 with 1 Axes>"
            ],
            "image/svg+xml": "<?xml version=\"1.0\" encoding=\"utf-8\" standalone=\"no\"?>\n<!DOCTYPE svg PUBLIC \"-//W3C//DTD SVG 1.1//EN\"\n  \"http://www.w3.org/Graphics/SVG/1.1/DTD/svg11.dtd\">\n<!-- Created with matplotlib (https://matplotlib.org/) -->\n<svg height=\"168.350558pt\" version=\"1.1\" viewBox=\"0 0 170.025 168.350558\" width=\"170.025pt\" xmlns=\"http://www.w3.org/2000/svg\" xmlns:xlink=\"http://www.w3.org/1999/xlink\">\n <defs>\n  <style type=\"text/css\">\n*{stroke-linecap:butt;stroke-linejoin:round;}\n  </style>\n </defs>\n <g id=\"figure_1\">\n  <g id=\"patch_1\">\n   <path d=\"M 0 168.350558 \nL 170.025 168.350558 \nL 170.025 0 \nL 0 0 \nz\n\" style=\"fill:none;\"/>\n  </g>\n  <g id=\"axes_1\">\n   <g id=\"patch_2\">\n    <path d=\"M 26.925 144.472433 \nL 162.825 144.472433 \nL 162.825 8.572433 \nL 26.925 8.572433 \nz\n\" style=\"fill:#ffffff;\"/>\n   </g>\n   <g clip-path=\"url(#p0dbc207ef6)\">\n    <image height=\"136\" id=\"imaged63d3a3201\" transform=\"scale(1 -1)translate(0 -136)\" width=\"136\" x=\"26.925\" xlink:href=\"data:image/png;base64,\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\" y=\"-8.472433\"/>\n   </g>\n   <g id=\"matplotlib.axis_1\">\n    <g id=\"xtick_1\">\n     <g id=\"line2d_1\">\n      <defs>\n       <path d=\"M 0 0 \nL 0 3.5 \n\" id=\"m7eab58e055\" style=\"stroke:#000000;stroke-width:0.8;\"/>\n      </defs>\n      <g>\n       <use style=\"stroke:#000000;stroke-width:0.8;\" x=\"29.351786\" xlink:href=\"#m7eab58e055\" y=\"144.472433\"/>\n      </g>\n     </g>\n     <g id=\"text_1\">\n      <!-- 0 -->\n      <defs>\n       <path d=\"M 31.78125 66.40625 \nQ 24.171875 66.40625 20.328125 58.90625 \nQ 16.5 51.421875 16.5 36.375 \nQ 16.5 21.390625 20.328125 13.890625 \nQ 24.171875 6.390625 31.78125 6.390625 \nQ 39.453125 6.390625 43.28125 13.890625 \nQ 47.125 21.390625 47.125 36.375 \nQ 47.125 51.421875 43.28125 58.90625 \nQ 39.453125 66.40625 31.78125 66.40625 \nz\nM 31.78125 74.21875 \nQ 44.046875 74.21875 50.515625 64.515625 \nQ 56.984375 54.828125 56.984375 36.375 \nQ 56.984375 17.96875 50.515625 8.265625 \nQ 44.046875 -1.421875 31.78125 -1.421875 \nQ 19.53125 -1.421875 13.0625 8.265625 \nQ 6.59375 17.96875 6.59375 36.375 \nQ 6.59375 54.828125 13.0625 64.515625 \nQ 19.53125 74.21875 31.78125 74.21875 \nz\n\" id=\"DejaVuSans-48\"/>\n      </defs>\n      <g transform=\"translate(26.170536 159.070871)scale(0.1 -0.1)\">\n       <use xlink:href=\"#DejaVuSans-48\"/>\n      </g>\n     </g>\n    </g>\n    <g id=\"xtick_2\">\n     <g id=\"line2d_2\">\n      <g>\n       <use style=\"stroke:#000000;stroke-width:0.8;\" x=\"77.8875\" xlink:href=\"#m7eab58e055\" y=\"144.472433\"/>\n      </g>\n     </g>\n     <g id=\"text_2\">\n      <!-- 10 -->\n      <defs>\n       <path d=\"M 12.40625 8.296875 \nL 28.515625 8.296875 \nL 28.515625 63.921875 \nL 10.984375 60.40625 \nL 10.984375 69.390625 \nL 28.421875 72.90625 \nL 38.28125 72.90625 \nL 38.28125 8.296875 \nL 54.390625 8.296875 \nL 54.390625 0 \nL 12.40625 0 \nz\n\" id=\"DejaVuSans-49\"/>\n      </defs>\n      <g transform=\"translate(71.525 159.070871)scale(0.1 -0.1)\">\n       <use xlink:href=\"#DejaVuSans-49\"/>\n       <use x=\"63.623047\" xlink:href=\"#DejaVuSans-48\"/>\n      </g>\n     </g>\n    </g>\n    <g id=\"xtick_3\">\n     <g id=\"line2d_3\">\n      <g>\n       <use style=\"stroke:#000000;stroke-width:0.8;\" x=\"126.423214\" xlink:href=\"#m7eab58e055\" y=\"144.472433\"/>\n      </g>\n     </g>\n     <g id=\"text_3\">\n      <!-- 20 -->\n      <defs>\n       <path d=\"M 19.1875 8.296875 \nL 53.609375 8.296875 \nL 53.609375 0 \nL 7.328125 0 \nL 7.328125 8.296875 \nQ 12.9375 14.109375 22.625 23.890625 \nQ 32.328125 33.6875 34.8125 36.53125 \nQ 39.546875 41.84375 41.421875 45.53125 \nQ 43.3125 49.21875 43.3125 52.78125 \nQ 43.3125 58.59375 39.234375 62.25 \nQ 35.15625 65.921875 28.609375 65.921875 \nQ 23.96875 65.921875 18.8125 64.3125 \nQ 13.671875 62.703125 7.8125 59.421875 \nL 7.8125 69.390625 \nQ 13.765625 71.78125 18.9375 73 \nQ 24.125 74.21875 28.421875 74.21875 \nQ 39.75 74.21875 46.484375 68.546875 \nQ 53.21875 62.890625 53.21875 53.421875 \nQ 53.21875 48.921875 51.53125 44.890625 \nQ 49.859375 40.875 45.40625 35.40625 \nQ 44.1875 33.984375 37.640625 27.21875 \nQ 31.109375 20.453125 19.1875 8.296875 \nz\n\" id=\"DejaVuSans-50\"/>\n      </defs>\n      <g transform=\"translate(120.060714 159.070871)scale(0.1 -0.1)\">\n       <use xlink:href=\"#DejaVuSans-50\"/>\n       <use x=\"63.623047\" xlink:href=\"#DejaVuSans-48\"/>\n      </g>\n     </g>\n    </g>\n   </g>\n   <g id=\"matplotlib.axis_2\">\n    <g id=\"ytick_1\">\n     <g id=\"line2d_4\">\n      <defs>\n       <path d=\"M 0 0 \nL -3.5 0 \n\" id=\"m466ee65c77\" style=\"stroke:#000000;stroke-width:0.8;\"/>\n      </defs>\n      <g>\n       <use style=\"stroke:#000000;stroke-width:0.8;\" x=\"26.925\" xlink:href=\"#m466ee65c77\" y=\"10.999219\"/>\n      </g>\n     </g>\n     <g id=\"text_4\">\n      <!-- 0 -->\n      <g transform=\"translate(13.5625 14.798437)scale(0.1 -0.1)\">\n       <use xlink:href=\"#DejaVuSans-48\"/>\n      </g>\n     </g>\n    </g>\n    <g id=\"ytick_2\">\n     <g id=\"line2d_5\">\n      <g>\n       <use style=\"stroke:#000000;stroke-width:0.8;\" x=\"26.925\" xlink:href=\"#m466ee65c77\" y=\"35.267076\"/>\n      </g>\n     </g>\n     <g id=\"text_5\">\n      <!-- 5 -->\n      <defs>\n       <path d=\"M 10.796875 72.90625 \nL 49.515625 72.90625 \nL 49.515625 64.59375 \nL 19.828125 64.59375 \nL 19.828125 46.734375 \nQ 21.96875 47.46875 24.109375 47.828125 \nQ 26.265625 48.1875 28.421875 48.1875 \nQ 40.625 48.1875 47.75 41.5 \nQ 54.890625 34.8125 54.890625 23.390625 \nQ 54.890625 11.625 47.5625 5.09375 \nQ 40.234375 -1.421875 26.90625 -1.421875 \nQ 22.3125 -1.421875 17.546875 -0.640625 \nQ 12.796875 0.140625 7.71875 1.703125 \nL 7.71875 11.625 \nQ 12.109375 9.234375 16.796875 8.0625 \nQ 21.484375 6.890625 26.703125 6.890625 \nQ 35.15625 6.890625 40.078125 11.328125 \nQ 45.015625 15.765625 45.015625 23.390625 \nQ 45.015625 31 40.078125 35.4375 \nQ 35.15625 39.890625 26.703125 39.890625 \nQ 22.75 39.890625 18.8125 39.015625 \nQ 14.890625 38.140625 10.796875 36.28125 \nz\n\" id=\"DejaVuSans-53\"/>\n      </defs>\n      <g transform=\"translate(13.5625 39.066295)scale(0.1 -0.1)\">\n       <use xlink:href=\"#DejaVuSans-53\"/>\n      </g>\n     </g>\n    </g>\n    <g id=\"ytick_3\">\n     <g id=\"line2d_6\">\n      <g>\n       <use style=\"stroke:#000000;stroke-width:0.8;\" x=\"26.925\" xlink:href=\"#m466ee65c77\" y=\"59.534933\"/>\n      </g>\n     </g>\n     <g id=\"text_6\">\n      <!-- 10 -->\n      <g transform=\"translate(7.2 63.334152)scale(0.1 -0.1)\">\n       <use xlink:href=\"#DejaVuSans-49\"/>\n       <use x=\"63.623047\" xlink:href=\"#DejaVuSans-48\"/>\n      </g>\n     </g>\n    </g>\n    <g id=\"ytick_4\">\n     <g id=\"line2d_7\">\n      <g>\n       <use style=\"stroke:#000000;stroke-width:0.8;\" x=\"26.925\" xlink:href=\"#m466ee65c77\" y=\"83.80279\"/>\n      </g>\n     </g>\n     <g id=\"text_7\">\n      <!-- 15 -->\n      <g transform=\"translate(7.2 87.602009)scale(0.1 -0.1)\">\n       <use xlink:href=\"#DejaVuSans-49\"/>\n       <use x=\"63.623047\" xlink:href=\"#DejaVuSans-53\"/>\n      </g>\n     </g>\n    </g>\n    <g id=\"ytick_5\">\n     <g id=\"line2d_8\">\n      <g>\n       <use style=\"stroke:#000000;stroke-width:0.8;\" x=\"26.925\" xlink:href=\"#m466ee65c77\" y=\"108.070647\"/>\n      </g>\n     </g>\n     <g id=\"text_8\">\n      <!-- 20 -->\n      <g transform=\"translate(7.2 111.869866)scale(0.1 -0.1)\">\n       <use xlink:href=\"#DejaVuSans-50\"/>\n       <use x=\"63.623047\" xlink:href=\"#DejaVuSans-48\"/>\n      </g>\n     </g>\n    </g>\n    <g id=\"ytick_6\">\n     <g id=\"line2d_9\">\n      <g>\n       <use style=\"stroke:#000000;stroke-width:0.8;\" x=\"26.925\" xlink:href=\"#m466ee65c77\" y=\"132.338504\"/>\n      </g>\n     </g>\n     <g id=\"text_9\">\n      <!-- 25 -->\n      <g transform=\"translate(7.2 136.137723)scale(0.1 -0.1)\">\n       <use xlink:href=\"#DejaVuSans-50\"/>\n       <use x=\"63.623047\" xlink:href=\"#DejaVuSans-53\"/>\n      </g>\n     </g>\n    </g>\n   </g>\n   <g id=\"patch_3\">\n    <path d=\"M 26.925 144.472433 \nL 26.925 8.572433 \n\" style=\"fill:none;stroke:#000000;stroke-linecap:square;stroke-linejoin:miter;stroke-width:0.8;\"/>\n   </g>\n   <g id=\"patch_4\">\n    <path d=\"M 162.825 144.472433 \nL 162.825 8.572433 \n\" style=\"fill:none;stroke:#000000;stroke-linecap:square;stroke-linejoin:miter;stroke-width:0.8;\"/>\n   </g>\n   <g id=\"patch_5\">\n    <path d=\"M 26.925 144.472433 \nL 162.825 144.472433 \n\" style=\"fill:none;stroke:#000000;stroke-linecap:square;stroke-linejoin:miter;stroke-width:0.8;\"/>\n   </g>\n   <g id=\"patch_6\">\n    <path d=\"M 26.925 8.572433 \nL 162.825 8.572433 \n\" style=\"fill:none;stroke:#000000;stroke-linecap:square;stroke-linejoin:miter;stroke-width:0.8;\"/>\n   </g>\n  </g>\n </g>\n <defs>\n  <clipPath id=\"p0dbc207ef6\">\n   <rect height=\"135.9\" width=\"135.9\" x=\"26.925\" y=\"8.572433\"/>\n  </clipPath>\n </defs>\n</svg>\n"
          },
          "metadata": {
            "tags": [],
            "needs_background": "light"
          }
        }
      ]
    },
    {
      "cell_type": "code",
      "metadata": {
        "id": "pDPfl3OeLePs",
        "colab_type": "code",
        "outputId": "c05f4912-2a67-4ff3-e550-9886865fedc9",
        "colab": {
          "base_uri": "https://localhost:8080/",
          "height": 245
        }
      },
      "source": [
        "# Plot average trousers\n",
        "d2l.plt.imshow(ave_1.reshape(28, 28).tolist(), cmap='Greys')\n",
        "d2l.plt.show()"
      ],
      "execution_count": 0,
      "outputs": [
        {
          "output_type": "display_data",
          "data": {
            "text/plain": [
              "<Figure size 252x180 with 1 Axes>"
            ],
            "image/svg+xml": "<?xml version=\"1.0\" encoding=\"utf-8\" standalone=\"no\"?>\n<!DOCTYPE svg PUBLIC \"-//W3C//DTD SVG 1.1//EN\"\n  \"http://www.w3.org/Graphics/SVG/1.1/DTD/svg11.dtd\">\n<!-- Created with matplotlib (https://matplotlib.org/) -->\n<svg height=\"168.350558pt\" version=\"1.1\" viewBox=\"0 0 170.025 168.350558\" width=\"170.025pt\" xmlns=\"http://www.w3.org/2000/svg\" xmlns:xlink=\"http://www.w3.org/1999/xlink\">\n <defs>\n  <style type=\"text/css\">\n*{stroke-linecap:butt;stroke-linejoin:round;}\n  </style>\n </defs>\n <g id=\"figure_1\">\n  <g id=\"patch_1\">\n   <path d=\"M 0 168.350558 \nL 170.025 168.350558 \nL 170.025 0 \nL 0 0 \nz\n\" style=\"fill:none;\"/>\n  </g>\n  <g id=\"axes_1\">\n   <g id=\"patch_2\">\n    <path d=\"M 26.925 144.472433 \nL 162.825 144.472433 \nL 162.825 8.572433 \nL 26.925 8.572433 \nz\n\" style=\"fill:#ffffff;\"/>\n   </g>\n   <g clip-path=\"url(#pcc28f0c55d)\">\n    <image height=\"136\" id=\"image5e4787abf9\" transform=\"scale(1 -1)translate(0 -136)\" width=\"136\" x=\"26.925\" xlink:href=\"data:image/png;base64,\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\" y=\"-8.472433\"/>\n   </g>\n   <g id=\"matplotlib.axis_1\">\n    <g id=\"xtick_1\">\n     <g id=\"line2d_1\">\n      <defs>\n       <path d=\"M 0 0 \nL 0 3.5 \n\" id=\"m17617621ac\" style=\"stroke:#000000;stroke-width:0.8;\"/>\n      </defs>\n      <g>\n       <use style=\"stroke:#000000;stroke-width:0.8;\" x=\"29.351786\" xlink:href=\"#m17617621ac\" y=\"144.472433\"/>\n      </g>\n     </g>\n     <g id=\"text_1\">\n      <!-- 0 -->\n      <defs>\n       <path d=\"M 31.78125 66.40625 \nQ 24.171875 66.40625 20.328125 58.90625 \nQ 16.5 51.421875 16.5 36.375 \nQ 16.5 21.390625 20.328125 13.890625 \nQ 24.171875 6.390625 31.78125 6.390625 \nQ 39.453125 6.390625 43.28125 13.890625 \nQ 47.125 21.390625 47.125 36.375 \nQ 47.125 51.421875 43.28125 58.90625 \nQ 39.453125 66.40625 31.78125 66.40625 \nz\nM 31.78125 74.21875 \nQ 44.046875 74.21875 50.515625 64.515625 \nQ 56.984375 54.828125 56.984375 36.375 \nQ 56.984375 17.96875 50.515625 8.265625 \nQ 44.046875 -1.421875 31.78125 -1.421875 \nQ 19.53125 -1.421875 13.0625 8.265625 \nQ 6.59375 17.96875 6.59375 36.375 \nQ 6.59375 54.828125 13.0625 64.515625 \nQ 19.53125 74.21875 31.78125 74.21875 \nz\n\" id=\"DejaVuSans-48\"/>\n      </defs>\n      <g transform=\"translate(26.170536 159.070871)scale(0.1 -0.1)\">\n       <use xlink:href=\"#DejaVuSans-48\"/>\n      </g>\n     </g>\n    </g>\n    <g id=\"xtick_2\">\n     <g id=\"line2d_2\">\n      <g>\n       <use style=\"stroke:#000000;stroke-width:0.8;\" x=\"77.8875\" xlink:href=\"#m17617621ac\" y=\"144.472433\"/>\n      </g>\n     </g>\n     <g id=\"text_2\">\n      <!-- 10 -->\n      <defs>\n       <path d=\"M 12.40625 8.296875 \nL 28.515625 8.296875 \nL 28.515625 63.921875 \nL 10.984375 60.40625 \nL 10.984375 69.390625 \nL 28.421875 72.90625 \nL 38.28125 72.90625 \nL 38.28125 8.296875 \nL 54.390625 8.296875 \nL 54.390625 0 \nL 12.40625 0 \nz\n\" id=\"DejaVuSans-49\"/>\n      </defs>\n      <g transform=\"translate(71.525 159.070871)scale(0.1 -0.1)\">\n       <use xlink:href=\"#DejaVuSans-49\"/>\n       <use x=\"63.623047\" xlink:href=\"#DejaVuSans-48\"/>\n      </g>\n     </g>\n    </g>\n    <g id=\"xtick_3\">\n     <g id=\"line2d_3\">\n      <g>\n       <use style=\"stroke:#000000;stroke-width:0.8;\" x=\"126.423214\" xlink:href=\"#m17617621ac\" y=\"144.472433\"/>\n      </g>\n     </g>\n     <g id=\"text_3\">\n      <!-- 20 -->\n      <defs>\n       <path d=\"M 19.1875 8.296875 \nL 53.609375 8.296875 \nL 53.609375 0 \nL 7.328125 0 \nL 7.328125 8.296875 \nQ 12.9375 14.109375 22.625 23.890625 \nQ 32.328125 33.6875 34.8125 36.53125 \nQ 39.546875 41.84375 41.421875 45.53125 \nQ 43.3125 49.21875 43.3125 52.78125 \nQ 43.3125 58.59375 39.234375 62.25 \nQ 35.15625 65.921875 28.609375 65.921875 \nQ 23.96875 65.921875 18.8125 64.3125 \nQ 13.671875 62.703125 7.8125 59.421875 \nL 7.8125 69.390625 \nQ 13.765625 71.78125 18.9375 73 \nQ 24.125 74.21875 28.421875 74.21875 \nQ 39.75 74.21875 46.484375 68.546875 \nQ 53.21875 62.890625 53.21875 53.421875 \nQ 53.21875 48.921875 51.53125 44.890625 \nQ 49.859375 40.875 45.40625 35.40625 \nQ 44.1875 33.984375 37.640625 27.21875 \nQ 31.109375 20.453125 19.1875 8.296875 \nz\n\" id=\"DejaVuSans-50\"/>\n      </defs>\n      <g transform=\"translate(120.060714 159.070871)scale(0.1 -0.1)\">\n       <use xlink:href=\"#DejaVuSans-50\"/>\n       <use x=\"63.623047\" xlink:href=\"#DejaVuSans-48\"/>\n      </g>\n     </g>\n    </g>\n   </g>\n   <g id=\"matplotlib.axis_2\">\n    <g id=\"ytick_1\">\n     <g id=\"line2d_4\">\n      <defs>\n       <path d=\"M 0 0 \nL -3.5 0 \n\" id=\"m384ceae88f\" style=\"stroke:#000000;stroke-width:0.8;\"/>\n      </defs>\n      <g>\n       <use style=\"stroke:#000000;stroke-width:0.8;\" x=\"26.925\" xlink:href=\"#m384ceae88f\" y=\"10.999219\"/>\n      </g>\n     </g>\n     <g id=\"text_4\">\n      <!-- 0 -->\n      <g transform=\"translate(13.5625 14.798437)scale(0.1 -0.1)\">\n       <use xlink:href=\"#DejaVuSans-48\"/>\n      </g>\n     </g>\n    </g>\n    <g id=\"ytick_2\">\n     <g id=\"line2d_5\">\n      <g>\n       <use style=\"stroke:#000000;stroke-width:0.8;\" x=\"26.925\" xlink:href=\"#m384ceae88f\" y=\"35.267076\"/>\n      </g>\n     </g>\n     <g id=\"text_5\">\n      <!-- 5 -->\n      <defs>\n       <path d=\"M 10.796875 72.90625 \nL 49.515625 72.90625 \nL 49.515625 64.59375 \nL 19.828125 64.59375 \nL 19.828125 46.734375 \nQ 21.96875 47.46875 24.109375 47.828125 \nQ 26.265625 48.1875 28.421875 48.1875 \nQ 40.625 48.1875 47.75 41.5 \nQ 54.890625 34.8125 54.890625 23.390625 \nQ 54.890625 11.625 47.5625 5.09375 \nQ 40.234375 -1.421875 26.90625 -1.421875 \nQ 22.3125 -1.421875 17.546875 -0.640625 \nQ 12.796875 0.140625 7.71875 1.703125 \nL 7.71875 11.625 \nQ 12.109375 9.234375 16.796875 8.0625 \nQ 21.484375 6.890625 26.703125 6.890625 \nQ 35.15625 6.890625 40.078125 11.328125 \nQ 45.015625 15.765625 45.015625 23.390625 \nQ 45.015625 31 40.078125 35.4375 \nQ 35.15625 39.890625 26.703125 39.890625 \nQ 22.75 39.890625 18.8125 39.015625 \nQ 14.890625 38.140625 10.796875 36.28125 \nz\n\" id=\"DejaVuSans-53\"/>\n      </defs>\n      <g transform=\"translate(13.5625 39.066295)scale(0.1 -0.1)\">\n       <use xlink:href=\"#DejaVuSans-53\"/>\n      </g>\n     </g>\n    </g>\n    <g id=\"ytick_3\">\n     <g id=\"line2d_6\">\n      <g>\n       <use style=\"stroke:#000000;stroke-width:0.8;\" x=\"26.925\" xlink:href=\"#m384ceae88f\" y=\"59.534933\"/>\n      </g>\n     </g>\n     <g id=\"text_6\">\n      <!-- 10 -->\n      <g transform=\"translate(7.2 63.334152)scale(0.1 -0.1)\">\n       <use xlink:href=\"#DejaVuSans-49\"/>\n       <use x=\"63.623047\" xlink:href=\"#DejaVuSans-48\"/>\n      </g>\n     </g>\n    </g>\n    <g id=\"ytick_4\">\n     <g id=\"line2d_7\">\n      <g>\n       <use style=\"stroke:#000000;stroke-width:0.8;\" x=\"26.925\" xlink:href=\"#m384ceae88f\" y=\"83.80279\"/>\n      </g>\n     </g>\n     <g id=\"text_7\">\n      <!-- 15 -->\n      <g transform=\"translate(7.2 87.602009)scale(0.1 -0.1)\">\n       <use xlink:href=\"#DejaVuSans-49\"/>\n       <use x=\"63.623047\" xlink:href=\"#DejaVuSans-53\"/>\n      </g>\n     </g>\n    </g>\n    <g id=\"ytick_5\">\n     <g id=\"line2d_8\">\n      <g>\n       <use style=\"stroke:#000000;stroke-width:0.8;\" x=\"26.925\" xlink:href=\"#m384ceae88f\" y=\"108.070647\"/>\n      </g>\n     </g>\n     <g id=\"text_8\">\n      <!-- 20 -->\n      <g transform=\"translate(7.2 111.869866)scale(0.1 -0.1)\">\n       <use xlink:href=\"#DejaVuSans-50\"/>\n       <use x=\"63.623047\" xlink:href=\"#DejaVuSans-48\"/>\n      </g>\n     </g>\n    </g>\n    <g id=\"ytick_6\">\n     <g id=\"line2d_9\">\n      <g>\n       <use style=\"stroke:#000000;stroke-width:0.8;\" x=\"26.925\" xlink:href=\"#m384ceae88f\" y=\"132.338504\"/>\n      </g>\n     </g>\n     <g id=\"text_9\">\n      <!-- 25 -->\n      <g transform=\"translate(7.2 136.137723)scale(0.1 -0.1)\">\n       <use xlink:href=\"#DejaVuSans-50\"/>\n       <use x=\"63.623047\" xlink:href=\"#DejaVuSans-53\"/>\n      </g>\n     </g>\n    </g>\n   </g>\n   <g id=\"patch_3\">\n    <path d=\"M 26.925 144.472433 \nL 26.925 8.572433 \n\" style=\"fill:none;stroke:#000000;stroke-linecap:square;stroke-linejoin:miter;stroke-width:0.8;\"/>\n   </g>\n   <g id=\"patch_4\">\n    <path d=\"M 162.825 144.472433 \nL 162.825 8.572433 \n\" style=\"fill:none;stroke:#000000;stroke-linecap:square;stroke-linejoin:miter;stroke-width:0.8;\"/>\n   </g>\n   <g id=\"patch_5\">\n    <path d=\"M 26.925 144.472433 \nL 162.825 144.472433 \n\" style=\"fill:none;stroke:#000000;stroke-linecap:square;stroke-linejoin:miter;stroke-width:0.8;\"/>\n   </g>\n   <g id=\"patch_6\">\n    <path d=\"M 26.925 8.572433 \nL 162.825 8.572433 \n\" style=\"fill:none;stroke:#000000;stroke-linecap:square;stroke-linejoin:miter;stroke-width:0.8;\"/>\n   </g>\n  </g>\n </g>\n <defs>\n  <clipPath id=\"pcc28f0c55d\">\n   <rect height=\"135.9\" width=\"135.9\" x=\"26.925\" y=\"8.572433\"/>\n  </clipPath>\n </defs>\n</svg>\n"
          },
          "metadata": {
            "tags": [],
            "needs_background": "light"
          }
        }
      ]
    },
    {
      "cell_type": "code",
      "metadata": {
        "id": "7Iix4iTPOMVd",
        "colab_type": "code",
        "outputId": "473acaff-372c-40c4-ade9-3f80be5984a4",
        "colab": {
          "base_uri": "https://localhost:8080/",
          "height": 33
        }
      },
      "source": [
        "w = (ave_1 - ave_0).T\n",
        "# predictions = X_test.reshape(2000, -1)\n",
        "# print(predictions.shape, X_test.shape, w.flatten().shape)\n",
        "predictions = X_test.reshape(2000, -1).dot(w.flatten()) > -1500000\n",
        "\n",
        "# Accuracy\n",
        "np.mean(predictions.astype(y_test.dtype) == y_test, dtype=np.float64)"
      ],
      "execution_count": 0,
      "outputs": [
        {
          "output_type": "execute_result",
          "data": {
            "text/plain": [
              "array(0.4995, dtype=float64)"
            ]
          },
          "metadata": {
            "tags": []
          },
          "execution_count": 46
        }
      ]
    },
    {
      "cell_type": "markdown",
      "metadata": {
        "id": "GEEk-kNvYVFD",
        "colab_type": "text"
      },
      "source": [
        "**Linear Tranformation: **\n",
        "\n",
        "matrices can do to transform data between two potentially different high dimensional spaces takes significant practice. matrix multiplication can skew, rotate, and scale the grid, but\n",
        "the grid structure must remain \n",
        "\n",
        "**Linear Dependence**\n",
        "\n",
        "Linera dependence comes when sigma(a_iv_i) = 0. Linear dependence in column matrixmeans there is matrix is compressing the space down to some lower dimensions. If vecotrs are linear independent then no compression occurs."
      ]
    },
    {
      "cell_type": "markdown",
      "metadata": {
        "id": "qOAM55AM2lUA",
        "colab_type": "text"
      },
      "source": [
        "**Rank**\n",
        "\n",
        "Rank tells to what dimesion space the matrix maps in. Rank is number of linear  independent column matrices.\n",
        "\n",
        "**Invertibility**\n",
        "We have seen above that multiplication by a matrix with linearly dependent columns cannot be\n",
        "undone, i.e., there is no inverse operation that can always recover the input. However, multiplication\n",
        "by a full-rank matrix (i.e., some A that is n \u0002 n matrix with rank n), we should always be\n",
        "able to undo it. AA^-1 =I (Indetity matrix)"
      ]
    },
    {
      "cell_type": "code",
      "metadata": {
        "id": "3w9tc2iF31HI",
        "colab_type": "code",
        "colab": {
          "base_uri": "https://localhost:8080/",
          "height": 50
        },
        "outputId": "02834e35-fafc-4ddb-a9e9-c589711ff348"
      },
      "source": [
        "import numpy as np\n",
        "M = np.array([[1, 2], [1, 4]])\n",
        "M_inv = np.array([[2, -1], [-0.5, 0.5]])\n",
        "M_inv.dot(M) "
      ],
      "execution_count": 1,
      "outputs": [
        {
          "output_type": "execute_result",
          "data": {
            "text/plain": [
              "array([[1., 0.],\n",
              "       [0., 1.]])"
            ]
          },
          "metadata": {
            "tags": []
          },
          "execution_count": 1
        }
      ]
    },
    {
      "cell_type": "markdown",
      "metadata": {
        "id": "f4ZU8xdI6NCr",
        "colab_type": "text"
      },
      "source": [
        "**Determinant**\n",
        "\n",
        "Detrminant gives the area of the given vector. Determinants allow us to measure how much a matrix expands or contracts a spac. If the determinant is zero then it means the matrix multiplacation of that vector is compressed to line segement resulting to zero area. A matrix A is invertible if and only if its determinant is non zero."
      ]
    },
    {
      "cell_type": "code",
      "metadata": {
        "id": "1q4rUEYO6unC",
        "colab_type": "code",
        "colab": {
          "base_uri": "https://localhost:8080/",
          "height": 33
        },
        "outputId": "a0b5d332-52ee-46fc-8889-f868cf2ed27e"
      },
      "source": [
        "# determinant\n",
        "np.linalg.det(np.array([[1, -1], [2, 3]]))"
      ],
      "execution_count": 2,
      "outputs": [
        {
          "output_type": "execute_result",
          "data": {
            "text/plain": [
              "5.000000000000001"
            ]
          },
          "metadata": {
            "tags": []
          },
          "execution_count": 2
        }
      ]
    },
    {
      "cell_type": "markdown",
      "metadata": {
        "id": "sECY59yi7aYt",
        "colab_type": "text"
      },
      "source": [
        "**Tensors and Common Linear Algebra Operations**\n",
        "\n",
        "Tensor contractions and Einstein summation provide for a neat and clean notation for expressing\n",
        "many of the computations that are seen in machine learning"
      ]
    },
    {
      "cell_type": "code",
      "metadata": {
        "id": "mQNlLU7g8uUN",
        "colab_type": "code",
        "colab": {
          "base_uri": "https://localhost:8080/",
          "height": 217
        },
        "outputId": "d6455820-30a2-4c83-a9c5-6e425972b66d"
      },
      "source": [
        "# Define tensors\n",
        "C = np.array([[[1, 2, 3], [4, 5, 6]], [[7, 8, 9], [10, 11, 12]]])\n",
        "B = np.array([[[1, 2, 3], [4, 5, 6]], [[7, 8, 9], [10, 11, 12]], [[7, 8, 9], [10, 11, 12]]])\n",
        "A = np.array([[1, 2], [3, 4]])\n",
        "v = np.array([1, 2])\n",
        "\n",
        "# Print out the shapes\n",
        "print(A)\n",
        "print('#######')\n",
        "print(B)\n",
        "A.shape, B.shape, v.shape, C.shape"
      ],
      "execution_count": 14,
      "outputs": [
        {
          "output_type": "stream",
          "text": [
            "[[1 2]\n",
            " [3 4]]\n",
            "#######\n",
            "[[[ 1  2  3]\n",
            "  [ 4  5  6]]\n",
            "\n",
            " [[ 7  8  9]\n",
            "  [10 11 12]]\n",
            "\n",
            " [[ 7  8  9]\n",
            "  [10 11 12]]]\n"
          ],
          "name": "stdout"
        },
        {
          "output_type": "execute_result",
          "data": {
            "text/plain": [
              "((2, 2), (3, 2, 3), (2,), (2, 2, 3))"
            ]
          },
          "metadata": {
            "tags": []
          },
          "execution_count": 14
        }
      ]
    },
    {
      "cell_type": "code",
      "metadata": {
        "id": "NNtbDRf2-0T2",
        "colab_type": "code",
        "colab": {
          "base_uri": "https://localhost:8080/",
          "height": 33
        },
        "outputId": "f028d77d-373d-4440-c82e-6275a2bd3fa7"
      },
      "source": [
        "# Reimplement matrix multiplication\n",
        "np.einsum(\"ij, j -> i\", A, v), A.dot(v)"
      ],
      "execution_count": 15,
      "outputs": [
        {
          "output_type": "execute_result",
          "data": {
            "text/plain": [
              "(array([ 5, 11]), array([ 5, 11]))"
            ]
          },
          "metadata": {
            "tags": []
          },
          "execution_count": 15
        }
      ]
    }
  ]
}