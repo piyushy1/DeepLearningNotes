{
  "nbformat": 4,
  "nbformat_minor": 0,
  "metadata": {
    "colab": {
      "name": "Note4_LinearAlgebra.ipynb",
      "provenance": [],
      "authorship_tag": "ABX9TyNDVluxZ7yRwQhXvOghd+xX",
      "include_colab_link": true
    },
    "kernelspec": {
      "name": "python3",
      "display_name": "Python 3"
    },
    "accelerator": "GPU",
    "widgets": {
      "application/vnd.jupyter.widget-state+json": {
        "9fac3ecad31a44338d68788fd5e08816": {
          "model_module": "@jupyter-widgets/controls",
          "model_name": "HBoxModel",
          "state": {
            "_view_name": "HBoxView",
            "_dom_classes": [],
            "_model_name": "HBoxModel",
            "_view_module": "@jupyter-widgets/controls",
            "_model_module_version": "1.5.0",
            "_view_count": null,
            "_view_module_version": "1.5.0",
            "box_style": "",
            "layout": "IPY_MODEL_3ba7932bd0614561aab588b7f4b87598",
            "_model_module": "@jupyter-widgets/controls",
            "children": [
              "IPY_MODEL_6dfee126192e4dfa9d4c1b9b38303b6b",
              "IPY_MODEL_7b737e83f8244fda93fbde29aadbc5ea"
            ]
          }
        },
        "3ba7932bd0614561aab588b7f4b87598": {
          "model_module": "@jupyter-widgets/base",
          "model_name": "LayoutModel",
          "state": {
            "_view_name": "LayoutView",
            "grid_template_rows": null,
            "right": null,
            "justify_content": null,
            "_view_module": "@jupyter-widgets/base",
            "overflow": null,
            "_model_module_version": "1.2.0",
            "_view_count": null,
            "flex_flow": null,
            "width": null,
            "min_width": null,
            "border": null,
            "align_items": null,
            "bottom": null,
            "_model_module": "@jupyter-widgets/base",
            "top": null,
            "grid_column": null,
            "overflow_y": null,
            "overflow_x": null,
            "grid_auto_flow": null,
            "grid_area": null,
            "grid_template_columns": null,
            "flex": null,
            "_model_name": "LayoutModel",
            "justify_items": null,
            "grid_row": null,
            "max_height": null,
            "align_content": null,
            "visibility": null,
            "align_self": null,
            "height": null,
            "min_height": null,
            "padding": null,
            "grid_auto_rows": null,
            "grid_gap": null,
            "max_width": null,
            "order": null,
            "_view_module_version": "1.2.0",
            "grid_template_areas": null,
            "object_position": null,
            "object_fit": null,
            "grid_auto_columns": null,
            "margin": null,
            "display": null,
            "left": null
          }
        },
        "6dfee126192e4dfa9d4c1b9b38303b6b": {
          "model_module": "@jupyter-widgets/controls",
          "model_name": "FloatProgressModel",
          "state": {
            "_view_name": "ProgressView",
            "style": "IPY_MODEL_24c70ff0724f4bfebf9120daedc08c82",
            "_dom_classes": [],
            "description": "",
            "_model_name": "FloatProgressModel",
            "bar_style": "info",
            "max": 1,
            "_view_module": "@jupyter-widgets/controls",
            "_model_module_version": "1.5.0",
            "value": 1,
            "_view_count": null,
            "_view_module_version": "1.5.0",
            "orientation": "horizontal",
            "min": 0,
            "description_tooltip": null,
            "_model_module": "@jupyter-widgets/controls",
            "layout": "IPY_MODEL_b04bd151661940b9b956f00d6fafdd5e"
          }
        },
        "7b737e83f8244fda93fbde29aadbc5ea": {
          "model_module": "@jupyter-widgets/controls",
          "model_name": "HTMLModel",
          "state": {
            "_view_name": "HTMLView",
            "style": "IPY_MODEL_5ac9e85a101e45c79f70e731c35c06ec",
            "_dom_classes": [],
            "description": "",
            "_model_name": "HTMLModel",
            "placeholder": "​",
            "_view_module": "@jupyter-widgets/controls",
            "_model_module_version": "1.5.0",
            "value": " 26427392/? [00:20&lt;00:00, 3759462.96it/s]",
            "_view_count": null,
            "_view_module_version": "1.5.0",
            "description_tooltip": null,
            "_model_module": "@jupyter-widgets/controls",
            "layout": "IPY_MODEL_c005576e3afa44fdbb8e5251a2c417a7"
          }
        },
        "24c70ff0724f4bfebf9120daedc08c82": {
          "model_module": "@jupyter-widgets/controls",
          "model_name": "ProgressStyleModel",
          "state": {
            "_view_name": "StyleView",
            "_model_name": "ProgressStyleModel",
            "description_width": "initial",
            "_view_module": "@jupyter-widgets/base",
            "_model_module_version": "1.5.0",
            "_view_count": null,
            "_view_module_version": "1.2.0",
            "bar_color": null,
            "_model_module": "@jupyter-widgets/controls"
          }
        },
        "b04bd151661940b9b956f00d6fafdd5e": {
          "model_module": "@jupyter-widgets/base",
          "model_name": "LayoutModel",
          "state": {
            "_view_name": "LayoutView",
            "grid_template_rows": null,
            "right": null,
            "justify_content": null,
            "_view_module": "@jupyter-widgets/base",
            "overflow": null,
            "_model_module_version": "1.2.0",
            "_view_count": null,
            "flex_flow": null,
            "width": null,
            "min_width": null,
            "border": null,
            "align_items": null,
            "bottom": null,
            "_model_module": "@jupyter-widgets/base",
            "top": null,
            "grid_column": null,
            "overflow_y": null,
            "overflow_x": null,
            "grid_auto_flow": null,
            "grid_area": null,
            "grid_template_columns": null,
            "flex": null,
            "_model_name": "LayoutModel",
            "justify_items": null,
            "grid_row": null,
            "max_height": null,
            "align_content": null,
            "visibility": null,
            "align_self": null,
            "height": null,
            "min_height": null,
            "padding": null,
            "grid_auto_rows": null,
            "grid_gap": null,
            "max_width": null,
            "order": null,
            "_view_module_version": "1.2.0",
            "grid_template_areas": null,
            "object_position": null,
            "object_fit": null,
            "grid_auto_columns": null,
            "margin": null,
            "display": null,
            "left": null
          }
        },
        "5ac9e85a101e45c79f70e731c35c06ec": {
          "model_module": "@jupyter-widgets/controls",
          "model_name": "DescriptionStyleModel",
          "state": {
            "_view_name": "StyleView",
            "_model_name": "DescriptionStyleModel",
            "description_width": "",
            "_view_module": "@jupyter-widgets/base",
            "_model_module_version": "1.5.0",
            "_view_count": null,
            "_view_module_version": "1.2.0",
            "_model_module": "@jupyter-widgets/controls"
          }
        },
        "c005576e3afa44fdbb8e5251a2c417a7": {
          "model_module": "@jupyter-widgets/base",
          "model_name": "LayoutModel",
          "state": {
            "_view_name": "LayoutView",
            "grid_template_rows": null,
            "right": null,
            "justify_content": null,
            "_view_module": "@jupyter-widgets/base",
            "overflow": null,
            "_model_module_version": "1.2.0",
            "_view_count": null,
            "flex_flow": null,
            "width": null,
            "min_width": null,
            "border": null,
            "align_items": null,
            "bottom": null,
            "_model_module": "@jupyter-widgets/base",
            "top": null,
            "grid_column": null,
            "overflow_y": null,
            "overflow_x": null,
            "grid_auto_flow": null,
            "grid_area": null,
            "grid_template_columns": null,
            "flex": null,
            "_model_name": "LayoutModel",
            "justify_items": null,
            "grid_row": null,
            "max_height": null,
            "align_content": null,
            "visibility": null,
            "align_self": null,
            "height": null,
            "min_height": null,
            "padding": null,
            "grid_auto_rows": null,
            "grid_gap": null,
            "max_width": null,
            "order": null,
            "_view_module_version": "1.2.0",
            "grid_template_areas": null,
            "object_position": null,
            "object_fit": null,
            "grid_auto_columns": null,
            "margin": null,
            "display": null,
            "left": null
          }
        },
        "d1971dd9a4924f2e89a496b68eab3e4b": {
          "model_module": "@jupyter-widgets/controls",
          "model_name": "HBoxModel",
          "state": {
            "_view_name": "HBoxView",
            "_dom_classes": [],
            "_model_name": "HBoxModel",
            "_view_module": "@jupyter-widgets/controls",
            "_model_module_version": "1.5.0",
            "_view_count": null,
            "_view_module_version": "1.5.0",
            "box_style": "",
            "layout": "IPY_MODEL_df4a89e7b2e549fa845c122463b7304a",
            "_model_module": "@jupyter-widgets/controls",
            "children": [
              "IPY_MODEL_284fa3414dd147ed9e474be506ac51f8",
              "IPY_MODEL_c110f7e05cb34a83a59297c34798860c"
            ]
          }
        },
        "df4a89e7b2e549fa845c122463b7304a": {
          "model_module": "@jupyter-widgets/base",
          "model_name": "LayoutModel",
          "state": {
            "_view_name": "LayoutView",
            "grid_template_rows": null,
            "right": null,
            "justify_content": null,
            "_view_module": "@jupyter-widgets/base",
            "overflow": null,
            "_model_module_version": "1.2.0",
            "_view_count": null,
            "flex_flow": null,
            "width": null,
            "min_width": null,
            "border": null,
            "align_items": null,
            "bottom": null,
            "_model_module": "@jupyter-widgets/base",
            "top": null,
            "grid_column": null,
            "overflow_y": null,
            "overflow_x": null,
            "grid_auto_flow": null,
            "grid_area": null,
            "grid_template_columns": null,
            "flex": null,
            "_model_name": "LayoutModel",
            "justify_items": null,
            "grid_row": null,
            "max_height": null,
            "align_content": null,
            "visibility": null,
            "align_self": null,
            "height": null,
            "min_height": null,
            "padding": null,
            "grid_auto_rows": null,
            "grid_gap": null,
            "max_width": null,
            "order": null,
            "_view_module_version": "1.2.0",
            "grid_template_areas": null,
            "object_position": null,
            "object_fit": null,
            "grid_auto_columns": null,
            "margin": null,
            "display": null,
            "left": null
          }
        },
        "284fa3414dd147ed9e474be506ac51f8": {
          "model_module": "@jupyter-widgets/controls",
          "model_name": "FloatProgressModel",
          "state": {
            "_view_name": "ProgressView",
            "style": "IPY_MODEL_57581ee90a054ff5972d5302526a3d8d",
            "_dom_classes": [],
            "description": "",
            "_model_name": "FloatProgressModel",
            "bar_style": "info",
            "max": 1,
            "_view_module": "@jupyter-widgets/controls",
            "_model_module_version": "1.5.0",
            "value": 1,
            "_view_count": null,
            "_view_module_version": "1.5.0",
            "orientation": "horizontal",
            "min": 0,
            "description_tooltip": null,
            "_model_module": "@jupyter-widgets/controls",
            "layout": "IPY_MODEL_a21b163b8d6e4c98920c8d07291f9d0f"
          }
        },
        "c110f7e05cb34a83a59297c34798860c": {
          "model_module": "@jupyter-widgets/controls",
          "model_name": "HTMLModel",
          "state": {
            "_view_name": "HTMLView",
            "style": "IPY_MODEL_0a0335f1efbd49cd9d4b70ff4b385dab",
            "_dom_classes": [],
            "description": "",
            "_model_name": "HTMLModel",
            "placeholder": "​",
            "_view_module": "@jupyter-widgets/controls",
            "_model_module_version": "1.5.0",
            "value": " 32768/? [00:15&lt;00:00, 63110.18it/s]",
            "_view_count": null,
            "_view_module_version": "1.5.0",
            "description_tooltip": null,
            "_model_module": "@jupyter-widgets/controls",
            "layout": "IPY_MODEL_f91ce708a45549fb9b6c0ab136480d48"
          }
        },
        "57581ee90a054ff5972d5302526a3d8d": {
          "model_module": "@jupyter-widgets/controls",
          "model_name": "ProgressStyleModel",
          "state": {
            "_view_name": "StyleView",
            "_model_name": "ProgressStyleModel",
            "description_width": "initial",
            "_view_module": "@jupyter-widgets/base",
            "_model_module_version": "1.5.0",
            "_view_count": null,
            "_view_module_version": "1.2.0",
            "bar_color": null,
            "_model_module": "@jupyter-widgets/controls"
          }
        },
        "a21b163b8d6e4c98920c8d07291f9d0f": {
          "model_module": "@jupyter-widgets/base",
          "model_name": "LayoutModel",
          "state": {
            "_view_name": "LayoutView",
            "grid_template_rows": null,
            "right": null,
            "justify_content": null,
            "_view_module": "@jupyter-widgets/base",
            "overflow": null,
            "_model_module_version": "1.2.0",
            "_view_count": null,
            "flex_flow": null,
            "width": null,
            "min_width": null,
            "border": null,
            "align_items": null,
            "bottom": null,
            "_model_module": "@jupyter-widgets/base",
            "top": null,
            "grid_column": null,
            "overflow_y": null,
            "overflow_x": null,
            "grid_auto_flow": null,
            "grid_area": null,
            "grid_template_columns": null,
            "flex": null,
            "_model_name": "LayoutModel",
            "justify_items": null,
            "grid_row": null,
            "max_height": null,
            "align_content": null,
            "visibility": null,
            "align_self": null,
            "height": null,
            "min_height": null,
            "padding": null,
            "grid_auto_rows": null,
            "grid_gap": null,
            "max_width": null,
            "order": null,
            "_view_module_version": "1.2.0",
            "grid_template_areas": null,
            "object_position": null,
            "object_fit": null,
            "grid_auto_columns": null,
            "margin": null,
            "display": null,
            "left": null
          }
        },
        "0a0335f1efbd49cd9d4b70ff4b385dab": {
          "model_module": "@jupyter-widgets/controls",
          "model_name": "DescriptionStyleModel",
          "state": {
            "_view_name": "StyleView",
            "_model_name": "DescriptionStyleModel",
            "description_width": "",
            "_view_module": "@jupyter-widgets/base",
            "_model_module_version": "1.5.0",
            "_view_count": null,
            "_view_module_version": "1.2.0",
            "_model_module": "@jupyter-widgets/controls"
          }
        },
        "f91ce708a45549fb9b6c0ab136480d48": {
          "model_module": "@jupyter-widgets/base",
          "model_name": "LayoutModel",
          "state": {
            "_view_name": "LayoutView",
            "grid_template_rows": null,
            "right": null,
            "justify_content": null,
            "_view_module": "@jupyter-widgets/base",
            "overflow": null,
            "_model_module_version": "1.2.0",
            "_view_count": null,
            "flex_flow": null,
            "width": null,
            "min_width": null,
            "border": null,
            "align_items": null,
            "bottom": null,
            "_model_module": "@jupyter-widgets/base",
            "top": null,
            "grid_column": null,
            "overflow_y": null,
            "overflow_x": null,
            "grid_auto_flow": null,
            "grid_area": null,
            "grid_template_columns": null,
            "flex": null,
            "_model_name": "LayoutModel",
            "justify_items": null,
            "grid_row": null,
            "max_height": null,
            "align_content": null,
            "visibility": null,
            "align_self": null,
            "height": null,
            "min_height": null,
            "padding": null,
            "grid_auto_rows": null,
            "grid_gap": null,
            "max_width": null,
            "order": null,
            "_view_module_version": "1.2.0",
            "grid_template_areas": null,
            "object_position": null,
            "object_fit": null,
            "grid_auto_columns": null,
            "margin": null,
            "display": null,
            "left": null
          }
        },
        "4126c5c003234f45bba17bc703047783": {
          "model_module": "@jupyter-widgets/controls",
          "model_name": "HBoxModel",
          "state": {
            "_view_name": "HBoxView",
            "_dom_classes": [],
            "_model_name": "HBoxModel",
            "_view_module": "@jupyter-widgets/controls",
            "_model_module_version": "1.5.0",
            "_view_count": null,
            "_view_module_version": "1.5.0",
            "box_style": "",
            "layout": "IPY_MODEL_50ec653298c747aaa38f389c20a002f6",
            "_model_module": "@jupyter-widgets/controls",
            "children": [
              "IPY_MODEL_e925d48a91b34720aa1a395d56a18e13",
              "IPY_MODEL_4946509eb6054c4588334560325db364"
            ]
          }
        },
        "50ec653298c747aaa38f389c20a002f6": {
          "model_module": "@jupyter-widgets/base",
          "model_name": "LayoutModel",
          "state": {
            "_view_name": "LayoutView",
            "grid_template_rows": null,
            "right": null,
            "justify_content": null,
            "_view_module": "@jupyter-widgets/base",
            "overflow": null,
            "_model_module_version": "1.2.0",
            "_view_count": null,
            "flex_flow": null,
            "width": null,
            "min_width": null,
            "border": null,
            "align_items": null,
            "bottom": null,
            "_model_module": "@jupyter-widgets/base",
            "top": null,
            "grid_column": null,
            "overflow_y": null,
            "overflow_x": null,
            "grid_auto_flow": null,
            "grid_area": null,
            "grid_template_columns": null,
            "flex": null,
            "_model_name": "LayoutModel",
            "justify_items": null,
            "grid_row": null,
            "max_height": null,
            "align_content": null,
            "visibility": null,
            "align_self": null,
            "height": null,
            "min_height": null,
            "padding": null,
            "grid_auto_rows": null,
            "grid_gap": null,
            "max_width": null,
            "order": null,
            "_view_module_version": "1.2.0",
            "grid_template_areas": null,
            "object_position": null,
            "object_fit": null,
            "grid_auto_columns": null,
            "margin": null,
            "display": null,
            "left": null
          }
        },
        "e925d48a91b34720aa1a395d56a18e13": {
          "model_module": "@jupyter-widgets/controls",
          "model_name": "FloatProgressModel",
          "state": {
            "_view_name": "ProgressView",
            "style": "IPY_MODEL_670382f4cd8948439d36411a4ccaeaad",
            "_dom_classes": [],
            "description": "",
            "_model_name": "FloatProgressModel",
            "bar_style": "info",
            "max": 1,
            "_view_module": "@jupyter-widgets/controls",
            "_model_module_version": "1.5.0",
            "value": 1,
            "_view_count": null,
            "_view_module_version": "1.5.0",
            "orientation": "horizontal",
            "min": 0,
            "description_tooltip": null,
            "_model_module": "@jupyter-widgets/controls",
            "layout": "IPY_MODEL_a3061d39358f405aa133dac96ee9f10f"
          }
        },
        "4946509eb6054c4588334560325db364": {
          "model_module": "@jupyter-widgets/controls",
          "model_name": "HTMLModel",
          "state": {
            "_view_name": "HTMLView",
            "style": "IPY_MODEL_048b9e6b95624e9cb466a17a3a1a5f4a",
            "_dom_classes": [],
            "description": "",
            "_model_name": "HTMLModel",
            "placeholder": "​",
            "_view_module": "@jupyter-widgets/controls",
            "_model_module_version": "1.5.0",
            "value": " 4423680/? [00:14&lt;00:00, 1715823.56it/s]",
            "_view_count": null,
            "_view_module_version": "1.5.0",
            "description_tooltip": null,
            "_model_module": "@jupyter-widgets/controls",
            "layout": "IPY_MODEL_b7b348da08df48758664795a65ea055c"
          }
        },
        "670382f4cd8948439d36411a4ccaeaad": {
          "model_module": "@jupyter-widgets/controls",
          "model_name": "ProgressStyleModel",
          "state": {
            "_view_name": "StyleView",
            "_model_name": "ProgressStyleModel",
            "description_width": "initial",
            "_view_module": "@jupyter-widgets/base",
            "_model_module_version": "1.5.0",
            "_view_count": null,
            "_view_module_version": "1.2.0",
            "bar_color": null,
            "_model_module": "@jupyter-widgets/controls"
          }
        },
        "a3061d39358f405aa133dac96ee9f10f": {
          "model_module": "@jupyter-widgets/base",
          "model_name": "LayoutModel",
          "state": {
            "_view_name": "LayoutView",
            "grid_template_rows": null,
            "right": null,
            "justify_content": null,
            "_view_module": "@jupyter-widgets/base",
            "overflow": null,
            "_model_module_version": "1.2.0",
            "_view_count": null,
            "flex_flow": null,
            "width": null,
            "min_width": null,
            "border": null,
            "align_items": null,
            "bottom": null,
            "_model_module": "@jupyter-widgets/base",
            "top": null,
            "grid_column": null,
            "overflow_y": null,
            "overflow_x": null,
            "grid_auto_flow": null,
            "grid_area": null,
            "grid_template_columns": null,
            "flex": null,
            "_model_name": "LayoutModel",
            "justify_items": null,
            "grid_row": null,
            "max_height": null,
            "align_content": null,
            "visibility": null,
            "align_self": null,
            "height": null,
            "min_height": null,
            "padding": null,
            "grid_auto_rows": null,
            "grid_gap": null,
            "max_width": null,
            "order": null,
            "_view_module_version": "1.2.0",
            "grid_template_areas": null,
            "object_position": null,
            "object_fit": null,
            "grid_auto_columns": null,
            "margin": null,
            "display": null,
            "left": null
          }
        },
        "048b9e6b95624e9cb466a17a3a1a5f4a": {
          "model_module": "@jupyter-widgets/controls",
          "model_name": "DescriptionStyleModel",
          "state": {
            "_view_name": "StyleView",
            "_model_name": "DescriptionStyleModel",
            "description_width": "",
            "_view_module": "@jupyter-widgets/base",
            "_model_module_version": "1.5.0",
            "_view_count": null,
            "_view_module_version": "1.2.0",
            "_model_module": "@jupyter-widgets/controls"
          }
        },
        "b7b348da08df48758664795a65ea055c": {
          "model_module": "@jupyter-widgets/base",
          "model_name": "LayoutModel",
          "state": {
            "_view_name": "LayoutView",
            "grid_template_rows": null,
            "right": null,
            "justify_content": null,
            "_view_module": "@jupyter-widgets/base",
            "overflow": null,
            "_model_module_version": "1.2.0",
            "_view_count": null,
            "flex_flow": null,
            "width": null,
            "min_width": null,
            "border": null,
            "align_items": null,
            "bottom": null,
            "_model_module": "@jupyter-widgets/base",
            "top": null,
            "grid_column": null,
            "overflow_y": null,
            "overflow_x": null,
            "grid_auto_flow": null,
            "grid_area": null,
            "grid_template_columns": null,
            "flex": null,
            "_model_name": "LayoutModel",
            "justify_items": null,
            "grid_row": null,
            "max_height": null,
            "align_content": null,
            "visibility": null,
            "align_self": null,
            "height": null,
            "min_height": null,
            "padding": null,
            "grid_auto_rows": null,
            "grid_gap": null,
            "max_width": null,
            "order": null,
            "_view_module_version": "1.2.0",
            "grid_template_areas": null,
            "object_position": null,
            "object_fit": null,
            "grid_auto_columns": null,
            "margin": null,
            "display": null,
            "left": null
          }
        },
        "772b3e05426c406496cfc4eb104e5c6e": {
          "model_module": "@jupyter-widgets/controls",
          "model_name": "HBoxModel",
          "state": {
            "_view_name": "HBoxView",
            "_dom_classes": [],
            "_model_name": "HBoxModel",
            "_view_module": "@jupyter-widgets/controls",
            "_model_module_version": "1.5.0",
            "_view_count": null,
            "_view_module_version": "1.5.0",
            "box_style": "",
            "layout": "IPY_MODEL_12e11c43744844969f6fea40b70be464",
            "_model_module": "@jupyter-widgets/controls",
            "children": [
              "IPY_MODEL_30b77b4cd475423a90ac3fff513ff4b3",
              "IPY_MODEL_ecee755e17974aecaa0a880c51a655c9"
            ]
          }
        },
        "12e11c43744844969f6fea40b70be464": {
          "model_module": "@jupyter-widgets/base",
          "model_name": "LayoutModel",
          "state": {
            "_view_name": "LayoutView",
            "grid_template_rows": null,
            "right": null,
            "justify_content": null,
            "_view_module": "@jupyter-widgets/base",
            "overflow": null,
            "_model_module_version": "1.2.0",
            "_view_count": null,
            "flex_flow": null,
            "width": null,
            "min_width": null,
            "border": null,
            "align_items": null,
            "bottom": null,
            "_model_module": "@jupyter-widgets/base",
            "top": null,
            "grid_column": null,
            "overflow_y": null,
            "overflow_x": null,
            "grid_auto_flow": null,
            "grid_area": null,
            "grid_template_columns": null,
            "flex": null,
            "_model_name": "LayoutModel",
            "justify_items": null,
            "grid_row": null,
            "max_height": null,
            "align_content": null,
            "visibility": null,
            "align_self": null,
            "height": null,
            "min_height": null,
            "padding": null,
            "grid_auto_rows": null,
            "grid_gap": null,
            "max_width": null,
            "order": null,
            "_view_module_version": "1.2.0",
            "grid_template_areas": null,
            "object_position": null,
            "object_fit": null,
            "grid_auto_columns": null,
            "margin": null,
            "display": null,
            "left": null
          }
        },
        "30b77b4cd475423a90ac3fff513ff4b3": {
          "model_module": "@jupyter-widgets/controls",
          "model_name": "FloatProgressModel",
          "state": {
            "_view_name": "ProgressView",
            "style": "IPY_MODEL_17ab8ae778f54b40a4b58b2aa2cd9e76",
            "_dom_classes": [],
            "description": "  0%",
            "_model_name": "FloatProgressModel",
            "bar_style": "info",
            "max": 1,
            "_view_module": "@jupyter-widgets/controls",
            "_model_module_version": "1.5.0",
            "value": 0,
            "_view_count": null,
            "_view_module_version": "1.5.0",
            "orientation": "horizontal",
            "min": 0,
            "description_tooltip": null,
            "_model_module": "@jupyter-widgets/controls",
            "layout": "IPY_MODEL_4433634f04794d70b2ffb7d26eb72f2f"
          }
        },
        "ecee755e17974aecaa0a880c51a655c9": {
          "model_module": "@jupyter-widgets/controls",
          "model_name": "HTMLModel",
          "state": {
            "_view_name": "HTMLView",
            "style": "IPY_MODEL_5246c322938c4e97a1e2798e7f467f16",
            "_dom_classes": [],
            "description": "",
            "_model_name": "HTMLModel",
            "placeholder": "​",
            "_view_module": "@jupyter-widgets/controls",
            "_model_module_version": "1.5.0",
            "value": " 0/5148 [00:00&lt;?, ?it/s]",
            "_view_count": null,
            "_view_module_version": "1.5.0",
            "description_tooltip": null,
            "_model_module": "@jupyter-widgets/controls",
            "layout": "IPY_MODEL_26152aa254e0418a90e728934bf21e3e"
          }
        },
        "17ab8ae778f54b40a4b58b2aa2cd9e76": {
          "model_module": "@jupyter-widgets/controls",
          "model_name": "ProgressStyleModel",
          "state": {
            "_view_name": "StyleView",
            "_model_name": "ProgressStyleModel",
            "description_width": "initial",
            "_view_module": "@jupyter-widgets/base",
            "_model_module_version": "1.5.0",
            "_view_count": null,
            "_view_module_version": "1.2.0",
            "bar_color": null,
            "_model_module": "@jupyter-widgets/controls"
          }
        },
        "4433634f04794d70b2ffb7d26eb72f2f": {
          "model_module": "@jupyter-widgets/base",
          "model_name": "LayoutModel",
          "state": {
            "_view_name": "LayoutView",
            "grid_template_rows": null,
            "right": null,
            "justify_content": null,
            "_view_module": "@jupyter-widgets/base",
            "overflow": null,
            "_model_module_version": "1.2.0",
            "_view_count": null,
            "flex_flow": null,
            "width": null,
            "min_width": null,
            "border": null,
            "align_items": null,
            "bottom": null,
            "_model_module": "@jupyter-widgets/base",
            "top": null,
            "grid_column": null,
            "overflow_y": null,
            "overflow_x": null,
            "grid_auto_flow": null,
            "grid_area": null,
            "grid_template_columns": null,
            "flex": null,
            "_model_name": "LayoutModel",
            "justify_items": null,
            "grid_row": null,
            "max_height": null,
            "align_content": null,
            "visibility": null,
            "align_self": null,
            "height": null,
            "min_height": null,
            "padding": null,
            "grid_auto_rows": null,
            "grid_gap": null,
            "max_width": null,
            "order": null,
            "_view_module_version": "1.2.0",
            "grid_template_areas": null,
            "object_position": null,
            "object_fit": null,
            "grid_auto_columns": null,
            "margin": null,
            "display": null,
            "left": null
          }
        },
        "5246c322938c4e97a1e2798e7f467f16": {
          "model_module": "@jupyter-widgets/controls",
          "model_name": "DescriptionStyleModel",
          "state": {
            "_view_name": "StyleView",
            "_model_name": "DescriptionStyleModel",
            "description_width": "",
            "_view_module": "@jupyter-widgets/base",
            "_model_module_version": "1.5.0",
            "_view_count": null,
            "_view_module_version": "1.2.0",
            "_model_module": "@jupyter-widgets/controls"
          }
        },
        "26152aa254e0418a90e728934bf21e3e": {
          "model_module": "@jupyter-widgets/base",
          "model_name": "LayoutModel",
          "state": {
            "_view_name": "LayoutView",
            "grid_template_rows": null,
            "right": null,
            "justify_content": null,
            "_view_module": "@jupyter-widgets/base",
            "overflow": null,
            "_model_module_version": "1.2.0",
            "_view_count": null,
            "flex_flow": null,
            "width": null,
            "min_width": null,
            "border": null,
            "align_items": null,
            "bottom": null,
            "_model_module": "@jupyter-widgets/base",
            "top": null,
            "grid_column": null,
            "overflow_y": null,
            "overflow_x": null,
            "grid_auto_flow": null,
            "grid_area": null,
            "grid_template_columns": null,
            "flex": null,
            "_model_name": "LayoutModel",
            "justify_items": null,
            "grid_row": null,
            "max_height": null,
            "align_content": null,
            "visibility": null,
            "align_self": null,
            "height": null,
            "min_height": null,
            "padding": null,
            "grid_auto_rows": null,
            "grid_gap": null,
            "max_width": null,
            "order": null,
            "_view_module_version": "1.2.0",
            "grid_template_areas": null,
            "object_position": null,
            "object_fit": null,
            "grid_auto_columns": null,
            "margin": null,
            "display": null,
            "left": null
          }
        }
      }
    }
  },
  "cells": [
    {
      "cell_type": "markdown",
      "metadata": {
        "id": "view-in-github",
        "colab_type": "text"
      },
      "source": [
        "<a href=\"https://colab.research.google.com/github/piyushy1/DeepLearningNotes/blob/master/Note4_LinearAlgebra.ipynb\" target=\"_parent\"><img src=\"https://colab.research.google.com/assets/colab-badge.svg\" alt=\"Open In Colab\"/></a>"
      ]
    },
    {
      "cell_type": "code",
      "metadata": {
        "id": "00lDZSmdAVTJ",
        "colab_type": "code",
        "colab": {
          "base_uri": "https://localhost:8080/",
          "height": 940
        },
        "outputId": "1fc6613c-3202-426e-be69-a4e0255117aa"
      },
      "source": [
        "!pip install -U d2l -f https://d2l.ai/whl.html"
      ],
      "execution_count": 1,
      "outputs": [
        {
          "output_type": "stream",
          "text": [
            "Looking in links: https://d2l.ai/whl.html\n",
            "Collecting d2l\n",
            "\u001b[?25l  Downloading https://files.pythonhosted.org/packages/2e/d7/23176ab6442222f24461dc4ea4cca9ac879268c252627c3177817a7d2772/d2l-0.14.1-py3-none-any.whl (51kB)\n",
            "\u001b[K     |████████████████████████████████| 61kB 1.9MB/s \n",
            "\u001b[?25hRequirement already satisfied, skipping upgrade: matplotlib in /usr/local/lib/python3.6/dist-packages (from d2l) (3.2.2)\n",
            "Requirement already satisfied, skipping upgrade: pandas in /usr/local/lib/python3.6/dist-packages (from d2l) (1.0.5)\n",
            "Requirement already satisfied, skipping upgrade: numpy in /usr/local/lib/python3.6/dist-packages (from d2l) (1.18.5)\n",
            "Requirement already satisfied, skipping upgrade: jupyter in /usr/local/lib/python3.6/dist-packages (from d2l) (1.0.0)\n",
            "Requirement already satisfied, skipping upgrade: pyparsing!=2.0.4,!=2.1.2,!=2.1.6,>=2.0.1 in /usr/local/lib/python3.6/dist-packages (from matplotlib->d2l) (2.4.7)\n",
            "Requirement already satisfied, skipping upgrade: kiwisolver>=1.0.1 in /usr/local/lib/python3.6/dist-packages (from matplotlib->d2l) (1.2.0)\n",
            "Requirement already satisfied, skipping upgrade: cycler>=0.10 in /usr/local/lib/python3.6/dist-packages (from matplotlib->d2l) (0.10.0)\n",
            "Requirement already satisfied, skipping upgrade: python-dateutil>=2.1 in /usr/local/lib/python3.6/dist-packages (from matplotlib->d2l) (2.8.1)\n",
            "Requirement already satisfied, skipping upgrade: pytz>=2017.2 in /usr/local/lib/python3.6/dist-packages (from pandas->d2l) (2018.9)\n",
            "Requirement already satisfied, skipping upgrade: jupyter-console in /usr/local/lib/python3.6/dist-packages (from jupyter->d2l) (5.2.0)\n",
            "Requirement already satisfied, skipping upgrade: notebook in /usr/local/lib/python3.6/dist-packages (from jupyter->d2l) (5.3.1)\n",
            "Requirement already satisfied, skipping upgrade: qtconsole in /usr/local/lib/python3.6/dist-packages (from jupyter->d2l) (4.7.5)\n",
            "Requirement already satisfied, skipping upgrade: ipywidgets in /usr/local/lib/python3.6/dist-packages (from jupyter->d2l) (7.5.1)\n",
            "Requirement already satisfied, skipping upgrade: ipykernel in /usr/local/lib/python3.6/dist-packages (from jupyter->d2l) (4.10.1)\n",
            "Requirement already satisfied, skipping upgrade: nbconvert in /usr/local/lib/python3.6/dist-packages (from jupyter->d2l) (5.6.1)\n",
            "Requirement already satisfied, skipping upgrade: six in /usr/local/lib/python3.6/dist-packages (from cycler>=0.10->matplotlib->d2l) (1.15.0)\n",
            "Requirement already satisfied, skipping upgrade: pygments in /usr/local/lib/python3.6/dist-packages (from jupyter-console->jupyter->d2l) (2.1.3)\n",
            "Requirement already satisfied, skipping upgrade: prompt-toolkit<2.0.0,>=1.0.0 in /usr/local/lib/python3.6/dist-packages (from jupyter-console->jupyter->d2l) (1.0.18)\n",
            "Requirement already satisfied, skipping upgrade: jupyter-client in /usr/local/lib/python3.6/dist-packages (from jupyter-console->jupyter->d2l) (5.3.5)\n",
            "Requirement already satisfied, skipping upgrade: ipython in /usr/local/lib/python3.6/dist-packages (from jupyter-console->jupyter->d2l) (5.5.0)\n",
            "Requirement already satisfied, skipping upgrade: nbformat in /usr/local/lib/python3.6/dist-packages (from notebook->jupyter->d2l) (5.0.7)\n",
            "Requirement already satisfied, skipping upgrade: jinja2 in /usr/local/lib/python3.6/dist-packages (from notebook->jupyter->d2l) (2.11.2)\n",
            "Requirement already satisfied, skipping upgrade: tornado>=4 in /usr/local/lib/python3.6/dist-packages (from notebook->jupyter->d2l) (5.1.1)\n",
            "Requirement already satisfied, skipping upgrade: Send2Trash in /usr/local/lib/python3.6/dist-packages (from notebook->jupyter->d2l) (1.5.0)\n",
            "Requirement already satisfied, skipping upgrade: ipython-genutils in /usr/local/lib/python3.6/dist-packages (from notebook->jupyter->d2l) (0.2.0)\n",
            "Requirement already satisfied, skipping upgrade: terminado>=0.8.1 in /usr/local/lib/python3.6/dist-packages (from notebook->jupyter->d2l) (0.8.3)\n",
            "Requirement already satisfied, skipping upgrade: jupyter-core>=4.4.0 in /usr/local/lib/python3.6/dist-packages (from notebook->jupyter->d2l) (4.6.3)\n",
            "Requirement already satisfied, skipping upgrade: traitlets>=4.2.1 in /usr/local/lib/python3.6/dist-packages (from notebook->jupyter->d2l) (4.3.3)\n",
            "Requirement already satisfied, skipping upgrade: pyzmq>=17.1 in /usr/local/lib/python3.6/dist-packages (from qtconsole->jupyter->d2l) (19.0.1)\n",
            "Requirement already satisfied, skipping upgrade: qtpy in /usr/local/lib/python3.6/dist-packages (from qtconsole->jupyter->d2l) (1.9.0)\n",
            "Requirement already satisfied, skipping upgrade: widgetsnbextension~=3.5.0 in /usr/local/lib/python3.6/dist-packages (from ipywidgets->jupyter->d2l) (3.5.1)\n",
            "Requirement already satisfied, skipping upgrade: mistune<2,>=0.8.1 in /usr/local/lib/python3.6/dist-packages (from nbconvert->jupyter->d2l) (0.8.4)\n",
            "Requirement already satisfied, skipping upgrade: testpath in /usr/local/lib/python3.6/dist-packages (from nbconvert->jupyter->d2l) (0.4.4)\n",
            "Requirement already satisfied, skipping upgrade: defusedxml in /usr/local/lib/python3.6/dist-packages (from nbconvert->jupyter->d2l) (0.6.0)\n",
            "Requirement already satisfied, skipping upgrade: pandocfilters>=1.4.1 in /usr/local/lib/python3.6/dist-packages (from nbconvert->jupyter->d2l) (1.4.2)\n",
            "Requirement already satisfied, skipping upgrade: bleach in /usr/local/lib/python3.6/dist-packages (from nbconvert->jupyter->d2l) (3.1.5)\n",
            "Requirement already satisfied, skipping upgrade: entrypoints>=0.2.2 in /usr/local/lib/python3.6/dist-packages (from nbconvert->jupyter->d2l) (0.3)\n",
            "Requirement already satisfied, skipping upgrade: wcwidth in /usr/local/lib/python3.6/dist-packages (from prompt-toolkit<2.0.0,>=1.0.0->jupyter-console->jupyter->d2l) (0.2.5)\n",
            "Requirement already satisfied, skipping upgrade: simplegeneric>0.8 in /usr/local/lib/python3.6/dist-packages (from ipython->jupyter-console->jupyter->d2l) (0.8.1)\n",
            "Requirement already satisfied, skipping upgrade: pexpect; sys_platform != \"win32\" in /usr/local/lib/python3.6/dist-packages (from ipython->jupyter-console->jupyter->d2l) (4.8.0)\n",
            "Requirement already satisfied, skipping upgrade: pickleshare in /usr/local/lib/python3.6/dist-packages (from ipython->jupyter-console->jupyter->d2l) (0.7.5)\n",
            "Requirement already satisfied, skipping upgrade: decorator in /usr/local/lib/python3.6/dist-packages (from ipython->jupyter-console->jupyter->d2l) (4.4.2)\n",
            "Requirement already satisfied, skipping upgrade: setuptools>=18.5 in /usr/local/lib/python3.6/dist-packages (from ipython->jupyter-console->jupyter->d2l) (49.1.0)\n",
            "Requirement already satisfied, skipping upgrade: jsonschema!=2.5.0,>=2.4 in /usr/local/lib/python3.6/dist-packages (from nbformat->notebook->jupyter->d2l) (2.6.0)\n",
            "Requirement already satisfied, skipping upgrade: MarkupSafe>=0.23 in /usr/local/lib/python3.6/dist-packages (from jinja2->notebook->jupyter->d2l) (1.1.1)\n",
            "Requirement already satisfied, skipping upgrade: ptyprocess; os_name != \"nt\" in /usr/local/lib/python3.6/dist-packages (from terminado>=0.8.1->notebook->jupyter->d2l) (0.6.0)\n",
            "Requirement already satisfied, skipping upgrade: packaging in /usr/local/lib/python3.6/dist-packages (from bleach->nbconvert->jupyter->d2l) (20.4)\n",
            "Requirement already satisfied, skipping upgrade: webencodings in /usr/local/lib/python3.6/dist-packages (from bleach->nbconvert->jupyter->d2l) (0.5.1)\n",
            "Installing collected packages: d2l\n",
            "Successfully installed d2l-0.14.1\n"
          ],
          "name": "stdout"
        }
      ]
    },
    {
      "cell_type": "code",
      "metadata": {
        "id": "HsgNxm8rABOn",
        "colab_type": "code",
        "colab": {}
      },
      "source": [
        "%matplotlib inline\n",
        "from d2l import torch as d2l\n",
        "import math\n",
        "import torch\n",
        "import numpy as np\n",
        "import time"
      ],
      "execution_count": 2,
      "outputs": []
    },
    {
      "cell_type": "code",
      "metadata": {
        "id": "PlwpQTeOB3t2",
        "colab_type": "code",
        "colab": {
          "base_uri": "https://localhost:8080/",
          "height": 33
        },
        "outputId": "0b2cb29b-1c57-40c5-c0dd-48ea5b05d6f9"
      },
      "source": [
        "n = 10000\n",
        "a = torch.ones(n)\n",
        "b = torch.ones(n)\n",
        "print(a.size())"
      ],
      "execution_count": 5,
      "outputs": [
        {
          "output_type": "stream",
          "text": [
            "torch.Size([10000])\n"
          ],
          "name": "stdout"
        }
      ]
    },
    {
      "cell_type": "code",
      "metadata": {
        "id": "HyRjsKx-CG44",
        "colab_type": "code",
        "colab": {}
      },
      "source": [
        "class Timer:  #@save\n",
        "    \"\"\"Record multiple running times.\"\"\"\n",
        "    def __init__(self):\n",
        "        self.times = []\n",
        "        self.start()\n",
        "\n",
        "    def start(self):\n",
        "        \"\"\"Start the timer.\"\"\"\n",
        "        self.tik = time.time()\n",
        "\n",
        "    def stop(self):\n",
        "        \"\"\"Stop the timer and record the time in a list.\"\"\"\n",
        "        self.times.append(time.time() - self.tik)\n",
        "        return self.times[-1]\n",
        "\n",
        "    def avg(self):\n",
        "        \"\"\"Return the average time.\"\"\"\n",
        "        return sum(self.times) / len(self.times)\n",
        "\n",
        "    def sum(self):\n",
        "        \"\"\"Return the sum of time.\"\"\"\n",
        "        return sum(self.times)\n",
        "\n",
        "    def cumsum(self):\n",
        "        \"\"\"Return the accumulated time.\"\"\"\n",
        "        return np.array(self.times).cumsum().tolist()"
      ],
      "execution_count": 6,
      "outputs": []
    },
    {
      "cell_type": "code",
      "metadata": {
        "id": "xFWCWF3GCI8w",
        "colab_type": "code",
        "colab": {
          "base_uri": "https://localhost:8080/",
          "height": 35
        },
        "outputId": "084e4eb5-93b8-41c2-ef1d-aca15781c609"
      },
      "source": [
        "c = torch.zeros(n)\n",
        "timer = Timer()\n",
        "for i in range(n):\n",
        "    c[i] = a[i] + b[i]\n",
        "f'{timer.stop():.5f} sec'"
      ],
      "execution_count": 7,
      "outputs": [
        {
          "output_type": "execute_result",
          "data": {
            "application/vnd.google.colaboratory.intrinsic+json": {
              "type": "string"
            },
            "text/plain": [
              "'0.10890 sec'"
            ]
          },
          "metadata": {
            "tags": []
          },
          "execution_count": 7
        }
      ]
    },
    {
      "cell_type": "code",
      "metadata": {
        "id": "GU0-VBIQCLHJ",
        "colab_type": "code",
        "colab": {
          "base_uri": "https://localhost:8080/",
          "height": 35
        },
        "outputId": "6146cdb3-452d-41c9-d946-c0c196839761"
      },
      "source": [
        "timer.start()\n",
        "d = a + b\n",
        "f'{timer.stop():.5f} sec'"
      ],
      "execution_count": 8,
      "outputs": [
        {
          "output_type": "execute_result",
          "data": {
            "application/vnd.google.colaboratory.intrinsic+json": {
              "type": "string"
            },
            "text/plain": [
              "'0.00030 sec'"
            ]
          },
          "metadata": {
            "tags": []
          },
          "execution_count": 8
        }
      ]
    },
    {
      "cell_type": "code",
      "metadata": {
        "id": "-LpGt-zeCpBY",
        "colab_type": "code",
        "colab": {}
      },
      "source": [
        "def normal(x, mu, sigma):\n",
        "    p = 1 / math.sqrt(2 * math.pi * sigma**2)\n",
        "    return p * np.exp(-0.5 / sigma**2 * (x - mu)**2)"
      ],
      "execution_count": 9,
      "outputs": []
    },
    {
      "cell_type": "code",
      "metadata": {
        "id": "6s47xzmoCwH6",
        "colab_type": "code",
        "colab": {
          "base_uri": "https://localhost:8080/",
          "height": 262
        },
        "outputId": "dc5d90e1-db94-44e4-8ef9-ef9d343d73ee"
      },
      "source": [
        "# Use numpy again for visualization\n",
        "x = np.arange(-7, 7, 0.01)\n",
        "\n",
        "# Mean and standard deviation pairs\n",
        "params = [(0, 1), (0, 2), (3, 1)]\n",
        "d2l.plot(x, [normal(x, mu, sigma) for mu, sigma in params], xlabel='x',\n",
        "         ylabel='p(x)', figsize=(4.5, 2.5),\n",
        "         legend=[f'mean {mu}, std {sigma}' for mu, sigma in params])"
      ],
      "execution_count": 10,
      "outputs": [
        {
          "output_type": "display_data",
          "data": {
            "text/plain": [
              "<Figure size 324x180 with 1 Axes>"
            ],
            "image/svg+xml": "<?xml version=\"1.0\" encoding=\"utf-8\" standalone=\"no\"?>\n<!DOCTYPE svg PUBLIC \"-//W3C//DTD SVG 1.1//EN\"\n  \"http://www.w3.org/Graphics/SVG/1.1/DTD/svg11.dtd\">\n<!-- Created with matplotlib (https://matplotlib.org/) -->\n<svg height=\"180.65625pt\" version=\"1.1\" viewBox=\"0 0 302.08125 180.65625\" width=\"302.08125pt\" xmlns=\"http://www.w3.org/2000/svg\" xmlns:xlink=\"http://www.w3.org/1999/xlink\">\n <defs>\n  <style type=\"text/css\">\n*{stroke-linecap:butt;stroke-linejoin:round;}\n  </style>\n </defs>\n <g id=\"figure_1\">\n  <g id=\"patch_1\">\n   <path d=\"M 0 180.65625 \nL 302.08125 180.65625 \nL 302.08125 0 \nL 0 0 \nz\n\" style=\"fill:none;\"/>\n  </g>\n  <g id=\"axes_1\">\n   <g id=\"patch_2\">\n    <path d=\"M 43.78125 143.1 \nL 294.88125 143.1 \nL 294.88125 7.2 \nL 43.78125 7.2 \nz\n\" style=\"fill:#ffffff;\"/>\n   </g>\n   <g id=\"matplotlib.axis_1\">\n    <g id=\"xtick_1\">\n     <g id=\"line2d_1\">\n      <path clip-path=\"url(#pb2c6756914)\" d=\"M 71.511736 143.1 \nL 71.511736 7.2 \n\" style=\"fill:none;stroke:#b0b0b0;stroke-linecap:square;stroke-width:0.8;\"/>\n     </g>\n     <g id=\"line2d_2\">\n      <defs>\n       <path d=\"M 0 0 \nL 0 3.5 \n\" id=\"m03ff6eff98\" style=\"stroke:#000000;stroke-width:0.8;\"/>\n      </defs>\n      <g>\n       <use style=\"stroke:#000000;stroke-width:0.8;\" x=\"71.511736\" xlink:href=\"#m03ff6eff98\" y=\"143.1\"/>\n      </g>\n     </g>\n     <g id=\"text_1\">\n      <!-- −6 -->\n      <defs>\n       <path d=\"M 10.59375 35.5 \nL 73.1875 35.5 \nL 73.1875 27.203125 \nL 10.59375 27.203125 \nz\n\" id=\"DejaVuSans-8722\"/>\n       <path d=\"M 33.015625 40.375 \nQ 26.375 40.375 22.484375 35.828125 \nQ 18.609375 31.296875 18.609375 23.390625 \nQ 18.609375 15.53125 22.484375 10.953125 \nQ 26.375 6.390625 33.015625 6.390625 \nQ 39.65625 6.390625 43.53125 10.953125 \nQ 47.40625 15.53125 47.40625 23.390625 \nQ 47.40625 31.296875 43.53125 35.828125 \nQ 39.65625 40.375 33.015625 40.375 \nz\nM 52.59375 71.296875 \nL 52.59375 62.3125 \nQ 48.875 64.0625 45.09375 64.984375 \nQ 41.3125 65.921875 37.59375 65.921875 \nQ 27.828125 65.921875 22.671875 59.328125 \nQ 17.53125 52.734375 16.796875 39.40625 \nQ 19.671875 43.65625 24.015625 45.921875 \nQ 28.375 48.1875 33.59375 48.1875 \nQ 44.578125 48.1875 50.953125 41.515625 \nQ 57.328125 34.859375 57.328125 23.390625 \nQ 57.328125 12.15625 50.6875 5.359375 \nQ 44.046875 -1.421875 33.015625 -1.421875 \nQ 20.359375 -1.421875 13.671875 8.265625 \nQ 6.984375 17.96875 6.984375 36.375 \nQ 6.984375 53.65625 15.1875 63.9375 \nQ 23.390625 74.21875 37.203125 74.21875 \nQ 40.921875 74.21875 44.703125 73.484375 \nQ 48.484375 72.75 52.59375 71.296875 \nz\n\" id=\"DejaVuSans-54\"/>\n      </defs>\n      <g transform=\"translate(64.140642 157.698438)scale(0.1 -0.1)\">\n       <use xlink:href=\"#DejaVuSans-8722\"/>\n       <use x=\"83.789062\" xlink:href=\"#DejaVuSans-54\"/>\n      </g>\n     </g>\n    </g>\n    <g id=\"xtick_2\">\n     <g id=\"line2d_3\">\n      <path clip-path=\"url(#pb2c6756914)\" d=\"M 104.145435 143.1 \nL 104.145435 7.2 \n\" style=\"fill:none;stroke:#b0b0b0;stroke-linecap:square;stroke-width:0.8;\"/>\n     </g>\n     <g id=\"line2d_4\">\n      <g>\n       <use style=\"stroke:#000000;stroke-width:0.8;\" x=\"104.145435\" xlink:href=\"#m03ff6eff98\" y=\"143.1\"/>\n      </g>\n     </g>\n     <g id=\"text_2\">\n      <!-- −4 -->\n      <defs>\n       <path d=\"M 37.796875 64.3125 \nL 12.890625 25.390625 \nL 37.796875 25.390625 \nz\nM 35.203125 72.90625 \nL 47.609375 72.90625 \nL 47.609375 25.390625 \nL 58.015625 25.390625 \nL 58.015625 17.1875 \nL 47.609375 17.1875 \nL 47.609375 0 \nL 37.796875 0 \nL 37.796875 17.1875 \nL 4.890625 17.1875 \nL 4.890625 26.703125 \nz\n\" id=\"DejaVuSans-52\"/>\n      </defs>\n      <g transform=\"translate(96.774342 157.698438)scale(0.1 -0.1)\">\n       <use xlink:href=\"#DejaVuSans-8722\"/>\n       <use x=\"83.789062\" xlink:href=\"#DejaVuSans-52\"/>\n      </g>\n     </g>\n    </g>\n    <g id=\"xtick_3\">\n     <g id=\"line2d_5\">\n      <path clip-path=\"url(#pb2c6756914)\" d=\"M 136.779135 143.1 \nL 136.779135 7.2 \n\" style=\"fill:none;stroke:#b0b0b0;stroke-linecap:square;stroke-width:0.8;\"/>\n     </g>\n     <g id=\"line2d_6\">\n      <g>\n       <use style=\"stroke:#000000;stroke-width:0.8;\" x=\"136.779135\" xlink:href=\"#m03ff6eff98\" y=\"143.1\"/>\n      </g>\n     </g>\n     <g id=\"text_3\">\n      <!-- −2 -->\n      <defs>\n       <path d=\"M 19.1875 8.296875 \nL 53.609375 8.296875 \nL 53.609375 0 \nL 7.328125 0 \nL 7.328125 8.296875 \nQ 12.9375 14.109375 22.625 23.890625 \nQ 32.328125 33.6875 34.8125 36.53125 \nQ 39.546875 41.84375 41.421875 45.53125 \nQ 43.3125 49.21875 43.3125 52.78125 \nQ 43.3125 58.59375 39.234375 62.25 \nQ 35.15625 65.921875 28.609375 65.921875 \nQ 23.96875 65.921875 18.8125 64.3125 \nQ 13.671875 62.703125 7.8125 59.421875 \nL 7.8125 69.390625 \nQ 13.765625 71.78125 18.9375 73 \nQ 24.125 74.21875 28.421875 74.21875 \nQ 39.75 74.21875 46.484375 68.546875 \nQ 53.21875 62.890625 53.21875 53.421875 \nQ 53.21875 48.921875 51.53125 44.890625 \nQ 49.859375 40.875 45.40625 35.40625 \nQ 44.1875 33.984375 37.640625 27.21875 \nQ 31.109375 20.453125 19.1875 8.296875 \nz\n\" id=\"DejaVuSans-50\"/>\n      </defs>\n      <g transform=\"translate(129.408041 157.698438)scale(0.1 -0.1)\">\n       <use xlink:href=\"#DejaVuSans-8722\"/>\n       <use x=\"83.789062\" xlink:href=\"#DejaVuSans-50\"/>\n      </g>\n     </g>\n    </g>\n    <g id=\"xtick_4\">\n     <g id=\"line2d_7\">\n      <path clip-path=\"url(#pb2c6756914)\" d=\"M 169.412834 143.1 \nL 169.412834 7.2 \n\" style=\"fill:none;stroke:#b0b0b0;stroke-linecap:square;stroke-width:0.8;\"/>\n     </g>\n     <g id=\"line2d_8\">\n      <g>\n       <use style=\"stroke:#000000;stroke-width:0.8;\" x=\"169.412834\" xlink:href=\"#m03ff6eff98\" y=\"143.1\"/>\n      </g>\n     </g>\n     <g id=\"text_4\">\n      <!-- 0 -->\n      <defs>\n       <path d=\"M 31.78125 66.40625 \nQ 24.171875 66.40625 20.328125 58.90625 \nQ 16.5 51.421875 16.5 36.375 \nQ 16.5 21.390625 20.328125 13.890625 \nQ 24.171875 6.390625 31.78125 6.390625 \nQ 39.453125 6.390625 43.28125 13.890625 \nQ 47.125 21.390625 47.125 36.375 \nQ 47.125 51.421875 43.28125 58.90625 \nQ 39.453125 66.40625 31.78125 66.40625 \nz\nM 31.78125 74.21875 \nQ 44.046875 74.21875 50.515625 64.515625 \nQ 56.984375 54.828125 56.984375 36.375 \nQ 56.984375 17.96875 50.515625 8.265625 \nQ 44.046875 -1.421875 31.78125 -1.421875 \nQ 19.53125 -1.421875 13.0625 8.265625 \nQ 6.59375 17.96875 6.59375 36.375 \nQ 6.59375 54.828125 13.0625 64.515625 \nQ 19.53125 74.21875 31.78125 74.21875 \nz\n\" id=\"DejaVuSans-48\"/>\n      </defs>\n      <g transform=\"translate(166.231584 157.698438)scale(0.1 -0.1)\">\n       <use xlink:href=\"#DejaVuSans-48\"/>\n      </g>\n     </g>\n    </g>\n    <g id=\"xtick_5\">\n     <g id=\"line2d_9\">\n      <path clip-path=\"url(#pb2c6756914)\" d=\"M 202.046534 143.1 \nL 202.046534 7.2 \n\" style=\"fill:none;stroke:#b0b0b0;stroke-linecap:square;stroke-width:0.8;\"/>\n     </g>\n     <g id=\"line2d_10\">\n      <g>\n       <use style=\"stroke:#000000;stroke-width:0.8;\" x=\"202.046534\" xlink:href=\"#m03ff6eff98\" y=\"143.1\"/>\n      </g>\n     </g>\n     <g id=\"text_5\">\n      <!-- 2 -->\n      <g transform=\"translate(198.865284 157.698438)scale(0.1 -0.1)\">\n       <use xlink:href=\"#DejaVuSans-50\"/>\n      </g>\n     </g>\n    </g>\n    <g id=\"xtick_6\">\n     <g id=\"line2d_11\">\n      <path clip-path=\"url(#pb2c6756914)\" d=\"M 234.680233 143.1 \nL 234.680233 7.2 \n\" style=\"fill:none;stroke:#b0b0b0;stroke-linecap:square;stroke-width:0.8;\"/>\n     </g>\n     <g id=\"line2d_12\">\n      <g>\n       <use style=\"stroke:#000000;stroke-width:0.8;\" x=\"234.680233\" xlink:href=\"#m03ff6eff98\" y=\"143.1\"/>\n      </g>\n     </g>\n     <g id=\"text_6\">\n      <!-- 4 -->\n      <g transform=\"translate(231.498983 157.698438)scale(0.1 -0.1)\">\n       <use xlink:href=\"#DejaVuSans-52\"/>\n      </g>\n     </g>\n    </g>\n    <g id=\"xtick_7\">\n     <g id=\"line2d_13\">\n      <path clip-path=\"url(#pb2c6756914)\" d=\"M 267.313932 143.1 \nL 267.313932 7.2 \n\" style=\"fill:none;stroke:#b0b0b0;stroke-linecap:square;stroke-width:0.8;\"/>\n     </g>\n     <g id=\"line2d_14\">\n      <g>\n       <use style=\"stroke:#000000;stroke-width:0.8;\" x=\"267.313932\" xlink:href=\"#m03ff6eff98\" y=\"143.1\"/>\n      </g>\n     </g>\n     <g id=\"text_7\">\n      <!-- 6 -->\n      <g transform=\"translate(264.132682 157.698438)scale(0.1 -0.1)\">\n       <use xlink:href=\"#DejaVuSans-54\"/>\n      </g>\n     </g>\n    </g>\n    <g id=\"text_8\">\n     <!-- x -->\n     <defs>\n      <path d=\"M 54.890625 54.6875 \nL 35.109375 28.078125 \nL 55.90625 0 \nL 45.3125 0 \nL 29.390625 21.484375 \nL 13.484375 0 \nL 2.875 0 \nL 24.125 28.609375 \nL 4.6875 54.6875 \nL 15.28125 54.6875 \nL 29.78125 35.203125 \nL 44.28125 54.6875 \nz\n\" id=\"DejaVuSans-120\"/>\n     </defs>\n     <g transform=\"translate(166.371875 171.376563)scale(0.1 -0.1)\">\n      <use xlink:href=\"#DejaVuSans-120\"/>\n     </g>\n    </g>\n   </g>\n   <g id=\"matplotlib.axis_2\">\n    <g id=\"ytick_1\">\n     <g id=\"line2d_15\">\n      <path clip-path=\"url(#pb2c6756914)\" d=\"M 43.78125 136.922727 \nL 294.88125 136.922727 \n\" style=\"fill:none;stroke:#b0b0b0;stroke-linecap:square;stroke-width:0.8;\"/>\n     </g>\n     <g id=\"line2d_16\">\n      <defs>\n       <path d=\"M 0 0 \nL -3.5 0 \n\" id=\"m203ccaa65b\" style=\"stroke:#000000;stroke-width:0.8;\"/>\n      </defs>\n      <g>\n       <use style=\"stroke:#000000;stroke-width:0.8;\" x=\"43.78125\" xlink:href=\"#m203ccaa65b\" y=\"136.922727\"/>\n      </g>\n     </g>\n     <g id=\"text_9\">\n      <!-- 0.0 -->\n      <defs>\n       <path d=\"M 10.6875 12.40625 \nL 21 12.40625 \nL 21 0 \nL 10.6875 0 \nz\n\" id=\"DejaVuSans-46\"/>\n      </defs>\n      <g transform=\"translate(20.878125 140.721946)scale(0.1 -0.1)\">\n       <use xlink:href=\"#DejaVuSans-48\"/>\n       <use x=\"63.623047\" xlink:href=\"#DejaVuSans-46\"/>\n       <use x=\"95.410156\" xlink:href=\"#DejaVuSans-48\"/>\n      </g>\n     </g>\n    </g>\n    <g id=\"ytick_2\">\n     <g id=\"line2d_17\">\n      <path clip-path=\"url(#pb2c6756914)\" d=\"M 43.78125 105.954474 \nL 294.88125 105.954474 \n\" style=\"fill:none;stroke:#b0b0b0;stroke-linecap:square;stroke-width:0.8;\"/>\n     </g>\n     <g id=\"line2d_18\">\n      <g>\n       <use style=\"stroke:#000000;stroke-width:0.8;\" x=\"43.78125\" xlink:href=\"#m203ccaa65b\" y=\"105.954474\"/>\n      </g>\n     </g>\n     <g id=\"text_10\">\n      <!-- 0.1 -->\n      <defs>\n       <path d=\"M 12.40625 8.296875 \nL 28.515625 8.296875 \nL 28.515625 63.921875 \nL 10.984375 60.40625 \nL 10.984375 69.390625 \nL 28.421875 72.90625 \nL 38.28125 72.90625 \nL 38.28125 8.296875 \nL 54.390625 8.296875 \nL 54.390625 0 \nL 12.40625 0 \nz\n\" id=\"DejaVuSans-49\"/>\n      </defs>\n      <g transform=\"translate(20.878125 109.753693)scale(0.1 -0.1)\">\n       <use xlink:href=\"#DejaVuSans-48\"/>\n       <use x=\"63.623047\" xlink:href=\"#DejaVuSans-46\"/>\n       <use x=\"95.410156\" xlink:href=\"#DejaVuSans-49\"/>\n      </g>\n     </g>\n    </g>\n    <g id=\"ytick_3\">\n     <g id=\"line2d_19\">\n      <path clip-path=\"url(#pb2c6756914)\" d=\"M 43.78125 74.986221 \nL 294.88125 74.986221 \n\" style=\"fill:none;stroke:#b0b0b0;stroke-linecap:square;stroke-width:0.8;\"/>\n     </g>\n     <g id=\"line2d_20\">\n      <g>\n       <use style=\"stroke:#000000;stroke-width:0.8;\" x=\"43.78125\" xlink:href=\"#m203ccaa65b\" y=\"74.986221\"/>\n      </g>\n     </g>\n     <g id=\"text_11\">\n      <!-- 0.2 -->\n      <g transform=\"translate(20.878125 78.78544)scale(0.1 -0.1)\">\n       <use xlink:href=\"#DejaVuSans-48\"/>\n       <use x=\"63.623047\" xlink:href=\"#DejaVuSans-46\"/>\n       <use x=\"95.410156\" xlink:href=\"#DejaVuSans-50\"/>\n      </g>\n     </g>\n    </g>\n    <g id=\"ytick_4\">\n     <g id=\"line2d_21\">\n      <path clip-path=\"url(#pb2c6756914)\" d=\"M 43.78125 44.017968 \nL 294.88125 44.017968 \n\" style=\"fill:none;stroke:#b0b0b0;stroke-linecap:square;stroke-width:0.8;\"/>\n     </g>\n     <g id=\"line2d_22\">\n      <g>\n       <use style=\"stroke:#000000;stroke-width:0.8;\" x=\"43.78125\" xlink:href=\"#m203ccaa65b\" y=\"44.017968\"/>\n      </g>\n     </g>\n     <g id=\"text_12\">\n      <!-- 0.3 -->\n      <defs>\n       <path d=\"M 40.578125 39.3125 \nQ 47.65625 37.796875 51.625 33 \nQ 55.609375 28.21875 55.609375 21.1875 \nQ 55.609375 10.40625 48.1875 4.484375 \nQ 40.765625 -1.421875 27.09375 -1.421875 \nQ 22.515625 -1.421875 17.65625 -0.515625 \nQ 12.796875 0.390625 7.625 2.203125 \nL 7.625 11.71875 \nQ 11.71875 9.328125 16.59375 8.109375 \nQ 21.484375 6.890625 26.8125 6.890625 \nQ 36.078125 6.890625 40.9375 10.546875 \nQ 45.796875 14.203125 45.796875 21.1875 \nQ 45.796875 27.640625 41.28125 31.265625 \nQ 36.765625 34.90625 28.71875 34.90625 \nL 20.21875 34.90625 \nL 20.21875 43.015625 \nL 29.109375 43.015625 \nQ 36.375 43.015625 40.234375 45.921875 \nQ 44.09375 48.828125 44.09375 54.296875 \nQ 44.09375 59.90625 40.109375 62.90625 \nQ 36.140625 65.921875 28.71875 65.921875 \nQ 24.65625 65.921875 20.015625 65.03125 \nQ 15.375 64.15625 9.8125 62.3125 \nL 9.8125 71.09375 \nQ 15.4375 72.65625 20.34375 73.4375 \nQ 25.25 74.21875 29.59375 74.21875 \nQ 40.828125 74.21875 47.359375 69.109375 \nQ 53.90625 64.015625 53.90625 55.328125 \nQ 53.90625 49.265625 50.4375 45.09375 \nQ 46.96875 40.921875 40.578125 39.3125 \nz\n\" id=\"DejaVuSans-51\"/>\n      </defs>\n      <g transform=\"translate(20.878125 47.817187)scale(0.1 -0.1)\">\n       <use xlink:href=\"#DejaVuSans-48\"/>\n       <use x=\"63.623047\" xlink:href=\"#DejaVuSans-46\"/>\n       <use x=\"95.410156\" xlink:href=\"#DejaVuSans-51\"/>\n      </g>\n     </g>\n    </g>\n    <g id=\"ytick_5\">\n     <g id=\"line2d_23\">\n      <path clip-path=\"url(#pb2c6756914)\" d=\"M 43.78125 13.049715 \nL 294.88125 13.049715 \n\" style=\"fill:none;stroke:#b0b0b0;stroke-linecap:square;stroke-width:0.8;\"/>\n     </g>\n     <g id=\"line2d_24\">\n      <g>\n       <use style=\"stroke:#000000;stroke-width:0.8;\" x=\"43.78125\" xlink:href=\"#m203ccaa65b\" y=\"13.049715\"/>\n      </g>\n     </g>\n     <g id=\"text_13\">\n      <!-- 0.4 -->\n      <g transform=\"translate(20.878125 16.848934)scale(0.1 -0.1)\">\n       <use xlink:href=\"#DejaVuSans-48\"/>\n       <use x=\"63.623047\" xlink:href=\"#DejaVuSans-46\"/>\n       <use x=\"95.410156\" xlink:href=\"#DejaVuSans-52\"/>\n      </g>\n     </g>\n    </g>\n    <g id=\"text_14\">\n     <!-- p(x) -->\n     <defs>\n      <path d=\"M 18.109375 8.203125 \nL 18.109375 -20.796875 \nL 9.078125 -20.796875 \nL 9.078125 54.6875 \nL 18.109375 54.6875 \nL 18.109375 46.390625 \nQ 20.953125 51.265625 25.265625 53.625 \nQ 29.59375 56 35.59375 56 \nQ 45.5625 56 51.78125 48.09375 \nQ 58.015625 40.1875 58.015625 27.296875 \nQ 58.015625 14.40625 51.78125 6.484375 \nQ 45.5625 -1.421875 35.59375 -1.421875 \nQ 29.59375 -1.421875 25.265625 0.953125 \nQ 20.953125 3.328125 18.109375 8.203125 \nz\nM 48.6875 27.296875 \nQ 48.6875 37.203125 44.609375 42.84375 \nQ 40.53125 48.484375 33.40625 48.484375 \nQ 26.265625 48.484375 22.1875 42.84375 \nQ 18.109375 37.203125 18.109375 27.296875 \nQ 18.109375 17.390625 22.1875 11.75 \nQ 26.265625 6.109375 33.40625 6.109375 \nQ 40.53125 6.109375 44.609375 11.75 \nQ 48.6875 17.390625 48.6875 27.296875 \nz\n\" id=\"DejaVuSans-112\"/>\n      <path d=\"M 31 75.875 \nQ 24.46875 64.65625 21.28125 53.65625 \nQ 18.109375 42.671875 18.109375 31.390625 \nQ 18.109375 20.125 21.3125 9.0625 \nQ 24.515625 -2 31 -13.1875 \nL 23.1875 -13.1875 \nQ 15.875 -1.703125 12.234375 9.375 \nQ 8.59375 20.453125 8.59375 31.390625 \nQ 8.59375 42.28125 12.203125 53.3125 \nQ 15.828125 64.359375 23.1875 75.875 \nz\n\" id=\"DejaVuSans-40\"/>\n      <path d=\"M 8.015625 75.875 \nL 15.828125 75.875 \nQ 23.140625 64.359375 26.78125 53.3125 \nQ 30.421875 42.28125 30.421875 31.390625 \nQ 30.421875 20.453125 26.78125 9.375 \nQ 23.140625 -1.703125 15.828125 -13.1875 \nL 8.015625 -13.1875 \nQ 14.5 -2 17.703125 9.0625 \nQ 20.90625 20.125 20.90625 31.390625 \nQ 20.90625 42.671875 17.703125 53.65625 \nQ 14.5 64.65625 8.015625 75.875 \nz\n\" id=\"DejaVuSans-41\"/>\n     </defs>\n     <g transform=\"translate(14.798438 85.185156)rotate(-90)scale(0.1 -0.1)\">\n      <use xlink:href=\"#DejaVuSans-112\"/>\n      <use x=\"63.476562\" xlink:href=\"#DejaVuSans-40\"/>\n      <use x=\"102.490234\" xlink:href=\"#DejaVuSans-120\"/>\n      <use x=\"161.669922\" xlink:href=\"#DejaVuSans-41\"/>\n     </g>\n    </g>\n   </g>\n   <g id=\"line2d_25\">\n    <path clip-path=\"url(#pb2c6756914)\" d=\"M 55.194886 136.922727 \nL 108.224648 136.813535 \nL 113.609208 136.566288 \nL 117.198915 136.184417 \nL 119.97278 135.668952 \nL 122.257139 135.025186 \nL 124.215161 134.257847 \nL 126.010014 133.330368 \nL 127.804868 132.138334 \nL 129.436552 130.779445 \nL 131.068237 129.113085 \nL 132.699922 127.093512 \nL 134.331607 124.67477 \nL 135.963292 121.812692 \nL 137.594977 118.467288 \nL 139.226662 114.605495 \nL 141.021516 109.733818 \nL 142.816369 104.197078 \nL 144.774391 97.412516 \nL 146.895582 89.247632 \nL 149.506278 78.224523 \nL 153.259153 61.239305 \nL 157.501534 42.275258 \nL 159.785893 33.113056 \nL 161.580746 26.820515 \nL 163.049263 22.424523 \nL 164.354611 19.173268 \nL 165.49679 16.884633 \nL 166.475801 15.362585 \nL 167.454812 14.263605 \nL 168.270655 13.679589 \nL 169.086497 13.401979 \nL 169.739171 13.401979 \nL 170.391845 13.599455 \nL 171.207688 14.122466 \nL 172.02353 14.948577 \nL 173.002541 16.331186 \nL 173.981552 18.12656 \nL 175.123732 20.717347 \nL 176.42908 24.286979 \nL 177.897596 29.000684 \nL 179.69245 35.615359 \nL 181.81364 44.367165 \nL 184.913841 58.245076 \nL 190.46157 83.161144 \nL 192.909098 93.115047 \nL 195.030288 100.899673 \nL 196.98831 107.299489 \nL 198.783164 112.473243 \nL 200.578017 116.986089 \nL 202.209702 120.534567 \nL 203.841387 123.5855 \nL 205.473072 126.176453 \nL 207.104757 128.35023 \nL 208.736442 130.152334 \nL 210.368127 131.628806 \nL 211.999812 132.824481 \nL 213.794665 133.865803 \nL 215.752687 134.73293 \nL 217.873878 135.421686 \nL 220.321405 135.97206 \nL 223.258438 136.389278 \nL 227.011314 136.67952 \nL 232.395874 136.850878 \nL 243.001826 136.917995 \nL 283.467614 136.922727 \nL 283.467614 136.922727 \n\" style=\"fill:none;stroke:#1f77b4;stroke-linecap:square;stroke-width:1.5;\"/>\n   </g>\n   <g id=\"line2d_26\">\n    <path clip-path=\"url(#pb2c6756914)\" d=\"M 55.194886 136.7876 \nL 65.800839 136.522951 \nL 73.143421 136.126434 \nL 79.017487 135.590287 \nL 83.912542 134.926494 \nL 88.318091 134.105229 \nL 92.234135 133.153577 \nL 95.823842 132.06316 \nL 99.250381 130.798749 \nL 102.51375 129.367709 \nL 105.77712 127.695008 \nL 109.04049 125.764111 \nL 112.30386 123.563438 \nL 115.56723 121.087897 \nL 118.993769 118.196043 \nL 122.583476 114.860886 \nL 126.49952 110.903144 \nL 131.068237 105.948686 \nL 138.247651 97.770807 \nL 144.611223 90.644946 \nL 148.527267 86.589675 \nL 151.790637 83.530672 \nL 154.564501 81.224436 \nL 157.175197 79.344214 \nL 159.459556 77.957408 \nL 161.743915 76.832365 \nL 163.865105 76.036198 \nL 165.823127 75.522597 \nL 167.781149 75.227168 \nL 169.739171 75.153089 \nL 171.697193 75.301158 \nL 173.655215 75.66978 \nL 175.613237 76.254995 \nL 177.734428 77.126088 \nL 179.855618 78.233161 \nL 182.139977 79.673625 \nL 184.587504 81.48006 \nL 187.361369 83.820867 \nL 190.46157 86.751111 \nL 194.051277 90.469337 \nL 198.783164 95.721751 \nL 211.673475 110.215093 \nL 215.752687 114.383393 \nL 219.505563 117.90542 \nL 222.932101 120.82526 \nL 226.195471 123.328273 \nL 229.458841 125.556324 \nL 232.722211 127.513772 \nL 235.985581 129.211619 \nL 239.248951 130.665971 \nL 242.675489 131.95258 \nL 246.265196 133.063568 \nL 250.18124 134.034481 \nL 254.423621 134.846714 \nL 259.155508 135.514669 \nL 264.540068 136.040363 \nL 270.903639 136.432354 \nL 279.225233 136.707949 \nL 283.467614 136.785216 \nL 283.467614 136.785216 \n\" style=\"fill:none;stroke:#bf00bf;stroke-dasharray:5.55,2.4;stroke-dashoffset:0;stroke-width:1.5;\"/>\n   </g>\n   <g id=\"line2d_27\">\n    <path clip-path=\"url(#pb2c6756914)\" d=\"M 55.194886 136.922727 \nL 157.175197 136.813535 \nL 162.559757 136.566288 \nL 166.149464 136.184417 \nL 168.923329 135.668952 \nL 171.207688 135.025186 \nL 173.16571 134.257847 \nL 174.960563 133.330368 \nL 176.755417 132.138334 \nL 178.387102 130.779445 \nL 180.018787 129.113085 \nL 181.650472 127.093512 \nL 183.282156 124.67477 \nL 184.913841 121.812692 \nL 186.545526 118.467288 \nL 188.177211 114.605495 \nL 189.972065 109.733818 \nL 191.766918 104.197078 \nL 193.72494 97.412516 \nL 195.846131 89.247632 \nL 198.456827 78.224523 \nL 202.209702 61.239305 \nL 206.452083 42.275258 \nL 208.736442 33.113056 \nL 210.531295 26.820515 \nL 211.999812 22.424523 \nL 213.30516 19.173268 \nL 214.447339 16.884633 \nL 215.42635 15.362585 \nL 216.405361 14.263605 \nL 217.221204 13.679589 \nL 218.037046 13.401979 \nL 218.68972 13.401979 \nL 219.342394 13.599455 \nL 220.158237 14.122466 \nL 220.974079 14.948577 \nL 221.95309 16.331186 \nL 222.932101 18.12656 \nL 224.074281 20.717347 \nL 225.379629 24.286979 \nL 226.848145 29.000684 \nL 228.642999 35.615359 \nL 230.764189 44.367165 \nL 233.864391 58.245076 \nL 239.412119 83.161144 \nL 241.859647 93.115047 \nL 243.980837 100.899673 \nL 245.938859 107.299489 \nL 247.733713 112.473243 \nL 249.528566 116.986089 \nL 251.160251 120.534567 \nL 252.791936 123.5855 \nL 254.423621 126.176453 \nL 256.055306 128.35023 \nL 257.686991 130.152334 \nL 259.318676 131.628806 \nL 260.950361 132.824481 \nL 262.745215 133.865803 \nL 264.703236 134.73293 \nL 266.824427 135.421686 \nL 269.271954 135.97206 \nL 272.208987 136.389278 \nL 275.961863 136.67952 \nL 281.346423 136.850878 \nL 283.467614 136.879593 \nL 283.467614 136.879593 \n\" style=\"fill:none;stroke:#008000;stroke-dasharray:9.6,2.4,1.5,2.4;stroke-dashoffset:0;stroke-width:1.5;\"/>\n   </g>\n   <g id=\"patch_3\">\n    <path d=\"M 43.78125 143.1 \nL 43.78125 7.2 \n\" style=\"fill:none;stroke:#000000;stroke-linecap:square;stroke-linejoin:miter;stroke-width:0.8;\"/>\n   </g>\n   <g id=\"patch_4\">\n    <path d=\"M 294.88125 143.1 \nL 294.88125 7.2 \n\" style=\"fill:none;stroke:#000000;stroke-linecap:square;stroke-linejoin:miter;stroke-width:0.8;\"/>\n   </g>\n   <g id=\"patch_5\">\n    <path d=\"M 43.78125 143.1 \nL 294.88125 143.1 \n\" style=\"fill:none;stroke:#000000;stroke-linecap:square;stroke-linejoin:miter;stroke-width:0.8;\"/>\n   </g>\n   <g id=\"patch_6\">\n    <path d=\"M 43.78125 7.2 \nL 294.88125 7.2 \n\" style=\"fill:none;stroke:#000000;stroke-linecap:square;stroke-linejoin:miter;stroke-width:0.8;\"/>\n   </g>\n   <g id=\"legend_1\">\n    <g id=\"patch_7\">\n     <path d=\"M 50.78125 59.234375 \nL 152.05625 59.234375 \nQ 154.05625 59.234375 154.05625 57.234375 \nL 154.05625 14.2 \nQ 154.05625 12.2 152.05625 12.2 \nL 50.78125 12.2 \nQ 48.78125 12.2 48.78125 14.2 \nL 48.78125 57.234375 \nQ 48.78125 59.234375 50.78125 59.234375 \nz\n\" style=\"fill:#ffffff;opacity:0.8;stroke:#cccccc;stroke-linejoin:miter;\"/>\n    </g>\n    <g id=\"line2d_28\">\n     <path d=\"M 52.78125 20.298438 \nL 72.78125 20.298438 \n\" style=\"fill:none;stroke:#1f77b4;stroke-linecap:square;stroke-width:1.5;\"/>\n    </g>\n    <g id=\"line2d_29\"/>\n    <g id=\"text_15\">\n     <!-- mean 0, std 1 -->\n     <defs>\n      <path d=\"M 52 44.1875 \nQ 55.375 50.25 60.0625 53.125 \nQ 64.75 56 71.09375 56 \nQ 79.640625 56 84.28125 50.015625 \nQ 88.921875 44.046875 88.921875 33.015625 \nL 88.921875 0 \nL 79.890625 0 \nL 79.890625 32.71875 \nQ 79.890625 40.578125 77.09375 44.375 \nQ 74.3125 48.1875 68.609375 48.1875 \nQ 61.625 48.1875 57.5625 43.546875 \nQ 53.515625 38.921875 53.515625 30.90625 \nL 53.515625 0 \nL 44.484375 0 \nL 44.484375 32.71875 \nQ 44.484375 40.625 41.703125 44.40625 \nQ 38.921875 48.1875 33.109375 48.1875 \nQ 26.21875 48.1875 22.15625 43.53125 \nQ 18.109375 38.875 18.109375 30.90625 \nL 18.109375 0 \nL 9.078125 0 \nL 9.078125 54.6875 \nL 18.109375 54.6875 \nL 18.109375 46.1875 \nQ 21.1875 51.21875 25.484375 53.609375 \nQ 29.78125 56 35.6875 56 \nQ 41.65625 56 45.828125 52.96875 \nQ 50 49.953125 52 44.1875 \nz\n\" id=\"DejaVuSans-109\"/>\n      <path d=\"M 56.203125 29.59375 \nL 56.203125 25.203125 \nL 14.890625 25.203125 \nQ 15.484375 15.921875 20.484375 11.0625 \nQ 25.484375 6.203125 34.421875 6.203125 \nQ 39.59375 6.203125 44.453125 7.46875 \nQ 49.3125 8.734375 54.109375 11.28125 \nL 54.109375 2.78125 \nQ 49.265625 0.734375 44.1875 -0.34375 \nQ 39.109375 -1.421875 33.890625 -1.421875 \nQ 20.796875 -1.421875 13.15625 6.1875 \nQ 5.515625 13.8125 5.515625 26.8125 \nQ 5.515625 40.234375 12.765625 48.109375 \nQ 20.015625 56 32.328125 56 \nQ 43.359375 56 49.78125 48.890625 \nQ 56.203125 41.796875 56.203125 29.59375 \nz\nM 47.21875 32.234375 \nQ 47.125 39.59375 43.09375 43.984375 \nQ 39.0625 48.390625 32.421875 48.390625 \nQ 24.90625 48.390625 20.390625 44.140625 \nQ 15.875 39.890625 15.1875 32.171875 \nz\n\" id=\"DejaVuSans-101\"/>\n      <path d=\"M 34.28125 27.484375 \nQ 23.390625 27.484375 19.1875 25 \nQ 14.984375 22.515625 14.984375 16.5 \nQ 14.984375 11.71875 18.140625 8.90625 \nQ 21.296875 6.109375 26.703125 6.109375 \nQ 34.1875 6.109375 38.703125 11.40625 \nQ 43.21875 16.703125 43.21875 25.484375 \nL 43.21875 27.484375 \nz\nM 52.203125 31.203125 \nL 52.203125 0 \nL 43.21875 0 \nL 43.21875 8.296875 \nQ 40.140625 3.328125 35.546875 0.953125 \nQ 30.953125 -1.421875 24.3125 -1.421875 \nQ 15.921875 -1.421875 10.953125 3.296875 \nQ 6 8.015625 6 15.921875 \nQ 6 25.140625 12.171875 29.828125 \nQ 18.359375 34.515625 30.609375 34.515625 \nL 43.21875 34.515625 \nL 43.21875 35.40625 \nQ 43.21875 41.609375 39.140625 45 \nQ 35.0625 48.390625 27.6875 48.390625 \nQ 23 48.390625 18.546875 47.265625 \nQ 14.109375 46.140625 10.015625 43.890625 \nL 10.015625 52.203125 \nQ 14.9375 54.109375 19.578125 55.046875 \nQ 24.21875 56 28.609375 56 \nQ 40.484375 56 46.34375 49.84375 \nQ 52.203125 43.703125 52.203125 31.203125 \nz\n\" id=\"DejaVuSans-97\"/>\n      <path d=\"M 54.890625 33.015625 \nL 54.890625 0 \nL 45.90625 0 \nL 45.90625 32.71875 \nQ 45.90625 40.484375 42.875 44.328125 \nQ 39.84375 48.1875 33.796875 48.1875 \nQ 26.515625 48.1875 22.3125 43.546875 \nQ 18.109375 38.921875 18.109375 30.90625 \nL 18.109375 0 \nL 9.078125 0 \nL 9.078125 54.6875 \nL 18.109375 54.6875 \nL 18.109375 46.1875 \nQ 21.34375 51.125 25.703125 53.5625 \nQ 30.078125 56 35.796875 56 \nQ 45.21875 56 50.046875 50.171875 \nQ 54.890625 44.34375 54.890625 33.015625 \nz\n\" id=\"DejaVuSans-110\"/>\n      <path id=\"DejaVuSans-32\"/>\n      <path d=\"M 11.71875 12.40625 \nL 22.015625 12.40625 \nL 22.015625 4 \nL 14.015625 -11.625 \nL 7.71875 -11.625 \nL 11.71875 4 \nz\n\" id=\"DejaVuSans-44\"/>\n      <path d=\"M 44.28125 53.078125 \nL 44.28125 44.578125 \nQ 40.484375 46.53125 36.375 47.5 \nQ 32.28125 48.484375 27.875 48.484375 \nQ 21.1875 48.484375 17.84375 46.4375 \nQ 14.5 44.390625 14.5 40.28125 \nQ 14.5 37.15625 16.890625 35.375 \nQ 19.28125 33.59375 26.515625 31.984375 \nL 29.59375 31.296875 \nQ 39.15625 29.25 43.1875 25.515625 \nQ 47.21875 21.78125 47.21875 15.09375 \nQ 47.21875 7.46875 41.1875 3.015625 \nQ 35.15625 -1.421875 24.609375 -1.421875 \nQ 20.21875 -1.421875 15.453125 -0.5625 \nQ 10.6875 0.296875 5.421875 2 \nL 5.421875 11.28125 \nQ 10.40625 8.6875 15.234375 7.390625 \nQ 20.0625 6.109375 24.8125 6.109375 \nQ 31.15625 6.109375 34.5625 8.28125 \nQ 37.984375 10.453125 37.984375 14.40625 \nQ 37.984375 18.0625 35.515625 20.015625 \nQ 33.0625 21.96875 24.703125 23.78125 \nL 21.578125 24.515625 \nQ 13.234375 26.265625 9.515625 29.90625 \nQ 5.8125 33.546875 5.8125 39.890625 \nQ 5.8125 47.609375 11.28125 51.796875 \nQ 16.75 56 26.8125 56 \nQ 31.78125 56 36.171875 55.265625 \nQ 40.578125 54.546875 44.28125 53.078125 \nz\n\" id=\"DejaVuSans-115\"/>\n      <path d=\"M 18.3125 70.21875 \nL 18.3125 54.6875 \nL 36.8125 54.6875 \nL 36.8125 47.703125 \nL 18.3125 47.703125 \nL 18.3125 18.015625 \nQ 18.3125 11.328125 20.140625 9.421875 \nQ 21.96875 7.515625 27.59375 7.515625 \nL 36.8125 7.515625 \nL 36.8125 0 \nL 27.59375 0 \nQ 17.1875 0 13.234375 3.875 \nQ 9.28125 7.765625 9.28125 18.015625 \nL 9.28125 47.703125 \nL 2.6875 47.703125 \nL 2.6875 54.6875 \nL 9.28125 54.6875 \nL 9.28125 70.21875 \nz\n\" id=\"DejaVuSans-116\"/>\n      <path d=\"M 45.40625 46.390625 \nL 45.40625 75.984375 \nL 54.390625 75.984375 \nL 54.390625 0 \nL 45.40625 0 \nL 45.40625 8.203125 \nQ 42.578125 3.328125 38.25 0.953125 \nQ 33.9375 -1.421875 27.875 -1.421875 \nQ 17.96875 -1.421875 11.734375 6.484375 \nQ 5.515625 14.40625 5.515625 27.296875 \nQ 5.515625 40.1875 11.734375 48.09375 \nQ 17.96875 56 27.875 56 \nQ 33.9375 56 38.25 53.625 \nQ 42.578125 51.265625 45.40625 46.390625 \nz\nM 14.796875 27.296875 \nQ 14.796875 17.390625 18.875 11.75 \nQ 22.953125 6.109375 30.078125 6.109375 \nQ 37.203125 6.109375 41.296875 11.75 \nQ 45.40625 17.390625 45.40625 27.296875 \nQ 45.40625 37.203125 41.296875 42.84375 \nQ 37.203125 48.484375 30.078125 48.484375 \nQ 22.953125 48.484375 18.875 42.84375 \nQ 14.796875 37.203125 14.796875 27.296875 \nz\n\" id=\"DejaVuSans-100\"/>\n     </defs>\n     <g transform=\"translate(80.78125 23.798438)scale(0.1 -0.1)\">\n      <use xlink:href=\"#DejaVuSans-109\"/>\n      <use x=\"97.412109\" xlink:href=\"#DejaVuSans-101\"/>\n      <use x=\"158.935547\" xlink:href=\"#DejaVuSans-97\"/>\n      <use x=\"220.214844\" xlink:href=\"#DejaVuSans-110\"/>\n      <use x=\"283.59375\" xlink:href=\"#DejaVuSans-32\"/>\n      <use x=\"315.380859\" xlink:href=\"#DejaVuSans-48\"/>\n      <use x=\"379.003906\" xlink:href=\"#DejaVuSans-44\"/>\n      <use x=\"410.791016\" xlink:href=\"#DejaVuSans-32\"/>\n      <use x=\"442.578125\" xlink:href=\"#DejaVuSans-115\"/>\n      <use x=\"494.677734\" xlink:href=\"#DejaVuSans-116\"/>\n      <use x=\"533.886719\" xlink:href=\"#DejaVuSans-100\"/>\n      <use x=\"597.363281\" xlink:href=\"#DejaVuSans-32\"/>\n      <use x=\"629.150391\" xlink:href=\"#DejaVuSans-49\"/>\n     </g>\n    </g>\n    <g id=\"line2d_30\">\n     <path d=\"M 52.78125 34.976562 \nL 72.78125 34.976562 \n\" style=\"fill:none;stroke:#bf00bf;stroke-dasharray:5.55,2.4;stroke-dashoffset:0;stroke-width:1.5;\"/>\n    </g>\n    <g id=\"line2d_31\"/>\n    <g id=\"text_16\">\n     <!-- mean 0, std 2 -->\n     <g transform=\"translate(80.78125 38.476562)scale(0.1 -0.1)\">\n      <use xlink:href=\"#DejaVuSans-109\"/>\n      <use x=\"97.412109\" xlink:href=\"#DejaVuSans-101\"/>\n      <use x=\"158.935547\" xlink:href=\"#DejaVuSans-97\"/>\n      <use x=\"220.214844\" xlink:href=\"#DejaVuSans-110\"/>\n      <use x=\"283.59375\" xlink:href=\"#DejaVuSans-32\"/>\n      <use x=\"315.380859\" xlink:href=\"#DejaVuSans-48\"/>\n      <use x=\"379.003906\" xlink:href=\"#DejaVuSans-44\"/>\n      <use x=\"410.791016\" xlink:href=\"#DejaVuSans-32\"/>\n      <use x=\"442.578125\" xlink:href=\"#DejaVuSans-115\"/>\n      <use x=\"494.677734\" xlink:href=\"#DejaVuSans-116\"/>\n      <use x=\"533.886719\" xlink:href=\"#DejaVuSans-100\"/>\n      <use x=\"597.363281\" xlink:href=\"#DejaVuSans-32\"/>\n      <use x=\"629.150391\" xlink:href=\"#DejaVuSans-50\"/>\n     </g>\n    </g>\n    <g id=\"line2d_32\">\n     <path d=\"M 52.78125 49.654688 \nL 72.78125 49.654688 \n\" style=\"fill:none;stroke:#008000;stroke-dasharray:9.6,2.4,1.5,2.4;stroke-dashoffset:0;stroke-width:1.5;\"/>\n    </g>\n    <g id=\"line2d_33\"/>\n    <g id=\"text_17\">\n     <!-- mean 3, std 1 -->\n     <g transform=\"translate(80.78125 53.154688)scale(0.1 -0.1)\">\n      <use xlink:href=\"#DejaVuSans-109\"/>\n      <use x=\"97.412109\" xlink:href=\"#DejaVuSans-101\"/>\n      <use x=\"158.935547\" xlink:href=\"#DejaVuSans-97\"/>\n      <use x=\"220.214844\" xlink:href=\"#DejaVuSans-110\"/>\n      <use x=\"283.59375\" xlink:href=\"#DejaVuSans-32\"/>\n      <use x=\"315.380859\" xlink:href=\"#DejaVuSans-51\"/>\n      <use x=\"379.003906\" xlink:href=\"#DejaVuSans-44\"/>\n      <use x=\"410.791016\" xlink:href=\"#DejaVuSans-32\"/>\n      <use x=\"442.578125\" xlink:href=\"#DejaVuSans-115\"/>\n      <use x=\"494.677734\" xlink:href=\"#DejaVuSans-116\"/>\n      <use x=\"533.886719\" xlink:href=\"#DejaVuSans-100\"/>\n      <use x=\"597.363281\" xlink:href=\"#DejaVuSans-32\"/>\n      <use x=\"629.150391\" xlink:href=\"#DejaVuSans-49\"/>\n     </g>\n    </g>\n   </g>\n  </g>\n </g>\n <defs>\n  <clipPath id=\"pb2c6756914\">\n   <rect height=\"135.9\" width=\"251.1\" x=\"43.78125\" y=\"7.2\"/>\n  </clipPath>\n </defs>\n</svg>\n"
          },
          "metadata": {
            "tags": [],
            "needs_background": "light"
          }
        }
      ]
    },
    {
      "cell_type": "markdown",
      "metadata": {
        "id": "AhLYAy6YgPW5",
        "colab_type": "text"
      },
      "source": [
        "Linear Regression"
      ]
    },
    {
      "cell_type": "code",
      "metadata": {
        "id": "IF1ijefXDSJs",
        "colab_type": "code",
        "colab": {}
      },
      "source": [
        "%matplotlib inline\n",
        "from d2l import torch as d2l\n",
        "import torch\n",
        "import random"
      ],
      "execution_count": null,
      "outputs": []
    },
    {
      "cell_type": "code",
      "metadata": {
        "id": "tYJ-xYytgXfR",
        "colab_type": "code",
        "colab": {}
      },
      "source": [
        "def synthetic_data(w, b, num_examples):  #@save\n",
        "    \"\"\"Generate y = Xw + b + noise.\"\"\"\n",
        "    X = torch.normal(0, 1, (num_examples, len(w)))\n",
        "    y = torch.matmul(X, w) + b\n",
        "    y += torch.normal(0, 0.01, y.shape)\n",
        "    return X, y.reshape((-1, 1))\n",
        "\n",
        "true_w = torch.tensor([2, -3.4])\n",
        "true_b = 4.2\n",
        "features, labels = synthetic_data(true_w, true_b, 1000)"
      ],
      "execution_count": 10,
      "outputs": []
    },
    {
      "cell_type": "code",
      "metadata": {
        "id": "n1Bq1YLykFrH",
        "colab_type": "code",
        "colab": {
          "base_uri": "https://localhost:8080/",
          "height": 33
        },
        "outputId": "90c6ea95-68f4-4272-b7ce-c5923fe6b14c"
      },
      "source": [
        "print(features[0], labels[0])"
      ],
      "execution_count": 12,
      "outputs": [
        {
          "output_type": "stream",
          "text": [
            "tensor([ 0.2620, -1.2401]) tensor([8.9370])\n"
          ],
          "name": "stdout"
        }
      ]
    },
    {
      "cell_type": "code",
      "metadata": {
        "id": "NJEYyllykhpA",
        "colab_type": "code",
        "colab": {
          "base_uri": "https://localhost:8080/",
          "height": 244
        },
        "outputId": "a0dab716-f767-45fa-88ae-9514af1a85e8"
      },
      "source": [
        "d2l.set_figsize()\n",
        "# The semicolon is for displaying the plot only\n",
        "d2l.plt.scatter(d2l.numpy(features[:, 1]), d2l.numpy(labels), 1);"
      ],
      "execution_count": 13,
      "outputs": [
        {
          "output_type": "display_data",
          "data": {
            "text/plain": [
              "<Figure size 252x180 with 1 Axes>"
            ],
            "image/svg+xml": "<?xml version=\"1.0\" encoding=\"utf-8\" standalone=\"no\"?>\n<!DOCTYPE svg PUBLIC \"-//W3C//DTD SVG 1.1//EN\"\n  \"http://www.w3.org/Graphics/SVG/1.1/DTD/svg11.dtd\">\n<!-- Created with matplotlib (https://matplotlib.org/) -->\n<svg height=\"166.978125pt\" version=\"1.1\" viewBox=\"0 0 237.804688 166.978125\" width=\"237.804688pt\" xmlns=\"http://www.w3.org/2000/svg\" xmlns:xlink=\"http://www.w3.org/1999/xlink\">\n <defs>\n  <style type=\"text/css\">\n*{stroke-linecap:butt;stroke-linejoin:round;}\n  </style>\n </defs>\n <g id=\"figure_1\">\n  <g id=\"patch_1\">\n   <path d=\"M 0 166.978125 \nL 237.804688 166.978125 \nL 237.804688 0 \nL 0 0 \nz\n\" style=\"fill:none;\"/>\n  </g>\n  <g id=\"axes_1\">\n   <g id=\"patch_2\">\n    <path d=\"M 35.304688 143.1 \nL 230.604688 143.1 \nL 230.604688 7.2 \nL 35.304688 7.2 \nz\n\" style=\"fill:#ffffff;\"/>\n   </g>\n   <g id=\"PathCollection_1\">\n    <defs>\n     <path d=\"M 0 0.5 \nC 0.132602 0.5 0.25979 0.447317 0.353553 0.353553 \nC 0.447317 0.25979 0.5 0.132602 0.5 0 \nC 0.5 -0.132602 0.447317 -0.25979 0.353553 -0.353553 \nC 0.25979 -0.447317 0.132602 -0.5 0 -0.5 \nC -0.132602 -0.5 -0.25979 -0.447317 -0.353553 -0.353553 \nC -0.447317 -0.25979 -0.5 -0.132602 -0.5 0 \nC -0.5 0.132602 -0.447317 0.25979 -0.353553 0.353553 \nC -0.25979 0.447317 -0.132602 0.5 0 0.5 \nz\n\" id=\"m5a819844d9\" style=\"stroke:#1f77b4;\"/>\n    </defs>\n    <g clip-path=\"url(#p3b44ede3e1)\">\n     <use style=\"fill:#1f77b4;stroke:#1f77b4;\" x=\"96.375021\" xlink:href=\"#m5a819844d9\" y=\"46.828598\"/>\n     <use style=\"fill:#1f77b4;stroke:#1f77b4;\" x=\"125.769005\" xlink:href=\"#m5a819844d9\" y=\"60.487984\"/>\n     <use style=\"fill:#1f77b4;stroke:#1f77b4;\" x=\"122.451069\" xlink:href=\"#m5a819844d9\" y=\"65.431026\"/>\n     <use style=\"fill:#1f77b4;stroke:#1f77b4;\" x=\"170.468747\" xlink:href=\"#m5a819844d9\" y=\"76.269904\"/>\n     <use style=\"fill:#1f77b4;stroke:#1f77b4;\" x=\"100.161781\" xlink:href=\"#m5a819844d9\" y=\"60.405632\"/>\n     <use style=\"fill:#1f77b4;stroke:#1f77b4;\" x=\"139.498021\" xlink:href=\"#m5a819844d9\" y=\"64.518757\"/>\n     <use style=\"fill:#1f77b4;stroke:#1f77b4;\" x=\"143.621305\" xlink:href=\"#m5a819844d9\" y=\"95.949033\"/>\n     <use style=\"fill:#1f77b4;stroke:#1f77b4;\" x=\"149.451618\" xlink:href=\"#m5a819844d9\" y=\"84.82172\"/>\n     <use style=\"fill:#1f77b4;stroke:#1f77b4;\" x=\"127.305011\" xlink:href=\"#m5a819844d9\" y=\"55.438594\"/>\n     <use style=\"fill:#1f77b4;stroke:#1f77b4;\" x=\"81.079573\" xlink:href=\"#m5a819844d9\" y=\"38.136322\"/>\n     <use style=\"fill:#1f77b4;stroke:#1f77b4;\" x=\"121.549263\" xlink:href=\"#m5a819844d9\" y=\"61.522658\"/>\n     <use style=\"fill:#1f77b4;stroke:#1f77b4;\" x=\"95.793902\" xlink:href=\"#m5a819844d9\" y=\"35.310327\"/>\n     <use style=\"fill:#1f77b4;stroke:#1f77b4;\" x=\"99.340433\" xlink:href=\"#m5a819844d9\" y=\"52.672223\"/>\n     <use style=\"fill:#1f77b4;stroke:#1f77b4;\" x=\"87.422728\" xlink:href=\"#m5a819844d9\" y=\"41.692676\"/>\n     <use style=\"fill:#1f77b4;stroke:#1f77b4;\" x=\"133.303022\" xlink:href=\"#m5a819844d9\" y=\"40.905749\"/>\n     <use style=\"fill:#1f77b4;stroke:#1f77b4;\" x=\"93.056351\" xlink:href=\"#m5a819844d9\" y=\"58.348535\"/>\n     <use style=\"fill:#1f77b4;stroke:#1f77b4;\" x=\"143.285068\" xlink:href=\"#m5a819844d9\" y=\"66.491106\"/>\n     <use style=\"fill:#1f77b4;stroke:#1f77b4;\" x=\"123.111683\" xlink:href=\"#m5a819844d9\" y=\"77.874785\"/>\n     <use style=\"fill:#1f77b4;stroke:#1f77b4;\" x=\"170.145484\" xlink:href=\"#m5a819844d9\" y=\"74.510688\"/>\n     <use style=\"fill:#1f77b4;stroke:#1f77b4;\" x=\"172.095345\" xlink:href=\"#m5a819844d9\" y=\"94.814112\"/>\n     <use style=\"fill:#1f77b4;stroke:#1f77b4;\" x=\"150.911777\" xlink:href=\"#m5a819844d9\" y=\"85.20966\"/>\n     <use style=\"fill:#1f77b4;stroke:#1f77b4;\" x=\"129.3296\" xlink:href=\"#m5a819844d9\" y=\"69.870728\"/>\n     <use style=\"fill:#1f77b4;stroke:#1f77b4;\" x=\"185.416757\" xlink:href=\"#m5a819844d9\" y=\"98.686031\"/>\n     <use style=\"fill:#1f77b4;stroke:#1f77b4;\" x=\"115.382312\" xlink:href=\"#m5a819844d9\" y=\"77.996313\"/>\n     <use style=\"fill:#1f77b4;stroke:#1f77b4;\" x=\"128.873972\" xlink:href=\"#m5a819844d9\" y=\"59.21105\"/>\n     <use style=\"fill:#1f77b4;stroke:#1f77b4;\" x=\"148.079733\" xlink:href=\"#m5a819844d9\" y=\"76.618864\"/>\n     <use style=\"fill:#1f77b4;stroke:#1f77b4;\" x=\"130.485896\" xlink:href=\"#m5a819844d9\" y=\"76.57069\"/>\n     <use style=\"fill:#1f77b4;stroke:#1f77b4;\" x=\"94.047371\" xlink:href=\"#m5a819844d9\" y=\"32.773717\"/>\n     <use style=\"fill:#1f77b4;stroke:#1f77b4;\" x=\"151.812908\" xlink:href=\"#m5a819844d9\" y=\"83.074606\"/>\n     <use style=\"fill:#1f77b4;stroke:#1f77b4;\" x=\"144.702081\" xlink:href=\"#m5a819844d9\" y=\"82.31437\"/>\n     <use style=\"fill:#1f77b4;stroke:#1f77b4;\" x=\"138.593895\" xlink:href=\"#m5a819844d9\" y=\"76.041789\"/>\n     <use style=\"fill:#1f77b4;stroke:#1f77b4;\" x=\"102.418452\" xlink:href=\"#m5a819844d9\" y=\"49.861003\"/>\n     <use style=\"fill:#1f77b4;stroke:#1f77b4;\" x=\"171.959982\" xlink:href=\"#m5a819844d9\" y=\"75.609861\"/>\n     <use style=\"fill:#1f77b4;stroke:#1f77b4;\" x=\"143.938384\" xlink:href=\"#m5a819844d9\" y=\"84.396561\"/>\n     <use style=\"fill:#1f77b4;stroke:#1f77b4;\" x=\"85.340381\" xlink:href=\"#m5a819844d9\" y=\"49.035527\"/>\n     <use style=\"fill:#1f77b4;stroke:#1f77b4;\" x=\"104.075885\" xlink:href=\"#m5a819844d9\" y=\"34.614216\"/>\n     <use style=\"fill:#1f77b4;stroke:#1f77b4;\" x=\"140.203076\" xlink:href=\"#m5a819844d9\" y=\"64.377953\"/>\n     <use style=\"fill:#1f77b4;stroke:#1f77b4;\" x=\"171.085363\" xlink:href=\"#m5a819844d9\" y=\"85.665301\"/>\n     <use style=\"fill:#1f77b4;stroke:#1f77b4;\" x=\"90.08695\" xlink:href=\"#m5a819844d9\" y=\"44.254433\"/>\n     <use style=\"fill:#1f77b4;stroke:#1f77b4;\" x=\"132.996734\" xlink:href=\"#m5a819844d9\" y=\"59.670068\"/>\n     <use style=\"fill:#1f77b4;stroke:#1f77b4;\" x=\"157.832899\" xlink:href=\"#m5a819844d9\" y=\"80.191448\"/>\n     <use style=\"fill:#1f77b4;stroke:#1f77b4;\" x=\"158.033258\" xlink:href=\"#m5a819844d9\" y=\"74.477936\"/>\n     <use style=\"fill:#1f77b4;stroke:#1f77b4;\" x=\"104.068792\" xlink:href=\"#m5a819844d9\" y=\"60.128\"/>\n     <use style=\"fill:#1f77b4;stroke:#1f77b4;\" x=\"128.892292\" xlink:href=\"#m5a819844d9\" y=\"54.193668\"/>\n     <use style=\"fill:#1f77b4;stroke:#1f77b4;\" x=\"136.27149\" xlink:href=\"#m5a819844d9\" y=\"69.54859\"/>\n     <use style=\"fill:#1f77b4;stroke:#1f77b4;\" x=\"123.436964\" xlink:href=\"#m5a819844d9\" y=\"54.51805\"/>\n     <use style=\"fill:#1f77b4;stroke:#1f77b4;\" x=\"115.336153\" xlink:href=\"#m5a819844d9\" y=\"64.987609\"/>\n     <use style=\"fill:#1f77b4;stroke:#1f77b4;\" x=\"71.262507\" xlink:href=\"#m5a819844d9\" y=\"40.015023\"/>\n     <use style=\"fill:#1f77b4;stroke:#1f77b4;\" x=\"171.641253\" xlink:href=\"#m5a819844d9\" y=\"78.920587\"/>\n     <use style=\"fill:#1f77b4;stroke:#1f77b4;\" x=\"127.911076\" xlink:href=\"#m5a819844d9\" y=\"62.344554\"/>\n     <use style=\"fill:#1f77b4;stroke:#1f77b4;\" x=\"67.823887\" xlink:href=\"#m5a819844d9\" y=\"31.661754\"/>\n     <use style=\"fill:#1f77b4;stroke:#1f77b4;\" x=\"113.912123\" xlink:href=\"#m5a819844d9\" y=\"46.502826\"/>\n     <use style=\"fill:#1f77b4;stroke:#1f77b4;\" x=\"135.646894\" xlink:href=\"#m5a819844d9\" y=\"73.473134\"/>\n     <use style=\"fill:#1f77b4;stroke:#1f77b4;\" x=\"92.931545\" xlink:href=\"#m5a819844d9\" y=\"31.007142\"/>\n     <use style=\"fill:#1f77b4;stroke:#1f77b4;\" x=\"138.249295\" xlink:href=\"#m5a819844d9\" y=\"80.155692\"/>\n     <use style=\"fill:#1f77b4;stroke:#1f77b4;\" x=\"113.547918\" xlink:href=\"#m5a819844d9\" y=\"70.919827\"/>\n     <use style=\"fill:#1f77b4;stroke:#1f77b4;\" x=\"142.867029\" xlink:href=\"#m5a819844d9\" y=\"85.964276\"/>\n     <use style=\"fill:#1f77b4;stroke:#1f77b4;\" x=\"181.897215\" xlink:href=\"#m5a819844d9\" y=\"87.373141\"/>\n     <use style=\"fill:#1f77b4;stroke:#1f77b4;\" x=\"119.405504\" xlink:href=\"#m5a819844d9\" y=\"57.82698\"/>\n     <use style=\"fill:#1f77b4;stroke:#1f77b4;\" x=\"114.31218\" xlink:href=\"#m5a819844d9\" y=\"76.523391\"/>\n     <use style=\"fill:#1f77b4;stroke:#1f77b4;\" x=\"157.444\" xlink:href=\"#m5a819844d9\" y=\"78.205422\"/>\n     <use style=\"fill:#1f77b4;stroke:#1f77b4;\" x=\"120.040902\" xlink:href=\"#m5a819844d9\" y=\"62.09219\"/>\n     <use style=\"fill:#1f77b4;stroke:#1f77b4;\" x=\"125.399156\" xlink:href=\"#m5a819844d9\" y=\"57.598399\"/>\n     <use style=\"fill:#1f77b4;stroke:#1f77b4;\" x=\"165.514166\" xlink:href=\"#m5a819844d9\" y=\"98.840369\"/>\n     <use style=\"fill:#1f77b4;stroke:#1f77b4;\" x=\"150.525178\" xlink:href=\"#m5a819844d9\" y=\"73.816279\"/>\n     <use style=\"fill:#1f77b4;stroke:#1f77b4;\" x=\"123.949575\" xlink:href=\"#m5a819844d9\" y=\"81.214018\"/>\n     <use style=\"fill:#1f77b4;stroke:#1f77b4;\" x=\"103.671999\" xlink:href=\"#m5a819844d9\" y=\"62.25746\"/>\n     <use style=\"fill:#1f77b4;stroke:#1f77b4;\" x=\"188.307093\" xlink:href=\"#m5a819844d9\" y=\"99.692971\"/>\n     <use style=\"fill:#1f77b4;stroke:#1f77b4;\" x=\"151.8816\" xlink:href=\"#m5a819844d9\" y=\"70.65913\"/>\n     <use style=\"fill:#1f77b4;stroke:#1f77b4;\" x=\"80.050382\" xlink:href=\"#m5a819844d9\" y=\"37.005223\"/>\n     <use style=\"fill:#1f77b4;stroke:#1f77b4;\" x=\"145.432959\" xlink:href=\"#m5a819844d9\" y=\"72.905287\"/>\n     <use style=\"fill:#1f77b4;stroke:#1f77b4;\" x=\"122.759548\" xlink:href=\"#m5a819844d9\" y=\"61.144907\"/>\n     <use style=\"fill:#1f77b4;stroke:#1f77b4;\" x=\"122.554142\" xlink:href=\"#m5a819844d9\" y=\"69.000858\"/>\n     <use style=\"fill:#1f77b4;stroke:#1f77b4;\" x=\"126.755691\" xlink:href=\"#m5a819844d9\" y=\"54.477585\"/>\n     <use style=\"fill:#1f77b4;stroke:#1f77b4;\" x=\"156.565905\" xlink:href=\"#m5a819844d9\" y=\"83.163768\"/>\n     <use style=\"fill:#1f77b4;stroke:#1f77b4;\" x=\"137.154303\" xlink:href=\"#m5a819844d9\" y=\"67.588109\"/>\n     <use style=\"fill:#1f77b4;stroke:#1f77b4;\" x=\"138.632153\" xlink:href=\"#m5a819844d9\" y=\"85.353882\"/>\n     <use style=\"fill:#1f77b4;stroke:#1f77b4;\" x=\"118.464007\" xlink:href=\"#m5a819844d9\" y=\"63.301553\"/>\n     <use style=\"fill:#1f77b4;stroke:#1f77b4;\" x=\"132.213164\" xlink:href=\"#m5a819844d9\" y=\"58.91447\"/>\n     <use style=\"fill:#1f77b4;stroke:#1f77b4;\" x=\"136.067309\" xlink:href=\"#m5a819844d9\" y=\"68.725648\"/>\n     <use style=\"fill:#1f77b4;stroke:#1f77b4;\" x=\"161.450131\" xlink:href=\"#m5a819844d9\" y=\"69.508083\"/>\n     <use style=\"fill:#1f77b4;stroke:#1f77b4;\" x=\"86.734129\" xlink:href=\"#m5a819844d9\" y=\"48.891381\"/>\n     <use style=\"fill:#1f77b4;stroke:#1f77b4;\" x=\"139.413778\" xlink:href=\"#m5a819844d9\" y=\"66.352174\"/>\n     <use style=\"fill:#1f77b4;stroke:#1f77b4;\" x=\"92.751051\" xlink:href=\"#m5a819844d9\" y=\"53.939454\"/>\n     <use style=\"fill:#1f77b4;stroke:#1f77b4;\" x=\"132.857988\" xlink:href=\"#m5a819844d9\" y=\"72.687984\"/>\n     <use style=\"fill:#1f77b4;stroke:#1f77b4;\" x=\"100.769775\" xlink:href=\"#m5a819844d9\" y=\"52.887189\"/>\n     <use style=\"fill:#1f77b4;stroke:#1f77b4;\" x=\"148.64673\" xlink:href=\"#m5a819844d9\" y=\"78.985128\"/>\n     <use style=\"fill:#1f77b4;stroke:#1f77b4;\" x=\"153.854007\" xlink:href=\"#m5a819844d9\" y=\"74.434142\"/>\n     <use style=\"fill:#1f77b4;stroke:#1f77b4;\" x=\"107.339058\" xlink:href=\"#m5a819844d9\" y=\"52.583755\"/>\n     <use style=\"fill:#1f77b4;stroke:#1f77b4;\" x=\"136.384481\" xlink:href=\"#m5a819844d9\" y=\"62.403132\"/>\n     <use style=\"fill:#1f77b4;stroke:#1f77b4;\" x=\"140.745459\" xlink:href=\"#m5a819844d9\" y=\"90.739774\"/>\n     <use style=\"fill:#1f77b4;stroke:#1f77b4;\" x=\"132.974554\" xlink:href=\"#m5a819844d9\" y=\"69.642001\"/>\n     <use style=\"fill:#1f77b4;stroke:#1f77b4;\" x=\"155.148978\" xlink:href=\"#m5a819844d9\" y=\"76.958327\"/>\n     <use style=\"fill:#1f77b4;stroke:#1f77b4;\" x=\"87.900249\" xlink:href=\"#m5a819844d9\" y=\"50.093952\"/>\n     <use style=\"fill:#1f77b4;stroke:#1f77b4;\" x=\"163.953458\" xlink:href=\"#m5a819844d9\" y=\"84.218431\"/>\n     <use style=\"fill:#1f77b4;stroke:#1f77b4;\" x=\"138.204507\" xlink:href=\"#m5a819844d9\" y=\"85.226949\"/>\n     <use style=\"fill:#1f77b4;stroke:#1f77b4;\" x=\"94.860597\" xlink:href=\"#m5a819844d9\" y=\"48.454413\"/>\n     <use style=\"fill:#1f77b4;stroke:#1f77b4;\" x=\"119.344322\" xlink:href=\"#m5a819844d9\" y=\"51.313988\"/>\n     <use style=\"fill:#1f77b4;stroke:#1f77b4;\" x=\"86.200374\" xlink:href=\"#m5a819844d9\" y=\"58.248207\"/>\n     <use style=\"fill:#1f77b4;stroke:#1f77b4;\" x=\"163.619033\" xlink:href=\"#m5a819844d9\" y=\"82.831989\"/>\n     <use style=\"fill:#1f77b4;stroke:#1f77b4;\" x=\"108.752889\" xlink:href=\"#m5a819844d9\" y=\"46.368636\"/>\n     <use style=\"fill:#1f77b4;stroke:#1f77b4;\" x=\"112.286747\" xlink:href=\"#m5a819844d9\" y=\"54.358026\"/>\n     <use style=\"fill:#1f77b4;stroke:#1f77b4;\" x=\"169.42614\" xlink:href=\"#m5a819844d9\" y=\"99.743113\"/>\n     <use style=\"fill:#1f77b4;stroke:#1f77b4;\" x=\"118.152993\" xlink:href=\"#m5a819844d9\" y=\"56.481659\"/>\n     <use style=\"fill:#1f77b4;stroke:#1f77b4;\" x=\"107.518301\" xlink:href=\"#m5a819844d9\" y=\"43.330203\"/>\n     <use style=\"fill:#1f77b4;stroke:#1f77b4;\" x=\"135.495307\" xlink:href=\"#m5a819844d9\" y=\"81.194827\"/>\n     <use style=\"fill:#1f77b4;stroke:#1f77b4;\" x=\"153.199028\" xlink:href=\"#m5a819844d9\" y=\"74.889889\"/>\n     <use style=\"fill:#1f77b4;stroke:#1f77b4;\" x=\"163.907407\" xlink:href=\"#m5a819844d9\" y=\"80.023399\"/>\n     <use style=\"fill:#1f77b4;stroke:#1f77b4;\" x=\"124.397595\" xlink:href=\"#m5a819844d9\" y=\"58.13428\"/>\n     <use style=\"fill:#1f77b4;stroke:#1f77b4;\" x=\"102.130081\" xlink:href=\"#m5a819844d9\" y=\"41.837737\"/>\n     <use style=\"fill:#1f77b4;stroke:#1f77b4;\" x=\"213.066039\" xlink:href=\"#m5a819844d9\" y=\"109.35641\"/>\n     <use style=\"fill:#1f77b4;stroke:#1f77b4;\" x=\"132.552892\" xlink:href=\"#m5a819844d9\" y=\"59.583218\"/>\n     <use style=\"fill:#1f77b4;stroke:#1f77b4;\" x=\"160.409214\" xlink:href=\"#m5a819844d9\" y=\"77.72112\"/>\n     <use style=\"fill:#1f77b4;stroke:#1f77b4;\" x=\"154.604513\" xlink:href=\"#m5a819844d9\" y=\"69.541615\"/>\n     <use style=\"fill:#1f77b4;stroke:#1f77b4;\" x=\"116.493015\" xlink:href=\"#m5a819844d9\" y=\"60.196843\"/>\n     <use style=\"fill:#1f77b4;stroke:#1f77b4;\" x=\"94.145299\" xlink:href=\"#m5a819844d9\" y=\"38.519444\"/>\n     <use style=\"fill:#1f77b4;stroke:#1f77b4;\" x=\"133.790383\" xlink:href=\"#m5a819844d9\" y=\"64.44408\"/>\n     <use style=\"fill:#1f77b4;stroke:#1f77b4;\" x=\"157.32255\" xlink:href=\"#m5a819844d9\" y=\"82.086417\"/>\n     <use style=\"fill:#1f77b4;stroke:#1f77b4;\" x=\"146.736841\" xlink:href=\"#m5a819844d9\" y=\"87.136328\"/>\n     <use style=\"fill:#1f77b4;stroke:#1f77b4;\" x=\"85.284108\" xlink:href=\"#m5a819844d9\" y=\"29.781794\"/>\n     <use style=\"fill:#1f77b4;stroke:#1f77b4;\" x=\"121.142662\" xlink:href=\"#m5a819844d9\" y=\"71.398748\"/>\n     <use style=\"fill:#1f77b4;stroke:#1f77b4;\" x=\"141.191817\" xlink:href=\"#m5a819844d9\" y=\"76.026031\"/>\n     <use style=\"fill:#1f77b4;stroke:#1f77b4;\" x=\"181.545007\" xlink:href=\"#m5a819844d9\" y=\"106.322675\"/>\n     <use style=\"fill:#1f77b4;stroke:#1f77b4;\" x=\"133.087195\" xlink:href=\"#m5a819844d9\" y=\"77.003481\"/>\n     <use style=\"fill:#1f77b4;stroke:#1f77b4;\" x=\"144.527316\" xlink:href=\"#m5a819844d9\" y=\"76.532761\"/>\n     <use style=\"fill:#1f77b4;stroke:#1f77b4;\" x=\"108.160631\" xlink:href=\"#m5a819844d9\" y=\"63.0358\"/>\n     <use style=\"fill:#1f77b4;stroke:#1f77b4;\" x=\"126.732721\" xlink:href=\"#m5a819844d9\" y=\"66.7996\"/>\n     <use style=\"fill:#1f77b4;stroke:#1f77b4;\" x=\"109.523547\" xlink:href=\"#m5a819844d9\" y=\"55.700727\"/>\n     <use style=\"fill:#1f77b4;stroke:#1f77b4;\" x=\"127.04016\" xlink:href=\"#m5a819844d9\" y=\"72.198036\"/>\n     <use style=\"fill:#1f77b4;stroke:#1f77b4;\" x=\"142.635349\" xlink:href=\"#m5a819844d9\" y=\"71.878144\"/>\n     <use style=\"fill:#1f77b4;stroke:#1f77b4;\" x=\"124.722184\" xlink:href=\"#m5a819844d9\" y=\"68.86447\"/>\n     <use style=\"fill:#1f77b4;stroke:#1f77b4;\" x=\"124.52609\" xlink:href=\"#m5a819844d9\" y=\"63.938004\"/>\n     <use style=\"fill:#1f77b4;stroke:#1f77b4;\" x=\"193.094206\" xlink:href=\"#m5a819844d9\" y=\"91.455736\"/>\n     <use style=\"fill:#1f77b4;stroke:#1f77b4;\" x=\"94.23994\" xlink:href=\"#m5a819844d9\" y=\"50.311076\"/>\n     <use style=\"fill:#1f77b4;stroke:#1f77b4;\" x=\"122.758217\" xlink:href=\"#m5a819844d9\" y=\"64.580628\"/>\n     <use style=\"fill:#1f77b4;stroke:#1f77b4;\" x=\"49.292576\" xlink:href=\"#m5a819844d9\" y=\"23.386575\"/>\n     <use style=\"fill:#1f77b4;stroke:#1f77b4;\" x=\"116.52014\" xlink:href=\"#m5a819844d9\" y=\"67.517357\"/>\n     <use style=\"fill:#1f77b4;stroke:#1f77b4;\" x=\"102.402596\" xlink:href=\"#m5a819844d9\" y=\"65.868686\"/>\n     <use style=\"fill:#1f77b4;stroke:#1f77b4;\" x=\"102.479462\" xlink:href=\"#m5a819844d9\" y=\"58.716141\"/>\n     <use style=\"fill:#1f77b4;stroke:#1f77b4;\" x=\"142.167318\" xlink:href=\"#m5a819844d9\" y=\"66.23621\"/>\n     <use style=\"fill:#1f77b4;stroke:#1f77b4;\" x=\"123.521582\" xlink:href=\"#m5a819844d9\" y=\"87.470324\"/>\n     <use style=\"fill:#1f77b4;stroke:#1f77b4;\" x=\"122.605757\" xlink:href=\"#m5a819844d9\" y=\"73.650298\"/>\n     <use style=\"fill:#1f77b4;stroke:#1f77b4;\" x=\"144.995892\" xlink:href=\"#m5a819844d9\" y=\"80.067749\"/>\n     <use style=\"fill:#1f77b4;stroke:#1f77b4;\" x=\"106.825421\" xlink:href=\"#m5a819844d9\" y=\"76.069962\"/>\n     <use style=\"fill:#1f77b4;stroke:#1f77b4;\" x=\"140.956961\" xlink:href=\"#m5a819844d9\" y=\"72.5976\"/>\n     <use style=\"fill:#1f77b4;stroke:#1f77b4;\" x=\"140.957285\" xlink:href=\"#m5a819844d9\" y=\"85.749186\"/>\n     <use style=\"fill:#1f77b4;stroke:#1f77b4;\" x=\"171.463193\" xlink:href=\"#m5a819844d9\" y=\"90.377558\"/>\n     <use style=\"fill:#1f77b4;stroke:#1f77b4;\" x=\"164.948807\" xlink:href=\"#m5a819844d9\" y=\"84.528287\"/>\n     <use style=\"fill:#1f77b4;stroke:#1f77b4;\" x=\"146.359188\" xlink:href=\"#m5a819844d9\" y=\"82.83692\"/>\n     <use style=\"fill:#1f77b4;stroke:#1f77b4;\" x=\"127.985615\" xlink:href=\"#m5a819844d9\" y=\"59.073236\"/>\n     <use style=\"fill:#1f77b4;stroke:#1f77b4;\" x=\"125.257187\" xlink:href=\"#m5a819844d9\" y=\"63.720178\"/>\n     <use style=\"fill:#1f77b4;stroke:#1f77b4;\" x=\"158.106291\" xlink:href=\"#m5a819844d9\" y=\"90.969409\"/>\n     <use style=\"fill:#1f77b4;stroke:#1f77b4;\" x=\"168.642686\" xlink:href=\"#m5a819844d9\" y=\"99.557002\"/>\n     <use style=\"fill:#1f77b4;stroke:#1f77b4;\" x=\"102.179155\" xlink:href=\"#m5a819844d9\" y=\"56.397854\"/>\n     <use style=\"fill:#1f77b4;stroke:#1f77b4;\" x=\"112.563177\" xlink:href=\"#m5a819844d9\" y=\"58.754133\"/>\n     <use style=\"fill:#1f77b4;stroke:#1f77b4;\" x=\"156.25406\" xlink:href=\"#m5a819844d9\" y=\"69.755045\"/>\n     <use style=\"fill:#1f77b4;stroke:#1f77b4;\" x=\"92.71882\" xlink:href=\"#m5a819844d9\" y=\"47.453321\"/>\n     <use style=\"fill:#1f77b4;stroke:#1f77b4;\" x=\"130.202106\" xlink:href=\"#m5a819844d9\" y=\"48.9614\"/>\n     <use style=\"fill:#1f77b4;stroke:#1f77b4;\" x=\"105.386849\" xlink:href=\"#m5a819844d9\" y=\"44.564256\"/>\n     <use style=\"fill:#1f77b4;stroke:#1f77b4;\" x=\"94.6747\" xlink:href=\"#m5a819844d9\" y=\"57.032555\"/>\n     <use style=\"fill:#1f77b4;stroke:#1f77b4;\" x=\"114.780103\" xlink:href=\"#m5a819844d9\" y=\"60.475056\"/>\n     <use style=\"fill:#1f77b4;stroke:#1f77b4;\" x=\"158.797805\" xlink:href=\"#m5a819844d9\" y=\"86.581266\"/>\n     <use style=\"fill:#1f77b4;stroke:#1f77b4;\" x=\"108.54649\" xlink:href=\"#m5a819844d9\" y=\"57.032973\"/>\n     <use style=\"fill:#1f77b4;stroke:#1f77b4;\" x=\"84.74739\" xlink:href=\"#m5a819844d9\" y=\"46.449517\"/>\n     <use style=\"fill:#1f77b4;stroke:#1f77b4;\" x=\"106.663149\" xlink:href=\"#m5a819844d9\" y=\"54.079395\"/>\n     <use style=\"fill:#1f77b4;stroke:#1f77b4;\" x=\"152.840131\" xlink:href=\"#m5a819844d9\" y=\"83.885767\"/>\n     <use style=\"fill:#1f77b4;stroke:#1f77b4;\" x=\"162.427691\" xlink:href=\"#m5a819844d9\" y=\"91.605351\"/>\n     <use style=\"fill:#1f77b4;stroke:#1f77b4;\" x=\"117.569792\" xlink:href=\"#m5a819844d9\" y=\"44.684233\"/>\n     <use style=\"fill:#1f77b4;stroke:#1f77b4;\" x=\"132.701438\" xlink:href=\"#m5a819844d9\" y=\"65.176114\"/>\n     <use style=\"fill:#1f77b4;stroke:#1f77b4;\" x=\"158.931713\" xlink:href=\"#m5a819844d9\" y=\"78.326534\"/>\n     <use style=\"fill:#1f77b4;stroke:#1f77b4;\" x=\"160.700491\" xlink:href=\"#m5a819844d9\" y=\"90.670106\"/>\n     <use style=\"fill:#1f77b4;stroke:#1f77b4;\" x=\"124.838091\" xlink:href=\"#m5a819844d9\" y=\"62.879293\"/>\n     <use style=\"fill:#1f77b4;stroke:#1f77b4;\" x=\"136.163708\" xlink:href=\"#m5a819844d9\" y=\"75.913282\"/>\n     <use style=\"fill:#1f77b4;stroke:#1f77b4;\" x=\"149.818135\" xlink:href=\"#m5a819844d9\" y=\"84.401423\"/>\n     <use style=\"fill:#1f77b4;stroke:#1f77b4;\" x=\"101.026078\" xlink:href=\"#m5a819844d9\" y=\"46.18041\"/>\n     <use style=\"fill:#1f77b4;stroke:#1f77b4;\" x=\"179.605856\" xlink:href=\"#m5a819844d9\" y=\"104.772195\"/>\n     <use style=\"fill:#1f77b4;stroke:#1f77b4;\" x=\"141.883157\" xlink:href=\"#m5a819844d9\" y=\"80.039947\"/>\n     <use style=\"fill:#1f77b4;stroke:#1f77b4;\" x=\"162.74079\" xlink:href=\"#m5a819844d9\" y=\"76.400443\"/>\n     <use style=\"fill:#1f77b4;stroke:#1f77b4;\" x=\"131.57328\" xlink:href=\"#m5a819844d9\" y=\"76.010491\"/>\n     <use style=\"fill:#1f77b4;stroke:#1f77b4;\" x=\"146.090681\" xlink:href=\"#m5a819844d9\" y=\"59.870171\"/>\n     <use style=\"fill:#1f77b4;stroke:#1f77b4;\" x=\"103.323818\" xlink:href=\"#m5a819844d9\" y=\"66.220062\"/>\n     <use style=\"fill:#1f77b4;stroke:#1f77b4;\" x=\"142.412292\" xlink:href=\"#m5a819844d9\" y=\"78.269603\"/>\n     <use style=\"fill:#1f77b4;stroke:#1f77b4;\" x=\"115.509565\" xlink:href=\"#m5a819844d9\" y=\"61.016133\"/>\n     <use style=\"fill:#1f77b4;stroke:#1f77b4;\" x=\"113.856786\" xlink:href=\"#m5a819844d9\" y=\"49.585965\"/>\n     <use style=\"fill:#1f77b4;stroke:#1f77b4;\" x=\"146.159892\" xlink:href=\"#m5a819844d9\" y=\"72.062127\"/>\n     <use style=\"fill:#1f77b4;stroke:#1f77b4;\" x=\"175.504119\" xlink:href=\"#m5a819844d9\" y=\"83.314934\"/>\n     <use style=\"fill:#1f77b4;stroke:#1f77b4;\" x=\"109.353401\" xlink:href=\"#m5a819844d9\" y=\"68.257137\"/>\n     <use style=\"fill:#1f77b4;stroke:#1f77b4;\" x=\"111.42371\" xlink:href=\"#m5a819844d9\" y=\"45.529981\"/>\n     <use style=\"fill:#1f77b4;stroke:#1f77b4;\" x=\"123.682939\" xlink:href=\"#m5a819844d9\" y=\"60.810145\"/>\n     <use style=\"fill:#1f77b4;stroke:#1f77b4;\" x=\"118.910723\" xlink:href=\"#m5a819844d9\" y=\"68.701089\"/>\n     <use style=\"fill:#1f77b4;stroke:#1f77b4;\" x=\"134.397889\" xlink:href=\"#m5a819844d9\" y=\"75.548046\"/>\n     <use style=\"fill:#1f77b4;stroke:#1f77b4;\" x=\"87.268263\" xlink:href=\"#m5a819844d9\" y=\"30.196817\"/>\n     <use style=\"fill:#1f77b4;stroke:#1f77b4;\" x=\"149.952018\" xlink:href=\"#m5a819844d9\" y=\"93.095304\"/>\n     <use style=\"fill:#1f77b4;stroke:#1f77b4;\" x=\"135.623126\" xlink:href=\"#m5a819844d9\" y=\"76.59074\"/>\n     <use style=\"fill:#1f77b4;stroke:#1f77b4;\" x=\"182.536847\" xlink:href=\"#m5a819844d9\" y=\"108.259804\"/>\n     <use style=\"fill:#1f77b4;stroke:#1f77b4;\" x=\"151.892124\" xlink:href=\"#m5a819844d9\" y=\"66.897202\"/>\n     <use style=\"fill:#1f77b4;stroke:#1f77b4;\" x=\"92.002109\" xlink:href=\"#m5a819844d9\" y=\"53.827819\"/>\n     <use style=\"fill:#1f77b4;stroke:#1f77b4;\" x=\"124.956483\" xlink:href=\"#m5a819844d9\" y=\"43.218644\"/>\n     <use style=\"fill:#1f77b4;stroke:#1f77b4;\" x=\"92.109416\" xlink:href=\"#m5a819844d9\" y=\"36.554697\"/>\n     <use style=\"fill:#1f77b4;stroke:#1f77b4;\" x=\"63.356044\" xlink:href=\"#m5a819844d9\" y=\"37.944455\"/>\n     <use style=\"fill:#1f77b4;stroke:#1f77b4;\" x=\"93.326527\" xlink:href=\"#m5a819844d9\" y=\"50.339084\"/>\n     <use style=\"fill:#1f77b4;stroke:#1f77b4;\" x=\"139.69744\" xlink:href=\"#m5a819844d9\" y=\"72.176074\"/>\n     <use style=\"fill:#1f77b4;stroke:#1f77b4;\" x=\"116.042141\" xlink:href=\"#m5a819844d9\" y=\"66.881681\"/>\n     <use style=\"fill:#1f77b4;stroke:#1f77b4;\" x=\"87.103082\" xlink:href=\"#m5a819844d9\" y=\"45.689688\"/>\n     <use style=\"fill:#1f77b4;stroke:#1f77b4;\" x=\"159.104958\" xlink:href=\"#m5a819844d9\" y=\"73.341547\"/>\n     <use style=\"fill:#1f77b4;stroke:#1f77b4;\" x=\"123.202941\" xlink:href=\"#m5a819844d9\" y=\"61.348683\"/>\n     <use style=\"fill:#1f77b4;stroke:#1f77b4;\" x=\"133.268589\" xlink:href=\"#m5a819844d9\" y=\"70.05452\"/>\n     <use style=\"fill:#1f77b4;stroke:#1f77b4;\" x=\"140.673578\" xlink:href=\"#m5a819844d9\" y=\"65.494729\"/>\n     <use style=\"fill:#1f77b4;stroke:#1f77b4;\" x=\"126.706542\" xlink:href=\"#m5a819844d9\" y=\"57.060748\"/>\n     <use style=\"fill:#1f77b4;stroke:#1f77b4;\" x=\"157.507568\" xlink:href=\"#m5a819844d9\" y=\"75.681843\"/>\n     <use style=\"fill:#1f77b4;stroke:#1f77b4;\" x=\"114.177502\" xlink:href=\"#m5a819844d9\" y=\"41.262884\"/>\n     <use style=\"fill:#1f77b4;stroke:#1f77b4;\" x=\"157.913991\" xlink:href=\"#m5a819844d9\" y=\"70.854655\"/>\n     <use style=\"fill:#1f77b4;stroke:#1f77b4;\" x=\"131.803462\" xlink:href=\"#m5a819844d9\" y=\"63.833233\"/>\n     <use style=\"fill:#1f77b4;stroke:#1f77b4;\" x=\"117.856316\" xlink:href=\"#m5a819844d9\" y=\"52.693853\"/>\n     <use style=\"fill:#1f77b4;stroke:#1f77b4;\" x=\"157.163544\" xlink:href=\"#m5a819844d9\" y=\"74.99831\"/>\n     <use style=\"fill:#1f77b4;stroke:#1f77b4;\" x=\"168.421231\" xlink:href=\"#m5a819844d9\" y=\"96.841569\"/>\n     <use style=\"fill:#1f77b4;stroke:#1f77b4;\" x=\"134.855829\" xlink:href=\"#m5a819844d9\" y=\"61.915615\"/>\n     <use style=\"fill:#1f77b4;stroke:#1f77b4;\" x=\"116.151715\" xlink:href=\"#m5a819844d9\" y=\"64.207355\"/>\n     <use style=\"fill:#1f77b4;stroke:#1f77b4;\" x=\"109.920074\" xlink:href=\"#m5a819844d9\" y=\"42.459\"/>\n     <use style=\"fill:#1f77b4;stroke:#1f77b4;\" x=\"115.189084\" xlink:href=\"#m5a819844d9\" y=\"68.387719\"/>\n     <use style=\"fill:#1f77b4;stroke:#1f77b4;\" x=\"163.992352\" xlink:href=\"#m5a819844d9\" y=\"93.413239\"/>\n     <use style=\"fill:#1f77b4;stroke:#1f77b4;\" x=\"130.363047\" xlink:href=\"#m5a819844d9\" y=\"72.095312\"/>\n     <use style=\"fill:#1f77b4;stroke:#1f77b4;\" x=\"113.844455\" xlink:href=\"#m5a819844d9\" y=\"56.055661\"/>\n     <use style=\"fill:#1f77b4;stroke:#1f77b4;\" x=\"151.354067\" xlink:href=\"#m5a819844d9\" y=\"83.649446\"/>\n     <use style=\"fill:#1f77b4;stroke:#1f77b4;\" x=\"151.876425\" xlink:href=\"#m5a819844d9\" y=\"98.597956\"/>\n     <use style=\"fill:#1f77b4;stroke:#1f77b4;\" x=\"126.438025\" xlink:href=\"#m5a819844d9\" y=\"55.428469\"/>\n     <use style=\"fill:#1f77b4;stroke:#1f77b4;\" x=\"62.146283\" xlink:href=\"#m5a819844d9\" y=\"24.69601\"/>\n     <use style=\"fill:#1f77b4;stroke:#1f77b4;\" x=\"128.105887\" xlink:href=\"#m5a819844d9\" y=\"65.904204\"/>\n     <use style=\"fill:#1f77b4;stroke:#1f77b4;\" x=\"85.591357\" xlink:href=\"#m5a819844d9\" y=\"44.67422\"/>\n     <use style=\"fill:#1f77b4;stroke:#1f77b4;\" x=\"143.913185\" xlink:href=\"#m5a819844d9\" y=\"82.402482\"/>\n     <use style=\"fill:#1f77b4;stroke:#1f77b4;\" x=\"185.010462\" xlink:href=\"#m5a819844d9\" y=\"94.388037\"/>\n     <use style=\"fill:#1f77b4;stroke:#1f77b4;\" x=\"150.09586\" xlink:href=\"#m5a819844d9\" y=\"84.825674\"/>\n     <use style=\"fill:#1f77b4;stroke:#1f77b4;\" x=\"63.109337\" xlink:href=\"#m5a819844d9\" y=\"43.695136\"/>\n     <use style=\"fill:#1f77b4;stroke:#1f77b4;\" x=\"116.838789\" xlink:href=\"#m5a819844d9\" y=\"61.40188\"/>\n     <use style=\"fill:#1f77b4;stroke:#1f77b4;\" x=\"102.401196\" xlink:href=\"#m5a819844d9\" y=\"47.615313\"/>\n     <use style=\"fill:#1f77b4;stroke:#1f77b4;\" x=\"141.44652\" xlink:href=\"#m5a819844d9\" y=\"79.795182\"/>\n     <use style=\"fill:#1f77b4;stroke:#1f77b4;\" x=\"134.720411\" xlink:href=\"#m5a819844d9\" y=\"67.001594\"/>\n     <use style=\"fill:#1f77b4;stroke:#1f77b4;\" x=\"140.635213\" xlink:href=\"#m5a819844d9\" y=\"71.296852\"/>\n     <use style=\"fill:#1f77b4;stroke:#1f77b4;\" x=\"128.998934\" xlink:href=\"#m5a819844d9\" y=\"61.312306\"/>\n     <use style=\"fill:#1f77b4;stroke:#1f77b4;\" x=\"147.3947\" xlink:href=\"#m5a819844d9\" y=\"74.678196\"/>\n     <use style=\"fill:#1f77b4;stroke:#1f77b4;\" x=\"112.822388\" xlink:href=\"#m5a819844d9\" y=\"60.754766\"/>\n     <use style=\"fill:#1f77b4;stroke:#1f77b4;\" x=\"98.712977\" xlink:href=\"#m5a819844d9\" y=\"43.913008\"/>\n     <use style=\"fill:#1f77b4;stroke:#1f77b4;\" x=\"136.237223\" xlink:href=\"#m5a819844d9\" y=\"77.103067\"/>\n     <use style=\"fill:#1f77b4;stroke:#1f77b4;\" x=\"180.57395\" xlink:href=\"#m5a819844d9\" y=\"89.412238\"/>\n     <use style=\"fill:#1f77b4;stroke:#1f77b4;\" x=\"104.256997\" xlink:href=\"#m5a819844d9\" y=\"61.315208\"/>\n     <use style=\"fill:#1f77b4;stroke:#1f77b4;\" x=\"114.493443\" xlink:href=\"#m5a819844d9\" y=\"75.030623\"/>\n     <use style=\"fill:#1f77b4;stroke:#1f77b4;\" x=\"122.305329\" xlink:href=\"#m5a819844d9\" y=\"72.544591\"/>\n     <use style=\"fill:#1f77b4;stroke:#1f77b4;\" x=\"90.140117\" xlink:href=\"#m5a819844d9\" y=\"49.97733\"/>\n     <use style=\"fill:#1f77b4;stroke:#1f77b4;\" x=\"142.320119\" xlink:href=\"#m5a819844d9\" y=\"66.938986\"/>\n     <use style=\"fill:#1f77b4;stroke:#1f77b4;\" x=\"142.275534\" xlink:href=\"#m5a819844d9\" y=\"59.369592\"/>\n     <use style=\"fill:#1f77b4;stroke:#1f77b4;\" x=\"103.988395\" xlink:href=\"#m5a819844d9\" y=\"55.770493\"/>\n     <use style=\"fill:#1f77b4;stroke:#1f77b4;\" x=\"93.58077\" xlink:href=\"#m5a819844d9\" y=\"44.477122\"/>\n     <use style=\"fill:#1f77b4;stroke:#1f77b4;\" x=\"140.513268\" xlink:href=\"#m5a819844d9\" y=\"82.843148\"/>\n     <use style=\"fill:#1f77b4;stroke:#1f77b4;\" x=\"144.578779\" xlink:href=\"#m5a819844d9\" y=\"71.34605\"/>\n     <use style=\"fill:#1f77b4;stroke:#1f77b4;\" x=\"129.17536\" xlink:href=\"#m5a819844d9\" y=\"68.065649\"/>\n     <use style=\"fill:#1f77b4;stroke:#1f77b4;\" x=\"146.687214\" xlink:href=\"#m5a819844d9\" y=\"83.871082\"/>\n     <use style=\"fill:#1f77b4;stroke:#1f77b4;\" x=\"103.562423\" xlink:href=\"#m5a819844d9\" y=\"54.355666\"/>\n     <use style=\"fill:#1f77b4;stroke:#1f77b4;\" x=\"146.520091\" xlink:href=\"#m5a819844d9\" y=\"82.919206\"/>\n     <use style=\"fill:#1f77b4;stroke:#1f77b4;\" x=\"100.768205\" xlink:href=\"#m5a819844d9\" y=\"51.627466\"/>\n     <use style=\"fill:#1f77b4;stroke:#1f77b4;\" x=\"176.670129\" xlink:href=\"#m5a819844d9\" y=\"91.411039\"/>\n     <use style=\"fill:#1f77b4;stroke:#1f77b4;\" x=\"95.180782\" xlink:href=\"#m5a819844d9\" y=\"35.556512\"/>\n     <use style=\"fill:#1f77b4;stroke:#1f77b4;\" x=\"140.741594\" xlink:href=\"#m5a819844d9\" y=\"72.912693\"/>\n     <use style=\"fill:#1f77b4;stroke:#1f77b4;\" x=\"66.381253\" xlink:href=\"#m5a819844d9\" y=\"13.377273\"/>\n     <use style=\"fill:#1f77b4;stroke:#1f77b4;\" x=\"191.04999\" xlink:href=\"#m5a819844d9\" y=\"78.086847\"/>\n     <use style=\"fill:#1f77b4;stroke:#1f77b4;\" x=\"158.819375\" xlink:href=\"#m5a819844d9\" y=\"78.850037\"/>\n     <use style=\"fill:#1f77b4;stroke:#1f77b4;\" x=\"175.310903\" xlink:href=\"#m5a819844d9\" y=\"90.555384\"/>\n     <use style=\"fill:#1f77b4;stroke:#1f77b4;\" x=\"154.013655\" xlink:href=\"#m5a819844d9\" y=\"92.442711\"/>\n     <use style=\"fill:#1f77b4;stroke:#1f77b4;\" x=\"116.352039\" xlink:href=\"#m5a819844d9\" y=\"80.270157\"/>\n     <use style=\"fill:#1f77b4;stroke:#1f77b4;\" x=\"177.08853\" xlink:href=\"#m5a819844d9\" y=\"108.191843\"/>\n     <use style=\"fill:#1f77b4;stroke:#1f77b4;\" x=\"98.47289\" xlink:href=\"#m5a819844d9\" y=\"40.260084\"/>\n     <use style=\"fill:#1f77b4;stroke:#1f77b4;\" x=\"125.788311\" xlink:href=\"#m5a819844d9\" y=\"69.301835\"/>\n     <use style=\"fill:#1f77b4;stroke:#1f77b4;\" x=\"125.060994\" xlink:href=\"#m5a819844d9\" y=\"65.236435\"/>\n     <use style=\"fill:#1f77b4;stroke:#1f77b4;\" x=\"155.621588\" xlink:href=\"#m5a819844d9\" y=\"75.109517\"/>\n     <use style=\"fill:#1f77b4;stroke:#1f77b4;\" x=\"155.131856\" xlink:href=\"#m5a819844d9\" y=\"68.241378\"/>\n     <use style=\"fill:#1f77b4;stroke:#1f77b4;\" x=\"72.106814\" xlink:href=\"#m5a819844d9\" y=\"49.732951\"/>\n     <use style=\"fill:#1f77b4;stroke:#1f77b4;\" x=\"140.473684\" xlink:href=\"#m5a819844d9\" y=\"78.67312\"/>\n     <use style=\"fill:#1f77b4;stroke:#1f77b4;\" x=\"142.428473\" xlink:href=\"#m5a819844d9\" y=\"75.60842\"/>\n     <use style=\"fill:#1f77b4;stroke:#1f77b4;\" x=\"103.526883\" xlink:href=\"#m5a819844d9\" y=\"40.221407\"/>\n     <use style=\"fill:#1f77b4;stroke:#1f77b4;\" x=\"149.8855\" xlink:href=\"#m5a819844d9\" y=\"75.659901\"/>\n     <use style=\"fill:#1f77b4;stroke:#1f77b4;\" x=\"133.986168\" xlink:href=\"#m5a819844d9\" y=\"67.973728\"/>\n     <use style=\"fill:#1f77b4;stroke:#1f77b4;\" x=\"158.627079\" xlink:href=\"#m5a819844d9\" y=\"75.144434\"/>\n     <use style=\"fill:#1f77b4;stroke:#1f77b4;\" x=\"124.766302\" xlink:href=\"#m5a819844d9\" y=\"64.717799\"/>\n     <use style=\"fill:#1f77b4;stroke:#1f77b4;\" x=\"121.467376\" xlink:href=\"#m5a819844d9\" y=\"65.287415\"/>\n     <use style=\"fill:#1f77b4;stroke:#1f77b4;\" x=\"116.193674\" xlink:href=\"#m5a819844d9\" y=\"66.052284\"/>\n     <use style=\"fill:#1f77b4;stroke:#1f77b4;\" x=\"89.366205\" xlink:href=\"#m5a819844d9\" y=\"49.074904\"/>\n     <use style=\"fill:#1f77b4;stroke:#1f77b4;\" x=\"111.556312\" xlink:href=\"#m5a819844d9\" y=\"60.568674\"/>\n     <use style=\"fill:#1f77b4;stroke:#1f77b4;\" x=\"146.131182\" xlink:href=\"#m5a819844d9\" y=\"76.259846\"/>\n     <use style=\"fill:#1f77b4;stroke:#1f77b4;\" x=\"101.881368\" xlink:href=\"#m5a819844d9\" y=\"54.326152\"/>\n     <use style=\"fill:#1f77b4;stroke:#1f77b4;\" x=\"135.518146\" xlink:href=\"#m5a819844d9\" y=\"85.159184\"/>\n     <use style=\"fill:#1f77b4;stroke:#1f77b4;\" x=\"166.261696\" xlink:href=\"#m5a819844d9\" y=\"93.163487\"/>\n     <use style=\"fill:#1f77b4;stroke:#1f77b4;\" x=\"112.701654\" xlink:href=\"#m5a819844d9\" y=\"64.466635\"/>\n     <use style=\"fill:#1f77b4;stroke:#1f77b4;\" x=\"125.009807\" xlink:href=\"#m5a819844d9\" y=\"56.584866\"/>\n     <use style=\"fill:#1f77b4;stroke:#1f77b4;\" x=\"124.351571\" xlink:href=\"#m5a819844d9\" y=\"53.385463\"/>\n     <use style=\"fill:#1f77b4;stroke:#1f77b4;\" x=\"173.77404\" xlink:href=\"#m5a819844d9\" y=\"100.00227\"/>\n     <use style=\"fill:#1f77b4;stroke:#1f77b4;\" x=\"141.526953\" xlink:href=\"#m5a819844d9\" y=\"73.081487\"/>\n     <use style=\"fill:#1f77b4;stroke:#1f77b4;\" x=\"112.125626\" xlink:href=\"#m5a819844d9\" y=\"44.875964\"/>\n     <use style=\"fill:#1f77b4;stroke:#1f77b4;\" x=\"150.875564\" xlink:href=\"#m5a819844d9\" y=\"58.295713\"/>\n     <use style=\"fill:#1f77b4;stroke:#1f77b4;\" x=\"165.030423\" xlink:href=\"#m5a819844d9\" y=\"75.362284\"/>\n     <use style=\"fill:#1f77b4;stroke:#1f77b4;\" x=\"157.216903\" xlink:href=\"#m5a819844d9\" y=\"86.904811\"/>\n     <use style=\"fill:#1f77b4;stroke:#1f77b4;\" x=\"106.103723\" xlink:href=\"#m5a819844d9\" y=\"60.165321\"/>\n     <use style=\"fill:#1f77b4;stroke:#1f77b4;\" x=\"89.52711\" xlink:href=\"#m5a819844d9\" y=\"34.914149\"/>\n     <use style=\"fill:#1f77b4;stroke:#1f77b4;\" x=\"102.346836\" xlink:href=\"#m5a819844d9\" y=\"49.497928\"/>\n     <use style=\"fill:#1f77b4;stroke:#1f77b4;\" x=\"133.35825\" xlink:href=\"#m5a819844d9\" y=\"74.772604\"/>\n     <use style=\"fill:#1f77b4;stroke:#1f77b4;\" x=\"147.135593\" xlink:href=\"#m5a819844d9\" y=\"79.479146\"/>\n     <use style=\"fill:#1f77b4;stroke:#1f77b4;\" x=\"140.490061\" xlink:href=\"#m5a819844d9\" y=\"73.284128\"/>\n     <use style=\"fill:#1f77b4;stroke:#1f77b4;\" x=\"138.285932\" xlink:href=\"#m5a819844d9\" y=\"87.701306\"/>\n     <use style=\"fill:#1f77b4;stroke:#1f77b4;\" x=\"152.91345\" xlink:href=\"#m5a819844d9\" y=\"71.200325\"/>\n     <use style=\"fill:#1f77b4;stroke:#1f77b4;\" x=\"117.539959\" xlink:href=\"#m5a819844d9\" y=\"53.400257\"/>\n     <use style=\"fill:#1f77b4;stroke:#1f77b4;\" x=\"172.694829\" xlink:href=\"#m5a819844d9\" y=\"81.031341\"/>\n     <use style=\"fill:#1f77b4;stroke:#1f77b4;\" x=\"134.442452\" xlink:href=\"#m5a819844d9\" y=\"76.734856\"/>\n     <use style=\"fill:#1f77b4;stroke:#1f77b4;\" x=\"168.072854\" xlink:href=\"#m5a819844d9\" y=\"87.107869\"/>\n     <use style=\"fill:#1f77b4;stroke:#1f77b4;\" x=\"134.783513\" xlink:href=\"#m5a819844d9\" y=\"75.944881\"/>\n     <use style=\"fill:#1f77b4;stroke:#1f77b4;\" x=\"119.570071\" xlink:href=\"#m5a819844d9\" y=\"69.939683\"/>\n     <use style=\"fill:#1f77b4;stroke:#1f77b4;\" x=\"165.050991\" xlink:href=\"#m5a819844d9\" y=\"77.595406\"/>\n     <use style=\"fill:#1f77b4;stroke:#1f77b4;\" x=\"74.285849\" xlink:href=\"#m5a819844d9\" y=\"30.410894\"/>\n     <use style=\"fill:#1f77b4;stroke:#1f77b4;\" x=\"97.409718\" xlink:href=\"#m5a819844d9\" y=\"53.020847\"/>\n     <use style=\"fill:#1f77b4;stroke:#1f77b4;\" x=\"140.337635\" xlink:href=\"#m5a819844d9\" y=\"86.426045\"/>\n     <use style=\"fill:#1f77b4;stroke:#1f77b4;\" x=\"152.583331\" xlink:href=\"#m5a819844d9\" y=\"93.211042\"/>\n     <use style=\"fill:#1f77b4;stroke:#1f77b4;\" x=\"102.913572\" xlink:href=\"#m5a819844d9\" y=\"63.257468\"/>\n     <use style=\"fill:#1f77b4;stroke:#1f77b4;\" x=\"130.470876\" xlink:href=\"#m5a819844d9\" y=\"65.257813\"/>\n     <use style=\"fill:#1f77b4;stroke:#1f77b4;\" x=\"151.992838\" xlink:href=\"#m5a819844d9\" y=\"70.044783\"/>\n     <use style=\"fill:#1f77b4;stroke:#1f77b4;\" x=\"91.743423\" xlink:href=\"#m5a819844d9\" y=\"33.24256\"/>\n     <use style=\"fill:#1f77b4;stroke:#1f77b4;\" x=\"101.791226\" xlink:href=\"#m5a819844d9\" y=\"57.538571\"/>\n     <use style=\"fill:#1f77b4;stroke:#1f77b4;\" x=\"145.881056\" xlink:href=\"#m5a819844d9\" y=\"84.88634\"/>\n     <use style=\"fill:#1f77b4;stroke:#1f77b4;\" x=\"135.394149\" xlink:href=\"#m5a819844d9\" y=\"69.385259\"/>\n     <use style=\"fill:#1f77b4;stroke:#1f77b4;\" x=\"127.992823\" xlink:href=\"#m5a819844d9\" y=\"68.073059\"/>\n     <use style=\"fill:#1f77b4;stroke:#1f77b4;\" x=\"146.076964\" xlink:href=\"#m5a819844d9\" y=\"70.756534\"/>\n     <use style=\"fill:#1f77b4;stroke:#1f77b4;\" x=\"117.165823\" xlink:href=\"#m5a819844d9\" y=\"55.356484\"/>\n     <use style=\"fill:#1f77b4;stroke:#1f77b4;\" x=\"124.627758\" xlink:href=\"#m5a819844d9\" y=\"50.761461\"/>\n     <use style=\"fill:#1f77b4;stroke:#1f77b4;\" x=\"119.239811\" xlink:href=\"#m5a819844d9\" y=\"68.007756\"/>\n     <use style=\"fill:#1f77b4;stroke:#1f77b4;\" x=\"77.172252\" xlink:href=\"#m5a819844d9\" y=\"24.628928\"/>\n     <use style=\"fill:#1f77b4;stroke:#1f77b4;\" x=\"126.068007\" xlink:href=\"#m5a819844d9\" y=\"38.496896\"/>\n     <use style=\"fill:#1f77b4;stroke:#1f77b4;\" x=\"124.723787\" xlink:href=\"#m5a819844d9\" y=\"49.402182\"/>\n     <use style=\"fill:#1f77b4;stroke:#1f77b4;\" x=\"141.321362\" xlink:href=\"#m5a819844d9\" y=\"86.632731\"/>\n     <use style=\"fill:#1f77b4;stroke:#1f77b4;\" x=\"132.717115\" xlink:href=\"#m5a819844d9\" y=\"63.9102\"/>\n     <use style=\"fill:#1f77b4;stroke:#1f77b4;\" x=\"74.219139\" xlink:href=\"#m5a819844d9\" y=\"37.516653\"/>\n     <use style=\"fill:#1f77b4;stroke:#1f77b4;\" x=\"121.985533\" xlink:href=\"#m5a819844d9\" y=\"51.963794\"/>\n     <use style=\"fill:#1f77b4;stroke:#1f77b4;\" x=\"104.401099\" xlink:href=\"#m5a819844d9\" y=\"51.211553\"/>\n     <use style=\"fill:#1f77b4;stroke:#1f77b4;\" x=\"78.242931\" xlink:href=\"#m5a819844d9\" y=\"32.956747\"/>\n     <use style=\"fill:#1f77b4;stroke:#1f77b4;\" x=\"100.410811\" xlink:href=\"#m5a819844d9\" y=\"56.836727\"/>\n     <use style=\"fill:#1f77b4;stroke:#1f77b4;\" x=\"125.197535\" xlink:href=\"#m5a819844d9\" y=\"49.291795\"/>\n     <use style=\"fill:#1f77b4;stroke:#1f77b4;\" x=\"126.088678\" xlink:href=\"#m5a819844d9\" y=\"59.612992\"/>\n     <use style=\"fill:#1f77b4;stroke:#1f77b4;\" x=\"130.771567\" xlink:href=\"#m5a819844d9\" y=\"56.874827\"/>\n     <use style=\"fill:#1f77b4;stroke:#1f77b4;\" x=\"104.004246\" xlink:href=\"#m5a819844d9\" y=\"52.90059\"/>\n     <use style=\"fill:#1f77b4;stroke:#1f77b4;\" x=\"160.930182\" xlink:href=\"#m5a819844d9\" y=\"77.639964\"/>\n     <use style=\"fill:#1f77b4;stroke:#1f77b4;\" x=\"105.919092\" xlink:href=\"#m5a819844d9\" y=\"49.836733\"/>\n     <use style=\"fill:#1f77b4;stroke:#1f77b4;\" x=\"94.994829\" xlink:href=\"#m5a819844d9\" y=\"44.465916\"/>\n     <use style=\"fill:#1f77b4;stroke:#1f77b4;\" x=\"153.37213\" xlink:href=\"#m5a819844d9\" y=\"84.741509\"/>\n     <use style=\"fill:#1f77b4;stroke:#1f77b4;\" x=\"148.954299\" xlink:href=\"#m5a819844d9\" y=\"86.267664\"/>\n     <use style=\"fill:#1f77b4;stroke:#1f77b4;\" x=\"124.216595\" xlink:href=\"#m5a819844d9\" y=\"66.542181\"/>\n     <use style=\"fill:#1f77b4;stroke:#1f77b4;\" x=\"132.978386\" xlink:href=\"#m5a819844d9\" y=\"91.384223\"/>\n     <use style=\"fill:#1f77b4;stroke:#1f77b4;\" x=\"119.217189\" xlink:href=\"#m5a819844d9\" y=\"49.691927\"/>\n     <use style=\"fill:#1f77b4;stroke:#1f77b4;\" x=\"135.223453\" xlink:href=\"#m5a819844d9\" y=\"79.940217\"/>\n     <use style=\"fill:#1f77b4;stroke:#1f77b4;\" x=\"110.295117\" xlink:href=\"#m5a819844d9\" y=\"48.616735\"/>\n     <use style=\"fill:#1f77b4;stroke:#1f77b4;\" x=\"99.990384\" xlink:href=\"#m5a819844d9\" y=\"40.396406\"/>\n     <use style=\"fill:#1f77b4;stroke:#1f77b4;\" x=\"96.589046\" xlink:href=\"#m5a819844d9\" y=\"57.828208\"/>\n     <use style=\"fill:#1f77b4;stroke:#1f77b4;\" x=\"145.991272\" xlink:href=\"#m5a819844d9\" y=\"71.911477\"/>\n     <use style=\"fill:#1f77b4;stroke:#1f77b4;\" x=\"127.106497\" xlink:href=\"#m5a819844d9\" y=\"59.467983\"/>\n     <use style=\"fill:#1f77b4;stroke:#1f77b4;\" x=\"136.371538\" xlink:href=\"#m5a819844d9\" y=\"75.003985\"/>\n     <use style=\"fill:#1f77b4;stroke:#1f77b4;\" x=\"82.986989\" xlink:href=\"#m5a819844d9\" y=\"45.371529\"/>\n     <use style=\"fill:#1f77b4;stroke:#1f77b4;\" x=\"107.565299\" xlink:href=\"#m5a819844d9\" y=\"70.347775\"/>\n     <use style=\"fill:#1f77b4;stroke:#1f77b4;\" x=\"145.614789\" xlink:href=\"#m5a819844d9\" y=\"76.419414\"/>\n     <use style=\"fill:#1f77b4;stroke:#1f77b4;\" x=\"148.275162\" xlink:href=\"#m5a819844d9\" y=\"67.882841\"/>\n     <use style=\"fill:#1f77b4;stroke:#1f77b4;\" x=\"121.101402\" xlink:href=\"#m5a819844d9\" y=\"65.891501\"/>\n     <use style=\"fill:#1f77b4;stroke:#1f77b4;\" x=\"110.275371\" xlink:href=\"#m5a819844d9\" y=\"46.721949\"/>\n     <use style=\"fill:#1f77b4;stroke:#1f77b4;\" x=\"106.998973\" xlink:href=\"#m5a819844d9\" y=\"48.441529\"/>\n     <use style=\"fill:#1f77b4;stroke:#1f77b4;\" x=\"166.599654\" xlink:href=\"#m5a819844d9\" y=\"91.956856\"/>\n     <use style=\"fill:#1f77b4;stroke:#1f77b4;\" x=\"109.424129\" xlink:href=\"#m5a819844d9\" y=\"48.01773\"/>\n     <use style=\"fill:#1f77b4;stroke:#1f77b4;\" x=\"93.150296\" xlink:href=\"#m5a819844d9\" y=\"53.827077\"/>\n     <use style=\"fill:#1f77b4;stroke:#1f77b4;\" x=\"102.198251\" xlink:href=\"#m5a819844d9\" y=\"49.239543\"/>\n     <use style=\"fill:#1f77b4;stroke:#1f77b4;\" x=\"129.465458\" xlink:href=\"#m5a819844d9\" y=\"75.037578\"/>\n     <use style=\"fill:#1f77b4;stroke:#1f77b4;\" x=\"149.618358\" xlink:href=\"#m5a819844d9\" y=\"98.109093\"/>\n     <use style=\"fill:#1f77b4;stroke:#1f77b4;\" x=\"98.701734\" xlink:href=\"#m5a819844d9\" y=\"34.112961\"/>\n     <use style=\"fill:#1f77b4;stroke:#1f77b4;\" x=\"116.468644\" xlink:href=\"#m5a819844d9\" y=\"69.19252\"/>\n     <use style=\"fill:#1f77b4;stroke:#1f77b4;\" x=\"131.115813\" xlink:href=\"#m5a819844d9\" y=\"61.034536\"/>\n     <use style=\"fill:#1f77b4;stroke:#1f77b4;\" x=\"134.885839\" xlink:href=\"#m5a819844d9\" y=\"53.480089\"/>\n     <use style=\"fill:#1f77b4;stroke:#1f77b4;\" x=\"168.606488\" xlink:href=\"#m5a819844d9\" y=\"89.698794\"/>\n     <use style=\"fill:#1f77b4;stroke:#1f77b4;\" x=\"153.61345\" xlink:href=\"#m5a819844d9\" y=\"74.422774\"/>\n     <use style=\"fill:#1f77b4;stroke:#1f77b4;\" x=\"93.704803\" xlink:href=\"#m5a819844d9\" y=\"39.952683\"/>\n     <use style=\"fill:#1f77b4;stroke:#1f77b4;\" x=\"159.744153\" xlink:href=\"#m5a819844d9\" y=\"87.629234\"/>\n     <use style=\"fill:#1f77b4;stroke:#1f77b4;\" x=\"154.944235\" xlink:href=\"#m5a819844d9\" y=\"89.142109\"/>\n     <use style=\"fill:#1f77b4;stroke:#1f77b4;\" x=\"126.372512\" xlink:href=\"#m5a819844d9\" y=\"64.38399\"/>\n     <use style=\"fill:#1f77b4;stroke:#1f77b4;\" x=\"153.303217\" xlink:href=\"#m5a819844d9\" y=\"65.100849\"/>\n     <use style=\"fill:#1f77b4;stroke:#1f77b4;\" x=\"170.239612\" xlink:href=\"#m5a819844d9\" y=\"89.395368\"/>\n     <use style=\"fill:#1f77b4;stroke:#1f77b4;\" x=\"107.178025\" xlink:href=\"#m5a819844d9\" y=\"59.761896\"/>\n     <use style=\"fill:#1f77b4;stroke:#1f77b4;\" x=\"128.671131\" xlink:href=\"#m5a819844d9\" y=\"72.923959\"/>\n     <use style=\"fill:#1f77b4;stroke:#1f77b4;\" x=\"117.231598\" xlink:href=\"#m5a819844d9\" y=\"76.173146\"/>\n     <use style=\"fill:#1f77b4;stroke:#1f77b4;\" x=\"115.058771\" xlink:href=\"#m5a819844d9\" y=\"62.10462\"/>\n     <use style=\"fill:#1f77b4;stroke:#1f77b4;\" x=\"106.083268\" xlink:href=\"#m5a819844d9\" y=\"52.249085\"/>\n     <use style=\"fill:#1f77b4;stroke:#1f77b4;\" x=\"150.408523\" xlink:href=\"#m5a819844d9\" y=\"73.401114\"/>\n     <use style=\"fill:#1f77b4;stroke:#1f77b4;\" x=\"114.776486\" xlink:href=\"#m5a819844d9\" y=\"42.950836\"/>\n     <use style=\"fill:#1f77b4;stroke:#1f77b4;\" x=\"105.352676\" xlink:href=\"#m5a819844d9\" y=\"57.432072\"/>\n     <use style=\"fill:#1f77b4;stroke:#1f77b4;\" x=\"119.687261\" xlink:href=\"#m5a819844d9\" y=\"71.954007\"/>\n     <use style=\"fill:#1f77b4;stroke:#1f77b4;\" x=\"177.15327\" xlink:href=\"#m5a819844d9\" y=\"99.653868\"/>\n     <use style=\"fill:#1f77b4;stroke:#1f77b4;\" x=\"128.214831\" xlink:href=\"#m5a819844d9\" y=\"73.10395\"/>\n     <use style=\"fill:#1f77b4;stroke:#1f77b4;\" x=\"136.765673\" xlink:href=\"#m5a819844d9\" y=\"68.044848\"/>\n     <use style=\"fill:#1f77b4;stroke:#1f77b4;\" x=\"84.124211\" xlink:href=\"#m5a819844d9\" y=\"37.114227\"/>\n     <use style=\"fill:#1f77b4;stroke:#1f77b4;\" x=\"97.041625\" xlink:href=\"#m5a819844d9\" y=\"56.199432\"/>\n     <use style=\"fill:#1f77b4;stroke:#1f77b4;\" x=\"175.518292\" xlink:href=\"#m5a819844d9\" y=\"94.473011\"/>\n     <use style=\"fill:#1f77b4;stroke:#1f77b4;\" x=\"84.697339\" xlink:href=\"#m5a819844d9\" y=\"38.852604\"/>\n     <use style=\"fill:#1f77b4;stroke:#1f77b4;\" x=\"135.827576\" xlink:href=\"#m5a819844d9\" y=\"77.971656\"/>\n     <use style=\"fill:#1f77b4;stroke:#1f77b4;\" x=\"140.372486\" xlink:href=\"#m5a819844d9\" y=\"76.556356\"/>\n     <use style=\"fill:#1f77b4;stroke:#1f77b4;\" x=\"117.344991\" xlink:href=\"#m5a819844d9\" y=\"61.02536\"/>\n     <use style=\"fill:#1f77b4;stroke:#1f77b4;\" x=\"169.36255\" xlink:href=\"#m5a819844d9\" y=\"87.931128\"/>\n     <use style=\"fill:#1f77b4;stroke:#1f77b4;\" x=\"167.579837\" xlink:href=\"#m5a819844d9\" y=\"90.707697\"/>\n     <use style=\"fill:#1f77b4;stroke:#1f77b4;\" x=\"141.109901\" xlink:href=\"#m5a819844d9\" y=\"72.983935\"/>\n     <use style=\"fill:#1f77b4;stroke:#1f77b4;\" x=\"141.173793\" xlink:href=\"#m5a819844d9\" y=\"72.455236\"/>\n     <use style=\"fill:#1f77b4;stroke:#1f77b4;\" x=\"133.059337\" xlink:href=\"#m5a819844d9\" y=\"73.122972\"/>\n     <use style=\"fill:#1f77b4;stroke:#1f77b4;\" x=\"108.651671\" xlink:href=\"#m5a819844d9\" y=\"58.761112\"/>\n     <use style=\"fill:#1f77b4;stroke:#1f77b4;\" x=\"217.075201\" xlink:href=\"#m5a819844d9\" y=\"106.259477\"/>\n     <use style=\"fill:#1f77b4;stroke:#1f77b4;\" x=\"86.017531\" xlink:href=\"#m5a819844d9\" y=\"33.958507\"/>\n     <use style=\"fill:#1f77b4;stroke:#1f77b4;\" x=\"87.822436\" xlink:href=\"#m5a819844d9\" y=\"33.263844\"/>\n     <use style=\"fill:#1f77b4;stroke:#1f77b4;\" x=\"140.388826\" xlink:href=\"#m5a819844d9\" y=\"79.820325\"/>\n     <use style=\"fill:#1f77b4;stroke:#1f77b4;\" x=\"136.694711\" xlink:href=\"#m5a819844d9\" y=\"58.709325\"/>\n     <use style=\"fill:#1f77b4;stroke:#1f77b4;\" x=\"137.516891\" xlink:href=\"#m5a819844d9\" y=\"61.989751\"/>\n     <use style=\"fill:#1f77b4;stroke:#1f77b4;\" x=\"105.918125\" xlink:href=\"#m5a819844d9\" y=\"56.48777\"/>\n     <use style=\"fill:#1f77b4;stroke:#1f77b4;\" x=\"149.016685\" xlink:href=\"#m5a819844d9\" y=\"82.633594\"/>\n     <use style=\"fill:#1f77b4;stroke:#1f77b4;\" x=\"121.144542\" xlink:href=\"#m5a819844d9\" y=\"70.395027\"/>\n     <use style=\"fill:#1f77b4;stroke:#1f77b4;\" x=\"106.795544\" xlink:href=\"#m5a819844d9\" y=\"61.505706\"/>\n     <use style=\"fill:#1f77b4;stroke:#1f77b4;\" x=\"74.423875\" xlink:href=\"#m5a819844d9\" y=\"50.885035\"/>\n     <use style=\"fill:#1f77b4;stroke:#1f77b4;\" x=\"119.945003\" xlink:href=\"#m5a819844d9\" y=\"66.666579\"/>\n     <use style=\"fill:#1f77b4;stroke:#1f77b4;\" x=\"159.495237\" xlink:href=\"#m5a819844d9\" y=\"84.698279\"/>\n     <use style=\"fill:#1f77b4;stroke:#1f77b4;\" x=\"141.814897\" xlink:href=\"#m5a819844d9\" y=\"85.06516\"/>\n     <use style=\"fill:#1f77b4;stroke:#1f77b4;\" x=\"150.914887\" xlink:href=\"#m5a819844d9\" y=\"91.883535\"/>\n     <use style=\"fill:#1f77b4;stroke:#1f77b4;\" x=\"160.617799\" xlink:href=\"#m5a819844d9\" y=\"94.457706\"/>\n     <use style=\"fill:#1f77b4;stroke:#1f77b4;\" x=\"145.398597\" xlink:href=\"#m5a819844d9\" y=\"83.947291\"/>\n     <use style=\"fill:#1f77b4;stroke:#1f77b4;\" x=\"123.021121\" xlink:href=\"#m5a819844d9\" y=\"78.816154\"/>\n     <use style=\"fill:#1f77b4;stroke:#1f77b4;\" x=\"102.716759\" xlink:href=\"#m5a819844d9\" y=\"42.076604\"/>\n     <use style=\"fill:#1f77b4;stroke:#1f77b4;\" x=\"139.359076\" xlink:href=\"#m5a819844d9\" y=\"80.034788\"/>\n     <use style=\"fill:#1f77b4;stroke:#1f77b4;\" x=\"142.850705\" xlink:href=\"#m5a819844d9\" y=\"68.151255\"/>\n     <use style=\"fill:#1f77b4;stroke:#1f77b4;\" x=\"148.574324\" xlink:href=\"#m5a819844d9\" y=\"74.628338\"/>\n     <use style=\"fill:#1f77b4;stroke:#1f77b4;\" x=\"133.419598\" xlink:href=\"#m5a819844d9\" y=\"60.545485\"/>\n     <use style=\"fill:#1f77b4;stroke:#1f77b4;\" x=\"107.257902\" xlink:href=\"#m5a819844d9\" y=\"47.119219\"/>\n     <use style=\"fill:#1f77b4;stroke:#1f77b4;\" x=\"141.408914\" xlink:href=\"#m5a819844d9\" y=\"71.230103\"/>\n     <use style=\"fill:#1f77b4;stroke:#1f77b4;\" x=\"141.83611\" xlink:href=\"#m5a819844d9\" y=\"89.879592\"/>\n     <use style=\"fill:#1f77b4;stroke:#1f77b4;\" x=\"103.970873\" xlink:href=\"#m5a819844d9\" y=\"38.545656\"/>\n     <use style=\"fill:#1f77b4;stroke:#1f77b4;\" x=\"88.760605\" xlink:href=\"#m5a819844d9\" y=\"58.841043\"/>\n     <use style=\"fill:#1f77b4;stroke:#1f77b4;\" x=\"116.461091\" xlink:href=\"#m5a819844d9\" y=\"68.461853\"/>\n     <use style=\"fill:#1f77b4;stroke:#1f77b4;\" x=\"108.964609\" xlink:href=\"#m5a819844d9\" y=\"71.047477\"/>\n     <use style=\"fill:#1f77b4;stroke:#1f77b4;\" x=\"182.800256\" xlink:href=\"#m5a819844d9\" y=\"97.844436\"/>\n     <use style=\"fill:#1f77b4;stroke:#1f77b4;\" x=\"147.300992\" xlink:href=\"#m5a819844d9\" y=\"70.472521\"/>\n     <use style=\"fill:#1f77b4;stroke:#1f77b4;\" x=\"84.37217\" xlink:href=\"#m5a819844d9\" y=\"39.051261\"/>\n     <use style=\"fill:#1f77b4;stroke:#1f77b4;\" x=\"125.301726\" xlink:href=\"#m5a819844d9\" y=\"75.207182\"/>\n     <use style=\"fill:#1f77b4;stroke:#1f77b4;\" x=\"112.700841\" xlink:href=\"#m5a819844d9\" y=\"54.466698\"/>\n     <use style=\"fill:#1f77b4;stroke:#1f77b4;\" x=\"145.759951\" xlink:href=\"#m5a819844d9\" y=\"65.31241\"/>\n     <use style=\"fill:#1f77b4;stroke:#1f77b4;\" x=\"133.926704\" xlink:href=\"#m5a819844d9\" y=\"61.9167\"/>\n     <use style=\"fill:#1f77b4;stroke:#1f77b4;\" x=\"138.283486\" xlink:href=\"#m5a819844d9\" y=\"57.008518\"/>\n     <use style=\"fill:#1f77b4;stroke:#1f77b4;\" x=\"168.300035\" xlink:href=\"#m5a819844d9\" y=\"100.786008\"/>\n     <use style=\"fill:#1f77b4;stroke:#1f77b4;\" x=\"146.667145\" xlink:href=\"#m5a819844d9\" y=\"93.646989\"/>\n     <use style=\"fill:#1f77b4;stroke:#1f77b4;\" x=\"178.00971\" xlink:href=\"#m5a819844d9\" y=\"88.592208\"/>\n     <use style=\"fill:#1f77b4;stroke:#1f77b4;\" x=\"134.348988\" xlink:href=\"#m5a819844d9\" y=\"86.855036\"/>\n     <use style=\"fill:#1f77b4;stroke:#1f77b4;\" x=\"130.487282\" xlink:href=\"#m5a819844d9\" y=\"77.549074\"/>\n     <use style=\"fill:#1f77b4;stroke:#1f77b4;\" x=\"160.199902\" xlink:href=\"#m5a819844d9\" y=\"89.849002\"/>\n     <use style=\"fill:#1f77b4;stroke:#1f77b4;\" x=\"102.119552\" xlink:href=\"#m5a819844d9\" y=\"57.270934\"/>\n     <use style=\"fill:#1f77b4;stroke:#1f77b4;\" x=\"181.742773\" xlink:href=\"#m5a819844d9\" y=\"99.447686\"/>\n     <use style=\"fill:#1f77b4;stroke:#1f77b4;\" x=\"127.957771\" xlink:href=\"#m5a819844d9\" y=\"62.429372\"/>\n     <use style=\"fill:#1f77b4;stroke:#1f77b4;\" x=\"113.673051\" xlink:href=\"#m5a819844d9\" y=\"62.244865\"/>\n     <use style=\"fill:#1f77b4;stroke:#1f77b4;\" x=\"127.684342\" xlink:href=\"#m5a819844d9\" y=\"60.855779\"/>\n     <use style=\"fill:#1f77b4;stroke:#1f77b4;\" x=\"90.07729\" xlink:href=\"#m5a819844d9\" y=\"53.215422\"/>\n     <use style=\"fill:#1f77b4;stroke:#1f77b4;\" x=\"129.996932\" xlink:href=\"#m5a819844d9\" y=\"56.608426\"/>\n     <use style=\"fill:#1f77b4;stroke:#1f77b4;\" x=\"154.022936\" xlink:href=\"#m5a819844d9\" y=\"88.707415\"/>\n     <use style=\"fill:#1f77b4;stroke:#1f77b4;\" x=\"128.319065\" xlink:href=\"#m5a819844d9\" y=\"62.66993\"/>\n     <use style=\"fill:#1f77b4;stroke:#1f77b4;\" x=\"114.682855\" xlink:href=\"#m5a819844d9\" y=\"62.577151\"/>\n     <use style=\"fill:#1f77b4;stroke:#1f77b4;\" x=\"153.085324\" xlink:href=\"#m5a819844d9\" y=\"75.200986\"/>\n     <use style=\"fill:#1f77b4;stroke:#1f77b4;\" x=\"106.180656\" xlink:href=\"#m5a819844d9\" y=\"56.058578\"/>\n     <use style=\"fill:#1f77b4;stroke:#1f77b4;\" x=\"139.734883\" xlink:href=\"#m5a819844d9\" y=\"71.616289\"/>\n     <use style=\"fill:#1f77b4;stroke:#1f77b4;\" x=\"186.734002\" xlink:href=\"#m5a819844d9\" y=\"95.269769\"/>\n     <use style=\"fill:#1f77b4;stroke:#1f77b4;\" x=\"165.662295\" xlink:href=\"#m5a819844d9\" y=\"100.815379\"/>\n     <use style=\"fill:#1f77b4;stroke:#1f77b4;\" x=\"128.304091\" xlink:href=\"#m5a819844d9\" y=\"57.024968\"/>\n     <use style=\"fill:#1f77b4;stroke:#1f77b4;\" x=\"146.694797\" xlink:href=\"#m5a819844d9\" y=\"88.969725\"/>\n     <use style=\"fill:#1f77b4;stroke:#1f77b4;\" x=\"139.277685\" xlink:href=\"#m5a819844d9\" y=\"78.314991\"/>\n     <use style=\"fill:#1f77b4;stroke:#1f77b4;\" x=\"143.91361\" xlink:href=\"#m5a819844d9\" y=\"86.413443\"/>\n     <use style=\"fill:#1f77b4;stroke:#1f77b4;\" x=\"89.548742\" xlink:href=\"#m5a819844d9\" y=\"44.534949\"/>\n     <use style=\"fill:#1f77b4;stroke:#1f77b4;\" x=\"150.210455\" xlink:href=\"#m5a819844d9\" y=\"70.437975\"/>\n     <use style=\"fill:#1f77b4;stroke:#1f77b4;\" x=\"138.656647\" xlink:href=\"#m5a819844d9\" y=\"84.090096\"/>\n     <use style=\"fill:#1f77b4;stroke:#1f77b4;\" x=\"108.39192\" xlink:href=\"#m5a819844d9\" y=\"54.385205\"/>\n     <use style=\"fill:#1f77b4;stroke:#1f77b4;\" x=\"67.358466\" xlink:href=\"#m5a819844d9\" y=\"16.430021\"/>\n     <use style=\"fill:#1f77b4;stroke:#1f77b4;\" x=\"146.953963\" xlink:href=\"#m5a819844d9\" y=\"63.858415\"/>\n     <use style=\"fill:#1f77b4;stroke:#1f77b4;\" x=\"106.998126\" xlink:href=\"#m5a819844d9\" y=\"58.272477\"/>\n     <use style=\"fill:#1f77b4;stroke:#1f77b4;\" x=\"156.220885\" xlink:href=\"#m5a819844d9\" y=\"93.740065\"/>\n     <use style=\"fill:#1f77b4;stroke:#1f77b4;\" x=\"183.284259\" xlink:href=\"#m5a819844d9\" y=\"99.284218\"/>\n     <use style=\"fill:#1f77b4;stroke:#1f77b4;\" x=\"122.218342\" xlink:href=\"#m5a819844d9\" y=\"78.250511\"/>\n     <use style=\"fill:#1f77b4;stroke:#1f77b4;\" x=\"163.021832\" xlink:href=\"#m5a819844d9\" y=\"98.098593\"/>\n     <use style=\"fill:#1f77b4;stroke:#1f77b4;\" x=\"123.352013\" xlink:href=\"#m5a819844d9\" y=\"58.99724\"/>\n     <use style=\"fill:#1f77b4;stroke:#1f77b4;\" x=\"118.321659\" xlink:href=\"#m5a819844d9\" y=\"61.142499\"/>\n     <use style=\"fill:#1f77b4;stroke:#1f77b4;\" x=\"145.999568\" xlink:href=\"#m5a819844d9\" y=\"73.852767\"/>\n     <use style=\"fill:#1f77b4;stroke:#1f77b4;\" x=\"152.852412\" xlink:href=\"#m5a819844d9\" y=\"92.216588\"/>\n     <use style=\"fill:#1f77b4;stroke:#1f77b4;\" x=\"136.201898\" xlink:href=\"#m5a819844d9\" y=\"86.664353\"/>\n     <use style=\"fill:#1f77b4;stroke:#1f77b4;\" x=\"151.667341\" xlink:href=\"#m5a819844d9\" y=\"94.334541\"/>\n     <use style=\"fill:#1f77b4;stroke:#1f77b4;\" x=\"143.971907\" xlink:href=\"#m5a819844d9\" y=\"73.119208\"/>\n     <use style=\"fill:#1f77b4;stroke:#1f77b4;\" x=\"165.75304\" xlink:href=\"#m5a819844d9\" y=\"90.829531\"/>\n     <use style=\"fill:#1f77b4;stroke:#1f77b4;\" x=\"97.237724\" xlink:href=\"#m5a819844d9\" y=\"53.874536\"/>\n     <use style=\"fill:#1f77b4;stroke:#1f77b4;\" x=\"126.865154\" xlink:href=\"#m5a819844d9\" y=\"72.092022\"/>\n     <use style=\"fill:#1f77b4;stroke:#1f77b4;\" x=\"97.237184\" xlink:href=\"#m5a819844d9\" y=\"36.623805\"/>\n     <use style=\"fill:#1f77b4;stroke:#1f77b4;\" x=\"137.359963\" xlink:href=\"#m5a819844d9\" y=\"73.565802\"/>\n     <use style=\"fill:#1f77b4;stroke:#1f77b4;\" x=\"112.297518\" xlink:href=\"#m5a819844d9\" y=\"49.938116\"/>\n     <use style=\"fill:#1f77b4;stroke:#1f77b4;\" x=\"131.87599\" xlink:href=\"#m5a819844d9\" y=\"58.619615\"/>\n     <use style=\"fill:#1f77b4;stroke:#1f77b4;\" x=\"94.679683\" xlink:href=\"#m5a819844d9\" y=\"53.890513\"/>\n     <use style=\"fill:#1f77b4;stroke:#1f77b4;\" x=\"141.652543\" xlink:href=\"#m5a819844d9\" y=\"79.865447\"/>\n     <use style=\"fill:#1f77b4;stroke:#1f77b4;\" x=\"117.710687\" xlink:href=\"#m5a819844d9\" y=\"65.865813\"/>\n     <use style=\"fill:#1f77b4;stroke:#1f77b4;\" x=\"121.578265\" xlink:href=\"#m5a819844d9\" y=\"54.207069\"/>\n     <use style=\"fill:#1f77b4;stroke:#1f77b4;\" x=\"101.567185\" xlink:href=\"#m5a819844d9\" y=\"39.958129\"/>\n     <use style=\"fill:#1f77b4;stroke:#1f77b4;\" x=\"119.70506\" xlink:href=\"#m5a819844d9\" y=\"68.09598\"/>\n     <use style=\"fill:#1f77b4;stroke:#1f77b4;\" x=\"153.43712\" xlink:href=\"#m5a819844d9\" y=\"87.194989\"/>\n     <use style=\"fill:#1f77b4;stroke:#1f77b4;\" x=\"145.483523\" xlink:href=\"#m5a819844d9\" y=\"75.671124\"/>\n     <use style=\"fill:#1f77b4;stroke:#1f77b4;\" x=\"87.618831\" xlink:href=\"#m5a819844d9\" y=\"44.83678\"/>\n     <use style=\"fill:#1f77b4;stroke:#1f77b4;\" x=\"70.728036\" xlink:href=\"#m5a819844d9\" y=\"43.356489\"/>\n     <use style=\"fill:#1f77b4;stroke:#1f77b4;\" x=\"172.597991\" xlink:href=\"#m5a819844d9\" y=\"78.322691\"/>\n     <use style=\"fill:#1f77b4;stroke:#1f77b4;\" x=\"122.018912\" xlink:href=\"#m5a819844d9\" y=\"58.774014\"/>\n     <use style=\"fill:#1f77b4;stroke:#1f77b4;\" x=\"160.275475\" xlink:href=\"#m5a819844d9\" y=\"88.817612\"/>\n     <use style=\"fill:#1f77b4;stroke:#1f77b4;\" x=\"125.203364\" xlink:href=\"#m5a819844d9\" y=\"71.772073\"/>\n     <use style=\"fill:#1f77b4;stroke:#1f77b4;\" x=\"152.76453\" xlink:href=\"#m5a819844d9\" y=\"86.921147\"/>\n     <use style=\"fill:#1f77b4;stroke:#1f77b4;\" x=\"139.96207\" xlink:href=\"#m5a819844d9\" y=\"61.974569\"/>\n     <use style=\"fill:#1f77b4;stroke:#1f77b4;\" x=\"131.648998\" xlink:href=\"#m5a819844d9\" y=\"66.572492\"/>\n     <use style=\"fill:#1f77b4;stroke:#1f77b4;\" x=\"84.710772\" xlink:href=\"#m5a819844d9\" y=\"29.892502\"/>\n     <use style=\"fill:#1f77b4;stroke:#1f77b4;\" x=\"88.491113\" xlink:href=\"#m5a819844d9\" y=\"46.766883\"/>\n     <use style=\"fill:#1f77b4;stroke:#1f77b4;\" x=\"122.407751\" xlink:href=\"#m5a819844d9\" y=\"59.455245\"/>\n     <use style=\"fill:#1f77b4;stroke:#1f77b4;\" x=\"125.546178\" xlink:href=\"#m5a819844d9\" y=\"72.584003\"/>\n     <use style=\"fill:#1f77b4;stroke:#1f77b4;\" x=\"127.034179\" xlink:href=\"#m5a819844d9\" y=\"70.339131\"/>\n     <use style=\"fill:#1f77b4;stroke:#1f77b4;\" x=\"85.147852\" xlink:href=\"#m5a819844d9\" y=\"51.288903\"/>\n     <use style=\"fill:#1f77b4;stroke:#1f77b4;\" x=\"123.248415\" xlink:href=\"#m5a819844d9\" y=\"61.68411\"/>\n     <use style=\"fill:#1f77b4;stroke:#1f77b4;\" x=\"141.21669\" xlink:href=\"#m5a819844d9\" y=\"83.907402\"/>\n     <use style=\"fill:#1f77b4;stroke:#1f77b4;\" x=\"81.484598\" xlink:href=\"#m5a819844d9\" y=\"38.087579\"/>\n     <use style=\"fill:#1f77b4;stroke:#1f77b4;\" x=\"143.482953\" xlink:href=\"#m5a819844d9\" y=\"80.942632\"/>\n     <use style=\"fill:#1f77b4;stroke:#1f77b4;\" x=\"122.517624\" xlink:href=\"#m5a819844d9\" y=\"63.683627\"/>\n     <use style=\"fill:#1f77b4;stroke:#1f77b4;\" x=\"168.481975\" xlink:href=\"#m5a819844d9\" y=\"73.855333\"/>\n     <use style=\"fill:#1f77b4;stroke:#1f77b4;\" x=\"94.169467\" xlink:href=\"#m5a819844d9\" y=\"29.68234\"/>\n     <use style=\"fill:#1f77b4;stroke:#1f77b4;\" x=\"148.922742\" xlink:href=\"#m5a819844d9\" y=\"73.468602\"/>\n     <use style=\"fill:#1f77b4;stroke:#1f77b4;\" x=\"124.889031\" xlink:href=\"#m5a819844d9\" y=\"71.903118\"/>\n     <use style=\"fill:#1f77b4;stroke:#1f77b4;\" x=\"128.541612\" xlink:href=\"#m5a819844d9\" y=\"73.151771\"/>\n     <use style=\"fill:#1f77b4;stroke:#1f77b4;\" x=\"82.899707\" xlink:href=\"#m5a819844d9\" y=\"50.241629\"/>\n     <use style=\"fill:#1f77b4;stroke:#1f77b4;\" x=\"115.3295\" xlink:href=\"#m5a819844d9\" y=\"46.591563\"/>\n     <use style=\"fill:#1f77b4;stroke:#1f77b4;\" x=\"124.134383\" xlink:href=\"#m5a819844d9\" y=\"57.849726\"/>\n     <use style=\"fill:#1f77b4;stroke:#1f77b4;\" x=\"113.050584\" xlink:href=\"#m5a819844d9\" y=\"72.846162\"/>\n     <use style=\"fill:#1f77b4;stroke:#1f77b4;\" x=\"110.996379\" xlink:href=\"#m5a819844d9\" y=\"62.578445\"/>\n     <use style=\"fill:#1f77b4;stroke:#1f77b4;\" x=\"115.293537\" xlink:href=\"#m5a819844d9\" y=\"76.336345\"/>\n     <use style=\"fill:#1f77b4;stroke:#1f77b4;\" x=\"170.941904\" xlink:href=\"#m5a819844d9\" y=\"103.082297\"/>\n     <use style=\"fill:#1f77b4;stroke:#1f77b4;\" x=\"171.195434\" xlink:href=\"#m5a819844d9\" y=\"96.473368\"/>\n     <use style=\"fill:#1f77b4;stroke:#1f77b4;\" x=\"93.961355\" xlink:href=\"#m5a819844d9\" y=\"57.452996\"/>\n     <use style=\"fill:#1f77b4;stroke:#1f77b4;\" x=\"83.456294\" xlink:href=\"#m5a819844d9\" y=\"37.605289\"/>\n     <use style=\"fill:#1f77b4;stroke:#1f77b4;\" x=\"143.74129\" xlink:href=\"#m5a819844d9\" y=\"56.258571\"/>\n     <use style=\"fill:#1f77b4;stroke:#1f77b4;\" x=\"129.754236\" xlink:href=\"#m5a819844d9\" y=\"66.907944\"/>\n     <use style=\"fill:#1f77b4;stroke:#1f77b4;\" x=\"84.462819\" xlink:href=\"#m5a819844d9\" y=\"37.95161\"/>\n     <use style=\"fill:#1f77b4;stroke:#1f77b4;\" x=\"130.802978\" xlink:href=\"#m5a819844d9\" y=\"54.435051\"/>\n     <use style=\"fill:#1f77b4;stroke:#1f77b4;\" x=\"124.437716\" xlink:href=\"#m5a819844d9\" y=\"64.033631\"/>\n     <use style=\"fill:#1f77b4;stroke:#1f77b4;\" x=\"145.763352\" xlink:href=\"#m5a819844d9\" y=\"62.618606\"/>\n     <use style=\"fill:#1f77b4;stroke:#1f77b4;\" x=\"89.089101\" xlink:href=\"#m5a819844d9\" y=\"61.208687\"/>\n     <use style=\"fill:#1f77b4;stroke:#1f77b4;\" x=\"163.29483\" xlink:href=\"#m5a819844d9\" y=\"94.68644\"/>\n     <use style=\"fill:#1f77b4;stroke:#1f77b4;\" x=\"153.561171\" xlink:href=\"#m5a819844d9\" y=\"85.794506\"/>\n     <use style=\"fill:#1f77b4;stroke:#1f77b4;\" x=\"130.350801\" xlink:href=\"#m5a819844d9\" y=\"68.30018\"/>\n     <use style=\"fill:#1f77b4;stroke:#1f77b4;\" x=\"158.733565\" xlink:href=\"#m5a819844d9\" y=\"82.107391\"/>\n     <use style=\"fill:#1f77b4;stroke:#1f77b4;\" x=\"121.820651\" xlink:href=\"#m5a819844d9\" y=\"56.349705\"/>\n     <use style=\"fill:#1f77b4;stroke:#1f77b4;\" x=\"152.805411\" xlink:href=\"#m5a819844d9\" y=\"88.924747\"/>\n     <use style=\"fill:#1f77b4;stroke:#1f77b4;\" x=\"82.371799\" xlink:href=\"#m5a819844d9\" y=\"37.221924\"/>\n     <use style=\"fill:#1f77b4;stroke:#1f77b4;\" x=\"119.383388\" xlink:href=\"#m5a819844d9\" y=\"51.405507\"/>\n     <use style=\"fill:#1f77b4;stroke:#1f77b4;\" x=\"139.857449\" xlink:href=\"#m5a819844d9\" y=\"70.31768\"/>\n     <use style=\"fill:#1f77b4;stroke:#1f77b4;\" x=\"170.072425\" xlink:href=\"#m5a819844d9\" y=\"88.861879\"/>\n     <use style=\"fill:#1f77b4;stroke:#1f77b4;\" x=\"149.440006\" xlink:href=\"#m5a819844d9\" y=\"76.280338\"/>\n     <use style=\"fill:#1f77b4;stroke:#1f77b4;\" x=\"152.450769\" xlink:href=\"#m5a819844d9\" y=\"89.568292\"/>\n     <use style=\"fill:#1f77b4;stroke:#1f77b4;\" x=\"150.083901\" xlink:href=\"#m5a819844d9\" y=\"83.38975\"/>\n     <use style=\"fill:#1f77b4;stroke:#1f77b4;\" x=\"133.499443\" xlink:href=\"#m5a819844d9\" y=\"66.384077\"/>\n     <use style=\"fill:#1f77b4;stroke:#1f77b4;\" x=\"162.725775\" xlink:href=\"#m5a819844d9\" y=\"91.580818\"/>\n     <use style=\"fill:#1f77b4;stroke:#1f77b4;\" x=\"145.566218\" xlink:href=\"#m5a819844d9\" y=\"78.292814\"/>\n     <use style=\"fill:#1f77b4;stroke:#1f77b4;\" x=\"177.902922\" xlink:href=\"#m5a819844d9\" y=\"102.510524\"/>\n     <use style=\"fill:#1f77b4;stroke:#1f77b4;\" x=\"102.2649\" xlink:href=\"#m5a819844d9\" y=\"46.887613\"/>\n     <use style=\"fill:#1f77b4;stroke:#1f77b4;\" x=\"44.18196\" xlink:href=\"#m5a819844d9\" y=\"33.998664\"/>\n     <use style=\"fill:#1f77b4;stroke:#1f77b4;\" x=\"123.582159\" xlink:href=\"#m5a819844d9\" y=\"64.769255\"/>\n     <use style=\"fill:#1f77b4;stroke:#1f77b4;\" x=\"146.105044\" xlink:href=\"#m5a819844d9\" y=\"68.312963\"/>\n     <use style=\"fill:#1f77b4;stroke:#1f77b4;\" x=\"124.664536\" xlink:href=\"#m5a819844d9\" y=\"75.670112\"/>\n     <use style=\"fill:#1f77b4;stroke:#1f77b4;\" x=\"152.405486\" xlink:href=\"#m5a819844d9\" y=\"70.70518\"/>\n     <use style=\"fill:#1f77b4;stroke:#1f77b4;\" x=\"124.456126\" xlink:href=\"#m5a819844d9\" y=\"63.382115\"/>\n     <use style=\"fill:#1f77b4;stroke:#1f77b4;\" x=\"156.76531\" xlink:href=\"#m5a819844d9\" y=\"82.097385\"/>\n     <use style=\"fill:#1f77b4;stroke:#1f77b4;\" x=\"119.22741\" xlink:href=\"#m5a819844d9\" y=\"45.258016\"/>\n     <use style=\"fill:#1f77b4;stroke:#1f77b4;\" x=\"106.759884\" xlink:href=\"#m5a819844d9\" y=\"51.912338\"/>\n     <use style=\"fill:#1f77b4;stroke:#1f77b4;\" x=\"160.020018\" xlink:href=\"#m5a819844d9\" y=\"101.350084\"/>\n     <use style=\"fill:#1f77b4;stroke:#1f77b4;\" x=\"107.062736\" xlink:href=\"#m5a819844d9\" y=\"56.363954\"/>\n     <use style=\"fill:#1f77b4;stroke:#1f77b4;\" x=\"139.266017\" xlink:href=\"#m5a819844d9\" y=\"74.31533\"/>\n     <use style=\"fill:#1f77b4;stroke:#1f77b4;\" x=\"123.816697\" xlink:href=\"#m5a819844d9\" y=\"77.543222\"/>\n     <use style=\"fill:#1f77b4;stroke:#1f77b4;\" x=\"164.664016\" xlink:href=\"#m5a819844d9\" y=\"100.841608\"/>\n     <use style=\"fill:#1f77b4;stroke:#1f77b4;\" x=\"163.180686\" xlink:href=\"#m5a819844d9\" y=\"84.57285\"/>\n     <use style=\"fill:#1f77b4;stroke:#1f77b4;\" x=\"154.819458\" xlink:href=\"#m5a819844d9\" y=\"77.808216\"/>\n     <use style=\"fill:#1f77b4;stroke:#1f77b4;\" x=\"146.531702\" xlink:href=\"#m5a819844d9\" y=\"73.931318\"/>\n     <use style=\"fill:#1f77b4;stroke:#1f77b4;\" x=\"171.836729\" xlink:href=\"#m5a819844d9\" y=\"80.993075\"/>\n     <use style=\"fill:#1f77b4;stroke:#1f77b4;\" x=\"81.753196\" xlink:href=\"#m5a819844d9\" y=\"45.973797\"/>\n     <use style=\"fill:#1f77b4;stroke:#1f77b4;\" x=\"109.576813\" xlink:href=\"#m5a819844d9\" y=\"50.358991\"/>\n     <use style=\"fill:#1f77b4;stroke:#1f77b4;\" x=\"124.034234\" xlink:href=\"#m5a819844d9\" y=\"70.459615\"/>\n     <use style=\"fill:#1f77b4;stroke:#1f77b4;\" x=\"113.665319\" xlink:href=\"#m5a819844d9\" y=\"63.561154\"/>\n     <use style=\"fill:#1f77b4;stroke:#1f77b4;\" x=\"167.476159\" xlink:href=\"#m5a819844d9\" y=\"95.676555\"/>\n     <use style=\"fill:#1f77b4;stroke:#1f77b4;\" x=\"162.024946\" xlink:href=\"#m5a819844d9\" y=\"86.189574\"/>\n     <use style=\"fill:#1f77b4;stroke:#1f77b4;\" x=\"129.54946\" xlink:href=\"#m5a819844d9\" y=\"82.692421\"/>\n     <use style=\"fill:#1f77b4;stroke:#1f77b4;\" x=\"106.896333\" xlink:href=\"#m5a819844d9\" y=\"62.676904\"/>\n     <use style=\"fill:#1f77b4;stroke:#1f77b4;\" x=\"152.794268\" xlink:href=\"#m5a819844d9\" y=\"81.955057\"/>\n     <use style=\"fill:#1f77b4;stroke:#1f77b4;\" x=\"173.175699\" xlink:href=\"#m5a819844d9\" y=\"94.838996\"/>\n     <use style=\"fill:#1f77b4;stroke:#1f77b4;\" x=\"108.247387\" xlink:href=\"#m5a819844d9\" y=\"58.44171\"/>\n     <use style=\"fill:#1f77b4;stroke:#1f77b4;\" x=\"135.677589\" xlink:href=\"#m5a819844d9\" y=\"59.802039\"/>\n     <use style=\"fill:#1f77b4;stroke:#1f77b4;\" x=\"174.285446\" xlink:href=\"#m5a819844d9\" y=\"90.240274\"/>\n     <use style=\"fill:#1f77b4;stroke:#1f77b4;\" x=\"143.259671\" xlink:href=\"#m5a819844d9\" y=\"69.402945\"/>\n     <use style=\"fill:#1f77b4;stroke:#1f77b4;\" x=\"221.727415\" xlink:href=\"#m5a819844d9\" y=\"136.922727\"/>\n     <use style=\"fill:#1f77b4;stroke:#1f77b4;\" x=\"155.1225\" xlink:href=\"#m5a819844d9\" y=\"87.526596\"/>\n     <use style=\"fill:#1f77b4;stroke:#1f77b4;\" x=\"113.603627\" xlink:href=\"#m5a819844d9\" y=\"68.29284\"/>\n     <use style=\"fill:#1f77b4;stroke:#1f77b4;\" x=\"148.039189\" xlink:href=\"#m5a819844d9\" y=\"91.564302\"/>\n     <use style=\"fill:#1f77b4;stroke:#1f77b4;\" x=\"127.923459\" xlink:href=\"#m5a819844d9\" y=\"61.28008\"/>\n     <use style=\"fill:#1f77b4;stroke:#1f77b4;\" x=\"90.953086\" xlink:href=\"#m5a819844d9\" y=\"58.883399\"/>\n     <use style=\"fill:#1f77b4;stroke:#1f77b4;\" x=\"121.636405\" xlink:href=\"#m5a819844d9\" y=\"75.869022\"/>\n     <use style=\"fill:#1f77b4;stroke:#1f77b4;\" x=\"132.33442\" xlink:href=\"#m5a819844d9\" y=\"69.77483\"/>\n     <use style=\"fill:#1f77b4;stroke:#1f77b4;\" x=\"131.265708\" xlink:href=\"#m5a819844d9\" y=\"75.926547\"/>\n     <use style=\"fill:#1f77b4;stroke:#1f77b4;\" x=\"80.312878\" xlink:href=\"#m5a819844d9\" y=\"51.587958\"/>\n     <use style=\"fill:#1f77b4;stroke:#1f77b4;\" x=\"120.482427\" xlink:href=\"#m5a819844d9\" y=\"58.001162\"/>\n     <use style=\"fill:#1f77b4;stroke:#1f77b4;\" x=\"87.31288\" xlink:href=\"#m5a819844d9\" y=\"51.539695\"/>\n     <use style=\"fill:#1f77b4;stroke:#1f77b4;\" x=\"131.86353\" xlink:href=\"#m5a819844d9\" y=\"53.411179\"/>\n     <use style=\"fill:#1f77b4;stroke:#1f77b4;\" x=\"110.004308\" xlink:href=\"#m5a819844d9\" y=\"79.087053\"/>\n     <use style=\"fill:#1f77b4;stroke:#1f77b4;\" x=\"92.943674\" xlink:href=\"#m5a819844d9\" y=\"54.709895\"/>\n     <use style=\"fill:#1f77b4;stroke:#1f77b4;\" x=\"139.726233\" xlink:href=\"#m5a819844d9\" y=\"78.775026\"/>\n     <use style=\"fill:#1f77b4;stroke:#1f77b4;\" x=\"162.901625\" xlink:href=\"#m5a819844d9\" y=\"104.004232\"/>\n     <use style=\"fill:#1f77b4;stroke:#1f77b4;\" x=\"108.736397\" xlink:href=\"#m5a819844d9\" y=\"57.177836\"/>\n     <use style=\"fill:#1f77b4;stroke:#1f77b4;\" x=\"142.590432\" xlink:href=\"#m5a819844d9\" y=\"80.169402\"/>\n     <use style=\"fill:#1f77b4;stroke:#1f77b4;\" x=\"152.839172\" xlink:href=\"#m5a819844d9\" y=\"88.10088\"/>\n     <use style=\"fill:#1f77b4;stroke:#1f77b4;\" x=\"117.949481\" xlink:href=\"#m5a819844d9\" y=\"59.297493\"/>\n     <use style=\"fill:#1f77b4;stroke:#1f77b4;\" x=\"173.021001\" xlink:href=\"#m5a819844d9\" y=\"103.398878\"/>\n     <use style=\"fill:#1f77b4;stroke:#1f77b4;\" x=\"114.073035\" xlink:href=\"#m5a819844d9\" y=\"57.035436\"/>\n     <use style=\"fill:#1f77b4;stroke:#1f77b4;\" x=\"108.560006\" xlink:href=\"#m5a819844d9\" y=\"57.807888\"/>\n     <use style=\"fill:#1f77b4;stroke:#1f77b4;\" x=\"191.41793\" xlink:href=\"#m5a819844d9\" y=\"115.409975\"/>\n     <use style=\"fill:#1f77b4;stroke:#1f77b4;\" x=\"78.527145\" xlink:href=\"#m5a819844d9\" y=\"30.731086\"/>\n     <use style=\"fill:#1f77b4;stroke:#1f77b4;\" x=\"141.757409\" xlink:href=\"#m5a819844d9\" y=\"78.161887\"/>\n     <use style=\"fill:#1f77b4;stroke:#1f77b4;\" x=\"111.240769\" xlink:href=\"#m5a819844d9\" y=\"60.850572\"/>\n     <use style=\"fill:#1f77b4;stroke:#1f77b4;\" x=\"164.201984\" xlink:href=\"#m5a819844d9\" y=\"82.186299\"/>\n     <use style=\"fill:#1f77b4;stroke:#1f77b4;\" x=\"99.772696\" xlink:href=\"#m5a819844d9\" y=\"56.427196\"/>\n     <use style=\"fill:#1f77b4;stroke:#1f77b4;\" x=\"167.397577\" xlink:href=\"#m5a819844d9\" y=\"106.184884\"/>\n     <use style=\"fill:#1f77b4;stroke:#1f77b4;\" x=\"176.328838\" xlink:href=\"#m5a819844d9\" y=\"98.642614\"/>\n     <use style=\"fill:#1f77b4;stroke:#1f77b4;\" x=\"160.763035\" xlink:href=\"#m5a819844d9\" y=\"114.328115\"/>\n     <use style=\"fill:#1f77b4;stroke:#1f77b4;\" x=\"183.107036\" xlink:href=\"#m5a819844d9\" y=\"76.747586\"/>\n     <use style=\"fill:#1f77b4;stroke:#1f77b4;\" x=\"192.455314\" xlink:href=\"#m5a819844d9\" y=\"104.918499\"/>\n     <use style=\"fill:#1f77b4;stroke:#1f77b4;\" x=\"160.347254\" xlink:href=\"#m5a819844d9\" y=\"108.944592\"/>\n     <use style=\"fill:#1f77b4;stroke:#1f77b4;\" x=\"110.483768\" xlink:href=\"#m5a819844d9\" y=\"55.363664\"/>\n     <use style=\"fill:#1f77b4;stroke:#1f77b4;\" x=\"138.866876\" xlink:href=\"#m5a819844d9\" y=\"71.478531\"/>\n     <use style=\"fill:#1f77b4;stroke:#1f77b4;\" x=\"112.201462\" xlink:href=\"#m5a819844d9\" y=\"62.420403\"/>\n     <use style=\"fill:#1f77b4;stroke:#1f77b4;\" x=\"95.870462\" xlink:href=\"#m5a819844d9\" y=\"40.271088\"/>\n     <use style=\"fill:#1f77b4;stroke:#1f77b4;\" x=\"123.852686\" xlink:href=\"#m5a819844d9\" y=\"63.195718\"/>\n     <use style=\"fill:#1f77b4;stroke:#1f77b4;\" x=\"69.990383\" xlink:href=\"#m5a819844d9\" y=\"43.427389\"/>\n     <use style=\"fill:#1f77b4;stroke:#1f77b4;\" x=\"169.528448\" xlink:href=\"#m5a819844d9\" y=\"83.757115\"/>\n     <use style=\"fill:#1f77b4;stroke:#1f77b4;\" x=\"111.80702\" xlink:href=\"#m5a819844d9\" y=\"52.324616\"/>\n     <use style=\"fill:#1f77b4;stroke:#1f77b4;\" x=\"155.728892\" xlink:href=\"#m5a819844d9\" y=\"82.626909\"/>\n     <use style=\"fill:#1f77b4;stroke:#1f77b4;\" x=\"135.740707\" xlink:href=\"#m5a819844d9\" y=\"70.879375\"/>\n     <use style=\"fill:#1f77b4;stroke:#1f77b4;\" x=\"116.098153\" xlink:href=\"#m5a819844d9\" y=\"69.300734\"/>\n     <use style=\"fill:#1f77b4;stroke:#1f77b4;\" x=\"120.563384\" xlink:href=\"#m5a819844d9\" y=\"76.530118\"/>\n     <use style=\"fill:#1f77b4;stroke:#1f77b4;\" x=\"123.975942\" xlink:href=\"#m5a819844d9\" y=\"66.653873\"/>\n     <use style=\"fill:#1f77b4;stroke:#1f77b4;\" x=\"98.60473\" xlink:href=\"#m5a819844d9\" y=\"42.177656\"/>\n     <use style=\"fill:#1f77b4;stroke:#1f77b4;\" x=\"124.9685\" xlink:href=\"#m5a819844d9\" y=\"56.743576\"/>\n     <use style=\"fill:#1f77b4;stroke:#1f77b4;\" x=\"134.339832\" xlink:href=\"#m5a819844d9\" y=\"64.155678\"/>\n     <use style=\"fill:#1f77b4;stroke:#1f77b4;\" x=\"141.111705\" xlink:href=\"#m5a819844d9\" y=\"82.40777\"/>\n     <use style=\"fill:#1f77b4;stroke:#1f77b4;\" x=\"110.677124\" xlink:href=\"#m5a819844d9\" y=\"31.964378\"/>\n     <use style=\"fill:#1f77b4;stroke:#1f77b4;\" x=\"103.084626\" xlink:href=\"#m5a819844d9\" y=\"51.153293\"/>\n     <use style=\"fill:#1f77b4;stroke:#1f77b4;\" x=\"158.259338\" xlink:href=\"#m5a819844d9\" y=\"85.63186\"/>\n     <use style=\"fill:#1f77b4;stroke:#1f77b4;\" x=\"72.759839\" xlink:href=\"#m5a819844d9\" y=\"19.856455\"/>\n     <use style=\"fill:#1f77b4;stroke:#1f77b4;\" x=\"168.942336\" xlink:href=\"#m5a819844d9\" y=\"86.338647\"/>\n     <use style=\"fill:#1f77b4;stroke:#1f77b4;\" x=\"107.323244\" xlink:href=\"#m5a819844d9\" y=\"64.378213\"/>\n     <use style=\"fill:#1f77b4;stroke:#1f77b4;\" x=\"98.700418\" xlink:href=\"#m5a819844d9\" y=\"46.841402\"/>\n     <use style=\"fill:#1f77b4;stroke:#1f77b4;\" x=\"140.018432\" xlink:href=\"#m5a819844d9\" y=\"75.430583\"/>\n     <use style=\"fill:#1f77b4;stroke:#1f77b4;\" x=\"156.317808\" xlink:href=\"#m5a819844d9\" y=\"84.903254\"/>\n     <use style=\"fill:#1f77b4;stroke:#1f77b4;\" x=\"109.662311\" xlink:href=\"#m5a819844d9\" y=\"63.8031\"/>\n     <use style=\"fill:#1f77b4;stroke:#1f77b4;\" x=\"98.192439\" xlink:href=\"#m5a819844d9\" y=\"54.526282\"/>\n     <use style=\"fill:#1f77b4;stroke:#1f77b4;\" x=\"154.892197\" xlink:href=\"#m5a819844d9\" y=\"78.637846\"/>\n     <use style=\"fill:#1f77b4;stroke:#1f77b4;\" x=\"88.00043\" xlink:href=\"#m5a819844d9\" y=\"41.500566\"/>\n     <use style=\"fill:#1f77b4;stroke:#1f77b4;\" x=\"108.971896\" xlink:href=\"#m5a819844d9\" y=\"48.12433\"/>\n     <use style=\"fill:#1f77b4;stroke:#1f77b4;\" x=\"123.34281\" xlink:href=\"#m5a819844d9\" y=\"66.003513\"/>\n     <use style=\"fill:#1f77b4;stroke:#1f77b4;\" x=\"163.8543\" xlink:href=\"#m5a819844d9\" y=\"80.239898\"/>\n     <use style=\"fill:#1f77b4;stroke:#1f77b4;\" x=\"101.013888\" xlink:href=\"#m5a819844d9\" y=\"64.713502\"/>\n     <use style=\"fill:#1f77b4;stroke:#1f77b4;\" x=\"120.483904\" xlink:href=\"#m5a819844d9\" y=\"62.360432\"/>\n     <use style=\"fill:#1f77b4;stroke:#1f77b4;\" x=\"127.425346\" xlink:href=\"#m5a819844d9\" y=\"84.656329\"/>\n     <use style=\"fill:#1f77b4;stroke:#1f77b4;\" x=\"96.499174\" xlink:href=\"#m5a819844d9\" y=\"51.429038\"/>\n     <use style=\"fill:#1f77b4;stroke:#1f77b4;\" x=\"149.815025\" xlink:href=\"#m5a819844d9\" y=\"67.125893\"/>\n     <use style=\"fill:#1f77b4;stroke:#1f77b4;\" x=\"89.637981\" xlink:href=\"#m5a819844d9\" y=\"57.953808\"/>\n     <use style=\"fill:#1f77b4;stroke:#1f77b4;\" x=\"103.235169\" xlink:href=\"#m5a819844d9\" y=\"53.259766\"/>\n     <use style=\"fill:#1f77b4;stroke:#1f77b4;\" x=\"101.825608\" xlink:href=\"#m5a819844d9\" y=\"45.982748\"/>\n     <use style=\"fill:#1f77b4;stroke:#1f77b4;\" x=\"127.04509\" xlink:href=\"#m5a819844d9\" y=\"73.065807\"/>\n     <use style=\"fill:#1f77b4;stroke:#1f77b4;\" x=\"175.444543\" xlink:href=\"#m5a819844d9\" y=\"92.730304\"/>\n     <use style=\"fill:#1f77b4;stroke:#1f77b4;\" x=\"150.942772\" xlink:href=\"#m5a819844d9\" y=\"78.623144\"/>\n     <use style=\"fill:#1f77b4;stroke:#1f77b4;\" x=\"117.678257\" xlink:href=\"#m5a819844d9\" y=\"69.084339\"/>\n     <use style=\"fill:#1f77b4;stroke:#1f77b4;\" x=\"145.051818\" xlink:href=\"#m5a819844d9\" y=\"78.661914\"/>\n     <use style=\"fill:#1f77b4;stroke:#1f77b4;\" x=\"156.454179\" xlink:href=\"#m5a819844d9\" y=\"106.241069\"/>\n     <use style=\"fill:#1f77b4;stroke:#1f77b4;\" x=\"136.982422\" xlink:href=\"#m5a819844d9\" y=\"74.827572\"/>\n     <use style=\"fill:#1f77b4;stroke:#1f77b4;\" x=\"162.557907\" xlink:href=\"#m5a819844d9\" y=\"72.264225\"/>\n     <use style=\"fill:#1f77b4;stroke:#1f77b4;\" x=\"131.343758\" xlink:href=\"#m5a819844d9\" y=\"63.708747\"/>\n     <use style=\"fill:#1f77b4;stroke:#1f77b4;\" x=\"149.707871\" xlink:href=\"#m5a819844d9\" y=\"84.319083\"/>\n     <use style=\"fill:#1f77b4;stroke:#1f77b4;\" x=\"176.038424\" xlink:href=\"#m5a819844d9\" y=\"74.517539\"/>\n     <use style=\"fill:#1f77b4;stroke:#1f77b4;\" x=\"206.004043\" xlink:href=\"#m5a819844d9\" y=\"100.732842\"/>\n     <use style=\"fill:#1f77b4;stroke:#1f77b4;\" x=\"105.959009\" xlink:href=\"#m5a819844d9\" y=\"52.979197\"/>\n     <use style=\"fill:#1f77b4;stroke:#1f77b4;\" x=\"133.716848\" xlink:href=\"#m5a819844d9\" y=\"75.161285\"/>\n     <use style=\"fill:#1f77b4;stroke:#1f77b4;\" x=\"110.346156\" xlink:href=\"#m5a819844d9\" y=\"38.859262\"/>\n     <use style=\"fill:#1f77b4;stroke:#1f77b4;\" x=\"104.896554\" xlink:href=\"#m5a819844d9\" y=\"55.065267\"/>\n     <use style=\"fill:#1f77b4;stroke:#1f77b4;\" x=\"134.065002\" xlink:href=\"#m5a819844d9\" y=\"64.675195\"/>\n     <use style=\"fill:#1f77b4;stroke:#1f77b4;\" x=\"136.715885\" xlink:href=\"#m5a819844d9\" y=\"54.281845\"/>\n     <use style=\"fill:#1f77b4;stroke:#1f77b4;\" x=\"194.359764\" xlink:href=\"#m5a819844d9\" y=\"111.171558\"/>\n     <use style=\"fill:#1f77b4;stroke:#1f77b4;\" x=\"136.84522\" xlink:href=\"#m5a819844d9\" y=\"55.523454\"/>\n     <use style=\"fill:#1f77b4;stroke:#1f77b4;\" x=\"135.842857\" xlink:href=\"#m5a819844d9\" y=\"77.039345\"/>\n     <use style=\"fill:#1f77b4;stroke:#1f77b4;\" x=\"93.922228\" xlink:href=\"#m5a819844d9\" y=\"42.046535\"/>\n     <use style=\"fill:#1f77b4;stroke:#1f77b4;\" x=\"170.651683\" xlink:href=\"#m5a819844d9\" y=\"101.894299\"/>\n     <use style=\"fill:#1f77b4;stroke:#1f77b4;\" x=\"154.582703\" xlink:href=\"#m5a819844d9\" y=\"72.753142\"/>\n     <use style=\"fill:#1f77b4;stroke:#1f77b4;\" x=\"138.443469\" xlink:href=\"#m5a819844d9\" y=\"66.92103\"/>\n     <use style=\"fill:#1f77b4;stroke:#1f77b4;\" x=\"123.218744\" xlink:href=\"#m5a819844d9\" y=\"46.493021\"/>\n     <use style=\"fill:#1f77b4;stroke:#1f77b4;\" x=\"128.250201\" xlink:href=\"#m5a819844d9\" y=\"72.708653\"/>\n     <use style=\"fill:#1f77b4;stroke:#1f77b4;\" x=\"166.606503\" xlink:href=\"#m5a819844d9\" y=\"97.198834\"/>\n     <use style=\"fill:#1f77b4;stroke:#1f77b4;\" x=\"146.4568\" xlink:href=\"#m5a819844d9\" y=\"74.270604\"/>\n     <use style=\"fill:#1f77b4;stroke:#1f77b4;\" x=\"107.4252\" xlink:href=\"#m5a819844d9\" y=\"50.164046\"/>\n     <use style=\"fill:#1f77b4;stroke:#1f77b4;\" x=\"140.706653\" xlink:href=\"#m5a819844d9\" y=\"50.892353\"/>\n     <use style=\"fill:#1f77b4;stroke:#1f77b4;\" x=\"134.123769\" xlink:href=\"#m5a819844d9\" y=\"72.1842\"/>\n     <use style=\"fill:#1f77b4;stroke:#1f77b4;\" x=\"84.210879\" xlink:href=\"#m5a819844d9\" y=\"59.112462\"/>\n     <use style=\"fill:#1f77b4;stroke:#1f77b4;\" x=\"90.74636\" xlink:href=\"#m5a819844d9\" y=\"42.868563\"/>\n     <use style=\"fill:#1f77b4;stroke:#1f77b4;\" x=\"112.739922\" xlink:href=\"#m5a819844d9\" y=\"63.919396\"/>\n     <use style=\"fill:#1f77b4;stroke:#1f77b4;\" x=\"48.356586\" xlink:href=\"#m5a819844d9\" y=\"36.406038\"/>\n     <use style=\"fill:#1f77b4;stroke:#1f77b4;\" x=\"122.59877\" xlink:href=\"#m5a819844d9\" y=\"69.546091\"/>\n     <use style=\"fill:#1f77b4;stroke:#1f77b4;\" x=\"168.267136\" xlink:href=\"#m5a819844d9\" y=\"93.63259\"/>\n     <use style=\"fill:#1f77b4;stroke:#1f77b4;\" x=\"139.262833\" xlink:href=\"#m5a819844d9\" y=\"84.081926\"/>\n     <use style=\"fill:#1f77b4;stroke:#1f77b4;\" x=\"152.647941\" xlink:href=\"#m5a819844d9\" y=\"86.653261\"/>\n     <use style=\"fill:#1f77b4;stroke:#1f77b4;\" x=\"143.046591\" xlink:href=\"#m5a819844d9\" y=\"75.012874\"/>\n     <use style=\"fill:#1f77b4;stroke:#1f77b4;\" x=\"138.51393\" xlink:href=\"#m5a819844d9\" y=\"84.183279\"/>\n     <use style=\"fill:#1f77b4;stroke:#1f77b4;\" x=\"142.227008\" xlink:href=\"#m5a819844d9\" y=\"79.319719\"/>\n     <use style=\"fill:#1f77b4;stroke:#1f77b4;\" x=\"122.812032\" xlink:href=\"#m5a819844d9\" y=\"69.8306\"/>\n     <use style=\"fill:#1f77b4;stroke:#1f77b4;\" x=\"72.30111\" xlink:href=\"#m5a819844d9\" y=\"37.231175\"/>\n     <use style=\"fill:#1f77b4;stroke:#1f77b4;\" x=\"97.117274\" xlink:href=\"#m5a819844d9\" y=\"43.855243\"/>\n     <use style=\"fill:#1f77b4;stroke:#1f77b4;\" x=\"141.783579\" xlink:href=\"#m5a819844d9\" y=\"64.866346\"/>\n     <use style=\"fill:#1f77b4;stroke:#1f77b4;\" x=\"140.896267\" xlink:href=\"#m5a819844d9\" y=\"71.392343\"/>\n     <use style=\"fill:#1f77b4;stroke:#1f77b4;\" x=\"129.890346\" xlink:href=\"#m5a819844d9\" y=\"67.895167\"/>\n     <use style=\"fill:#1f77b4;stroke:#1f77b4;\" x=\"139.660868\" xlink:href=\"#m5a819844d9\" y=\"89.132361\"/>\n     <use style=\"fill:#1f77b4;stroke:#1f77b4;\" x=\"158.935567\" xlink:href=\"#m5a819844d9\" y=\"89.654843\"/>\n     <use style=\"fill:#1f77b4;stroke:#1f77b4;\" x=\"105.090227\" xlink:href=\"#m5a819844d9\" y=\"40.623908\"/>\n     <use style=\"fill:#1f77b4;stroke:#1f77b4;\" x=\"134.774038\" xlink:href=\"#m5a819844d9\" y=\"75.243328\"/>\n     <use style=\"fill:#1f77b4;stroke:#1f77b4;\" x=\"87.439767\" xlink:href=\"#m5a819844d9\" y=\"53.565144\"/>\n     <use style=\"fill:#1f77b4;stroke:#1f77b4;\" x=\"128.062975\" xlink:href=\"#m5a819844d9\" y=\"53.93779\"/>\n     <use style=\"fill:#1f77b4;stroke:#1f77b4;\" x=\"118.040971\" xlink:href=\"#m5a819844d9\" y=\"69.727624\"/>\n     <use style=\"fill:#1f77b4;stroke:#1f77b4;\" x=\"102.341273\" xlink:href=\"#m5a819844d9\" y=\"51.253898\"/>\n     <use style=\"fill:#1f77b4;stroke:#1f77b4;\" x=\"140.94657\" xlink:href=\"#m5a819844d9\" y=\"80.025446\"/>\n     <use style=\"fill:#1f77b4;stroke:#1f77b4;\" x=\"147.902574\" xlink:href=\"#m5a819844d9\" y=\"86.716417\"/>\n     <use style=\"fill:#1f77b4;stroke:#1f77b4;\" x=\"113.14758\" xlink:href=\"#m5a819844d9\" y=\"76.549662\"/>\n     <use style=\"fill:#1f77b4;stroke:#1f77b4;\" x=\"130.1387\" xlink:href=\"#m5a819844d9\" y=\"73.039686\"/>\n     <use style=\"fill:#1f77b4;stroke:#1f77b4;\" x=\"142.299412\" xlink:href=\"#m5a819844d9\" y=\"70.266035\"/>\n     <use style=\"fill:#1f77b4;stroke:#1f77b4;\" x=\"109.373702\" xlink:href=\"#m5a819844d9\" y=\"62.137956\"/>\n     <use style=\"fill:#1f77b4;stroke:#1f77b4;\" x=\"129.931035\" xlink:href=\"#m5a819844d9\" y=\"64.219231\"/>\n     <use style=\"fill:#1f77b4;stroke:#1f77b4;\" x=\"60.374566\" xlink:href=\"#m5a819844d9\" y=\"21.444869\"/>\n     <use style=\"fill:#1f77b4;stroke:#1f77b4;\" x=\"135.505474\" xlink:href=\"#m5a819844d9\" y=\"70.012221\"/>\n     <use style=\"fill:#1f77b4;stroke:#1f77b4;\" x=\"112.28721\" xlink:href=\"#m5a819844d9\" y=\"52.771712\"/>\n     <use style=\"fill:#1f77b4;stroke:#1f77b4;\" x=\"106.874538\" xlink:href=\"#m5a819844d9\" y=\"52.772421\"/>\n     <use style=\"fill:#1f77b4;stroke:#1f77b4;\" x=\"200.697539\" xlink:href=\"#m5a819844d9\" y=\"103.446654\"/>\n     <use style=\"fill:#1f77b4;stroke:#1f77b4;\" x=\"113.378834\" xlink:href=\"#m5a819844d9\" y=\"59.977841\"/>\n     <use style=\"fill:#1f77b4;stroke:#1f77b4;\" x=\"141.736263\" xlink:href=\"#m5a819844d9\" y=\"58.446307\"/>\n     <use style=\"fill:#1f77b4;stroke:#1f77b4;\" x=\"121.468753\" xlink:href=\"#m5a819844d9\" y=\"61.704629\"/>\n     <use style=\"fill:#1f77b4;stroke:#1f77b4;\" x=\"118.91716\" xlink:href=\"#m5a819844d9\" y=\"60.066426\"/>\n     <use style=\"fill:#1f77b4;stroke:#1f77b4;\" x=\"163.517438\" xlink:href=\"#m5a819844d9\" y=\"88.399386\"/>\n     <use style=\"fill:#1f77b4;stroke:#1f77b4;\" x=\"146.671903\" xlink:href=\"#m5a819844d9\" y=\"63.755907\"/>\n     <use style=\"fill:#1f77b4;stroke:#1f77b4;\" x=\"128.420826\" xlink:href=\"#m5a819844d9\" y=\"69.706324\"/>\n     <use style=\"fill:#1f77b4;stroke:#1f77b4;\" x=\"150.751861\" xlink:href=\"#m5a819844d9\" y=\"74.578129\"/>\n     <use style=\"fill:#1f77b4;stroke:#1f77b4;\" x=\"157.41673\" xlink:href=\"#m5a819844d9\" y=\"80.358913\"/>\n     <use style=\"fill:#1f77b4;stroke:#1f77b4;\" x=\"145.191662\" xlink:href=\"#m5a819844d9\" y=\"61.462425\"/>\n     <use style=\"fill:#1f77b4;stroke:#1f77b4;\" x=\"179.189469\" xlink:href=\"#m5a819844d9\" y=\"96.308013\"/>\n     <use style=\"fill:#1f77b4;stroke:#1f77b4;\" x=\"131.309771\" xlink:href=\"#m5a819844d9\" y=\"52.12175\"/>\n     <use style=\"fill:#1f77b4;stroke:#1f77b4;\" x=\"92.004485\" xlink:href=\"#m5a819844d9\" y=\"43.253156\"/>\n     <use style=\"fill:#1f77b4;stroke:#1f77b4;\" x=\"115.966947\" xlink:href=\"#m5a819844d9\" y=\"59.334006\"/>\n     <use style=\"fill:#1f77b4;stroke:#1f77b4;\" x=\"142.254068\" xlink:href=\"#m5a819844d9\" y=\"68.024142\"/>\n     <use style=\"fill:#1f77b4;stroke:#1f77b4;\" x=\"101.721613\" xlink:href=\"#m5a819844d9\" y=\"53.094263\"/>\n     <use style=\"fill:#1f77b4;stroke:#1f77b4;\" x=\"81.181164\" xlink:href=\"#m5a819844d9\" y=\"31.621298\"/>\n     <use style=\"fill:#1f77b4;stroke:#1f77b4;\" x=\"167.189048\" xlink:href=\"#m5a819844d9\" y=\"92.145004\"/>\n     <use style=\"fill:#1f77b4;stroke:#1f77b4;\" x=\"111.952227\" xlink:href=\"#m5a819844d9\" y=\"79.941563\"/>\n     <use style=\"fill:#1f77b4;stroke:#1f77b4;\" x=\"88.881552\" xlink:href=\"#m5a819844d9\" y=\"57.026108\"/>\n     <use style=\"fill:#1f77b4;stroke:#1f77b4;\" x=\"87.6888\" xlink:href=\"#m5a819844d9\" y=\"57.704929\"/>\n     <use style=\"fill:#1f77b4;stroke:#1f77b4;\" x=\"201.322298\" xlink:href=\"#m5a819844d9\" y=\"101.003871\"/>\n     <use style=\"fill:#1f77b4;stroke:#1f77b4;\" x=\"133.093134\" xlink:href=\"#m5a819844d9\" y=\"60.567344\"/>\n     <use style=\"fill:#1f77b4;stroke:#1f77b4;\" x=\"96.127811\" xlink:href=\"#m5a819844d9\" y=\"42.51178\"/>\n     <use style=\"fill:#1f77b4;stroke:#1f77b4;\" x=\"152.885542\" xlink:href=\"#m5a819844d9\" y=\"91.90729\"/>\n     <use style=\"fill:#1f77b4;stroke:#1f77b4;\" x=\"130.408122\" xlink:href=\"#m5a819844d9\" y=\"70.335417\"/>\n     <use style=\"fill:#1f77b4;stroke:#1f77b4;\" x=\"94.474668\" xlink:href=\"#m5a819844d9\" y=\"47.356514\"/>\n     <use style=\"fill:#1f77b4;stroke:#1f77b4;\" x=\"107.274803\" xlink:href=\"#m5a819844d9\" y=\"60.773292\"/>\n     <use style=\"fill:#1f77b4;stroke:#1f77b4;\" x=\"143.654141\" xlink:href=\"#m5a819844d9\" y=\"88.141565\"/>\n     <use style=\"fill:#1f77b4;stroke:#1f77b4;\" x=\"118.448206\" xlink:href=\"#m5a819844d9\" y=\"63.534455\"/>\n     <use style=\"fill:#1f77b4;stroke:#1f77b4;\" x=\"136.484581\" xlink:href=\"#m5a819844d9\" y=\"69.509915\"/>\n     <use style=\"fill:#1f77b4;stroke:#1f77b4;\" x=\"134.349964\" xlink:href=\"#m5a819844d9\" y=\"70.3836\"/>\n     <use style=\"fill:#1f77b4;stroke:#1f77b4;\" x=\"139.32919\" xlink:href=\"#m5a819844d9\" y=\"68.563035\"/>\n     <use style=\"fill:#1f77b4;stroke:#1f77b4;\" x=\"67.409203\" xlink:href=\"#m5a819844d9\" y=\"43.235544\"/>\n     <use style=\"fill:#1f77b4;stroke:#1f77b4;\" x=\"117.930525\" xlink:href=\"#m5a819844d9\" y=\"61.950957\"/>\n     <use style=\"fill:#1f77b4;stroke:#1f77b4;\" x=\"104.084588\" xlink:href=\"#m5a819844d9\" y=\"59.096256\"/>\n     <use style=\"fill:#1f77b4;stroke:#1f77b4;\" x=\"148.823411\" xlink:href=\"#m5a819844d9\" y=\"77.42217\"/>\n     <use style=\"fill:#1f77b4;stroke:#1f77b4;\" x=\"106.949659\" xlink:href=\"#m5a819844d9\" y=\"63.155533\"/>\n     <use style=\"fill:#1f77b4;stroke:#1f77b4;\" x=\"136.600169\" xlink:href=\"#m5a819844d9\" y=\"55.510192\"/>\n     <use style=\"fill:#1f77b4;stroke:#1f77b4;\" x=\"116.461001\" xlink:href=\"#m5a819844d9\" y=\"68.242569\"/>\n     <use style=\"fill:#1f77b4;stroke:#1f77b4;\" x=\"149.926444\" xlink:href=\"#m5a819844d9\" y=\"79.837063\"/>\n     <use style=\"fill:#1f77b4;stroke:#1f77b4;\" x=\"125.21156\" xlink:href=\"#m5a819844d9\" y=\"55.222563\"/>\n     <use style=\"fill:#1f77b4;stroke:#1f77b4;\" x=\"99.026713\" xlink:href=\"#m5a819844d9\" y=\"59.188498\"/>\n     <use style=\"fill:#1f77b4;stroke:#1f77b4;\" x=\"134.558164\" xlink:href=\"#m5a819844d9\" y=\"76.435849\"/>\n     <use style=\"fill:#1f77b4;stroke:#1f77b4;\" x=\"140.88591\" xlink:href=\"#m5a819844d9\" y=\"69.654808\"/>\n     <use style=\"fill:#1f77b4;stroke:#1f77b4;\" x=\"151.714075\" xlink:href=\"#m5a819844d9\" y=\"78.97217\"/>\n     <use style=\"fill:#1f77b4;stroke:#1f77b4;\" x=\"119.562553\" xlink:href=\"#m5a819844d9\" y=\"61.539234\"/>\n     <use style=\"fill:#1f77b4;stroke:#1f77b4;\" x=\"125.8105\" xlink:href=\"#m5a819844d9\" y=\"71.397303\"/>\n     <use style=\"fill:#1f77b4;stroke:#1f77b4;\" x=\"149.025683\" xlink:href=\"#m5a819844d9\" y=\"87.807467\"/>\n     <use style=\"fill:#1f77b4;stroke:#1f77b4;\" x=\"125.844804\" xlink:href=\"#m5a819844d9\" y=\"60.133006\"/>\n     <use style=\"fill:#1f77b4;stroke:#1f77b4;\" x=\"106.626526\" xlink:href=\"#m5a819844d9\" y=\"55.534722\"/>\n     <use style=\"fill:#1f77b4;stroke:#1f77b4;\" x=\"154.877547\" xlink:href=\"#m5a819844d9\" y=\"75.303463\"/>\n     <use style=\"fill:#1f77b4;stroke:#1f77b4;\" x=\"117.913545\" xlink:href=\"#m5a819844d9\" y=\"54.427008\"/>\n     <use style=\"fill:#1f77b4;stroke:#1f77b4;\" x=\"133.85292\" xlink:href=\"#m5a819844d9\" y=\"67.253523\"/>\n     <use style=\"fill:#1f77b4;stroke:#1f77b4;\" x=\"96.310278\" xlink:href=\"#m5a819844d9\" y=\"46.391057\"/>\n     <use style=\"fill:#1f77b4;stroke:#1f77b4;\" x=\"141.925074\" xlink:href=\"#m5a819844d9\" y=\"75.752617\"/>\n     <use style=\"fill:#1f77b4;stroke:#1f77b4;\" x=\"131.828273\" xlink:href=\"#m5a819844d9\" y=\"67.422038\"/>\n     <use style=\"fill:#1f77b4;stroke:#1f77b4;\" x=\"145.38517\" xlink:href=\"#m5a819844d9\" y=\"73.106445\"/>\n     <use style=\"fill:#1f77b4;stroke:#1f77b4;\" x=\"113.705966\" xlink:href=\"#m5a819844d9\" y=\"66.821195\"/>\n     <use style=\"fill:#1f77b4;stroke:#1f77b4;\" x=\"150.671069\" xlink:href=\"#m5a819844d9\" y=\"68.28484\"/>\n     <use style=\"fill:#1f77b4;stroke:#1f77b4;\" x=\"160.634892\" xlink:href=\"#m5a819844d9\" y=\"87.480438\"/>\n     <use style=\"fill:#1f77b4;stroke:#1f77b4;\" x=\"158.015249\" xlink:href=\"#m5a819844d9\" y=\"90.778822\"/>\n     <use style=\"fill:#1f77b4;stroke:#1f77b4;\" x=\"174.766593\" xlink:href=\"#m5a819844d9\" y=\"91.391744\"/>\n     <use style=\"fill:#1f77b4;stroke:#1f77b4;\" x=\"154.298573\" xlink:href=\"#m5a819844d9\" y=\"94.64095\"/>\n     <use style=\"fill:#1f77b4;stroke:#1f77b4;\" x=\"144.467557\" xlink:href=\"#m5a819844d9\" y=\"87.453321\"/>\n     <use style=\"fill:#1f77b4;stroke:#1f77b4;\" x=\"109.265956\" xlink:href=\"#m5a819844d9\" y=\"53.834465\"/>\n     <use style=\"fill:#1f77b4;stroke:#1f77b4;\" x=\"133.270374\" xlink:href=\"#m5a819844d9\" y=\"88.83541\"/>\n     <use style=\"fill:#1f77b4;stroke:#1f77b4;\" x=\"179.488876\" xlink:href=\"#m5a819844d9\" y=\"96.208375\"/>\n     <use style=\"fill:#1f77b4;stroke:#1f77b4;\" x=\"141.038849\" xlink:href=\"#m5a819844d9\" y=\"65.148436\"/>\n     <use style=\"fill:#1f77b4;stroke:#1f77b4;\" x=\"168.800141\" xlink:href=\"#m5a819844d9\" y=\"92.649278\"/>\n     <use style=\"fill:#1f77b4;stroke:#1f77b4;\" x=\"117.094865\" xlink:href=\"#m5a819844d9\" y=\"63.633761\"/>\n     <use style=\"fill:#1f77b4;stroke:#1f77b4;\" x=\"116.217451\" xlink:href=\"#m5a819844d9\" y=\"54.131821\"/>\n     <use style=\"fill:#1f77b4;stroke:#1f77b4;\" x=\"107.307289\" xlink:href=\"#m5a819844d9\" y=\"41.970136\"/>\n     <use style=\"fill:#1f77b4;stroke:#1f77b4;\" x=\"129.028382\" xlink:href=\"#m5a819844d9\" y=\"72.651179\"/>\n     <use style=\"fill:#1f77b4;stroke:#1f77b4;\" x=\"169.481684\" xlink:href=\"#m5a819844d9\" y=\"91.304045\"/>\n     <use style=\"fill:#1f77b4;stroke:#1f77b4;\" x=\"128.251392\" xlink:href=\"#m5a819844d9\" y=\"69.910729\"/>\n     <use style=\"fill:#1f77b4;stroke:#1f77b4;\" x=\"111.523125\" xlink:href=\"#m5a819844d9\" y=\"63.436604\"/>\n     <use style=\"fill:#1f77b4;stroke:#1f77b4;\" x=\"131.915886\" xlink:href=\"#m5a819844d9\" y=\"76.999178\"/>\n     <use style=\"fill:#1f77b4;stroke:#1f77b4;\" x=\"162.461289\" xlink:href=\"#m5a819844d9\" y=\"92.74435\"/>\n     <use style=\"fill:#1f77b4;stroke:#1f77b4;\" x=\"127.466434\" xlink:href=\"#m5a819844d9\" y=\"68.573708\"/>\n     <use style=\"fill:#1f77b4;stroke:#1f77b4;\" x=\"176.886034\" xlink:href=\"#m5a819844d9\" y=\"75.827201\"/>\n     <use style=\"fill:#1f77b4;stroke:#1f77b4;\" x=\"167.646057\" xlink:href=\"#m5a819844d9\" y=\"105.414485\"/>\n     <use style=\"fill:#1f77b4;stroke:#1f77b4;\" x=\"122.283836\" xlink:href=\"#m5a819844d9\" y=\"49.860743\"/>\n     <use style=\"fill:#1f77b4;stroke:#1f77b4;\" x=\"139.926053\" xlink:href=\"#m5a819844d9\" y=\"68.630806\"/>\n     <use style=\"fill:#1f77b4;stroke:#1f77b4;\" x=\"177.63919\" xlink:href=\"#m5a819844d9\" y=\"99.975386\"/>\n     <use style=\"fill:#1f77b4;stroke:#1f77b4;\" x=\"113.302912\" xlink:href=\"#m5a819844d9\" y=\"62.763223\"/>\n     <use style=\"fill:#1f77b4;stroke:#1f77b4;\" x=\"93.374087\" xlink:href=\"#m5a819844d9\" y=\"44.980089\"/>\n     <use style=\"fill:#1f77b4;stroke:#1f77b4;\" x=\"152.565082\" xlink:href=\"#m5a819844d9\" y=\"87.244902\"/>\n     <use style=\"fill:#1f77b4;stroke:#1f77b4;\" x=\"109.905958\" xlink:href=\"#m5a819844d9\" y=\"46.208784\"/>\n     <use style=\"fill:#1f77b4;stroke:#1f77b4;\" x=\"99.923621\" xlink:href=\"#m5a819844d9\" y=\"46.081806\"/>\n     <use style=\"fill:#1f77b4;stroke:#1f77b4;\" x=\"144.559745\" xlink:href=\"#m5a819844d9\" y=\"80.932176\"/>\n     <use style=\"fill:#1f77b4;stroke:#1f77b4;\" x=\"197.559783\" xlink:href=\"#m5a819844d9\" y=\"116.701706\"/>\n     <use style=\"fill:#1f77b4;stroke:#1f77b4;\" x=\"166.622106\" xlink:href=\"#m5a819844d9\" y=\"73.364703\"/>\n     <use style=\"fill:#1f77b4;stroke:#1f77b4;\" x=\"158.775096\" xlink:href=\"#m5a819844d9\" y=\"75.982381\"/>\n     <use style=\"fill:#1f77b4;stroke:#1f77b4;\" x=\"127.618742\" xlink:href=\"#m5a819844d9\" y=\"58.564404\"/>\n     <use style=\"fill:#1f77b4;stroke:#1f77b4;\" x=\"173.136415\" xlink:href=\"#m5a819844d9\" y=\"94.689256\"/>\n     <use style=\"fill:#1f77b4;stroke:#1f77b4;\" x=\"133.195078\" xlink:href=\"#m5a819844d9\" y=\"75.028524\"/>\n     <use style=\"fill:#1f77b4;stroke:#1f77b4;\" x=\"139.939303\" xlink:href=\"#m5a819844d9\" y=\"84.870065\"/>\n     <use style=\"fill:#1f77b4;stroke:#1f77b4;\" x=\"129.100957\" xlink:href=\"#m5a819844d9\" y=\"72.656462\"/>\n     <use style=\"fill:#1f77b4;stroke:#1f77b4;\" x=\"104.927937\" xlink:href=\"#m5a819844d9\" y=\"39.544159\"/>\n     <use style=\"fill:#1f77b4;stroke:#1f77b4;\" x=\"164.793935\" xlink:href=\"#m5a819844d9\" y=\"80.507534\"/>\n     <use style=\"fill:#1f77b4;stroke:#1f77b4;\" x=\"188.018629\" xlink:href=\"#m5a819844d9\" y=\"99.97385\"/>\n     <use style=\"fill:#1f77b4;stroke:#1f77b4;\" x=\"127.264622\" xlink:href=\"#m5a819844d9\" y=\"67.301662\"/>\n     <use style=\"fill:#1f77b4;stroke:#1f77b4;\" x=\"179.897427\" xlink:href=\"#m5a819844d9\" y=\"92.389268\"/>\n     <use style=\"fill:#1f77b4;stroke:#1f77b4;\" x=\"97.598011\" xlink:href=\"#m5a819844d9\" y=\"30.039343\"/>\n     <use style=\"fill:#1f77b4;stroke:#1f77b4;\" x=\"125.662546\" xlink:href=\"#m5a819844d9\" y=\"68.383825\"/>\n     <use style=\"fill:#1f77b4;stroke:#1f77b4;\" x=\"142.430991\" xlink:href=\"#m5a819844d9\" y=\"68.368387\"/>\n     <use style=\"fill:#1f77b4;stroke:#1f77b4;\" x=\"164.253435\" xlink:href=\"#m5a819844d9\" y=\"81.297977\"/>\n     <use style=\"fill:#1f77b4;stroke:#1f77b4;\" x=\"87.700249\" xlink:href=\"#m5a819844d9\" y=\"52.981223\"/>\n     <use style=\"fill:#1f77b4;stroke:#1f77b4;\" x=\"105.438219\" xlink:href=\"#m5a819844d9\" y=\"56.868302\"/>\n     <use style=\"fill:#1f77b4;stroke:#1f77b4;\" x=\"147.708423\" xlink:href=\"#m5a819844d9\" y=\"86.080878\"/>\n     <use style=\"fill:#1f77b4;stroke:#1f77b4;\" x=\"151.259945\" xlink:href=\"#m5a819844d9\" y=\"83.758632\"/>\n     <use style=\"fill:#1f77b4;stroke:#1f77b4;\" x=\"122.467691\" xlink:href=\"#m5a819844d9\" y=\"56.779598\"/>\n     <use style=\"fill:#1f77b4;stroke:#1f77b4;\" x=\"115.310611\" xlink:href=\"#m5a819844d9\" y=\"82.314625\"/>\n     <use style=\"fill:#1f77b4;stroke:#1f77b4;\" x=\"119.764335\" xlink:href=\"#m5a819844d9\" y=\"67.378559\"/>\n     <use style=\"fill:#1f77b4;stroke:#1f77b4;\" x=\"157.440454\" xlink:href=\"#m5a819844d9\" y=\"83.562003\"/>\n     <use style=\"fill:#1f77b4;stroke:#1f77b4;\" x=\"107.870435\" xlink:href=\"#m5a819844d9\" y=\"52.226285\"/>\n     <use style=\"fill:#1f77b4;stroke:#1f77b4;\" x=\"173.10474\" xlink:href=\"#m5a819844d9\" y=\"87.007814\"/>\n     <use style=\"fill:#1f77b4;stroke:#1f77b4;\" x=\"125.191964\" xlink:href=\"#m5a819844d9\" y=\"56.36264\"/>\n     <use style=\"fill:#1f77b4;stroke:#1f77b4;\" x=\"156.65\" xlink:href=\"#m5a819844d9\" y=\"66.827377\"/>\n     <use style=\"fill:#1f77b4;stroke:#1f77b4;\" x=\"152.073122\" xlink:href=\"#m5a819844d9\" y=\"70.329832\"/>\n     <use style=\"fill:#1f77b4;stroke:#1f77b4;\" x=\"105.046716\" xlink:href=\"#m5a819844d9\" y=\"53.637105\"/>\n     <use style=\"fill:#1f77b4;stroke:#1f77b4;\" x=\"121.846188\" xlink:href=\"#m5a819844d9\" y=\"71.815028\"/>\n     <use style=\"fill:#1f77b4;stroke:#1f77b4;\" x=\"92.368519\" xlink:href=\"#m5a819844d9\" y=\"50.369677\"/>\n     <use style=\"fill:#1f77b4;stroke:#1f77b4;\" x=\"143.244596\" xlink:href=\"#m5a819844d9\" y=\"63.803307\"/>\n     <use style=\"fill:#1f77b4;stroke:#1f77b4;\" x=\"162.818273\" xlink:href=\"#m5a819844d9\" y=\"95.709259\"/>\n     <use style=\"fill:#1f77b4;stroke:#1f77b4;\" x=\"147.175559\" xlink:href=\"#m5a819844d9\" y=\"96.554236\"/>\n     <use style=\"fill:#1f77b4;stroke:#1f77b4;\" x=\"110.813127\" xlink:href=\"#m5a819844d9\" y=\"47.431543\"/>\n     <use style=\"fill:#1f77b4;stroke:#1f77b4;\" x=\"128.633677\" xlink:href=\"#m5a819844d9\" y=\"73.94271\"/>\n     <use style=\"fill:#1f77b4;stroke:#1f77b4;\" x=\"52.455477\" xlink:href=\"#m5a819844d9\" y=\"22.110265\"/>\n     <use style=\"fill:#1f77b4;stroke:#1f77b4;\" x=\"164.928148\" xlink:href=\"#m5a819844d9\" y=\"104.304823\"/>\n     <use style=\"fill:#1f77b4;stroke:#1f77b4;\" x=\"192.484599\" xlink:href=\"#m5a819844d9\" y=\"101.922662\"/>\n     <use style=\"fill:#1f77b4;stroke:#1f77b4;\" x=\"122.144182\" xlink:href=\"#m5a819844d9\" y=\"55.759749\"/>\n     <use style=\"fill:#1f77b4;stroke:#1f77b4;\" x=\"98.300696\" xlink:href=\"#m5a819844d9\" y=\"55.323516\"/>\n     <use style=\"fill:#1f77b4;stroke:#1f77b4;\" x=\"102.544475\" xlink:href=\"#m5a819844d9\" y=\"48.820292\"/>\n     <use style=\"fill:#1f77b4;stroke:#1f77b4;\" x=\"149.022027\" xlink:href=\"#m5a819844d9\" y=\"86.534916\"/>\n     <use style=\"fill:#1f77b4;stroke:#1f77b4;\" x=\"103.860395\" xlink:href=\"#m5a819844d9\" y=\"49.812304\"/>\n     <use style=\"fill:#1f77b4;stroke:#1f77b4;\" x=\"127.954387\" xlink:href=\"#m5a819844d9\" y=\"55.92664\"/>\n     <use style=\"fill:#1f77b4;stroke:#1f77b4;\" x=\"197.55973\" xlink:href=\"#m5a819844d9\" y=\"99.085708\"/>\n     <use style=\"fill:#1f77b4;stroke:#1f77b4;\" x=\"126.430757\" xlink:href=\"#m5a819844d9\" y=\"51.576862\"/>\n     <use style=\"fill:#1f77b4;stroke:#1f77b4;\" x=\"124.015852\" xlink:href=\"#m5a819844d9\" y=\"54.36036\"/>\n     <use style=\"fill:#1f77b4;stroke:#1f77b4;\" x=\"117.038308\" xlink:href=\"#m5a819844d9\" y=\"53.960508\"/>\n     <use style=\"fill:#1f77b4;stroke:#1f77b4;\" x=\"128.811485\" xlink:href=\"#m5a819844d9\" y=\"85.968108\"/>\n     <use style=\"fill:#1f77b4;stroke:#1f77b4;\" x=\"117.944338\" xlink:href=\"#m5a819844d9\" y=\"73.357733\"/>\n     <use style=\"fill:#1f77b4;stroke:#1f77b4;\" x=\"152.400671\" xlink:href=\"#m5a819844d9\" y=\"69.938374\"/>\n     <use style=\"fill:#1f77b4;stroke:#1f77b4;\" x=\"131.602497\" xlink:href=\"#m5a819844d9\" y=\"69.161185\"/>\n     <use style=\"fill:#1f77b4;stroke:#1f77b4;\" x=\"180.910509\" xlink:href=\"#m5a819844d9\" y=\"87.876444\"/>\n     <use style=\"fill:#1f77b4;stroke:#1f77b4;\" x=\"110.799436\" xlink:href=\"#m5a819844d9\" y=\"60.49948\"/>\n     <use style=\"fill:#1f77b4;stroke:#1f77b4;\" x=\"122.09127\" xlink:href=\"#m5a819844d9\" y=\"63.384691\"/>\n     <use style=\"fill:#1f77b4;stroke:#1f77b4;\" x=\"109.895187\" xlink:href=\"#m5a819844d9\" y=\"64.169107\"/>\n     <use style=\"fill:#1f77b4;stroke:#1f77b4;\" x=\"141.090642\" xlink:href=\"#m5a819844d9\" y=\"66.163966\"/>\n     <use style=\"fill:#1f77b4;stroke:#1f77b4;\" x=\"142.960608\" xlink:href=\"#m5a819844d9\" y=\"87.288641\"/>\n     <use style=\"fill:#1f77b4;stroke:#1f77b4;\" x=\"87.125801\" xlink:href=\"#m5a819844d9\" y=\"33.083628\"/>\n     <use style=\"fill:#1f77b4;stroke:#1f77b4;\" x=\"179.832651\" xlink:href=\"#m5a819844d9\" y=\"89.686922\"/>\n     <use style=\"fill:#1f77b4;stroke:#1f77b4;\" x=\"118.910136\" xlink:href=\"#m5a819844d9\" y=\"69.71353\"/>\n     <use style=\"fill:#1f77b4;stroke:#1f77b4;\" x=\"160.554286\" xlink:href=\"#m5a819844d9\" y=\"92.939175\"/>\n     <use style=\"fill:#1f77b4;stroke:#1f77b4;\" x=\"154.038989\" xlink:href=\"#m5a819844d9\" y=\"87.710989\"/>\n     <use style=\"fill:#1f77b4;stroke:#1f77b4;\" x=\"135.066164\" xlink:href=\"#m5a819844d9\" y=\"65.528578\"/>\n     <use style=\"fill:#1f77b4;stroke:#1f77b4;\" x=\"152.376629\" xlink:href=\"#m5a819844d9\" y=\"63.292183\"/>\n     <use style=\"fill:#1f77b4;stroke:#1f77b4;\" x=\"103.540664\" xlink:href=\"#m5a819844d9\" y=\"46.355105\"/>\n     <use style=\"fill:#1f77b4;stroke:#1f77b4;\" x=\"175.723631\" xlink:href=\"#m5a819844d9\" y=\"95.621563\"/>\n     <use style=\"fill:#1f77b4;stroke:#1f77b4;\" x=\"116.344746\" xlink:href=\"#m5a819844d9\" y=\"73.655535\"/>\n     <use style=\"fill:#1f77b4;stroke:#1f77b4;\" x=\"86.456454\" xlink:href=\"#m5a819844d9\" y=\"44.275268\"/>\n     <use style=\"fill:#1f77b4;stroke:#1f77b4;\" x=\"88.781687\" xlink:href=\"#m5a819844d9\" y=\"49.614577\"/>\n     <use style=\"fill:#1f77b4;stroke:#1f77b4;\" x=\"177.621918\" xlink:href=\"#m5a819844d9\" y=\"87.001416\"/>\n     <use style=\"fill:#1f77b4;stroke:#1f77b4;\" x=\"105.125558\" xlink:href=\"#m5a819844d9\" y=\"53.260226\"/>\n     <use style=\"fill:#1f77b4;stroke:#1f77b4;\" x=\"173.133572\" xlink:href=\"#m5a819844d9\" y=\"95.308802\"/>\n     <use style=\"fill:#1f77b4;stroke:#1f77b4;\" x=\"89.177862\" xlink:href=\"#m5a819844d9\" y=\"40.403491\"/>\n     <use style=\"fill:#1f77b4;stroke:#1f77b4;\" x=\"94.840524\" xlink:href=\"#m5a819844d9\" y=\"33.469727\"/>\n     <use style=\"fill:#1f77b4;stroke:#1f77b4;\" x=\"137.752936\" xlink:href=\"#m5a819844d9\" y=\"78.103356\"/>\n     <use style=\"fill:#1f77b4;stroke:#1f77b4;\" x=\"129.882103\" xlink:href=\"#m5a819844d9\" y=\"64.457452\"/>\n     <use style=\"fill:#1f77b4;stroke:#1f77b4;\" x=\"142.162404\" xlink:href=\"#m5a819844d9\" y=\"82.011172\"/>\n     <use style=\"fill:#1f77b4;stroke:#1f77b4;\" x=\"172.828558\" xlink:href=\"#m5a819844d9\" y=\"94.770811\"/>\n     <use style=\"fill:#1f77b4;stroke:#1f77b4;\" x=\"64.055979\" xlink:href=\"#m5a819844d9\" y=\"39.965029\"/>\n     <use style=\"fill:#1f77b4;stroke:#1f77b4;\" x=\"146.476567\" xlink:href=\"#m5a819844d9\" y=\"67.521835\"/>\n     <use style=\"fill:#1f77b4;stroke:#1f77b4;\" x=\"90.221512\" xlink:href=\"#m5a819844d9\" y=\"47.064144\"/>\n     <use style=\"fill:#1f77b4;stroke:#1f77b4;\" x=\"113.353312\" xlink:href=\"#m5a819844d9\" y=\"51.125302\"/>\n     <use style=\"fill:#1f77b4;stroke:#1f77b4;\" x=\"125.063981\" xlink:href=\"#m5a819844d9\" y=\"62.099838\"/>\n     <use style=\"fill:#1f77b4;stroke:#1f77b4;\" x=\"158.168909\" xlink:href=\"#m5a819844d9\" y=\"76.789893\"/>\n     <use style=\"fill:#1f77b4;stroke:#1f77b4;\" x=\"123.273713\" xlink:href=\"#m5a819844d9\" y=\"76.181779\"/>\n     <use style=\"fill:#1f77b4;stroke:#1f77b4;\" x=\"129.311315\" xlink:href=\"#m5a819844d9\" y=\"76.724424\"/>\n     <use style=\"fill:#1f77b4;stroke:#1f77b4;\" x=\"163.961317\" xlink:href=\"#m5a819844d9\" y=\"88.680452\"/>\n     <use style=\"fill:#1f77b4;stroke:#1f77b4;\" x=\"139.558286\" xlink:href=\"#m5a819844d9\" y=\"86.604136\"/>\n     <use style=\"fill:#1f77b4;stroke:#1f77b4;\" x=\"135.308005\" xlink:href=\"#m5a819844d9\" y=\"84.089757\"/>\n     <use style=\"fill:#1f77b4;stroke:#1f77b4;\" x=\"126.109042\" xlink:href=\"#m5a819844d9\" y=\"65.96277\"/>\n     <use style=\"fill:#1f77b4;stroke:#1f77b4;\" x=\"137.066425\" xlink:href=\"#m5a819844d9\" y=\"75.5321\"/>\n     <use style=\"fill:#1f77b4;stroke:#1f77b4;\" x=\"150.139514\" xlink:href=\"#m5a819844d9\" y=\"73.006484\"/>\n     <use style=\"fill:#1f77b4;stroke:#1f77b4;\" x=\"100.602661\" xlink:href=\"#m5a819844d9\" y=\"37.057185\"/>\n     <use style=\"fill:#1f77b4;stroke:#1f77b4;\" x=\"103.452276\" xlink:href=\"#m5a819844d9\" y=\"36.83424\"/>\n     <use style=\"fill:#1f77b4;stroke:#1f77b4;\" x=\"142.572016\" xlink:href=\"#m5a819844d9\" y=\"68.55422\"/>\n     <use style=\"fill:#1f77b4;stroke:#1f77b4;\" x=\"126.425187\" xlink:href=\"#m5a819844d9\" y=\"58.941063\"/>\n     <use style=\"fill:#1f77b4;stroke:#1f77b4;\" x=\"134.681091\" xlink:href=\"#m5a819844d9\" y=\"85.789749\"/>\n     <use style=\"fill:#1f77b4;stroke:#1f77b4;\" x=\"136.727041\" xlink:href=\"#m5a819844d9\" y=\"88.296578\"/>\n     <use style=\"fill:#1f77b4;stroke:#1f77b4;\" x=\"104.436589\" xlink:href=\"#m5a819844d9\" y=\"72.677226\"/>\n     <use style=\"fill:#1f77b4;stroke:#1f77b4;\" x=\"137.116333\" xlink:href=\"#m5a819844d9\" y=\"70.850912\"/>\n     <use style=\"fill:#1f77b4;stroke:#1f77b4;\" x=\"139.482026\" xlink:href=\"#m5a819844d9\" y=\"82.213464\"/>\n     <use style=\"fill:#1f77b4;stroke:#1f77b4;\" x=\"136.725199\" xlink:href=\"#m5a819844d9\" y=\"85.143191\"/>\n     <use style=\"fill:#1f77b4;stroke:#1f77b4;\" x=\"141.220256\" xlink:href=\"#m5a819844d9\" y=\"90.665109\"/>\n     <use style=\"fill:#1f77b4;stroke:#1f77b4;\" x=\"152.066439\" xlink:href=\"#m5a819844d9\" y=\"69.093247\"/>\n     <use style=\"fill:#1f77b4;stroke:#1f77b4;\" x=\"171.114072\" xlink:href=\"#m5a819844d9\" y=\"90.852338\"/>\n     <use style=\"fill:#1f77b4;stroke:#1f77b4;\" x=\"132.589362\" xlink:href=\"#m5a819844d9\" y=\"66.426779\"/>\n     <use style=\"fill:#1f77b4;stroke:#1f77b4;\" x=\"108.343716\" xlink:href=\"#m5a819844d9\" y=\"66.233663\"/>\n     <use style=\"fill:#1f77b4;stroke:#1f77b4;\" x=\"92.736082\" xlink:href=\"#m5a819844d9\" y=\"47.178441\"/>\n     <use style=\"fill:#1f77b4;stroke:#1f77b4;\" x=\"137.102942\" xlink:href=\"#m5a819844d9\" y=\"89.056425\"/>\n     <use style=\"fill:#1f77b4;stroke:#1f77b4;\" x=\"143.030614\" xlink:href=\"#m5a819844d9\" y=\"80.508983\"/>\n     <use style=\"fill:#1f77b4;stroke:#1f77b4;\" x=\"141.682626\" xlink:href=\"#m5a819844d9\" y=\"80.5789\"/>\n     <use style=\"fill:#1f77b4;stroke:#1f77b4;\" x=\"161.176712\" xlink:href=\"#m5a819844d9\" y=\"91.81743\"/>\n     <use style=\"fill:#1f77b4;stroke:#1f77b4;\" x=\"153.85592\" xlink:href=\"#m5a819844d9\" y=\"84.322778\"/>\n     <use style=\"fill:#1f77b4;stroke:#1f77b4;\" x=\"118.064803\" xlink:href=\"#m5a819844d9\" y=\"51.743909\"/>\n     <use style=\"fill:#1f77b4;stroke:#1f77b4;\" x=\"101.114033\" xlink:href=\"#m5a819844d9\" y=\"53.807938\"/>\n     <use style=\"fill:#1f77b4;stroke:#1f77b4;\" x=\"148.10892\" xlink:href=\"#m5a819844d9\" y=\"79.166802\"/>\n     <use style=\"fill:#1f77b4;stroke:#1f77b4;\" x=\"176.34375\" xlink:href=\"#m5a819844d9\" y=\"101.36505\"/>\n     <use style=\"fill:#1f77b4;stroke:#1f77b4;\" x=\"133.787572\" xlink:href=\"#m5a819844d9\" y=\"67.7905\"/>\n     <use style=\"fill:#1f77b4;stroke:#1f77b4;\" x=\"103.767692\" xlink:href=\"#m5a819844d9\" y=\"53.826993\"/>\n     <use style=\"fill:#1f77b4;stroke:#1f77b4;\" x=\"61.359452\" xlink:href=\"#m5a819844d9\" y=\"26.02684\"/>\n     <use style=\"fill:#1f77b4;stroke:#1f77b4;\" x=\"140.283944\" xlink:href=\"#m5a819844d9\" y=\"66.860101\"/>\n     <use style=\"fill:#1f77b4;stroke:#1f77b4;\" x=\"81.400442\" xlink:href=\"#m5a819844d9\" y=\"50.008474\"/>\n     <use style=\"fill:#1f77b4;stroke:#1f77b4;\" x=\"118.350043\" xlink:href=\"#m5a819844d9\" y=\"69.899571\"/>\n     <use style=\"fill:#1f77b4;stroke:#1f77b4;\" x=\"141.251707\" xlink:href=\"#m5a819844d9\" y=\"60.419079\"/>\n     <use style=\"fill:#1f77b4;stroke:#1f77b4;\" x=\"165.670021\" xlink:href=\"#m5a819844d9\" y=\"97.398378\"/>\n     <use style=\"fill:#1f77b4;stroke:#1f77b4;\" x=\"140.084456\" xlink:href=\"#m5a819844d9\" y=\"64.429028\"/>\n     <use style=\"fill:#1f77b4;stroke:#1f77b4;\" x=\"144.602203\" xlink:href=\"#m5a819844d9\" y=\"90.704313\"/>\n     <use style=\"fill:#1f77b4;stroke:#1f77b4;\" x=\"158.021907\" xlink:href=\"#m5a819844d9\" y=\"84.633555\"/>\n     <use style=\"fill:#1f77b4;stroke:#1f77b4;\" x=\"135.041153\" xlink:href=\"#m5a819844d9\" y=\"80.090207\"/>\n     <use style=\"fill:#1f77b4;stroke:#1f77b4;\" x=\"159.9221\" xlink:href=\"#m5a819844d9\" y=\"89.28598\"/>\n     <use style=\"fill:#1f77b4;stroke:#1f77b4;\" x=\"118.096717\" xlink:href=\"#m5a819844d9\" y=\"59.016891\"/>\n     <use style=\"fill:#1f77b4;stroke:#1f77b4;\" x=\"112.568585\" xlink:href=\"#m5a819844d9\" y=\"61.272784\"/>\n     <use style=\"fill:#1f77b4;stroke:#1f77b4;\" x=\"171.747837\" xlink:href=\"#m5a819844d9\" y=\"93.366996\"/>\n     <use style=\"fill:#1f77b4;stroke:#1f77b4;\" x=\"126.986356\" xlink:href=\"#m5a819844d9\" y=\"67.392757\"/>\n     <use style=\"fill:#1f77b4;stroke:#1f77b4;\" x=\"151.126024\" xlink:href=\"#m5a819844d9\" y=\"57.17781\"/>\n     <use style=\"fill:#1f77b4;stroke:#1f77b4;\" x=\"49.219686\" xlink:href=\"#m5a819844d9\" y=\"19.689069\"/>\n     <use style=\"fill:#1f77b4;stroke:#1f77b4;\" x=\"140.20674\" xlink:href=\"#m5a819844d9\" y=\"76.526141\"/>\n     <use style=\"fill:#1f77b4;stroke:#1f77b4;\" x=\"159.176508\" xlink:href=\"#m5a819844d9\" y=\"70.760057\"/>\n     <use style=\"fill:#1f77b4;stroke:#1f77b4;\" x=\"101.29169\" xlink:href=\"#m5a819844d9\" y=\"55.609705\"/>\n     <use style=\"fill:#1f77b4;stroke:#1f77b4;\" x=\"143.360496\" xlink:href=\"#m5a819844d9\" y=\"76.331699\"/>\n     <use style=\"fill:#1f77b4;stroke:#1f77b4;\" x=\"100.287955\" xlink:href=\"#m5a819844d9\" y=\"50.018407\"/>\n     <use style=\"fill:#1f77b4;stroke:#1f77b4;\" x=\"101.664356\" xlink:href=\"#m5a819844d9\" y=\"67.748153\"/>\n     <use style=\"fill:#1f77b4;stroke:#1f77b4;\" x=\"169.461215\" xlink:href=\"#m5a819844d9\" y=\"93.712186\"/>\n     <use style=\"fill:#1f77b4;stroke:#1f77b4;\" x=\"212.178381\" xlink:href=\"#m5a819844d9\" y=\"120.538756\"/>\n     <use style=\"fill:#1f77b4;stroke:#1f77b4;\" x=\"109.848683\" xlink:href=\"#m5a819844d9\" y=\"51.160043\"/>\n     <use style=\"fill:#1f77b4;stroke:#1f77b4;\" x=\"114.721693\" xlink:href=\"#m5a819844d9\" y=\"59.060705\"/>\n     <use style=\"fill:#1f77b4;stroke:#1f77b4;\" x=\"133.918683\" xlink:href=\"#m5a819844d9\" y=\"59.319707\"/>\n     <use style=\"fill:#1f77b4;stroke:#1f77b4;\" x=\"137.035069\" xlink:href=\"#m5a819844d9\" y=\"62.588551\"/>\n     <use style=\"fill:#1f77b4;stroke:#1f77b4;\" x=\"138.984606\" xlink:href=\"#m5a819844d9\" y=\"74.590891\"/>\n     <use style=\"fill:#1f77b4;stroke:#1f77b4;\" x=\"137.077262\" xlink:href=\"#m5a819844d9\" y=\"63.848728\"/>\n     <use style=\"fill:#1f77b4;stroke:#1f77b4;\" x=\"103.634356\" xlink:href=\"#m5a819844d9\" y=\"59.841956\"/>\n     <use style=\"fill:#1f77b4;stroke:#1f77b4;\" x=\"186.432108\" xlink:href=\"#m5a819844d9\" y=\"94.448082\"/>\n     <use style=\"fill:#1f77b4;stroke:#1f77b4;\" x=\"101.485736\" xlink:href=\"#m5a819844d9\" y=\"54.210551\"/>\n     <use style=\"fill:#1f77b4;stroke:#1f77b4;\" x=\"147.434731\" xlink:href=\"#m5a819844d9\" y=\"91.718262\"/>\n     <use style=\"fill:#1f77b4;stroke:#1f77b4;\" x=\"114.103\" xlink:href=\"#m5a819844d9\" y=\"66.666268\"/>\n     <use style=\"fill:#1f77b4;stroke:#1f77b4;\" x=\"119.123759\" xlink:href=\"#m5a819844d9\" y=\"62.713331\"/>\n     <use style=\"fill:#1f77b4;stroke:#1f77b4;\" x=\"135.709266\" xlink:href=\"#m5a819844d9\" y=\"72.014615\"/>\n     <use style=\"fill:#1f77b4;stroke:#1f77b4;\" x=\"140.305967\" xlink:href=\"#m5a819844d9\" y=\"85.199128\"/>\n     <use style=\"fill:#1f77b4;stroke:#1f77b4;\" x=\"110.682601\" xlink:href=\"#m5a819844d9\" y=\"58.443544\"/>\n     <use style=\"fill:#1f77b4;stroke:#1f77b4;\" x=\"105.455497\" xlink:href=\"#m5a819844d9\" y=\"60.468731\"/>\n     <use style=\"fill:#1f77b4;stroke:#1f77b4;\" x=\"178.863347\" xlink:href=\"#m5a819844d9\" y=\"98.345358\"/>\n     <use style=\"fill:#1f77b4;stroke:#1f77b4;\" x=\"173.874405\" xlink:href=\"#m5a819844d9\" y=\"88.632207\"/>\n    </g>\n   </g>\n   <g id=\"matplotlib.axis_1\">\n    <g id=\"xtick_1\">\n     <g id=\"line2d_1\">\n      <defs>\n       <path d=\"M 0 0 \nL 0 3.5 \n\" id=\"mcd49fa558b\" style=\"stroke:#000000;stroke-width:0.8;\"/>\n      </defs>\n      <g>\n       <use style=\"stroke:#000000;stroke-width:0.8;\" x=\"75.127223\" xlink:href=\"#mcd49fa558b\" y=\"143.1\"/>\n      </g>\n     </g>\n     <g id=\"text_1\">\n      <!-- −2 -->\n      <defs>\n       <path d=\"M 10.59375 35.5 \nL 73.1875 35.5 \nL 73.1875 27.203125 \nL 10.59375 27.203125 \nz\n\" id=\"DejaVuSans-8722\"/>\n       <path d=\"M 19.1875 8.296875 \nL 53.609375 8.296875 \nL 53.609375 0 \nL 7.328125 0 \nL 7.328125 8.296875 \nQ 12.9375 14.109375 22.625 23.890625 \nQ 32.328125 33.6875 34.8125 36.53125 \nQ 39.546875 41.84375 41.421875 45.53125 \nQ 43.3125 49.21875 43.3125 52.78125 \nQ 43.3125 58.59375 39.234375 62.25 \nQ 35.15625 65.921875 28.609375 65.921875 \nQ 23.96875 65.921875 18.8125 64.3125 \nQ 13.671875 62.703125 7.8125 59.421875 \nL 7.8125 69.390625 \nQ 13.765625 71.78125 18.9375 73 \nQ 24.125 74.21875 28.421875 74.21875 \nQ 39.75 74.21875 46.484375 68.546875 \nQ 53.21875 62.890625 53.21875 53.421875 \nQ 53.21875 48.921875 51.53125 44.890625 \nQ 49.859375 40.875 45.40625 35.40625 \nQ 44.1875 33.984375 37.640625 27.21875 \nQ 31.109375 20.453125 19.1875 8.296875 \nz\n\" id=\"DejaVuSans-50\"/>\n      </defs>\n      <g transform=\"translate(67.75613 157.698438)scale(0.1 -0.1)\">\n       <use xlink:href=\"#DejaVuSans-8722\"/>\n       <use x=\"83.789062\" xlink:href=\"#DejaVuSans-50\"/>\n      </g>\n     </g>\n    </g>\n    <g id=\"xtick_2\">\n     <g id=\"line2d_2\">\n      <g>\n       <use style=\"stroke:#000000;stroke-width:0.8;\" x=\"131.048235\" xlink:href=\"#mcd49fa558b\" y=\"143.1\"/>\n      </g>\n     </g>\n     <g id=\"text_2\">\n      <!-- 0 -->\n      <defs>\n       <path d=\"M 31.78125 66.40625 \nQ 24.171875 66.40625 20.328125 58.90625 \nQ 16.5 51.421875 16.5 36.375 \nQ 16.5 21.390625 20.328125 13.890625 \nQ 24.171875 6.390625 31.78125 6.390625 \nQ 39.453125 6.390625 43.28125 13.890625 \nQ 47.125 21.390625 47.125 36.375 \nQ 47.125 51.421875 43.28125 58.90625 \nQ 39.453125 66.40625 31.78125 66.40625 \nz\nM 31.78125 74.21875 \nQ 44.046875 74.21875 50.515625 64.515625 \nQ 56.984375 54.828125 56.984375 36.375 \nQ 56.984375 17.96875 50.515625 8.265625 \nQ 44.046875 -1.421875 31.78125 -1.421875 \nQ 19.53125 -1.421875 13.0625 8.265625 \nQ 6.59375 17.96875 6.59375 36.375 \nQ 6.59375 54.828125 13.0625 64.515625 \nQ 19.53125 74.21875 31.78125 74.21875 \nz\n\" id=\"DejaVuSans-48\"/>\n      </defs>\n      <g transform=\"translate(127.866985 157.698438)scale(0.1 -0.1)\">\n       <use xlink:href=\"#DejaVuSans-48\"/>\n      </g>\n     </g>\n    </g>\n    <g id=\"xtick_3\">\n     <g id=\"line2d_3\">\n      <g>\n       <use style=\"stroke:#000000;stroke-width:0.8;\" x=\"186.969246\" xlink:href=\"#mcd49fa558b\" y=\"143.1\"/>\n      </g>\n     </g>\n     <g id=\"text_3\">\n      <!-- 2 -->\n      <g transform=\"translate(183.787996 157.698438)scale(0.1 -0.1)\">\n       <use xlink:href=\"#DejaVuSans-50\"/>\n      </g>\n     </g>\n    </g>\n   </g>\n   <g id=\"matplotlib.axis_2\">\n    <g id=\"ytick_1\">\n     <g id=\"line2d_4\">\n      <defs>\n       <path d=\"M 0 0 \nL -3.5 0 \n\" id=\"m5f6755514f\" style=\"stroke:#000000;stroke-width:0.8;\"/>\n      </defs>\n      <g>\n       <use style=\"stroke:#000000;stroke-width:0.8;\" x=\"35.304688\" xlink:href=\"#m5f6755514f\" y=\"134.261389\"/>\n      </g>\n     </g>\n     <g id=\"text_4\">\n      <!-- −10 -->\n      <defs>\n       <path d=\"M 12.40625 8.296875 \nL 28.515625 8.296875 \nL 28.515625 63.921875 \nL 10.984375 60.40625 \nL 10.984375 69.390625 \nL 28.421875 72.90625 \nL 38.28125 72.90625 \nL 38.28125 8.296875 \nL 54.390625 8.296875 \nL 54.390625 0 \nL 12.40625 0 \nz\n\" id=\"DejaVuSans-49\"/>\n      </defs>\n      <g transform=\"translate(7.2 138.060607)scale(0.1 -0.1)\">\n       <use xlink:href=\"#DejaVuSans-8722\"/>\n       <use x=\"83.789062\" xlink:href=\"#DejaVuSans-49\"/>\n       <use x=\"147.412109\" xlink:href=\"#DejaVuSans-48\"/>\n      </g>\n     </g>\n    </g>\n    <g id=\"ytick_2\">\n     <g id=\"line2d_5\">\n      <g>\n       <use style=\"stroke:#000000;stroke-width:0.8;\" x=\"35.304688\" xlink:href=\"#m5f6755514f\" y=\"111.176201\"/>\n      </g>\n     </g>\n     <g id=\"text_5\">\n      <!-- −5 -->\n      <defs>\n       <path d=\"M 10.796875 72.90625 \nL 49.515625 72.90625 \nL 49.515625 64.59375 \nL 19.828125 64.59375 \nL 19.828125 46.734375 \nQ 21.96875 47.46875 24.109375 47.828125 \nQ 26.265625 48.1875 28.421875 48.1875 \nQ 40.625 48.1875 47.75 41.5 \nQ 54.890625 34.8125 54.890625 23.390625 \nQ 54.890625 11.625 47.5625 5.09375 \nQ 40.234375 -1.421875 26.90625 -1.421875 \nQ 22.3125 -1.421875 17.546875 -0.640625 \nQ 12.796875 0.140625 7.71875 1.703125 \nL 7.71875 11.625 \nQ 12.109375 9.234375 16.796875 8.0625 \nQ 21.484375 6.890625 26.703125 6.890625 \nQ 35.15625 6.890625 40.078125 11.328125 \nQ 45.015625 15.765625 45.015625 23.390625 \nQ 45.015625 31 40.078125 35.4375 \nQ 35.15625 39.890625 26.703125 39.890625 \nQ 22.75 39.890625 18.8125 39.015625 \nQ 14.890625 38.140625 10.796875 36.28125 \nz\n\" id=\"DejaVuSans-53\"/>\n      </defs>\n      <g transform=\"translate(13.5625 114.97542)scale(0.1 -0.1)\">\n       <use xlink:href=\"#DejaVuSans-8722\"/>\n       <use x=\"83.789062\" xlink:href=\"#DejaVuSans-53\"/>\n      </g>\n     </g>\n    </g>\n    <g id=\"ytick_3\">\n     <g id=\"line2d_6\">\n      <g>\n       <use style=\"stroke:#000000;stroke-width:0.8;\" x=\"35.304688\" xlink:href=\"#m5f6755514f\" y=\"88.091014\"/>\n      </g>\n     </g>\n     <g id=\"text_6\">\n      <!-- 0 -->\n      <g transform=\"translate(21.942187 91.890233)scale(0.1 -0.1)\">\n       <use xlink:href=\"#DejaVuSans-48\"/>\n      </g>\n     </g>\n    </g>\n    <g id=\"ytick_4\">\n     <g id=\"line2d_7\">\n      <g>\n       <use style=\"stroke:#000000;stroke-width:0.8;\" x=\"35.304688\" xlink:href=\"#m5f6755514f\" y=\"65.005827\"/>\n      </g>\n     </g>\n     <g id=\"text_7\">\n      <!-- 5 -->\n      <g transform=\"translate(21.942187 68.805046)scale(0.1 -0.1)\">\n       <use xlink:href=\"#DejaVuSans-53\"/>\n      </g>\n     </g>\n    </g>\n    <g id=\"ytick_5\">\n     <g id=\"line2d_8\">\n      <g>\n       <use style=\"stroke:#000000;stroke-width:0.8;\" x=\"35.304688\" xlink:href=\"#m5f6755514f\" y=\"41.92064\"/>\n      </g>\n     </g>\n     <g id=\"text_8\">\n      <!-- 10 -->\n      <g transform=\"translate(15.579687 45.719859)scale(0.1 -0.1)\">\n       <use xlink:href=\"#DejaVuSans-49\"/>\n       <use x=\"63.623047\" xlink:href=\"#DejaVuSans-48\"/>\n      </g>\n     </g>\n    </g>\n    <g id=\"ytick_6\">\n     <g id=\"line2d_9\">\n      <g>\n       <use style=\"stroke:#000000;stroke-width:0.8;\" x=\"35.304688\" xlink:href=\"#m5f6755514f\" y=\"18.835453\"/>\n      </g>\n     </g>\n     <g id=\"text_9\">\n      <!-- 15 -->\n      <g transform=\"translate(15.579687 22.634671)scale(0.1 -0.1)\">\n       <use xlink:href=\"#DejaVuSans-49\"/>\n       <use x=\"63.623047\" xlink:href=\"#DejaVuSans-53\"/>\n      </g>\n     </g>\n    </g>\n   </g>\n   <g id=\"patch_3\">\n    <path d=\"M 35.304688 143.1 \nL 35.304688 7.2 \n\" style=\"fill:none;stroke:#000000;stroke-linecap:square;stroke-linejoin:miter;stroke-width:0.8;\"/>\n   </g>\n   <g id=\"patch_4\">\n    <path d=\"M 230.604688 143.1 \nL 230.604688 7.2 \n\" style=\"fill:none;stroke:#000000;stroke-linecap:square;stroke-linejoin:miter;stroke-width:0.8;\"/>\n   </g>\n   <g id=\"patch_5\">\n    <path d=\"M 35.304688 143.1 \nL 230.604688 143.1 \n\" style=\"fill:none;stroke:#000000;stroke-linecap:square;stroke-linejoin:miter;stroke-width:0.8;\"/>\n   </g>\n   <g id=\"patch_6\">\n    <path d=\"M 35.304688 7.2 \nL 230.604688 7.2 \n\" style=\"fill:none;stroke:#000000;stroke-linecap:square;stroke-linejoin:miter;stroke-width:0.8;\"/>\n   </g>\n  </g>\n </g>\n <defs>\n  <clipPath id=\"p3b44ede3e1\">\n   <rect height=\"135.9\" width=\"195.3\" x=\"35.304688\" y=\"7.2\"/>\n  </clipPath>\n </defs>\n</svg>\n"
          },
          "metadata": {
            "tags": [],
            "needs_background": "light"
          }
        }
      ]
    },
    {
      "cell_type": "code",
      "metadata": {
        "id": "OanGDWu7k70v",
        "colab_type": "code",
        "colab": {}
      },
      "source": [
        "import random\n",
        "def data_iter(batch_size, features, labels):\n",
        "    num_examples = len(features)\n",
        "    indices = list(range(num_examples))\n",
        "    # The examples are read at random, in no particular order\n",
        "    random.shuffle(indices)\n",
        "    for i in range(0, num_examples, batch_size):\n",
        "        batch_indices = torch.tensor(\n",
        "            indices[i: min(i + batch_size, num_examples)])\n",
        "        yield features[batch_indices], labels[batch_indices]"
      ],
      "execution_count": 18,
      "outputs": []
    },
    {
      "cell_type": "code",
      "metadata": {
        "id": "AhM43I8clFFK",
        "colab_type": "code",
        "colab": {
          "base_uri": "https://localhost:8080/",
          "height": 351
        },
        "outputId": "a4069e96-1a1c-4ea0-ac1f-d6c78b40178a"
      },
      "source": [
        "batch_size = 10\n",
        "\n",
        "for X, y in data_iter(batch_size, features, labels):\n",
        "    print(X, '\\n', y)\n",
        "    break"
      ],
      "execution_count": 19,
      "outputs": [
        {
          "output_type": "stream",
          "text": [
            "tensor([[ 0.9672,  0.1362],\n",
            "        [ 0.4040,  0.0877],\n",
            "        [-1.3006, -1.5081],\n",
            "        [-1.6869, -1.0509],\n",
            "        [-2.0413,  0.0795],\n",
            "        [ 1.7066,  0.0292],\n",
            "        [-0.7883, -0.0566],\n",
            "        [-0.5504, -0.0722],\n",
            "        [-1.4454, -1.5507],\n",
            "        [-0.8107, -0.8638]]) \n",
            " tensor([[ 5.6693],\n",
            "        [ 4.7015],\n",
            "        [ 6.7283],\n",
            "        [ 4.4060],\n",
            "        [-0.1612],\n",
            "        [ 7.5113],\n",
            "        [ 2.8272],\n",
            "        [ 3.3441],\n",
            "        [ 6.5813],\n",
            "        [ 5.5044]])\n"
          ],
          "name": "stdout"
        }
      ]
    },
    {
      "cell_type": "code",
      "metadata": {
        "id": "2yRcPdhVqkSX",
        "colab_type": "code",
        "colab": {}
      },
      "source": [
        "w = torch.normal(0, 0.01, size=(2,1), requires_grad=True)\n",
        "b = torch.zeros(1, requires_grad=True)"
      ],
      "execution_count": 20,
      "outputs": []
    },
    {
      "cell_type": "code",
      "metadata": {
        "id": "lLp139qPqxcp",
        "colab_type": "code",
        "colab": {}
      },
      "source": [
        "def linreg(X, w, b):  #@save\n",
        "    \"\"\"The linear regression model.\"\"\"\n",
        "    return torch.matmul(X, w) + b"
      ],
      "execution_count": 21,
      "outputs": []
    },
    {
      "cell_type": "code",
      "metadata": {
        "id": "2aNZ3ad2qx9X",
        "colab_type": "code",
        "colab": {}
      },
      "source": [
        "def squared_loss(y_hat, y):  #@save\n",
        "    \"\"\"Squared loss.\"\"\"\n",
        "    return (y_hat - y.reshape(y_hat.shape)) ** 2 / 2"
      ],
      "execution_count": 22,
      "outputs": []
    },
    {
      "cell_type": "code",
      "metadata": {
        "id": "q1E6_Z2VrbeQ",
        "colab_type": "code",
        "colab": {}
      },
      "source": [
        "def sgd(params, lr, batch_size):  #@save\n",
        "    \"\"\"Minibatch stochastic gradient descent.\"\"\"\n",
        "    for param in params:\n",
        "        param.data.sub_(lr*param.grad/batch_size)\n",
        "        param.grad.data.zero_()"
      ],
      "execution_count": 23,
      "outputs": []
    },
    {
      "cell_type": "code",
      "metadata": {
        "id": "SJSno68usOVg",
        "colab_type": "code",
        "colab": {
          "base_uri": "https://localhost:8080/",
          "height": 67
        },
        "outputId": "a0a9e454-311d-4a3d-9025-3827d02f05e4"
      },
      "source": [
        "lr = 0.03\n",
        "num_epochs = 3\n",
        "net = linreg\n",
        "loss = squared_loss\n",
        "\n",
        "for epoch in range(num_epochs):\n",
        "    for X, y in data_iter(batch_size, features, labels):\n",
        "        l = loss(net(X, w, b), y)  # Minibatch loss in `X` and `y`\n",
        "        # Compute gradient on `l` with respect to [`w`, `b`]\n",
        "        l.sum().backward()\n",
        "        sgd([w, b], lr, batch_size)  # Update parameters using their gradient\n",
        "    with torch.no_grad():\n",
        "        train_l = loss(net(features, w, b), labels)\n",
        "        print(f'epoch {epoch + 1}, loss {float(train_l.mean()):f}')"
      ],
      "execution_count": 28,
      "outputs": [
        {
          "output_type": "stream",
          "text": [
            "epoch 1, loss 0.000049\n",
            "epoch 2, loss 0.000049\n",
            "epoch 3, loss 0.000049\n"
          ],
          "name": "stdout"
        }
      ]
    },
    {
      "cell_type": "code",
      "metadata": {
        "id": "1AhvdZ4UsdQP",
        "colab_type": "code",
        "colab": {
          "base_uri": "https://localhost:8080/",
          "height": 50
        },
        "outputId": "38ed2b9b-b115-4b57-8f0e-f5a451c73f7f"
      },
      "source": [
        "print(f'error in estimating w: {true_w - w.reshape(true_w.shape)}')\n",
        "print(f'error in estimating b: {true_b - b}')"
      ],
      "execution_count": 25,
      "outputs": [
        {
          "output_type": "stream",
          "text": [
            "error in estimating w: tensor([ 0.0003, -0.0006], grad_fn=<SubBackward0>)\n",
            "error in estimating b: tensor([3.1948e-05], grad_fn=<RsubBackward1>)\n"
          ],
          "name": "stdout"
        }
      ]
    },
    {
      "cell_type": "markdown",
      "metadata": {
        "id": "LFdgg2vxuzpF",
        "colab_type": "text"
      },
      "source": [
        "Linear Reggression in Concise"
      ]
    },
    {
      "cell_type": "code",
      "metadata": {
        "id": "dU5o7y4wu4ng",
        "colab_type": "code",
        "colab": {}
      },
      "source": [
        "from d2l import torch as d2l\n",
        "import numpy as np\n",
        "import torch\n",
        "from torch.utils import data\n",
        "\n",
        "true_w = torch.tensor([2, -3.4])\n",
        "true_b = 4.2\n",
        "features, labels = d2l.synthetic_data(true_w, true_b, 1000)"
      ],
      "execution_count": 3,
      "outputs": []
    },
    {
      "cell_type": "code",
      "metadata": {
        "id": "A8T3Swl9RBAt",
        "colab_type": "code",
        "colab": {}
      },
      "source": [
        "def load_array(data_arrays, batch_size, is_train=True):  #@save\n",
        "    \"\"\"Construct a PyTorch data iterator.\"\"\"\n",
        "    dataset = data.TensorDataset(*data_arrays)\n",
        "    return data.DataLoader(dataset, batch_size, shuffle=is_train)\n",
        "\n",
        "batch_size = 10\n",
        "data_iter = load_array((features, labels), batch_size)"
      ],
      "execution_count": 4,
      "outputs": []
    },
    {
      "cell_type": "code",
      "metadata": {
        "id": "aG1guTDfRGEt",
        "colab_type": "code",
        "colab": {}
      },
      "source": [
        "# `nn` is an abbreviation for neural networks\n",
        "from torch import nn\n",
        "net = nn.Sequential(nn.Linear(2, 1))"
      ],
      "execution_count": 5,
      "outputs": []
    },
    {
      "cell_type": "code",
      "metadata": {
        "id": "yuzjYeTHR1sr",
        "colab_type": "code",
        "colab": {
          "base_uri": "https://localhost:8080/",
          "height": 33
        },
        "outputId": "8f6fb912-3da9-42b5-dea7-ce1b43f755b3"
      },
      "source": [
        "net[0].weight.data.normal_(0, 0.01)\n",
        "net[0].bias.data.fill_(0)"
      ],
      "execution_count": 6,
      "outputs": [
        {
          "output_type": "execute_result",
          "data": {
            "text/plain": [
              "tensor([0.])"
            ]
          },
          "metadata": {
            "tags": []
          },
          "execution_count": 6
        }
      ]
    },
    {
      "cell_type": "code",
      "metadata": {
        "id": "ZHIoueuRR7FO",
        "colab_type": "code",
        "colab": {}
      },
      "source": [
        "loss = nn.MSELoss()"
      ],
      "execution_count": 7,
      "outputs": []
    },
    {
      "cell_type": "code",
      "metadata": {
        "id": "jP-ZZUJxR_wW",
        "colab_type": "code",
        "colab": {}
      },
      "source": [
        "trainer = torch.optim.SGD(net.parameters(), lr=0.03)"
      ],
      "execution_count": 8,
      "outputs": []
    },
    {
      "cell_type": "code",
      "metadata": {
        "id": "mQOUt6FmSL1G",
        "colab_type": "code",
        "colab": {
          "base_uri": "https://localhost:8080/",
          "height": 67
        },
        "outputId": "a5e19480-0156-4265-cd7d-d65f1a961e57"
      },
      "source": [
        "num_epochs = 3\n",
        "for epoch in range(num_epochs):\n",
        "    for X, y in data_iter:\n",
        "        l = loss(net(X) ,y)\n",
        "        trainer.zero_grad()\n",
        "        l.backward()\n",
        "        trainer.step()\n",
        "    l = loss(net(features), labels)\n",
        "    print(f'epoch {epoch + 1}, loss {l:f}')"
      ],
      "execution_count": 9,
      "outputs": [
        {
          "output_type": "stream",
          "text": [
            "epoch 1, loss 0.000187\n",
            "epoch 2, loss 0.000105\n",
            "epoch 3, loss 0.000104\n"
          ],
          "name": "stdout"
        }
      ]
    },
    {
      "cell_type": "code",
      "metadata": {
        "id": "S5DZKVRM-z7_",
        "colab_type": "code",
        "colab": {
          "base_uri": "https://localhost:8080/",
          "height": 349,
          "referenced_widgets": [
            "9fac3ecad31a44338d68788fd5e08816",
            "3ba7932bd0614561aab588b7f4b87598",
            "6dfee126192e4dfa9d4c1b9b38303b6b",
            "7b737e83f8244fda93fbde29aadbc5ea",
            "24c70ff0724f4bfebf9120daedc08c82",
            "b04bd151661940b9b956f00d6fafdd5e",
            "5ac9e85a101e45c79f70e731c35c06ec",
            "c005576e3afa44fdbb8e5251a2c417a7",
            "d1971dd9a4924f2e89a496b68eab3e4b",
            "df4a89e7b2e549fa845c122463b7304a",
            "284fa3414dd147ed9e474be506ac51f8",
            "c110f7e05cb34a83a59297c34798860c",
            "57581ee90a054ff5972d5302526a3d8d",
            "a21b163b8d6e4c98920c8d07291f9d0f",
            "0a0335f1efbd49cd9d4b70ff4b385dab",
            "f91ce708a45549fb9b6c0ab136480d48",
            "4126c5c003234f45bba17bc703047783",
            "50ec653298c747aaa38f389c20a002f6",
            "e925d48a91b34720aa1a395d56a18e13",
            "4946509eb6054c4588334560325db364",
            "670382f4cd8948439d36411a4ccaeaad",
            "a3061d39358f405aa133dac96ee9f10f",
            "048b9e6b95624e9cb466a17a3a1a5f4a",
            "b7b348da08df48758664795a65ea055c",
            "772b3e05426c406496cfc4eb104e5c6e",
            "12e11c43744844969f6fea40b70be464",
            "30b77b4cd475423a90ac3fff513ff4b3",
            "ecee755e17974aecaa0a880c51a655c9",
            "17ab8ae778f54b40a4b58b2aa2cd9e76",
            "4433634f04794d70b2ffb7d26eb72f2f",
            "5246c322938c4e97a1e2798e7f467f16",
            "26152aa254e0418a90e728934bf21e3e"
          ]
        },
        "outputId": "6483e641-7a37-40a5-c963-3c2d6de9337d"
      },
      "source": [
        "from d2l import torch as d2l\n",
        "import torch\n",
        "from torch import nn\n",
        "\n",
        "batch_size = 256\n",
        "train_iter, test_iter = d2l.load_data_fashion_mnist(batch_size)"
      ],
      "execution_count": 2,
      "outputs": [
        {
          "output_type": "stream",
          "text": [
            "Downloading http://fashion-mnist.s3-website.eu-central-1.amazonaws.com/train-images-idx3-ubyte.gz to ../data/FashionMNIST/raw/train-images-idx3-ubyte.gz\n"
          ],
          "name": "stdout"
        },
        {
          "output_type": "display_data",
          "data": {
            "application/vnd.jupyter.widget-view+json": {
              "model_id": "9fac3ecad31a44338d68788fd5e08816",
              "version_minor": 0,
              "version_major": 2
            },
            "text/plain": [
              "HBox(children=(FloatProgress(value=1.0, bar_style='info', max=1.0), HTML(value='')))"
            ]
          },
          "metadata": {
            "tags": []
          }
        },
        {
          "output_type": "stream",
          "text": [
            "Extracting ../data/FashionMNIST/raw/train-images-idx3-ubyte.gz to ../data/FashionMNIST/raw\n",
            "Downloading http://fashion-mnist.s3-website.eu-central-1.amazonaws.com/train-labels-idx1-ubyte.gz to ../data/FashionMNIST/raw/train-labels-idx1-ubyte.gz\n"
          ],
          "name": "stdout"
        },
        {
          "output_type": "display_data",
          "data": {
            "application/vnd.jupyter.widget-view+json": {
              "model_id": "d1971dd9a4924f2e89a496b68eab3e4b",
              "version_minor": 0,
              "version_major": 2
            },
            "text/plain": [
              "HBox(children=(FloatProgress(value=1.0, bar_style='info', max=1.0), HTML(value='')))"
            ]
          },
          "metadata": {
            "tags": []
          }
        },
        {
          "output_type": "stream",
          "text": [
            "Extracting ../data/FashionMNIST/raw/train-labels-idx1-ubyte.gz to ../data/FashionMNIST/raw\n",
            "Downloading http://fashion-mnist.s3-website.eu-central-1.amazonaws.com/t10k-images-idx3-ubyte.gz to ../data/FashionMNIST/raw/t10k-images-idx3-ubyte.gz\n"
          ],
          "name": "stdout"
        },
        {
          "output_type": "display_data",
          "data": {
            "application/vnd.jupyter.widget-view+json": {
              "model_id": "4126c5c003234f45bba17bc703047783",
              "version_minor": 0,
              "version_major": 2
            },
            "text/plain": [
              "HBox(children=(FloatProgress(value=1.0, bar_style='info', max=1.0), HTML(value='')))"
            ]
          },
          "metadata": {
            "tags": []
          }
        },
        {
          "output_type": "stream",
          "text": [
            "Extracting ../data/FashionMNIST/raw/t10k-images-idx3-ubyte.gz to ../data/FashionMNIST/raw\n",
            "Downloading http://fashion-mnist.s3-website.eu-central-1.amazonaws.com/t10k-labels-idx1-ubyte.gz to ../data/FashionMNIST/raw/t10k-labels-idx1-ubyte.gz\n"
          ],
          "name": "stdout"
        },
        {
          "output_type": "display_data",
          "data": {
            "application/vnd.jupyter.widget-view+json": {
              "model_id": "772b3e05426c406496cfc4eb104e5c6e",
              "version_minor": 0,
              "version_major": 2
            },
            "text/plain": [
              "HBox(children=(FloatProgress(value=1.0, bar_style='info', max=1.0), HTML(value='')))"
            ]
          },
          "metadata": {
            "tags": []
          }
        },
        {
          "output_type": "stream",
          "text": [
            "Extracting ../data/FashionMNIST/raw/t10k-labels-idx1-ubyte.gz to ../data/FashionMNIST/raw\n",
            "Processing...\n",
            "Done!\n"
          ],
          "name": "stdout"
        },
        {
          "output_type": "stream",
          "text": [
            "/pytorch/torch/csrc/utils/tensor_numpy.cpp:141: UserWarning: The given NumPy array is not writeable, and PyTorch does not support non-writeable tensors. This means you can write to the underlying (supposedly non-writeable) NumPy array using the tensor. You may want to copy the array to protect its data or make it writeable before converting it to a tensor. This type of warning will be suppressed for the rest of this program.\n"
          ],
          "name": "stderr"
        }
      ]
    },
    {
      "cell_type": "code",
      "metadata": {
        "id": "oJ2BcrY5_fSo",
        "colab_type": "code",
        "colab": {
          "base_uri": "https://localhost:8080/",
          "height": 84
        },
        "outputId": "2505f6c3-14e2-4d87-fd47-76e0ea4527fb"
      },
      "source": [
        "# PyTorch does not implicitly reshape the inputs. Thus we define a layer to\n",
        "# reshape the inputs in our network\n",
        "class Reshape(torch.nn.Module):\n",
        "    def forward(self, x):\n",
        "        return x.view(-1,784)\n",
        "\n",
        "net = nn.Sequential(Reshape(), nn.Linear(784, 10))\n",
        "\n",
        "def init_weights(m):\n",
        "    if type(m) == nn.Linear:\n",
        "        torch.nn.init.normal_(m.weight, std=0.01)\n",
        "\n",
        "net.apply(init_weights)"
      ],
      "execution_count": 3,
      "outputs": [
        {
          "output_type": "execute_result",
          "data": {
            "text/plain": [
              "Sequential(\n",
              "  (0): Reshape()\n",
              "  (1): Linear(in_features=784, out_features=10, bias=True)\n",
              ")"
            ]
          },
          "metadata": {
            "tags": []
          },
          "execution_count": 3
        }
      ]
    },
    {
      "cell_type": "code",
      "metadata": {
        "id": "4hcMITLd_1B5",
        "colab_type": "code",
        "colab": {}
      },
      "source": [
        "loss = nn.CrossEntropyLoss()"
      ],
      "execution_count": 4,
      "outputs": []
    },
    {
      "cell_type": "code",
      "metadata": {
        "id": "h1NmOPTQ_3Qg",
        "colab_type": "code",
        "colab": {}
      },
      "source": [
        "trainer = torch.optim.SGD(net.parameters(), lr=0.1)"
      ],
      "execution_count": 9,
      "outputs": []
    },
    {
      "cell_type": "code",
      "metadata": {
        "id": "iyMq-FwAAAOI",
        "colab_type": "code",
        "colab": {
          "base_uri": "https://localhost:8080/",
          "height": 262
        },
        "outputId": "189e5e63-d2bb-4093-b2a0-0a70f7a27da2"
      },
      "source": [
        "num_epochs = 10\n",
        "d2l.train_ch3(net, train_iter, test_iter, loss, num_epochs, trainer)"
      ],
      "execution_count": 10,
      "outputs": [
        {
          "output_type": "display_data",
          "data": {
            "text/plain": [
              "<Figure size 252x180 with 1 Axes>"
            ],
            "image/svg+xml": "<?xml version=\"1.0\" encoding=\"utf-8\" standalone=\"no\"?>\n<!DOCTYPE svg PUBLIC \"-//W3C//DTD SVG 1.1//EN\"\n  \"http://www.w3.org/Graphics/SVG/1.1/DTD/svg11.dtd\">\n<!-- Created with matplotlib (https://matplotlib.org/) -->\n<svg height=\"180.65625pt\" version=\"1.1\" viewBox=\"0 0 238.965625 180.65625\" width=\"238.965625pt\" xmlns=\"http://www.w3.org/2000/svg\" xmlns:xlink=\"http://www.w3.org/1999/xlink\">\n <defs>\n  <style type=\"text/css\">\n*{stroke-linecap:butt;stroke-linejoin:round;}\n  </style>\n </defs>\n <g id=\"figure_1\">\n  <g id=\"patch_1\">\n   <path d=\"M 0 180.65625 \nL 238.965625 180.65625 \nL 238.965625 0 \nL 0 0 \nz\n\" style=\"fill:none;\"/>\n  </g>\n  <g id=\"axes_1\">\n   <g id=\"patch_2\">\n    <path d=\"M 30.103125 143.1 \nL 225.403125 143.1 \nL 225.403125 7.2 \nL 30.103125 7.2 \nz\n\" style=\"fill:#ffffff;\"/>\n   </g>\n   <g id=\"matplotlib.axis_1\">\n    <g id=\"xtick_1\">\n     <g id=\"line2d_1\">\n      <path clip-path=\"url(#p06e38ad285)\" d=\"M 51.803125 143.1 \nL 51.803125 7.2 \n\" style=\"fill:none;stroke:#b0b0b0;stroke-linecap:square;stroke-width:0.8;\"/>\n     </g>\n     <g id=\"line2d_2\">\n      <defs>\n       <path d=\"M 0 0 \nL 0 3.5 \n\" id=\"m9f61aad484\" style=\"stroke:#000000;stroke-width:0.8;\"/>\n      </defs>\n      <g>\n       <use style=\"stroke:#000000;stroke-width:0.8;\" x=\"51.803125\" xlink:href=\"#m9f61aad484\" y=\"143.1\"/>\n      </g>\n     </g>\n     <g id=\"text_1\">\n      <!-- 2 -->\n      <defs>\n       <path d=\"M 19.1875 8.296875 \nL 53.609375 8.296875 \nL 53.609375 0 \nL 7.328125 0 \nL 7.328125 8.296875 \nQ 12.9375 14.109375 22.625 23.890625 \nQ 32.328125 33.6875 34.8125 36.53125 \nQ 39.546875 41.84375 41.421875 45.53125 \nQ 43.3125 49.21875 43.3125 52.78125 \nQ 43.3125 58.59375 39.234375 62.25 \nQ 35.15625 65.921875 28.609375 65.921875 \nQ 23.96875 65.921875 18.8125 64.3125 \nQ 13.671875 62.703125 7.8125 59.421875 \nL 7.8125 69.390625 \nQ 13.765625 71.78125 18.9375 73 \nQ 24.125 74.21875 28.421875 74.21875 \nQ 39.75 74.21875 46.484375 68.546875 \nQ 53.21875 62.890625 53.21875 53.421875 \nQ 53.21875 48.921875 51.53125 44.890625 \nQ 49.859375 40.875 45.40625 35.40625 \nQ 44.1875 33.984375 37.640625 27.21875 \nQ 31.109375 20.453125 19.1875 8.296875 \nz\n\" id=\"DejaVuSans-50\"/>\n      </defs>\n      <g transform=\"translate(48.621875 157.698438)scale(0.1 -0.1)\">\n       <use xlink:href=\"#DejaVuSans-50\"/>\n      </g>\n     </g>\n    </g>\n    <g id=\"xtick_2\">\n     <g id=\"line2d_3\">\n      <path clip-path=\"url(#p06e38ad285)\" d=\"M 95.203125 143.1 \nL 95.203125 7.2 \n\" style=\"fill:none;stroke:#b0b0b0;stroke-linecap:square;stroke-width:0.8;\"/>\n     </g>\n     <g id=\"line2d_4\">\n      <g>\n       <use style=\"stroke:#000000;stroke-width:0.8;\" x=\"95.203125\" xlink:href=\"#m9f61aad484\" y=\"143.1\"/>\n      </g>\n     </g>\n     <g id=\"text_2\">\n      <!-- 4 -->\n      <defs>\n       <path d=\"M 37.796875 64.3125 \nL 12.890625 25.390625 \nL 37.796875 25.390625 \nz\nM 35.203125 72.90625 \nL 47.609375 72.90625 \nL 47.609375 25.390625 \nL 58.015625 25.390625 \nL 58.015625 17.1875 \nL 47.609375 17.1875 \nL 47.609375 0 \nL 37.796875 0 \nL 37.796875 17.1875 \nL 4.890625 17.1875 \nL 4.890625 26.703125 \nz\n\" id=\"DejaVuSans-52\"/>\n      </defs>\n      <g transform=\"translate(92.021875 157.698438)scale(0.1 -0.1)\">\n       <use xlink:href=\"#DejaVuSans-52\"/>\n      </g>\n     </g>\n    </g>\n    <g id=\"xtick_3\">\n     <g id=\"line2d_5\">\n      <path clip-path=\"url(#p06e38ad285)\" d=\"M 138.603125 143.1 \nL 138.603125 7.2 \n\" style=\"fill:none;stroke:#b0b0b0;stroke-linecap:square;stroke-width:0.8;\"/>\n     </g>\n     <g id=\"line2d_6\">\n      <g>\n       <use style=\"stroke:#000000;stroke-width:0.8;\" x=\"138.603125\" xlink:href=\"#m9f61aad484\" y=\"143.1\"/>\n      </g>\n     </g>\n     <g id=\"text_3\">\n      <!-- 6 -->\n      <defs>\n       <path d=\"M 33.015625 40.375 \nQ 26.375 40.375 22.484375 35.828125 \nQ 18.609375 31.296875 18.609375 23.390625 \nQ 18.609375 15.53125 22.484375 10.953125 \nQ 26.375 6.390625 33.015625 6.390625 \nQ 39.65625 6.390625 43.53125 10.953125 \nQ 47.40625 15.53125 47.40625 23.390625 \nQ 47.40625 31.296875 43.53125 35.828125 \nQ 39.65625 40.375 33.015625 40.375 \nz\nM 52.59375 71.296875 \nL 52.59375 62.3125 \nQ 48.875 64.0625 45.09375 64.984375 \nQ 41.3125 65.921875 37.59375 65.921875 \nQ 27.828125 65.921875 22.671875 59.328125 \nQ 17.53125 52.734375 16.796875 39.40625 \nQ 19.671875 43.65625 24.015625 45.921875 \nQ 28.375 48.1875 33.59375 48.1875 \nQ 44.578125 48.1875 50.953125 41.515625 \nQ 57.328125 34.859375 57.328125 23.390625 \nQ 57.328125 12.15625 50.6875 5.359375 \nQ 44.046875 -1.421875 33.015625 -1.421875 \nQ 20.359375 -1.421875 13.671875 8.265625 \nQ 6.984375 17.96875 6.984375 36.375 \nQ 6.984375 53.65625 15.1875 63.9375 \nQ 23.390625 74.21875 37.203125 74.21875 \nQ 40.921875 74.21875 44.703125 73.484375 \nQ 48.484375 72.75 52.59375 71.296875 \nz\n\" id=\"DejaVuSans-54\"/>\n      </defs>\n      <g transform=\"translate(135.421875 157.698438)scale(0.1 -0.1)\">\n       <use xlink:href=\"#DejaVuSans-54\"/>\n      </g>\n     </g>\n    </g>\n    <g id=\"xtick_4\">\n     <g id=\"line2d_7\">\n      <path clip-path=\"url(#p06e38ad285)\" d=\"M 182.003125 143.1 \nL 182.003125 7.2 \n\" style=\"fill:none;stroke:#b0b0b0;stroke-linecap:square;stroke-width:0.8;\"/>\n     </g>\n     <g id=\"line2d_8\">\n      <g>\n       <use style=\"stroke:#000000;stroke-width:0.8;\" x=\"182.003125\" xlink:href=\"#m9f61aad484\" y=\"143.1\"/>\n      </g>\n     </g>\n     <g id=\"text_4\">\n      <!-- 8 -->\n      <defs>\n       <path d=\"M 31.78125 34.625 \nQ 24.75 34.625 20.71875 30.859375 \nQ 16.703125 27.09375 16.703125 20.515625 \nQ 16.703125 13.921875 20.71875 10.15625 \nQ 24.75 6.390625 31.78125 6.390625 \nQ 38.8125 6.390625 42.859375 10.171875 \nQ 46.921875 13.96875 46.921875 20.515625 \nQ 46.921875 27.09375 42.890625 30.859375 \nQ 38.875 34.625 31.78125 34.625 \nz\nM 21.921875 38.8125 \nQ 15.578125 40.375 12.03125 44.71875 \nQ 8.5 49.078125 8.5 55.328125 \nQ 8.5 64.0625 14.71875 69.140625 \nQ 20.953125 74.21875 31.78125 74.21875 \nQ 42.671875 74.21875 48.875 69.140625 \nQ 55.078125 64.0625 55.078125 55.328125 \nQ 55.078125 49.078125 51.53125 44.71875 \nQ 48 40.375 41.703125 38.8125 \nQ 48.828125 37.15625 52.796875 32.3125 \nQ 56.78125 27.484375 56.78125 20.515625 \nQ 56.78125 9.90625 50.3125 4.234375 \nQ 43.84375 -1.421875 31.78125 -1.421875 \nQ 19.734375 -1.421875 13.25 4.234375 \nQ 6.78125 9.90625 6.78125 20.515625 \nQ 6.78125 27.484375 10.78125 32.3125 \nQ 14.796875 37.15625 21.921875 38.8125 \nz\nM 18.3125 54.390625 \nQ 18.3125 48.734375 21.84375 45.5625 \nQ 25.390625 42.390625 31.78125 42.390625 \nQ 38.140625 42.390625 41.71875 45.5625 \nQ 45.3125 48.734375 45.3125 54.390625 \nQ 45.3125 60.0625 41.71875 63.234375 \nQ 38.140625 66.40625 31.78125 66.40625 \nQ 25.390625 66.40625 21.84375 63.234375 \nQ 18.3125 60.0625 18.3125 54.390625 \nz\n\" id=\"DejaVuSans-56\"/>\n      </defs>\n      <g transform=\"translate(178.821875 157.698438)scale(0.1 -0.1)\">\n       <use xlink:href=\"#DejaVuSans-56\"/>\n      </g>\n     </g>\n    </g>\n    <g id=\"xtick_5\">\n     <g id=\"line2d_9\">\n      <path clip-path=\"url(#p06e38ad285)\" d=\"M 225.403125 143.1 \nL 225.403125 7.2 \n\" style=\"fill:none;stroke:#b0b0b0;stroke-linecap:square;stroke-width:0.8;\"/>\n     </g>\n     <g id=\"line2d_10\">\n      <g>\n       <use style=\"stroke:#000000;stroke-width:0.8;\" x=\"225.403125\" xlink:href=\"#m9f61aad484\" y=\"143.1\"/>\n      </g>\n     </g>\n     <g id=\"text_5\">\n      <!-- 10 -->\n      <defs>\n       <path d=\"M 12.40625 8.296875 \nL 28.515625 8.296875 \nL 28.515625 63.921875 \nL 10.984375 60.40625 \nL 10.984375 69.390625 \nL 28.421875 72.90625 \nL 38.28125 72.90625 \nL 38.28125 8.296875 \nL 54.390625 8.296875 \nL 54.390625 0 \nL 12.40625 0 \nz\n\" id=\"DejaVuSans-49\"/>\n       <path d=\"M 31.78125 66.40625 \nQ 24.171875 66.40625 20.328125 58.90625 \nQ 16.5 51.421875 16.5 36.375 \nQ 16.5 21.390625 20.328125 13.890625 \nQ 24.171875 6.390625 31.78125 6.390625 \nQ 39.453125 6.390625 43.28125 13.890625 \nQ 47.125 21.390625 47.125 36.375 \nQ 47.125 51.421875 43.28125 58.90625 \nQ 39.453125 66.40625 31.78125 66.40625 \nz\nM 31.78125 74.21875 \nQ 44.046875 74.21875 50.515625 64.515625 \nQ 56.984375 54.828125 56.984375 36.375 \nQ 56.984375 17.96875 50.515625 8.265625 \nQ 44.046875 -1.421875 31.78125 -1.421875 \nQ 19.53125 -1.421875 13.0625 8.265625 \nQ 6.59375 17.96875 6.59375 36.375 \nQ 6.59375 54.828125 13.0625 64.515625 \nQ 19.53125 74.21875 31.78125 74.21875 \nz\n\" id=\"DejaVuSans-48\"/>\n      </defs>\n      <g transform=\"translate(219.040625 157.698438)scale(0.1 -0.1)\">\n       <use xlink:href=\"#DejaVuSans-49\"/>\n       <use x=\"63.623047\" xlink:href=\"#DejaVuSans-48\"/>\n      </g>\n     </g>\n    </g>\n    <g id=\"text_6\">\n     <!-- epoch -->\n     <defs>\n      <path d=\"M 56.203125 29.59375 \nL 56.203125 25.203125 \nL 14.890625 25.203125 \nQ 15.484375 15.921875 20.484375 11.0625 \nQ 25.484375 6.203125 34.421875 6.203125 \nQ 39.59375 6.203125 44.453125 7.46875 \nQ 49.3125 8.734375 54.109375 11.28125 \nL 54.109375 2.78125 \nQ 49.265625 0.734375 44.1875 -0.34375 \nQ 39.109375 -1.421875 33.890625 -1.421875 \nQ 20.796875 -1.421875 13.15625 6.1875 \nQ 5.515625 13.8125 5.515625 26.8125 \nQ 5.515625 40.234375 12.765625 48.109375 \nQ 20.015625 56 32.328125 56 \nQ 43.359375 56 49.78125 48.890625 \nQ 56.203125 41.796875 56.203125 29.59375 \nz\nM 47.21875 32.234375 \nQ 47.125 39.59375 43.09375 43.984375 \nQ 39.0625 48.390625 32.421875 48.390625 \nQ 24.90625 48.390625 20.390625 44.140625 \nQ 15.875 39.890625 15.1875 32.171875 \nz\n\" id=\"DejaVuSans-101\"/>\n      <path d=\"M 18.109375 8.203125 \nL 18.109375 -20.796875 \nL 9.078125 -20.796875 \nL 9.078125 54.6875 \nL 18.109375 54.6875 \nL 18.109375 46.390625 \nQ 20.953125 51.265625 25.265625 53.625 \nQ 29.59375 56 35.59375 56 \nQ 45.5625 56 51.78125 48.09375 \nQ 58.015625 40.1875 58.015625 27.296875 \nQ 58.015625 14.40625 51.78125 6.484375 \nQ 45.5625 -1.421875 35.59375 -1.421875 \nQ 29.59375 -1.421875 25.265625 0.953125 \nQ 20.953125 3.328125 18.109375 8.203125 \nz\nM 48.6875 27.296875 \nQ 48.6875 37.203125 44.609375 42.84375 \nQ 40.53125 48.484375 33.40625 48.484375 \nQ 26.265625 48.484375 22.1875 42.84375 \nQ 18.109375 37.203125 18.109375 27.296875 \nQ 18.109375 17.390625 22.1875 11.75 \nQ 26.265625 6.109375 33.40625 6.109375 \nQ 40.53125 6.109375 44.609375 11.75 \nQ 48.6875 17.390625 48.6875 27.296875 \nz\n\" id=\"DejaVuSans-112\"/>\n      <path d=\"M 30.609375 48.390625 \nQ 23.390625 48.390625 19.1875 42.75 \nQ 14.984375 37.109375 14.984375 27.296875 \nQ 14.984375 17.484375 19.15625 11.84375 \nQ 23.34375 6.203125 30.609375 6.203125 \nQ 37.796875 6.203125 41.984375 11.859375 \nQ 46.1875 17.53125 46.1875 27.296875 \nQ 46.1875 37.015625 41.984375 42.703125 \nQ 37.796875 48.390625 30.609375 48.390625 \nz\nM 30.609375 56 \nQ 42.328125 56 49.015625 48.375 \nQ 55.71875 40.765625 55.71875 27.296875 \nQ 55.71875 13.875 49.015625 6.21875 \nQ 42.328125 -1.421875 30.609375 -1.421875 \nQ 18.84375 -1.421875 12.171875 6.21875 \nQ 5.515625 13.875 5.515625 27.296875 \nQ 5.515625 40.765625 12.171875 48.375 \nQ 18.84375 56 30.609375 56 \nz\n\" id=\"DejaVuSans-111\"/>\n      <path d=\"M 48.78125 52.59375 \nL 48.78125 44.1875 \nQ 44.96875 46.296875 41.140625 47.34375 \nQ 37.3125 48.390625 33.40625 48.390625 \nQ 24.65625 48.390625 19.8125 42.84375 \nQ 14.984375 37.3125 14.984375 27.296875 \nQ 14.984375 17.28125 19.8125 11.734375 \nQ 24.65625 6.203125 33.40625 6.203125 \nQ 37.3125 6.203125 41.140625 7.25 \nQ 44.96875 8.296875 48.78125 10.40625 \nL 48.78125 2.09375 \nQ 45.015625 0.34375 40.984375 -0.53125 \nQ 36.96875 -1.421875 32.421875 -1.421875 \nQ 20.0625 -1.421875 12.78125 6.34375 \nQ 5.515625 14.109375 5.515625 27.296875 \nQ 5.515625 40.671875 12.859375 48.328125 \nQ 20.21875 56 33.015625 56 \nQ 37.15625 56 41.109375 55.140625 \nQ 45.0625 54.296875 48.78125 52.59375 \nz\n\" id=\"DejaVuSans-99\"/>\n      <path d=\"M 54.890625 33.015625 \nL 54.890625 0 \nL 45.90625 0 \nL 45.90625 32.71875 \nQ 45.90625 40.484375 42.875 44.328125 \nQ 39.84375 48.1875 33.796875 48.1875 \nQ 26.515625 48.1875 22.3125 43.546875 \nQ 18.109375 38.921875 18.109375 30.90625 \nL 18.109375 0 \nL 9.078125 0 \nL 9.078125 75.984375 \nL 18.109375 75.984375 \nL 18.109375 46.1875 \nQ 21.34375 51.125 25.703125 53.5625 \nQ 30.078125 56 35.796875 56 \nQ 45.21875 56 50.046875 50.171875 \nQ 54.890625 44.34375 54.890625 33.015625 \nz\n\" id=\"DejaVuSans-104\"/>\n     </defs>\n     <g transform=\"translate(112.525 171.376563)scale(0.1 -0.1)\">\n      <use xlink:href=\"#DejaVuSans-101\"/>\n      <use x=\"61.523438\" xlink:href=\"#DejaVuSans-112\"/>\n      <use x=\"125\" xlink:href=\"#DejaVuSans-111\"/>\n      <use x=\"186.181641\" xlink:href=\"#DejaVuSans-99\"/>\n      <use x=\"241.162109\" xlink:href=\"#DejaVuSans-104\"/>\n     </g>\n    </g>\n   </g>\n   <g id=\"matplotlib.axis_2\">\n    <g id=\"ytick_1\">\n     <g id=\"line2d_11\">\n      <path clip-path=\"url(#p06e38ad285)\" d=\"M 30.103125 120.45 \nL 225.403125 120.45 \n\" style=\"fill:none;stroke:#b0b0b0;stroke-linecap:square;stroke-width:0.8;\"/>\n     </g>\n     <g id=\"line2d_12\">\n      <defs>\n       <path d=\"M 0 0 \nL -3.5 0 \n\" id=\"m00e2c3d637\" style=\"stroke:#000000;stroke-width:0.8;\"/>\n      </defs>\n      <g>\n       <use style=\"stroke:#000000;stroke-width:0.8;\" x=\"30.103125\" xlink:href=\"#m00e2c3d637\" y=\"120.45\"/>\n      </g>\n     </g>\n     <g id=\"text_7\">\n      <!-- 0.4 -->\n      <defs>\n       <path d=\"M 10.6875 12.40625 \nL 21 12.40625 \nL 21 0 \nL 10.6875 0 \nz\n\" id=\"DejaVuSans-46\"/>\n      </defs>\n      <g transform=\"translate(7.2 124.249219)scale(0.1 -0.1)\">\n       <use xlink:href=\"#DejaVuSans-48\"/>\n       <use x=\"63.623047\" xlink:href=\"#DejaVuSans-46\"/>\n       <use x=\"95.410156\" xlink:href=\"#DejaVuSans-52\"/>\n      </g>\n     </g>\n    </g>\n    <g id=\"ytick_2\">\n     <g id=\"line2d_13\">\n      <path clip-path=\"url(#p06e38ad285)\" d=\"M 30.103125 75.15 \nL 225.403125 75.15 \n\" style=\"fill:none;stroke:#b0b0b0;stroke-linecap:square;stroke-width:0.8;\"/>\n     </g>\n     <g id=\"line2d_14\">\n      <g>\n       <use style=\"stroke:#000000;stroke-width:0.8;\" x=\"30.103125\" xlink:href=\"#m00e2c3d637\" y=\"75.15\"/>\n      </g>\n     </g>\n     <g id=\"text_8\">\n      <!-- 0.6 -->\n      <g transform=\"translate(7.2 78.949219)scale(0.1 -0.1)\">\n       <use xlink:href=\"#DejaVuSans-48\"/>\n       <use x=\"63.623047\" xlink:href=\"#DejaVuSans-46\"/>\n       <use x=\"95.410156\" xlink:href=\"#DejaVuSans-54\"/>\n      </g>\n     </g>\n    </g>\n    <g id=\"ytick_3\">\n     <g id=\"line2d_15\">\n      <path clip-path=\"url(#p06e38ad285)\" d=\"M 30.103125 29.85 \nL 225.403125 29.85 \n\" style=\"fill:none;stroke:#b0b0b0;stroke-linecap:square;stroke-width:0.8;\"/>\n     </g>\n     <g id=\"line2d_16\">\n      <g>\n       <use style=\"stroke:#000000;stroke-width:0.8;\" x=\"30.103125\" xlink:href=\"#m00e2c3d637\" y=\"29.85\"/>\n      </g>\n     </g>\n     <g id=\"text_9\">\n      <!-- 0.8 -->\n      <g transform=\"translate(7.2 33.649219)scale(0.1 -0.1)\">\n       <use xlink:href=\"#DejaVuSans-48\"/>\n       <use x=\"63.623047\" xlink:href=\"#DejaVuSans-46\"/>\n       <use x=\"95.410156\" xlink:href=\"#DejaVuSans-56\"/>\n      </g>\n     </g>\n    </g>\n   </g>\n   <g id=\"line2d_17\">\n    <path clip-path=\"url(#p06e38ad285)\" d=\"M 30.103125 111.22673 \nL 51.803125 114.416591 \nL 73.503125 116.324063 \nL 95.203125 117.485035 \nL 116.903125 118.721342 \nL 138.603125 119.528622 \nL 160.303125 120.154968 \nL 182.003125 120.793664 \nL 203.703125 121.122361 \nL 225.403125 121.564154 \n\" style=\"fill:none;stroke:#1f77b4;stroke-linecap:square;stroke-width:1.5;\"/>\n   </g>\n   <g id=\"line2d_18\">\n    <path clip-path=\"url(#p06e38ad285)\" d=\"M 30.103125 15.67865 \nL 51.803125 15.4597 \nL 73.503125 15.335125 \nL 95.203125 15.425725 \nL 116.903125 15.327575 \nL 138.603125 15.11995 \nL 160.303125 15.048225 \nL 182.003125 15.1879 \nL 203.703125 15.2936 \nL 225.403125 15.078425 \n\" style=\"fill:none;stroke:#bf00bf;stroke-dasharray:5.55,2.4;stroke-dashoffset:0;stroke-width:1.5;\"/>\n   </g>\n   <g id=\"line2d_19\">\n    <path clip-path=\"url(#p06e38ad285)\" d=\"M 30.103125 21.22035 \nL 51.803125 20.1105 \nL 73.503125 21.0618 \nL 95.203125 19.884 \nL 116.903125 19.86135 \nL 138.603125 20.35965 \nL 160.303125 20.67675 \nL 182.003125 20.58615 \nL 203.703125 20.4276 \nL 225.403125 20.8806 \n\" style=\"fill:none;stroke:#008000;stroke-dasharray:9.6,2.4,1.5,2.4;stroke-dashoffset:0;stroke-width:1.5;\"/>\n   </g>\n   <g id=\"patch_3\">\n    <path d=\"M 30.103125 143.1 \nL 30.103125 7.2 \n\" style=\"fill:none;stroke:#000000;stroke-linecap:square;stroke-linejoin:miter;stroke-width:0.8;\"/>\n   </g>\n   <g id=\"patch_4\">\n    <path d=\"M 225.403125 143.1 \nL 225.403125 7.2 \n\" style=\"fill:none;stroke:#000000;stroke-linecap:square;stroke-linejoin:miter;stroke-width:0.8;\"/>\n   </g>\n   <g id=\"patch_5\">\n    <path d=\"M 30.103125 143.1 \nL 225.403125 143.1 \n\" style=\"fill:none;stroke:#000000;stroke-linecap:square;stroke-linejoin:miter;stroke-width:0.8;\"/>\n   </g>\n   <g id=\"patch_6\">\n    <path d=\"M 30.103125 7.2 \nL 225.403125 7.2 \n\" style=\"fill:none;stroke:#000000;stroke-linecap:square;stroke-linejoin:miter;stroke-width:0.8;\"/>\n   </g>\n   <g id=\"legend_1\">\n    <g id=\"patch_7\">\n     <path d=\"M 140.634375 98.667187 \nL 218.403125 98.667187 \nQ 220.403125 98.667187 220.403125 96.667187 \nL 220.403125 53.632812 \nQ 220.403125 51.632812 218.403125 51.632812 \nL 140.634375 51.632812 \nQ 138.634375 51.632812 138.634375 53.632812 \nL 138.634375 96.667187 \nQ 138.634375 98.667187 140.634375 98.667187 \nz\n\" style=\"fill:#ffffff;opacity:0.8;stroke:#cccccc;stroke-linejoin:miter;\"/>\n    </g>\n    <g id=\"line2d_20\">\n     <path d=\"M 142.634375 59.73125 \nL 162.634375 59.73125 \n\" style=\"fill:none;stroke:#1f77b4;stroke-linecap:square;stroke-width:1.5;\"/>\n    </g>\n    <g id=\"line2d_21\"/>\n    <g id=\"text_10\">\n     <!-- train loss -->\n     <defs>\n      <path d=\"M 18.3125 70.21875 \nL 18.3125 54.6875 \nL 36.8125 54.6875 \nL 36.8125 47.703125 \nL 18.3125 47.703125 \nL 18.3125 18.015625 \nQ 18.3125 11.328125 20.140625 9.421875 \nQ 21.96875 7.515625 27.59375 7.515625 \nL 36.8125 7.515625 \nL 36.8125 0 \nL 27.59375 0 \nQ 17.1875 0 13.234375 3.875 \nQ 9.28125 7.765625 9.28125 18.015625 \nL 9.28125 47.703125 \nL 2.6875 47.703125 \nL 2.6875 54.6875 \nL 9.28125 54.6875 \nL 9.28125 70.21875 \nz\n\" id=\"DejaVuSans-116\"/>\n      <path d=\"M 41.109375 46.296875 \nQ 39.59375 47.171875 37.8125 47.578125 \nQ 36.03125 48 33.890625 48 \nQ 26.265625 48 22.1875 43.046875 \nQ 18.109375 38.09375 18.109375 28.8125 \nL 18.109375 0 \nL 9.078125 0 \nL 9.078125 54.6875 \nL 18.109375 54.6875 \nL 18.109375 46.1875 \nQ 20.953125 51.171875 25.484375 53.578125 \nQ 30.03125 56 36.53125 56 \nQ 37.453125 56 38.578125 55.875 \nQ 39.703125 55.765625 41.0625 55.515625 \nz\n\" id=\"DejaVuSans-114\"/>\n      <path d=\"M 34.28125 27.484375 \nQ 23.390625 27.484375 19.1875 25 \nQ 14.984375 22.515625 14.984375 16.5 \nQ 14.984375 11.71875 18.140625 8.90625 \nQ 21.296875 6.109375 26.703125 6.109375 \nQ 34.1875 6.109375 38.703125 11.40625 \nQ 43.21875 16.703125 43.21875 25.484375 \nL 43.21875 27.484375 \nz\nM 52.203125 31.203125 \nL 52.203125 0 \nL 43.21875 0 \nL 43.21875 8.296875 \nQ 40.140625 3.328125 35.546875 0.953125 \nQ 30.953125 -1.421875 24.3125 -1.421875 \nQ 15.921875 -1.421875 10.953125 3.296875 \nQ 6 8.015625 6 15.921875 \nQ 6 25.140625 12.171875 29.828125 \nQ 18.359375 34.515625 30.609375 34.515625 \nL 43.21875 34.515625 \nL 43.21875 35.40625 \nQ 43.21875 41.609375 39.140625 45 \nQ 35.0625 48.390625 27.6875 48.390625 \nQ 23 48.390625 18.546875 47.265625 \nQ 14.109375 46.140625 10.015625 43.890625 \nL 10.015625 52.203125 \nQ 14.9375 54.109375 19.578125 55.046875 \nQ 24.21875 56 28.609375 56 \nQ 40.484375 56 46.34375 49.84375 \nQ 52.203125 43.703125 52.203125 31.203125 \nz\n\" id=\"DejaVuSans-97\"/>\n      <path d=\"M 9.421875 54.6875 \nL 18.40625 54.6875 \nL 18.40625 0 \nL 9.421875 0 \nz\nM 9.421875 75.984375 \nL 18.40625 75.984375 \nL 18.40625 64.59375 \nL 9.421875 64.59375 \nz\n\" id=\"DejaVuSans-105\"/>\n      <path d=\"M 54.890625 33.015625 \nL 54.890625 0 \nL 45.90625 0 \nL 45.90625 32.71875 \nQ 45.90625 40.484375 42.875 44.328125 \nQ 39.84375 48.1875 33.796875 48.1875 \nQ 26.515625 48.1875 22.3125 43.546875 \nQ 18.109375 38.921875 18.109375 30.90625 \nL 18.109375 0 \nL 9.078125 0 \nL 9.078125 54.6875 \nL 18.109375 54.6875 \nL 18.109375 46.1875 \nQ 21.34375 51.125 25.703125 53.5625 \nQ 30.078125 56 35.796875 56 \nQ 45.21875 56 50.046875 50.171875 \nQ 54.890625 44.34375 54.890625 33.015625 \nz\n\" id=\"DejaVuSans-110\"/>\n      <path id=\"DejaVuSans-32\"/>\n      <path d=\"M 9.421875 75.984375 \nL 18.40625 75.984375 \nL 18.40625 0 \nL 9.421875 0 \nz\n\" id=\"DejaVuSans-108\"/>\n      <path d=\"M 44.28125 53.078125 \nL 44.28125 44.578125 \nQ 40.484375 46.53125 36.375 47.5 \nQ 32.28125 48.484375 27.875 48.484375 \nQ 21.1875 48.484375 17.84375 46.4375 \nQ 14.5 44.390625 14.5 40.28125 \nQ 14.5 37.15625 16.890625 35.375 \nQ 19.28125 33.59375 26.515625 31.984375 \nL 29.59375 31.296875 \nQ 39.15625 29.25 43.1875 25.515625 \nQ 47.21875 21.78125 47.21875 15.09375 \nQ 47.21875 7.46875 41.1875 3.015625 \nQ 35.15625 -1.421875 24.609375 -1.421875 \nQ 20.21875 -1.421875 15.453125 -0.5625 \nQ 10.6875 0.296875 5.421875 2 \nL 5.421875 11.28125 \nQ 10.40625 8.6875 15.234375 7.390625 \nQ 20.0625 6.109375 24.8125 6.109375 \nQ 31.15625 6.109375 34.5625 8.28125 \nQ 37.984375 10.453125 37.984375 14.40625 \nQ 37.984375 18.0625 35.515625 20.015625 \nQ 33.0625 21.96875 24.703125 23.78125 \nL 21.578125 24.515625 \nQ 13.234375 26.265625 9.515625 29.90625 \nQ 5.8125 33.546875 5.8125 39.890625 \nQ 5.8125 47.609375 11.28125 51.796875 \nQ 16.75 56 26.8125 56 \nQ 31.78125 56 36.171875 55.265625 \nQ 40.578125 54.546875 44.28125 53.078125 \nz\n\" id=\"DejaVuSans-115\"/>\n     </defs>\n     <g transform=\"translate(170.634375 63.23125)scale(0.1 -0.1)\">\n      <use xlink:href=\"#DejaVuSans-116\"/>\n      <use x=\"39.208984\" xlink:href=\"#DejaVuSans-114\"/>\n      <use x=\"80.322266\" xlink:href=\"#DejaVuSans-97\"/>\n      <use x=\"141.601562\" xlink:href=\"#DejaVuSans-105\"/>\n      <use x=\"169.384766\" xlink:href=\"#DejaVuSans-110\"/>\n      <use x=\"232.763672\" xlink:href=\"#DejaVuSans-32\"/>\n      <use x=\"264.550781\" xlink:href=\"#DejaVuSans-108\"/>\n      <use x=\"292.333984\" xlink:href=\"#DejaVuSans-111\"/>\n      <use x=\"353.515625\" xlink:href=\"#DejaVuSans-115\"/>\n      <use x=\"405.615234\" xlink:href=\"#DejaVuSans-115\"/>\n     </g>\n    </g>\n    <g id=\"line2d_22\">\n     <path d=\"M 142.634375 74.409375 \nL 162.634375 74.409375 \n\" style=\"fill:none;stroke:#bf00bf;stroke-dasharray:5.55,2.4;stroke-dashoffset:0;stroke-width:1.5;\"/>\n    </g>\n    <g id=\"line2d_23\"/>\n    <g id=\"text_11\">\n     <!-- train acc -->\n     <g transform=\"translate(170.634375 77.909375)scale(0.1 -0.1)\">\n      <use xlink:href=\"#DejaVuSans-116\"/>\n      <use x=\"39.208984\" xlink:href=\"#DejaVuSans-114\"/>\n      <use x=\"80.322266\" xlink:href=\"#DejaVuSans-97\"/>\n      <use x=\"141.601562\" xlink:href=\"#DejaVuSans-105\"/>\n      <use x=\"169.384766\" xlink:href=\"#DejaVuSans-110\"/>\n      <use x=\"232.763672\" xlink:href=\"#DejaVuSans-32\"/>\n      <use x=\"264.550781\" xlink:href=\"#DejaVuSans-97\"/>\n      <use x=\"325.830078\" xlink:href=\"#DejaVuSans-99\"/>\n      <use x=\"380.810547\" xlink:href=\"#DejaVuSans-99\"/>\n     </g>\n    </g>\n    <g id=\"line2d_24\">\n     <path d=\"M 142.634375 89.0875 \nL 162.634375 89.0875 \n\" style=\"fill:none;stroke:#008000;stroke-dasharray:9.6,2.4,1.5,2.4;stroke-dashoffset:0;stroke-width:1.5;\"/>\n    </g>\n    <g id=\"line2d_25\"/>\n    <g id=\"text_12\">\n     <!-- test acc -->\n     <g transform=\"translate(170.634375 92.5875)scale(0.1 -0.1)\">\n      <use xlink:href=\"#DejaVuSans-116\"/>\n      <use x=\"39.208984\" xlink:href=\"#DejaVuSans-101\"/>\n      <use x=\"100.732422\" xlink:href=\"#DejaVuSans-115\"/>\n      <use x=\"152.832031\" xlink:href=\"#DejaVuSans-116\"/>\n      <use x=\"192.041016\" xlink:href=\"#DejaVuSans-32\"/>\n      <use x=\"223.828125\" xlink:href=\"#DejaVuSans-97\"/>\n      <use x=\"285.107422\" xlink:href=\"#DejaVuSans-99\"/>\n      <use x=\"340.087891\" xlink:href=\"#DejaVuSans-99\"/>\n     </g>\n    </g>\n   </g>\n  </g>\n </g>\n <defs>\n  <clipPath id=\"p06e38ad285\">\n   <rect height=\"135.9\" width=\"195.3\" x=\"30.103125\" y=\"7.2\"/>\n  </clipPath>\n </defs>\n</svg>\n"
          },
          "metadata": {
            "tags": [],
            "needs_background": "light"
          }
        }
      ]
    }
  ]
}